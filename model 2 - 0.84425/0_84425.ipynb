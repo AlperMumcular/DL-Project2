{
  "cells": [
    {
      "cell_type": "markdown",
      "source": [
        "This code got 0.84425 accuracy in Kaggle."
      ],
      "metadata": {
        "id": "7BV8qN38Q71U"
      },
      "id": "7BV8qN38Q71U"
    },
    {
      "cell_type": "markdown",
      "id": "a02285e6",
      "metadata": {
        "id": "a02285e6"
      },
      "source": [
        "# Starter Notebook"
      ]
    },
    {
      "cell_type": "markdown",
      "id": "bdcc5329",
      "metadata": {
        "id": "bdcc5329"
      },
      "source": [
        "Install and import required libraries"
      ]
    },
    {
      "cell_type": "code",
      "execution_count": null,
      "id": "348ceed6-b684-46c3-8a32-9bb640c9a9d7",
      "metadata": {
        "id": "348ceed6-b684-46c3-8a32-9bb640c9a9d7",
        "colab": {
          "base_uri": "https://localhost:8080/"
        },
        "outputId": "7a061002-3d90-462f-bea0-7efccd465d9d"
      },
      "outputs": [
        {
          "output_type": "stream",
          "name": "stdout",
          "text": [
            "Requirement already satisfied: transformers in /usr/local/lib/python3.11/dist-packages (4.50.3)\n",
            "Requirement already satisfied: datasets in /usr/local/lib/python3.11/dist-packages (3.5.0)\n",
            "Requirement already satisfied: evaluate in /usr/local/lib/python3.11/dist-packages (0.4.3)\n",
            "Requirement already satisfied: accelerate in /usr/local/lib/python3.11/dist-packages (1.5.2)\n",
            "Requirement already satisfied: peft in /usr/local/lib/python3.11/dist-packages (0.14.0)\n",
            "Requirement already satisfied: trl in /usr/local/lib/python3.11/dist-packages (0.16.1)\n",
            "Requirement already satisfied: bitsandbytes in /usr/local/lib/python3.11/dist-packages (0.45.5)\n",
            "Requirement already satisfied: filelock in /usr/local/lib/python3.11/dist-packages (from transformers) (3.18.0)\n",
            "Requirement already satisfied: huggingface-hub<1.0,>=0.26.0 in /usr/local/lib/python3.11/dist-packages (from transformers) (0.30.1)\n",
            "Requirement already satisfied: numpy>=1.17 in /usr/local/lib/python3.11/dist-packages (from transformers) (2.0.2)\n",
            "Requirement already satisfied: packaging>=20.0 in /usr/local/lib/python3.11/dist-packages (from transformers) (24.2)\n",
            "Requirement already satisfied: pyyaml>=5.1 in /usr/local/lib/python3.11/dist-packages (from transformers) (6.0.2)\n",
            "Requirement already satisfied: regex!=2019.12.17 in /usr/local/lib/python3.11/dist-packages (from transformers) (2024.11.6)\n",
            "Requirement already satisfied: requests in /usr/local/lib/python3.11/dist-packages (from transformers) (2.32.3)\n",
            "Requirement already satisfied: tokenizers<0.22,>=0.21 in /usr/local/lib/python3.11/dist-packages (from transformers) (0.21.1)\n",
            "Requirement already satisfied: safetensors>=0.4.3 in /usr/local/lib/python3.11/dist-packages (from transformers) (0.5.3)\n",
            "Requirement already satisfied: tqdm>=4.27 in /usr/local/lib/python3.11/dist-packages (from transformers) (4.67.1)\n",
            "Requirement already satisfied: pyarrow>=15.0.0 in /usr/local/lib/python3.11/dist-packages (from datasets) (18.1.0)\n",
            "Requirement already satisfied: dill<0.3.9,>=0.3.0 in /usr/local/lib/python3.11/dist-packages (from datasets) (0.3.8)\n",
            "Requirement already satisfied: pandas in /usr/local/lib/python3.11/dist-packages (from datasets) (2.2.2)\n",
            "Requirement already satisfied: xxhash in /usr/local/lib/python3.11/dist-packages (from datasets) (3.5.0)\n",
            "Requirement already satisfied: multiprocess<0.70.17 in /usr/local/lib/python3.11/dist-packages (from datasets) (0.70.16)\n",
            "Requirement already satisfied: fsspec<=2024.12.0,>=2023.1.0 in /usr/local/lib/python3.11/dist-packages (from fsspec[http]<=2024.12.0,>=2023.1.0->datasets) (2024.12.0)\n",
            "Requirement already satisfied: aiohttp in /usr/local/lib/python3.11/dist-packages (from datasets) (3.11.15)\n",
            "Requirement already satisfied: psutil in /usr/local/lib/python3.11/dist-packages (from accelerate) (5.9.5)\n",
            "Requirement already satisfied: torch>=2.0.0 in /usr/local/lib/python3.11/dist-packages (from accelerate) (2.6.0+cu124)\n",
            "Requirement already satisfied: rich in /usr/local/lib/python3.11/dist-packages (from trl) (13.9.4)\n",
            "Requirement already satisfied: aiohappyeyeballs>=2.3.0 in /usr/local/lib/python3.11/dist-packages (from aiohttp->datasets) (2.6.1)\n",
            "Requirement already satisfied: aiosignal>=1.1.2 in /usr/local/lib/python3.11/dist-packages (from aiohttp->datasets) (1.3.2)\n",
            "Requirement already satisfied: attrs>=17.3.0 in /usr/local/lib/python3.11/dist-packages (from aiohttp->datasets) (25.3.0)\n",
            "Requirement already satisfied: frozenlist>=1.1.1 in /usr/local/lib/python3.11/dist-packages (from aiohttp->datasets) (1.5.0)\n",
            "Requirement already satisfied: multidict<7.0,>=4.5 in /usr/local/lib/python3.11/dist-packages (from aiohttp->datasets) (6.2.0)\n",
            "Requirement already satisfied: propcache>=0.2.0 in /usr/local/lib/python3.11/dist-packages (from aiohttp->datasets) (0.3.1)\n",
            "Requirement already satisfied: yarl<2.0,>=1.17.0 in /usr/local/lib/python3.11/dist-packages (from aiohttp->datasets) (1.18.3)\n",
            "Requirement already satisfied: typing-extensions>=3.7.4.3 in /usr/local/lib/python3.11/dist-packages (from huggingface-hub<1.0,>=0.26.0->transformers) (4.13.1)\n",
            "Requirement already satisfied: charset-normalizer<4,>=2 in /usr/local/lib/python3.11/dist-packages (from requests->transformers) (3.4.1)\n",
            "Requirement already satisfied: idna<4,>=2.5 in /usr/local/lib/python3.11/dist-packages (from requests->transformers) (3.10)\n",
            "Requirement already satisfied: urllib3<3,>=1.21.1 in /usr/local/lib/python3.11/dist-packages (from requests->transformers) (2.3.0)\n",
            "Requirement already satisfied: certifi>=2017.4.17 in /usr/local/lib/python3.11/dist-packages (from requests->transformers) (2025.1.31)\n",
            "Requirement already satisfied: networkx in /usr/local/lib/python3.11/dist-packages (from torch>=2.0.0->accelerate) (3.4.2)\n",
            "Requirement already satisfied: jinja2 in /usr/local/lib/python3.11/dist-packages (from torch>=2.0.0->accelerate) (3.1.6)\n",
            "Requirement already satisfied: nvidia-cuda-nvrtc-cu12==12.4.127 in /usr/local/lib/python3.11/dist-packages (from torch>=2.0.0->accelerate) (12.4.127)\n",
            "Requirement already satisfied: nvidia-cuda-runtime-cu12==12.4.127 in /usr/local/lib/python3.11/dist-packages (from torch>=2.0.0->accelerate) (12.4.127)\n",
            "Requirement already satisfied: nvidia-cuda-cupti-cu12==12.4.127 in /usr/local/lib/python3.11/dist-packages (from torch>=2.0.0->accelerate) (12.4.127)\n",
            "Requirement already satisfied: nvidia-cudnn-cu12==9.1.0.70 in /usr/local/lib/python3.11/dist-packages (from torch>=2.0.0->accelerate) (9.1.0.70)\n",
            "Requirement already satisfied: nvidia-cublas-cu12==12.4.5.8 in /usr/local/lib/python3.11/dist-packages (from torch>=2.0.0->accelerate) (12.4.5.8)\n",
            "Requirement already satisfied: nvidia-cufft-cu12==11.2.1.3 in /usr/local/lib/python3.11/dist-packages (from torch>=2.0.0->accelerate) (11.2.1.3)\n",
            "Requirement already satisfied: nvidia-curand-cu12==10.3.5.147 in /usr/local/lib/python3.11/dist-packages (from torch>=2.0.0->accelerate) (10.3.5.147)\n",
            "Requirement already satisfied: nvidia-cusolver-cu12==11.6.1.9 in /usr/local/lib/python3.11/dist-packages (from torch>=2.0.0->accelerate) (11.6.1.9)\n",
            "Requirement already satisfied: nvidia-cusparse-cu12==12.3.1.170 in /usr/local/lib/python3.11/dist-packages (from torch>=2.0.0->accelerate) (12.3.1.170)\n",
            "Requirement already satisfied: nvidia-cusparselt-cu12==0.6.2 in /usr/local/lib/python3.11/dist-packages (from torch>=2.0.0->accelerate) (0.6.2)\n",
            "Requirement already satisfied: nvidia-nccl-cu12==2.21.5 in /usr/local/lib/python3.11/dist-packages (from torch>=2.0.0->accelerate) (2.21.5)\n",
            "Requirement already satisfied: nvidia-nvtx-cu12==12.4.127 in /usr/local/lib/python3.11/dist-packages (from torch>=2.0.0->accelerate) (12.4.127)\n",
            "Requirement already satisfied: nvidia-nvjitlink-cu12==12.4.127 in /usr/local/lib/python3.11/dist-packages (from torch>=2.0.0->accelerate) (12.4.127)\n",
            "Requirement already satisfied: triton==3.2.0 in /usr/local/lib/python3.11/dist-packages (from torch>=2.0.0->accelerate) (3.2.0)\n",
            "Requirement already satisfied: sympy==1.13.1 in /usr/local/lib/python3.11/dist-packages (from torch>=2.0.0->accelerate) (1.13.1)\n",
            "Requirement already satisfied: mpmath<1.4,>=1.1.0 in /usr/local/lib/python3.11/dist-packages (from sympy==1.13.1->torch>=2.0.0->accelerate) (1.3.0)\n",
            "Requirement already satisfied: python-dateutil>=2.8.2 in /usr/local/lib/python3.11/dist-packages (from pandas->datasets) (2.8.2)\n",
            "Requirement already satisfied: pytz>=2020.1 in /usr/local/lib/python3.11/dist-packages (from pandas->datasets) (2025.2)\n",
            "Requirement already satisfied: tzdata>=2022.7 in /usr/local/lib/python3.11/dist-packages (from pandas->datasets) (2025.2)\n",
            "Requirement already satisfied: markdown-it-py>=2.2.0 in /usr/local/lib/python3.11/dist-packages (from rich->trl) (3.0.0)\n",
            "Requirement already satisfied: pygments<3.0.0,>=2.13.0 in /usr/local/lib/python3.11/dist-packages (from rich->trl) (2.18.0)\n",
            "Requirement already satisfied: mdurl~=0.1 in /usr/local/lib/python3.11/dist-packages (from markdown-it-py>=2.2.0->rich->trl) (0.1.2)\n",
            "Requirement already satisfied: six>=1.5 in /usr/local/lib/python3.11/dist-packages (from python-dateutil>=2.8.2->pandas->datasets) (1.17.0)\n",
            "Requirement already satisfied: MarkupSafe>=2.0 in /usr/local/lib/python3.11/dist-packages (from jinja2->torch>=2.0.0->accelerate) (3.0.2)\n",
            "Requirement already satisfied: nvidia-ml-py3 in /usr/local/lib/python3.11/dist-packages (7.352.0)\n"
          ]
        }
      ],
      "source": [
        "!pip install transformers datasets evaluate accelerate peft trl bitsandbytes\n",
        "!pip install nvidia-ml-py3"
      ]
    },
    {
      "cell_type": "code",
      "execution_count": null,
      "id": "cca64f38-d8d2-4313-8295-fbbd43c2a263",
      "metadata": {
        "id": "cca64f38-d8d2-4313-8295-fbbd43c2a263"
      },
      "outputs": [],
      "source": [
        "import os\n",
        "import pandas as pd\n",
        "import torch\n",
        "from transformers import RobertaModel, RobertaTokenizer, TrainingArguments, Trainer, DataCollatorWithPadding, RobertaForSequenceClassification\n",
        "from peft import LoraConfig, get_peft_model, PeftModel\n",
        "from datasets import load_dataset, Dataset, ClassLabel\n",
        "import pickle"
      ]
    },
    {
      "cell_type": "markdown",
      "id": "59d6e377",
      "metadata": {
        "id": "59d6e377"
      },
      "source": [
        "## Load Tokenizer and Preprocess Data"
      ]
    },
    {
      "cell_type": "code",
      "execution_count": null,
      "id": "21f42747-f551-40a5-a95f-7affb1eba4a3",
      "metadata": {
        "id": "21f42747-f551-40a5-a95f-7affb1eba4a3",
        "colab": {
          "base_uri": "https://localhost:8080/"
        },
        "outputId": "7e3bc0ba-a20e-4ab7-8e1a-3088e62c925d"
      },
      "outputs": [
        {
          "output_type": "stream",
          "name": "stderr",
          "text": [
            "/usr/local/lib/python3.11/dist-packages/huggingface_hub/utils/_auth.py:94: UserWarning: \n",
            "The secret `HF_TOKEN` does not exist in your Colab secrets.\n",
            "To authenticate with the Hugging Face Hub, create a token in your settings tab (https://huggingface.co/settings/tokens), set it as secret in your Google Colab and restart your session.\n",
            "You will be able to reuse this secret in all of your notebooks.\n",
            "Please note that authentication is recommended but still optional to access public models or datasets.\n",
            "  warnings.warn(\n"
          ]
        }
      ],
      "source": [
        "base_model = 'roberta-base'\n",
        "\n",
        "dataset = load_dataset('ag_news', split='train')\n",
        "tokenizer = RobertaTokenizer.from_pretrained(base_model)\n",
        "\n",
        "def preprocess(examples):\n",
        "    tokenized = tokenizer(examples['text'], truncation=True, padding=True)\n",
        "    return tokenized\n",
        "\n",
        "tokenized_dataset = dataset.map(preprocess, batched=True,  remove_columns=[\"text\"])\n",
        "tokenized_dataset = tokenized_dataset.rename_column(\"label\", \"labels\")"
      ]
    },
    {
      "cell_type": "code",
      "execution_count": null,
      "id": "9e07f641-bec0-43a6-8c26-510d7642916a",
      "metadata": {
        "id": "9e07f641-bec0-43a6-8c26-510d7642916a",
        "colab": {
          "base_uri": "https://localhost:8080/"
        },
        "outputId": "6b15f7e6-68f9-4914-c336-3b987765e10a"
      },
      "outputs": [
        {
          "output_type": "stream",
          "name": "stdout",
          "text": [
            "number of labels: 4\n",
            "the labels: ['World', 'Sports', 'Business', 'Sci/Tech']\n"
          ]
        }
      ],
      "source": [
        "# Extract the number of classess and their names\n",
        "num_labels = dataset.features['label'].num_classes\n",
        "class_names = dataset.features[\"label\"].names\n",
        "print(f\"number of labels: {num_labels}\")\n",
        "print(f\"the labels: {class_names}\")\n",
        "\n",
        "# Create an id2label mapping\n",
        "# We will need this for our classifier.\n",
        "id2label = {i: label for i, label in enumerate(class_names)}\n",
        "\n",
        "data_collator = DataCollatorWithPadding(tokenizer=tokenizer, return_tensors=\"pt\")\n"
      ]
    },
    {
      "cell_type": "markdown",
      "id": "c9e24afd",
      "metadata": {
        "id": "c9e24afd"
      },
      "source": [
        "## Load Pre-trained Model\n",
        "Set up config for pretrained model and download it from hugging face"
      ]
    },
    {
      "cell_type": "code",
      "execution_count": null,
      "id": "262a8416-a59c-4ea1-95d9-0b1f81d6094c",
      "metadata": {
        "id": "262a8416-a59c-4ea1-95d9-0b1f81d6094c",
        "colab": {
          "base_uri": "https://localhost:8080/"
        },
        "outputId": "58b99452-ec90-49a5-ee25-1db6450522ea"
      },
      "outputs": [
        {
          "output_type": "stream",
          "name": "stderr",
          "text": [
            "Some weights of RobertaForSequenceClassification were not initialized from the model checkpoint at roberta-base and are newly initialized: ['classifier.dense.bias', 'classifier.dense.weight', 'classifier.out_proj.bias', 'classifier.out_proj.weight']\n",
            "You should probably TRAIN this model on a down-stream task to be able to use it for predictions and inference.\n"
          ]
        },
        {
          "output_type": "execute_result",
          "data": {
            "text/plain": [
              "RobertaForSequenceClassification(\n",
              "  (roberta): RobertaModel(\n",
              "    (embeddings): RobertaEmbeddings(\n",
              "      (word_embeddings): Embedding(50265, 768, padding_idx=1)\n",
              "      (position_embeddings): Embedding(514, 768, padding_idx=1)\n",
              "      (token_type_embeddings): Embedding(1, 768)\n",
              "      (LayerNorm): LayerNorm((768,), eps=1e-05, elementwise_affine=True)\n",
              "      (dropout): Dropout(p=0.1, inplace=False)\n",
              "    )\n",
              "    (encoder): RobertaEncoder(\n",
              "      (layer): ModuleList(\n",
              "        (0-11): 12 x RobertaLayer(\n",
              "          (attention): RobertaAttention(\n",
              "            (self): RobertaSdpaSelfAttention(\n",
              "              (query): Linear(in_features=768, out_features=768, bias=True)\n",
              "              (key): Linear(in_features=768, out_features=768, bias=True)\n",
              "              (value): Linear(in_features=768, out_features=768, bias=True)\n",
              "              (dropout): Dropout(p=0.1, inplace=False)\n",
              "            )\n",
              "            (output): RobertaSelfOutput(\n",
              "              (dense): Linear(in_features=768, out_features=768, bias=True)\n",
              "              (LayerNorm): LayerNorm((768,), eps=1e-05, elementwise_affine=True)\n",
              "              (dropout): Dropout(p=0.1, inplace=False)\n",
              "            )\n",
              "          )\n",
              "          (intermediate): RobertaIntermediate(\n",
              "            (dense): Linear(in_features=768, out_features=3072, bias=True)\n",
              "            (intermediate_act_fn): GELUActivation()\n",
              "          )\n",
              "          (output): RobertaOutput(\n",
              "            (dense): Linear(in_features=3072, out_features=768, bias=True)\n",
              "            (LayerNorm): LayerNorm((768,), eps=1e-05, elementwise_affine=True)\n",
              "            (dropout): Dropout(p=0.1, inplace=False)\n",
              "          )\n",
              "        )\n",
              "      )\n",
              "    )\n",
              "  )\n",
              "  (classifier): RobertaClassificationHead(\n",
              "    (dense): Linear(in_features=768, out_features=768, bias=True)\n",
              "    (dropout): Dropout(p=0.1, inplace=False)\n",
              "    (out_proj): Linear(in_features=768, out_features=4, bias=True)\n",
              "  )\n",
              ")"
            ]
          },
          "metadata": {},
          "execution_count": 5
        }
      ],
      "source": [
        "model = RobertaForSequenceClassification.from_pretrained(\n",
        "    base_model,\n",
        "    id2label=id2label)\n",
        "model"
      ]
    },
    {
      "cell_type": "markdown",
      "id": "f265839d-a088-4693-8474-862641de11ed",
      "metadata": {
        "id": "f265839d-a088-4693-8474-862641de11ed"
      },
      "source": [
        "## Anything from here on can be modified"
      ]
    },
    {
      "cell_type": "code",
      "execution_count": null,
      "id": "e7413430-be57-482b-856e-36bd4ba799df",
      "metadata": {
        "id": "e7413430-be57-482b-856e-36bd4ba799df"
      },
      "outputs": [],
      "source": [
        "# Split the original training set\n",
        "split_datasets = tokenized_dataset.train_test_split(test_size=640, seed=42)\n",
        "train_dataset = split_datasets['train']\n",
        "eval_dataset = split_datasets['test']"
      ]
    },
    {
      "cell_type": "markdown",
      "id": "652452e3",
      "metadata": {
        "id": "652452e3"
      },
      "source": [
        "## Setup LoRA Config\n",
        "Setup PEFT config and get peft model for finetuning"
      ]
    },
    {
      "cell_type": "code",
      "execution_count": null,
      "id": "bd0ca0ea-86b8-47f7-8cbf-83da25685876",
      "metadata": {
        "id": "bd0ca0ea-86b8-47f7-8cbf-83da25685876"
      },
      "outputs": [],
      "source": [
        "# PEFT (Parameter-Efficient Fine-Tuning) Configuration using LoRA (Low-Rank Adaptation)\n",
        "peft_config = LoraConfig(\n",
        "    r=8,  # Rank of the LoRA decomposition matrices. Controls the number of trainable parameters.\n",
        "\n",
        "    lora_alpha=16,  # Scaling factor for the LoRA weights. Larger values may stabilize training.\n",
        "\n",
        "    lora_dropout=0.1,  # Dropout rate applied to the LoRA layers during training for regularization.\n",
        "\n",
        "    bias='none',  # Specifies how bias terms are handled. 'none' means no bias is adapted.\n",
        "\n",
        "    target_modules=[\"query\", \"value\"],  # Apply LoRA only to these attention submodules. Helps reduce training overhead.\n",
        "\n",
        "    task_type=\"SEQ_CLS\",  # Specifies the task type. \"SEQ_CLS\" is for sequence classification tasks.\n",
        ")\n"
      ]
    },
    {
      "cell_type": "code",
      "execution_count": null,
      "id": "6ec2739d-76b6-4fde-91c2-0fc49e1884b0",
      "metadata": {
        "id": "6ec2739d-76b6-4fde-91c2-0fc49e1884b0",
        "colab": {
          "base_uri": "https://localhost:8080/"
        },
        "outputId": "315607b0-33a3-44e0-a6e8-8249edee7c4a"
      },
      "outputs": [
        {
          "output_type": "execute_result",
          "data": {
            "text/plain": [
              "PeftModelForSequenceClassification(\n",
              "  (base_model): LoraModel(\n",
              "    (model): RobertaForSequenceClassification(\n",
              "      (roberta): RobertaModel(\n",
              "        (embeddings): RobertaEmbeddings(\n",
              "          (word_embeddings): Embedding(50265, 768, padding_idx=1)\n",
              "          (position_embeddings): Embedding(514, 768, padding_idx=1)\n",
              "          (token_type_embeddings): Embedding(1, 768)\n",
              "          (LayerNorm): LayerNorm((768,), eps=1e-05, elementwise_affine=True)\n",
              "          (dropout): Dropout(p=0.1, inplace=False)\n",
              "        )\n",
              "        (encoder): RobertaEncoder(\n",
              "          (layer): ModuleList(\n",
              "            (0-11): 12 x RobertaLayer(\n",
              "              (attention): RobertaAttention(\n",
              "                (self): RobertaSdpaSelfAttention(\n",
              "                  (query): lora.Linear(\n",
              "                    (base_layer): Linear(in_features=768, out_features=768, bias=True)\n",
              "                    (lora_dropout): ModuleDict(\n",
              "                      (default): Dropout(p=0.1, inplace=False)\n",
              "                    )\n",
              "                    (lora_A): ModuleDict(\n",
              "                      (default): Linear(in_features=768, out_features=8, bias=False)\n",
              "                    )\n",
              "                    (lora_B): ModuleDict(\n",
              "                      (default): Linear(in_features=8, out_features=768, bias=False)\n",
              "                    )\n",
              "                    (lora_embedding_A): ParameterDict()\n",
              "                    (lora_embedding_B): ParameterDict()\n",
              "                    (lora_magnitude_vector): ModuleDict()\n",
              "                  )\n",
              "                  (key): Linear(in_features=768, out_features=768, bias=True)\n",
              "                  (value): lora.Linear(\n",
              "                    (base_layer): Linear(in_features=768, out_features=768, bias=True)\n",
              "                    (lora_dropout): ModuleDict(\n",
              "                      (default): Dropout(p=0.1, inplace=False)\n",
              "                    )\n",
              "                    (lora_A): ModuleDict(\n",
              "                      (default): Linear(in_features=768, out_features=8, bias=False)\n",
              "                    )\n",
              "                    (lora_B): ModuleDict(\n",
              "                      (default): Linear(in_features=8, out_features=768, bias=False)\n",
              "                    )\n",
              "                    (lora_embedding_A): ParameterDict()\n",
              "                    (lora_embedding_B): ParameterDict()\n",
              "                    (lora_magnitude_vector): ModuleDict()\n",
              "                  )\n",
              "                  (dropout): Dropout(p=0.1, inplace=False)\n",
              "                )\n",
              "                (output): RobertaSelfOutput(\n",
              "                  (dense): Linear(in_features=768, out_features=768, bias=True)\n",
              "                  (LayerNorm): LayerNorm((768,), eps=1e-05, elementwise_affine=True)\n",
              "                  (dropout): Dropout(p=0.1, inplace=False)\n",
              "                )\n",
              "              )\n",
              "              (intermediate): RobertaIntermediate(\n",
              "                (dense): Linear(in_features=768, out_features=3072, bias=True)\n",
              "                (intermediate_act_fn): GELUActivation()\n",
              "              )\n",
              "              (output): RobertaOutput(\n",
              "                (dense): Linear(in_features=3072, out_features=768, bias=True)\n",
              "                (LayerNorm): LayerNorm((768,), eps=1e-05, elementwise_affine=True)\n",
              "                (dropout): Dropout(p=0.1, inplace=False)\n",
              "              )\n",
              "            )\n",
              "          )\n",
              "        )\n",
              "      )\n",
              "      (classifier): ModulesToSaveWrapper(\n",
              "        (original_module): RobertaClassificationHead(\n",
              "          (dense): Linear(in_features=768, out_features=768, bias=True)\n",
              "          (dropout): Dropout(p=0.1, inplace=False)\n",
              "          (out_proj): Linear(in_features=768, out_features=4, bias=True)\n",
              "        )\n",
              "        (modules_to_save): ModuleDict(\n",
              "          (default): RobertaClassificationHead(\n",
              "            (dense): Linear(in_features=768, out_features=768, bias=True)\n",
              "            (dropout): Dropout(p=0.1, inplace=False)\n",
              "            (out_proj): Linear(in_features=768, out_features=4, bias=True)\n",
              "          )\n",
              "        )\n",
              "      )\n",
              "    )\n",
              "  )\n",
              ")"
            ]
          },
          "metadata": {},
          "execution_count": 8
        }
      ],
      "source": [
        "peft_model = get_peft_model(model, peft_config)\n",
        "peft_model"
      ]
    },
    {
      "cell_type": "code",
      "execution_count": null,
      "id": "a769f54e-05ad-4e3c-aae8-d00d1d9dfb2f",
      "metadata": {
        "id": "a769f54e-05ad-4e3c-aae8-d00d1d9dfb2f"
      },
      "outputs": [],
      "source": [
        "# print(\"Trainable parameters:\")\n",
        "# for name, param in peft_model.named_parameters():\n",
        "#     if param.requires_grad:\n",
        "#         print(name)"
      ]
    },
    {
      "cell_type": "markdown",
      "source": [
        "Printing the number of trainable parameters: 888,580"
      ],
      "metadata": {
        "id": "6aOE-mMRRNS4"
      },
      "id": "6aOE-mMRRNS4"
    },
    {
      "cell_type": "code",
      "execution_count": null,
      "id": "da45f85c-b016-4c49-8808-6eafa7cb5d1b",
      "metadata": {
        "id": "da45f85c-b016-4c49-8808-6eafa7cb5d1b",
        "colab": {
          "base_uri": "https://localhost:8080/"
        },
        "outputId": "6bd1538a-bbc1-4698-d4e1-23c270c28e29"
      },
      "outputs": [
        {
          "output_type": "stream",
          "name": "stdout",
          "text": [
            "PEFT Model\n",
            "trainable params: 888,580 || all params: 125,537,288 || trainable%: 0.7078\n"
          ]
        }
      ],
      "source": [
        "print('PEFT Model')\n",
        "peft_model.print_trainable_parameters()"
      ]
    },
    {
      "cell_type": "markdown",
      "id": "12284b58",
      "metadata": {
        "id": "12284b58"
      },
      "source": [
        "## Training Setup"
      ]
    },
    {
      "cell_type": "code",
      "execution_count": null,
      "id": "0ee64c43-fe38-479a-b3c5-7d939a3db4c1",
      "metadata": {
        "id": "0ee64c43-fe38-479a-b3c5-7d939a3db4c1"
      },
      "outputs": [],
      "source": [
        "# To track evaluation accuracy during training\n",
        "from sklearn.metrics import accuracy_score, precision_score, recall_score, f1_score\n",
        "\n",
        "def compute_metrics(pred):\n",
        "    labels = pred.label_ids\n",
        "    preds = pred.predictions.argmax(-1)\n",
        "    # Calculate accuracy\n",
        "    accuracy = accuracy_score(labels, preds)\n",
        "    return {\n",
        "        'accuracy': accuracy\n",
        "    }"
      ]
    },
    {
      "cell_type": "code",
      "execution_count": null,
      "id": "768b4917-65de-4e55-ae7f-698e287535d4",
      "metadata": {
        "id": "768b4917-65de-4e55-ae7f-698e287535d4"
      },
      "outputs": [],
      "source": [
        "# Setup Training args\n",
        "output_dir = \"results\"\n",
        "training_args = TrainingArguments(\n",
        "    output_dir=output_dir,  # Path to save model checkpoints and training logs.\n",
        "\n",
        "    report_to=None,  # Disable logging to external services like TensorBoard, W&B, etc.\n",
        "\n",
        "    eval_strategy='steps',  # Run evaluation at regular intervals (based on steps).\n",
        "\n",
        "    logging_steps=100,  # Log training info (e.g., loss) every 100 steps.\n",
        "\n",
        "    learning_rate=5e-4,  # Initial learning rate for optimizer.\n",
        "\n",
        "    num_train_epochs=3,  # Number of training epochs (used if max_steps is not reached first).\n",
        "\n",
        "    max_steps=1200,  # Maximum number of training steps (limits training even if epochs aren't complete).\n",
        "\n",
        "    use_cpu=False,  # Set to True to force training on CPU. If False, use GPU if available.\n",
        "\n",
        "    dataloader_num_workers=4,  # Number of subprocesses for data loading (helps speed up data prep).\n",
        "\n",
        "    per_device_train_batch_size=16,  # Batch size for training on each device (GPU/CPU).\n",
        "\n",
        "    per_device_eval_batch_size=64,  # Batch size for evaluation on each device.\n",
        "\n",
        "    optim=\"adamw_torch\",  # Use the AdamW optimizer from PyTorch.\n",
        "\n",
        "    gradient_checkpointing=False,  # Disable gradient checkpointing (useful for saving memory in large models).\n",
        "\n",
        "    gradient_checkpointing_kwargs={'use_reentrant': True}  # Additional settings for gradient checkpointing, required if enabled.\n",
        ")\n",
        "\n",
        "\n",
        "def get_trainer(model):\n",
        "      return  Trainer(\n",
        "          model=model,\n",
        "          args=training_args,\n",
        "          compute_metrics=compute_metrics,\n",
        "          train_dataset=train_dataset,\n",
        "          eval_dataset=eval_dataset,\n",
        "          data_collator=data_collator,\n",
        "      )"
      ]
    },
    {
      "cell_type": "markdown",
      "id": "9b848278",
      "metadata": {
        "id": "9b848278"
      },
      "source": [
        "### Start Training"
      ]
    },
    {
      "cell_type": "code",
      "execution_count": null,
      "id": "98d9d57d-b57f-4acc-80fb-fc5443e75515",
      "metadata": {
        "id": "98d9d57d-b57f-4acc-80fb-fc5443e75515",
        "colab": {
          "base_uri": "https://localhost:8080/",
          "height": 1000
        },
        "outputId": "9a824743-e01a-4503-bd92-d18ccc31fe01"
      },
      "outputs": [
        {
          "output_type": "stream",
          "name": "stderr",
          "text": [
            "No label_names provided for model class `PeftModelForSequenceClassification`. Since `PeftModel` hides base models input arguments, if label_names is not given, label_names can't be set automatically within `Trainer`. Note that empty label_names list will be used instead.\n",
            "/usr/local/lib/python3.11/dist-packages/torch/utils/data/dataloader.py:624: UserWarning: This DataLoader will create 4 worker processes in total. Our suggested max number of worker in current system is 2, which is smaller than what this DataLoader is going to create. Please be aware that excessive worker creation might get DataLoader running slow or even freeze, lower the worker number to avoid potential slowness/freeze if necessary.\n",
            "  warnings.warn(\n",
            "\u001b[34m\u001b[1mwandb\u001b[0m: \u001b[33mWARNING\u001b[0m The `run_name` is currently set to the same value as `TrainingArguments.output_dir`. If this was not intended, please specify a different run name by setting the `TrainingArguments.run_name` parameter.\n",
            "\u001b[34m\u001b[1mwandb\u001b[0m: Using wandb-core as the SDK backend.  Please refer to https://wandb.me/wandb-core for more information.\n",
            "\u001b[34m\u001b[1mwandb\u001b[0m: Currently logged in as: \u001b[33mam14533\u001b[0m (\u001b[33mam14533-new-york-university\u001b[0m) to \u001b[32mhttps://api.wandb.ai\u001b[0m. Use \u001b[1m`wandb login --relogin`\u001b[0m to force relogin\n"
          ]
        },
        {
          "output_type": "display_data",
          "data": {
            "text/plain": [
              "<IPython.core.display.HTML object>"
            ],
            "text/html": [
              "Tracking run with wandb version 0.19.9"
            ]
          },
          "metadata": {}
        },
        {
          "output_type": "display_data",
          "data": {
            "text/plain": [
              "<IPython.core.display.HTML object>"
            ],
            "text/html": [
              "Run data is saved locally in <code>/content/wandb/run-20250409_052900-bjmsmsga</code>"
            ]
          },
          "metadata": {}
        },
        {
          "output_type": "display_data",
          "data": {
            "text/plain": [
              "<IPython.core.display.HTML object>"
            ],
            "text/html": [
              "Syncing run <strong><a href='https://wandb.ai/am14533-new-york-university/huggingface/runs/bjmsmsga' target=\"_blank\">results</a></strong> to <a href='https://wandb.ai/am14533-new-york-university/huggingface' target=\"_blank\">Weights & Biases</a> (<a href='https://wandb.me/developer-guide' target=\"_blank\">docs</a>)<br>"
            ]
          },
          "metadata": {}
        },
        {
          "output_type": "display_data",
          "data": {
            "text/plain": [
              "<IPython.core.display.HTML object>"
            ],
            "text/html": [
              " View project at <a href='https://wandb.ai/am14533-new-york-university/huggingface' target=\"_blank\">https://wandb.ai/am14533-new-york-university/huggingface</a>"
            ]
          },
          "metadata": {}
        },
        {
          "output_type": "display_data",
          "data": {
            "text/plain": [
              "<IPython.core.display.HTML object>"
            ],
            "text/html": [
              " View run at <a href='https://wandb.ai/am14533-new-york-university/huggingface/runs/bjmsmsga' target=\"_blank\">https://wandb.ai/am14533-new-york-university/huggingface/runs/bjmsmsga</a>"
            ]
          },
          "metadata": {}
        },
        {
          "output_type": "stream",
          "name": "stderr",
          "text": [
            "/usr/local/lib/python3.11/dist-packages/torch/utils/data/dataloader.py:624: UserWarning: This DataLoader will create 4 worker processes in total. Our suggested max number of worker in current system is 2, which is smaller than what this DataLoader is going to create. Please be aware that excessive worker creation might get DataLoader running slow or even freeze, lower the worker number to avoid potential slowness/freeze if necessary.\n",
            "  warnings.warn(\n"
          ]
        },
        {
          "output_type": "display_data",
          "data": {
            "text/plain": [
              "<IPython.core.display.HTML object>"
            ],
            "text/html": [
              "\n",
              "    <div>\n",
              "      \n",
              "      <progress value='1200' max='1200' style='width:300px; height:20px; vertical-align: middle;'></progress>\n",
              "      [1200/1200 14:56, Epoch 0/1]\n",
              "    </div>\n",
              "    <table border=\"1\" class=\"dataframe\">\n",
              "  <thead>\n",
              " <tr style=\"text-align: left;\">\n",
              "      <th>Step</th>\n",
              "      <th>Training Loss</th>\n",
              "      <th>Validation Loss</th>\n",
              "      <th>Accuracy</th>\n",
              "    </tr>\n",
              "  </thead>\n",
              "  <tbody>\n",
              "    <tr>\n",
              "      <td>100</td>\n",
              "      <td>0.635800</td>\n",
              "      <td>0.345661</td>\n",
              "      <td>0.900000</td>\n",
              "    </tr>\n",
              "    <tr>\n",
              "      <td>200</td>\n",
              "      <td>0.358900</td>\n",
              "      <td>0.345592</td>\n",
              "      <td>0.903125</td>\n",
              "    </tr>\n",
              "    <tr>\n",
              "      <td>300</td>\n",
              "      <td>0.343000</td>\n",
              "      <td>0.315718</td>\n",
              "      <td>0.904687</td>\n",
              "    </tr>\n",
              "    <tr>\n",
              "      <td>400</td>\n",
              "      <td>0.270500</td>\n",
              "      <td>0.314412</td>\n",
              "      <td>0.904687</td>\n",
              "    </tr>\n",
              "    <tr>\n",
              "      <td>500</td>\n",
              "      <td>0.285500</td>\n",
              "      <td>0.300729</td>\n",
              "      <td>0.910937</td>\n",
              "    </tr>\n",
              "    <tr>\n",
              "      <td>600</td>\n",
              "      <td>0.263400</td>\n",
              "      <td>0.296303</td>\n",
              "      <td>0.898438</td>\n",
              "    </tr>\n",
              "    <tr>\n",
              "      <td>700</td>\n",
              "      <td>0.263300</td>\n",
              "      <td>0.274304</td>\n",
              "      <td>0.906250</td>\n",
              "    </tr>\n",
              "    <tr>\n",
              "      <td>800</td>\n",
              "      <td>0.277600</td>\n",
              "      <td>0.282751</td>\n",
              "      <td>0.912500</td>\n",
              "    </tr>\n",
              "    <tr>\n",
              "      <td>900</td>\n",
              "      <td>0.252700</td>\n",
              "      <td>0.280973</td>\n",
              "      <td>0.907813</td>\n",
              "    </tr>\n",
              "    <tr>\n",
              "      <td>1000</td>\n",
              "      <td>0.227500</td>\n",
              "      <td>0.293856</td>\n",
              "      <td>0.918750</td>\n",
              "    </tr>\n",
              "    <tr>\n",
              "      <td>1100</td>\n",
              "      <td>0.264000</td>\n",
              "      <td>0.280290</td>\n",
              "      <td>0.921875</td>\n",
              "    </tr>\n",
              "    <tr>\n",
              "      <td>1200</td>\n",
              "      <td>0.278200</td>\n",
              "      <td>0.273354</td>\n",
              "      <td>0.921875</td>\n",
              "    </tr>\n",
              "  </tbody>\n",
              "</table><p>"
            ]
          },
          "metadata": {}
        },
        {
          "output_type": "stream",
          "name": "stderr",
          "text": [
            "/usr/local/lib/python3.11/dist-packages/torch/utils/data/dataloader.py:624: UserWarning: This DataLoader will create 4 worker processes in total. Our suggested max number of worker in current system is 2, which is smaller than what this DataLoader is going to create. Please be aware that excessive worker creation might get DataLoader running slow or even freeze, lower the worker number to avoid potential slowness/freeze if necessary.\n",
            "  warnings.warn(\n",
            "/usr/local/lib/python3.11/dist-packages/torch/utils/data/dataloader.py:624: UserWarning: This DataLoader will create 4 worker processes in total. Our suggested max number of worker in current system is 2, which is smaller than what this DataLoader is going to create. Please be aware that excessive worker creation might get DataLoader running slow or even freeze, lower the worker number to avoid potential slowness/freeze if necessary.\n",
            "  warnings.warn(\n",
            "/usr/local/lib/python3.11/dist-packages/torch/utils/data/dataloader.py:624: UserWarning: This DataLoader will create 4 worker processes in total. Our suggested max number of worker in current system is 2, which is smaller than what this DataLoader is going to create. Please be aware that excessive worker creation might get DataLoader running slow or even freeze, lower the worker number to avoid potential slowness/freeze if necessary.\n",
            "  warnings.warn(\n",
            "/usr/local/lib/python3.11/dist-packages/torch/utils/data/dataloader.py:624: UserWarning: This DataLoader will create 4 worker processes in total. Our suggested max number of worker in current system is 2, which is smaller than what this DataLoader is going to create. Please be aware that excessive worker creation might get DataLoader running slow or even freeze, lower the worker number to avoid potential slowness/freeze if necessary.\n",
            "  warnings.warn(\n",
            "/usr/local/lib/python3.11/dist-packages/torch/utils/data/dataloader.py:624: UserWarning: This DataLoader will create 4 worker processes in total. Our suggested max number of worker in current system is 2, which is smaller than what this DataLoader is going to create. Please be aware that excessive worker creation might get DataLoader running slow or even freeze, lower the worker number to avoid potential slowness/freeze if necessary.\n",
            "  warnings.warn(\n",
            "/usr/local/lib/python3.11/dist-packages/torch/utils/data/dataloader.py:624: UserWarning: This DataLoader will create 4 worker processes in total. Our suggested max number of worker in current system is 2, which is smaller than what this DataLoader is going to create. Please be aware that excessive worker creation might get DataLoader running slow or even freeze, lower the worker number to avoid potential slowness/freeze if necessary.\n",
            "  warnings.warn(\n",
            "/usr/local/lib/python3.11/dist-packages/torch/utils/data/dataloader.py:624: UserWarning: This DataLoader will create 4 worker processes in total. Our suggested max number of worker in current system is 2, which is smaller than what this DataLoader is going to create. Please be aware that excessive worker creation might get DataLoader running slow or even freeze, lower the worker number to avoid potential slowness/freeze if necessary.\n",
            "  warnings.warn(\n",
            "/usr/local/lib/python3.11/dist-packages/torch/utils/data/dataloader.py:624: UserWarning: This DataLoader will create 4 worker processes in total. Our suggested max number of worker in current system is 2, which is smaller than what this DataLoader is going to create. Please be aware that excessive worker creation might get DataLoader running slow or even freeze, lower the worker number to avoid potential slowness/freeze if necessary.\n",
            "  warnings.warn(\n",
            "/usr/local/lib/python3.11/dist-packages/torch/utils/data/dataloader.py:624: UserWarning: This DataLoader will create 4 worker processes in total. Our suggested max number of worker in current system is 2, which is smaller than what this DataLoader is going to create. Please be aware that excessive worker creation might get DataLoader running slow or even freeze, lower the worker number to avoid potential slowness/freeze if necessary.\n",
            "  warnings.warn(\n",
            "/usr/local/lib/python3.11/dist-packages/torch/utils/data/dataloader.py:624: UserWarning: This DataLoader will create 4 worker processes in total. Our suggested max number of worker in current system is 2, which is smaller than what this DataLoader is going to create. Please be aware that excessive worker creation might get DataLoader running slow or even freeze, lower the worker number to avoid potential slowness/freeze if necessary.\n",
            "  warnings.warn(\n",
            "/usr/local/lib/python3.11/dist-packages/torch/utils/data/dataloader.py:624: UserWarning: This DataLoader will create 4 worker processes in total. Our suggested max number of worker in current system is 2, which is smaller than what this DataLoader is going to create. Please be aware that excessive worker creation might get DataLoader running slow or even freeze, lower the worker number to avoid potential slowness/freeze if necessary.\n",
            "  warnings.warn(\n"
          ]
        }
      ],
      "source": [
        "peft_lora_finetuning_trainer = get_trainer(peft_model)\n",
        "\n",
        "result = peft_lora_finetuning_trainer.train()"
      ]
    },
    {
      "cell_type": "markdown",
      "source": [
        "![resim_2025-04-23_021628746.png](data:image/png;base64,iVBORw0KGgoAAAANSUhEUgAABF8AAAHECAIAAABgIRIUAAAAAXNSR0IArs4c6QAAIABJREFUeJzsfXdcFNf6NzPbC7vLsrAsdelFqigIAqIGUUHFqDHEaIzX5Kb8bqLeJDe5KTe/xNzcJDdFY0m8iSXWGOwVRAMYQVFE6SC9s9TtdXbeP573M++8iyIWNDfM9w8/6zBzznPOmTnn6Q+C47gdBQoUKFCgQIECBQoUKIx7oI+bAAoUKFCgQIECBQoUKFD4XYCSjihQoECBAgUKFChQoEDBjpKOKFCgQIECBQoUKFCgQOH/gpKOKFCgQIECBQoUKFCgQMGOko4oUKBAgQIFChQoUKBA4f+C/rgJ+O+G1Wptbm7u7u4e+TYGgyGTydzd3e+jC61Wm5eX19HRMXv2bE9Pz3t69tixY/X19cuXL3d2dr6Prn/PwDCsq6urvb3d2dnZx8fntvdYLJaSkhIMwyIiIng83l3bLCsru3jxYlBQ0MyZM+Hx2traCxcuREREJCUljfCgUqn88ccfZTJZZmbmA4zp/6G8vLyoqCgwMDAmJobD4TyUNu+KhoYGhULh5OTk5+f3aHr8g8FqtXZ1dTU0NAwMDFgsFhaLJRKJXFxcvL296XRqp6XwB4fFYrl+/TqdTg8MDLzTfgubtp2dXVRU1Gg+iiNHjjQ1NS1fvlwikSAIYjQad+7cyWKxlixZMvKWfubMmZqamoyMDG9v7wcY0/9Dfn5+SUlJenq6v78/giAPpc3RA+YWx3GpVCqXyx9x7xQeLjQaTVNTU0dHh1arRRCEz+dLJBJPT0+xWIyilMXi9wLqzH4gYBiWn59/7ty5kW/j8/lpaWn3Jx3p9fqioqLS0tKJEyfeq3RUUFCQn5+fnp7+x5OOrFZrS0vL1q1bJ02a9PLLL7NYrOH3tLe3f//99yiKbtq0aTRtNjQ0HDp0KDU1FaQjq9Xa2NiYlZVlZ2c3snSk1Wr3798fHh5+T9KR1Wqtq6u7fv16cHBwVFQU+U+NjY3Hjx9PSUmJjIx8ZNLRr7/+mp+fP3XqVEo6ug9oNJqCgoLc3Fw483Acp9FoXC5XJBJ5e3v/7W9/s7Ozw3G8q6srJyfH399/6tSpj5tkChQeJsxm8+HDhwcGBubPn5+enn7be06ePHnp0qXExMSIiIjRtJmfn19YWDh//nyJRAJdHD16lM/nz5s3b2TpqKioKDs7OzY29l6lowMHDtBotHnz5rHZbPL10tJS2OT9/PwevXTU3Ny8ceNGOzu7iIiINWvWMBiMR0wAhYcCq9Xa1NR0/PjxioqK/v5+s9lsZ2fHYrHs7e0lEsm6devc3Nzs7OyMRmNxcbFCoZg0aZKXl9fjpnqcgpKOHggoioaEhJB1YN3d3YcPH2YymatXryYuslgsX1/f++uCxWKFhYXZ29s7ODjc67ORkZHw4d1f179n0Gg0kUjU09NTXFyckJAwadKk4ffk5ORUV1fDJNxHFyiKurm5zZgxw9/f/2GQbAuQjn7++eeFCxfaSEdubm5JSUkBAQGP8hRUKBR1dXWUaHQfsFgsv/3227Zt21AUTUxMDA4O5nA4Op2upaXlxo0b58+fB+kI9oe9e/empqZS0hGFPxjodHpkZOTXX3/N5/NnzZrFZDJtbjAajTdv3qysrFy9ejWNRru/LqZNm8Zms4c3/rCQlZXFYDBmzZplIx0FBATMmjVLKpU+etHIzs7ul19+qampsbOzQxCkp6fn/jStFB472tvbd+/eXVhY6O/vv3TpUqlUamdn19vbW1NTU1xcrFQqQToymUxFRUXl5eXOzs6UdPS4QElHDwQURSMjI0NDQ4krVVVVx48fZ7PZTz75JHERQZD7ZnO5XO6sWbNMJpNIJLrXZ9PS0mbOnOnk5HR/Xf+egSCIi4tLcnJybm5uaWnpcOlIo9FcuHDBYrE8++yz93ee0Wi0oKAgmUw2Gq+8+wCO40ajUalUGgwGmz+FhIR4eHhwOBybE5rC7xNdXV0XL14cHBx87rnnMjIyhEIhjUazWCxarXb27Nk9PT3EnRaLZWhoSK/XP1Z6KVB4+KDT6VOmTGEymT09PR0dHcONNpcuXWpra5NIJN7e3vfnQcRkMp9//nkEQbhc7kOi2hZKpZLJZFqtVpvrCQkJkZGR96GjfHBYrdaCggI2mx0aGtrY2Jifn79s2bJHTwaFBwSGYQ0NDXl5eeHh4S+88IKfnx+LxUIQxGAwJCcnL1q0iBB6cRzX6XQqlQqMSxQeCyjp6IGAIAiLxSKbJoCdRRDktiy12Wzu7+9Xq9VSqVQgEMBFg8GgUCj0ej2fz3dxcbFRqtFotBF2ZKvVOjQ01N/fLxAIJBKJzbNisXiEB9VqdW9vL4/Hc3R0vK0qDhyBtFqtWCx2dHS822TcMywWS2dnp06nY7PZjo6O92TjQhDE3t5+0qRJEFvV399vQ2FNTU1/f7+zszMhOFksloGBAaVSyWAwJBIJn8+/axdcLve2x7DFYunp6dHr9VKpdIR2jEZjf3+/VqvlcDjOzs6j13feqV8cx/V6fU9PD47jEomEeIVuC4PB0N7eTqfTZTLZ/VnP7gSgAcMwJyen29KA47harQbPAXt7eycnJ5sYA6vVqtFoFAqF1WoVCARisXiUk2MymQYGBrRarUAgcHBweMB4Hp1O193djeO4s7PzyK/fwMBAf38/i8Vyd3cfzti1tbVVVlZ6e3tHREQQHx2dThcKhUKh0MPD456oUqlUvb29KIrKZLIRxGMcx3t6elQqlVgsBr8jG1itVpVK1dfXh+O4UCgUi8VU+BOFsQOCIEKhMDo6+saNG6dOnXr11Vdt1FJXrlzp6+tbtWoVcaKZzeauri69Xm9vb+/s7HzX9xNFUVC3D4dKperv74cb7rTd4Tiu1Wr7+vosFouDg4NIJBq9CUsgENxpv+3r6xscHORyuc7OziOrQRUKxeDgoEAgcHFxGb3O7tdffx0YGAgNDV2+fPlbb71VWlq6YMGCO507wA/gOO7k5CQUCoffYDKZ+vv7NRoNEEyn0+/bGgbnUVdXF0RWw9iBJxkYGEAQxNnZmcfj3UkSxjBMqVQODg7SaDSJRMLj8R6WXc5qter1eoVCgSDIvbIWt21NoVCoVCo+ny+TyUYg0mg09vb26vV6V1dXLpdrc6der29padHr9XK5PDg4mHjbORwOcAj3RBWGYT09PRqNRigUOjs7j0CVVqtVKBRwoDAYjOF3Go3Gvr4+rVbLYrEcHR25XC4V/kRJR2MOi8VSXFz873//+4knnpg8efKePXtu3bqFYdgbb7yRkpJSVlZ29OjRGzdu6PV6q9WKoqizs/OTTz6Znp5O7NoDAwPbt2+vqqpas2ZNeHg47LB/+ctfhELhp59+unnz5itXrlgsFiaTGRERsWzZsuDgYKL3Tz755PLlyxs2bCDyFjzzzDMsFuvDDz88duzYhQsXDAYDWEiWL18eERFB/mxqa2s3bNjQ1NRktVo5HE58fHxsbOyxY8eEQuHKlSvvZO198803m5qa1qxZk5CQQL7e0tKyc+fOzs7O1157bcKECWaz+dChQ8eOHRsaGrJarSBkhoWFrVixIiAgYJRzy2AwvL29AwIC6urqrl69Onv2bOJPOI4fPXpUo9FkZGSwWCytVvvjjz9eu3atr68PwzAEQQQCQWJi4sKFC0dwUTCZTBcvXty2bducOXNWrlwJF61Wa1FR0f79+5uamjAMY7FYqampCxYsID+I4/itW7eysrLKy8thgCiKisXi9PT0jIwMiCMymUxPPvmkTqfTarUHDhw4deqUnZ2dSCRatmzZ7Nmzz507t3///oSEhMWLFxNHMuR+uHjxIlge7O3t4+Pjn3zySWItLBbLunXr2tradu7ceeTIkSNHjhiNRgRBnJycli5dmpaWNsqJHQFDQ0N79+69cOGCVqsFVW5MTMyKFSuIiDgcx1taWg4dOlRUVKTRaHAcR1GUz+cnJCS89NJLLBYLePqtW7eWlJRYLBaIz3FwcMjMzExJSRlBitPpdBcvXvzll186OjrgKR8fn2XLlk2cOBEkq4KCgo0bN/r4+Hz++efkB81m85EjR/bv37969WpiEjo6On766aeioiKTyQTi6LRp05YvX07INi0tLfv37+/s7ExLSysrKyssLNTpdGKx+Icffhiu+LBYLEajUavV6nS64ZTDt2wwGM6ePbtlyxYcx3NycoqLi+Gva9asgTg3Ozu7W7du7dmz5/r166Ay5PP5qampzz77LBF7Vlpa+tNPP0ml0piYmJycnMrKSpPJBB5Nf/vb34hXBcfxurq63bt3l5WVmUwmmC6xWJyZmTljxoxHFslGYbxBIBA8/fTTRUVFDQ0Ner2erOLp7e1tb283Go2RkZFsNvvWrVu7d+8uLy83GAzwfkql0oULF6ampo68CbzyyitcLveTTz4hRCylUnn8+PHTp08PDg7a2dm5uLi88MILNkp3k8l048aNn3/+ub6+3mg0wlfp5+e3YsWK8PBwYOvPnTu3ceNGpVJpZ2f37LPPAoMYFxf36quvCoXC7du3Hzt27K233oqLiyN4xxs3bvz444+NjY0Wi4VGozk5Oc2fPz8tLY1QapSXl//www9isXjBggWHDx+GT5tOp0+YMOEvf/nLKPUme/fupdPpmZmZ7u7uLi4u3d3d9fX1kZGRNrddv379wIED1dXVMHYmkxkWFrZq1SrCq7+/vz8nJyc7O1uhUGAYhqKoSCSaM2fOihUrgIdetWqVk5PT559/Tl64rKysrKysZcuWpaSkwLjefPPNmpqar7/+Oi8v78yZM1qtNiQkZO3atQKB4MKFC2fPnu3s7AQa6HR6VFTUK6+8IpPJyKQaDIaSkpKsrKz6+nq4k8vlTpw4cdWqVa6urm+88UZdXd2GDRtszI8wmQKBYMWKFXdydweV7q5du4qLi+GgtDnrTSbT3//+97q6uk2bNtkEcldXV2/evNnBwWHlypUwaRaL5dy5c0eOHOno6LBYLCiKuru7P/vss0lJSQSzlJeXt2HDhnnz5rm5uR0+fLitrQ3DsI8++ig6Onq4TtBsNsO/GIbZ/JVoUKvVPv/88wqFwmQyffrpp19//bWdnZ2Pj09mZuaUKVNg9s6cOXPixInu7m4Mw2g0mre39/PPP08ogk0m09GjRw8ePLhs2TIMw44dO9bb22tnZ+fo6Lh8+XIyp6RWq3Nzc48ePQqaSuDEAgMDX3jhhTEKKPgvAiUdjTkMBkNnZ2dOTs5vv/3GZrOfeOIJo9EIho4rV67cvHlTLpd7eXmx2ey2trbCwsLNmzf39vYSYUugienp6QE2DnQG3d3dKpXqnXfe6evrmzZtGp1Ov3Hjxrlz5zAMe+WVV4g9d2BgoKuri3xO9PT0mM3m7777rqqqKiYmhsfjQXo0vV7/P//zPyEhIXBbQ0PDunXrent7J0yYMHHiRKVSWVxcfOXKFRzHPTw8LBbLnQabkpLy/vvvnzp1ykY6Ki0tLSwsTExMhIHv27fvp59+wnF8+vTpTk5ORqOxsbGxtbW1vb199NIR4Vy3ffv2pqYmHMeJ/QVCaOzs7MADQaVSZWVl+fr6JiUlCQSCoaGhGzdu7Nu3b2hoaNWqVeDpe1uAbUGtVsN/cRzPz8/ftm1bS0tLdHR0QECAQqH4+eefq6uryU/hOF5bW5uXl+fv7z9p0iQOh9PT03P58uVvv/1Wo9E899xzTCYTQRAvL6+enh6tVisSiWDjtre3By2XTqdTKBRqtRrHcWhTr9e/9tprt27dcnR0nDlzJo7jpaWlBw8e7OjoePHFF4lJ6+3t7ezs3LRpU25ublJSkrOzc0tLS35+/g8//ECj0cjb4n1AqVR++OGHxcXFjo6OTzzxBJPJvHLlysmTJ+vr6z/++GN463p7ew8ePHj06FEfH5/Y2Fg+nz80NFRVVXXp0qXVq1ezWCy1Wr1u3brW1la5XB4dHc1ms/v7+ysrKzs7O00m050YI4PBkJ2d/e9//5vH44WHh3t6ejY0NJSXl7/33nvvvvtuYmIinU4PCwvr7e1VKBQ2z3Z0dIAkRrAsjY2N77//fmNjY1hYWHh4uNVqBc6publ5/fr1IPxYLJbBwcHGxsYNGzZwudzo6GihUNjV1XVbpZqbm1tISMhvv/129uxZmUzm7e09XCeNoqi9vb1UKh0YGODz+YRMS8hapaWl//znP9va2iZNmhQcHGw2m69evbpr167GxsaPP/4YjlKTydTX1zc0NHT58mUOh5OUlESn03/99dfc3Nxbt27t27cPbqutrf36668rKysDAgLCw8OZTGZfX19ZWVljY+PUqVMp6YjCGAEUfCKRqLOz8+bNm3FxccSfsrOz6+rqoqOjQfteVFT022+/QaohBoPR1tZWUlKyYcMGhUKxcuXKOxmRrFZrT08Pn88nPN8MBsPBgwd3794tEAgmTZrk5ORUXl7+wQcfODg4EJsn7J/Xrl2rq6sLCwuTyWSwRZeXl7/zzjvr16+Pjo6m0WjwVfb19SEI4u7uDiKTk5MTfPIqlaqzs5PsE1tYWPjRRx8NDAxER0eHhoYqFIrffvtt06ZNbW1tL730Euw2JpOpt7d3aGjoH//4h729/fTp09lsdn5+fn5+/sDAwDfffHNXFwalUllTU8NgMIDbnj179s6dOy9cuBAWFkbeZE6cOPGf//ynp6cnPDw8LCwMRdGWlpaGhobm5mZg9Ds7O3fs2HH27FmBQBAVFeXq6qrRaMrKynJyckA6wnEcsu+S5w181OGcIq739fV1dXV988031dXVcXFxLi4uAoGATqcrFIqioiKVSjV58mSJRGIwGK5fv37hwoWysrKffvqJMGTp9fqcnJyNGzdardbg4ODAwECr1VpfX3/16tX58+e7uroGBARcunTpyJEj69atIy89vCQLFixwcXG57VzhON7b2/v22283NDS4uLjMnDkTw7DS0tJ9+/Z1d3e/+OKLXl5e4DlSVFRUVFRElo4wDOvo6Lh+/frcuXOhfQzDtm3bduTIERqNFhsbK5PJenp6Lly48Omnn2o0GkLRBkzCkSNHmEymi4tLamqqWq3m8/nDTTRcLtfT05NGo12+fPn48eOzZs26rXEPAp7Bs87JyQkUdjKZDERWvV6/adOmM2fO8Hi8uLg4iUTS0dGRn5//j3/845133iH4LrVa3dnZuXfvXgzDvL29J0+e3NbWdvny5Y8//hjDMCDeYDDk5eV99dVX8O24uLgYjcampqbGxsb+/n5KOqKko0cB4LQSExNfeeUVMmsyb968FStWAK8M33ZjY+PatWvz8vJmzZo1coa63t5eDw+PvXv3QoPNzc2bNm26ceNGaWnpyBopMIVv3brV1dUV5KWtW7fm5OQ0NzcHBwcjCIJh2GeffaZQKJYuXfrGG28QquhPP/20oqJi5Mbj4+MRBKmsrBwaGiICpVQqVV1dnU6nmzx5slQq1ev1Z86cMZvN+/fvJyQTCMIBrd7owefzfX19EQSpqqpqaGggMgpAgKOfnx/sLI6Ojnv27CHPZ29v79atW8+fPx8XFzeCdGSD/v7+3NzclpaW119/fd68ebBbVVRUrFy5krwVIgiSkJAQExNDdgLp6OhYs2bN3r17n376aSaTyWAwvvnmm6NHj27evHn27NkvvfTSyF3v3r27qqpqwoQJmzdvBn66o6Pj+++/z87ODgsLk8vlhGcahmHnz5/fv38/bPFGo/HkyZNffPFFYWHhg0hHVqt127Zt165dCwoK+vzzzx0dHREE0el0X3zxxenTp7/99luw2FRWVubm5qakpLz88svkM6yjowNe1N7e3vr6+ujo6M2bNxOSBoZhFovlTiwRjuP19fVffPGFVCp95ZVXUlJS4JGDBw/u3Llzw4YNLi4uwcHBDg4OISEhV69ePXXqFHF0Wa3WioqK/Pz8xYsXx8TEwIR8/vnnDQ0Nf//73+fOnQudarXaHTt2HDhwYMuWLW+++SbRdXd3d2xs7Jo1a0Y+KuRy+eTJky9fvpydnZ2Tk+Ph4REWFhYVFZWQkAATBarcGTNm2Nvbv/rqq/Hx8e+//z65BYPBsHnz5tbW1s8//zwhIYFGo+E4rlKpNmzYkJeXt3379hdffJG4uby8fNq0aWvXrgWh+rXXXlu2bFlTU9NHH3300UcfWa3W9vb269evL126dM2aNcSs4jiuVCrvyo1RoHDfQBBEIpFkZGTs2LEjNzc3JiaG4OBbW1uVSmVGRgbk5p4+ffqyZcvIL2dZWdk///nPmzdvNjc3jz43TH5+/uHDhz08PNauXTtx4kTYUj777LPjx4+TY4e4XO6SJUteeOEFsufb4cOHf/zxx3PnzsFJERcXFxcXl5KSwmQy//Wvf40cYoRh2MaNG/v6+tauXfvMM88gCGK1WsvLy999991ff/3V39+fbKuvrKxMS0tbu3atUChEEGTlypUrV67s7OwsKSmZNm3ayAPcsWOHyWSaOXMm0BMTE7Nnz56Ojo7BwUHCn7a+vv7AgQNdXV0ffvhhamoqzCqO4xaLRaPRALUFBQWnTp2Kjo5+9dVXAwMDiQOrqalplFNtg7Kysv/85z+BgYHEFY1G8/bbb4OkBFdwHP/yyy+zsrKOHz++fPlyuNLR0bFx40Y+n//nP/85NTWVeEO6urqAZ1i2bNmhQ4d+/vnnP/3pT4T80N7efvHiRbFYDEmqbkuS0Wj8/vvv6+rqEhMT33vvPXgWctvm5OQEBAQsWbKEy+Wmp6dfuHBhz549S5YsIc4ghUKRl5fn6OhI1P84ffr0mTNnfHx83nnnHS8vL5ix5cuX//nPf96xY0d0dDT5gFMqlS+++OLixYtH8IWm0+l+fn4xMTGFhYWfffbZli1bAgICIiIiJk+eHBYWRjzI4XDWr1//1VdflZaWrl69esaMGeRGjh49mpubGxUV9de//pVw87t58+Zrr722ZcuWsLAwYsbAhfL111+fM2cOqB1zcnL+93//95///OeUKVMcHR2HhobOnz8vk8lee+01sjpbqVQ+XFf8/1JQzoWPCCEhIenp6TZaWxcXFwjLg/8iCCKTyTIyMgYGBq5fv37XNt9++22iQRcXl6ioKPDiHfkpPp8PGhr4r7OzM+RG6+jogJ20paWltbVVLBYTmhsEQby9vW38x+7UeFpamlKpPHnyJHGxtbW1sbFRLpc7OTlBzQqr1crj8ciKEwRB2Gz2bVUpIwBFUW9v7/j4+Fu3blVWVsJFs9mck5MzODg4f/58OAuZTKaNqOnk5ATJsru7u4cnRbgTbt68WVNTExkZOXHiRML3IDQ0dOnSpeTbEARxcHCw8Y93c3NLTEy0WCw2hqbRwGAwbN++nc1mv/nmm4SpwdXVNTEx0cnJqaCgoLa2lnz/qlWriI2byWSGhIRAINC9Cp9kqNXqlpYWq9X617/+leD4ORwO6B07OzvhlNXr9RBWZxMG5ubmBueQxWKBtSYbYWg0GovFulMMgNlsbm1ttVqt4eHhIBrBIwsWLIiOju7s7AQXPjs7u9dff93Ozu6nn34injUajQMDAzQajYgsKisr6+vri4yMTEhIIE5xLpf7xBNPgOqRrDplMplQ4WTkyaHRaAsXLvz73//u6emJ43hra+upU6fWr18/d+7c9evXD4/wHg5wR0lPT4+KioJ5AP/PRYsWqdXqhoYG8s0MBmPBggWEUyiNRtu6dSuGYeXl5cQ9kAmGLHAiCCISiajQIwpjCoFAMGXKFDqdrlKpVCoVXKyqqmpqaqLT6U5OTrAne3p62rycISEhixcvrq6uvnHjxij7slqtfX19/f39M2fODA8PJ7aUtWvX2pgXGAwG0TWB+fPnBwcHnz9/fmBgwMZgclfk5uYqFAqpVPr000/DZoiiaFBQ0J/+9Cewm5GPFTqdvmTJEhCNYFdZvHixWq0uKSm5a0eFhYV2dnZErQh7e3s/P7/m5mbyLJ08ebKtre2pp54CRxK4CDsAyFR1dXUFBQUCgWDu3Llk0cjOzu6+60E9/fTTZNEITn+b4EYEQV5++WUOh3P06FG4otPpcnJy9Hr9pEmTZs2aRd7zZTIZ8DM8Hi8qKgrDsCtXrhB/7e7uLi0tDQ4OHiEXvMViuXTpklQqff755wlewsvLKzEx0dnZuaysDDwLQkNDPTw8uru7wcEEMDg4eOPGDblcDu1jGHbz5s2+vr5ly5Z5eHgQM+bu7p6RkTF87eLj45OSku6aRcnX13fdunVpaWkcDgca2b59+8svv7x8+fLCwkIMw0Z+XK1Wg7N0ZmYmOXQtMDBw5syZSqWSfATY2dklJyfHxMQQos6sWbMmTpxoNBoLCgqI6CwOh2MTtioUCql0UJTt6BEBxJ7h+jCLxdLb23vx4sXq6urBwUGLxQLxf0aj8a5CjlgsJldBZbFYfD7fbDYTDnh3ApvNjo2NJdPm6OgoEomUSqXRaLS3t29razObzSEhIWT+lclkurm5jSb9XXp6+qlTp4qLizMzMyFzV3l5eXl5+bJly8ABzN7e3sPDo7Cw8N13333qqadCQ0OBjbttvOBd4ezsHBYWVlBQ0NbWZjAY2Gx2c3NzX18feBsTWjS1Wn3jxo2rV692dXUZjUYcxwcGBjQaTXd3t0ajGc1eAJUK2traMjIybAxo6enpBw8eJP6L4zisY0lJCfDiZrMZ/BbMZnNtbS0YMUaP/v5+i8UilUonTJhAXEQQJDQ0NCoq6sqVK/39/eTrc+fOJf8XIj71ev3Q0NCdYprvCnCuEIvF5GBTYLjj4uJqamoKCwu9vb29vLwiIiIOHz6s0WjS09Pd3NxYLBadTqfRaPCUUChkMBgVFRXbtm1LTk52c3Oj0WgMBgNF0Tutvl6vv3jxIrAF5OscDgfiqisqKoKDg/l8vre3N4vF6u3tHRgYEIvFYHTKzs4OCAiAxJI4jl+4cKGrq2vatGm1tbXkg7yvr08qlSqVyq6uLkJ3YG9vP0o/NBaLlZaWNmPGjJqamtJABHV5AAAgAElEQVTS0srKyoqKCpVKdezYsYqKCogcuNOzOI4XFRX19vYGBgbaCLodHR0MBgN2BuJ7dHd3twkQB1YA9g2RSMThcHg8Xl5eHp/Pnz59OsRejzzJFCg8LNjb2/v6+tbU1Fy8eHHevHnA4tfW1s6bN4/QwUNEfm5ubk1NzeDgILh/gxMaJBUYzYva09PT0NAgFApdXFzIaV2YTKZEImltbSWugCGltbX1t99+a2hoUKlU4B9+69YtlUo1egUZgcLCQr1e//zzz5P5exaLBW5mer1eq9USxwpYtokR0Wi0wMBAs9kM0SAjoKysrKurC1wk4Iqrq+vcuXM/++yza9euJSYmAuPb19dnNBpjY2PvdJD19vY2NzdPnDgxLCzsYe0AiYmJNlcgSUNVVVVxcXFbW5tWqwXFkMFgaGlpgQgZg8Fw9epVqVQ6ffr0EbbEP/3pT7/++uv27dtnzJhBp9PVanVFRYVWq/X19R3hCOvr6+vr6/P397cpEO/v7+/t7V1TU9PX1we1dBMSEqqrq48ePfq3v/0NssbBezht2jTY/FtaWjo7Ox0dHfv6+siqaqvVymazdTpdTU0N2Tzo5OQ0ysxVcrn8ww8/fOmll0pLSysqKsrKytrb21taWtauXfvFF1+MXFmxvr6+s7NTJpN1dXWRxTMMwzgcjl6vb2xsJFuBPD09bSSfuLi4oqKikpKShQsXcrncoKCgw4cPb968ecmSJSEhIVwul8Fg0Gg0KisDJR09ItDpdA6HY6MaxzDs119//fbbb1UqFZvNhtQxkMkRBKeR27TJaYYgCIqiOI7fVQcG8Q82V8ChDvYySCQw3K8AmNG7DtbX19fV1bWlpaWqqiosLKy/v7+xsVEoFPr5+YFXD41GW7t2LYZhVVVV77zzDoqiAQEBcXFx06dPd3Nzu9fU5xwOx8fHRyqVXr9+vbq6OiIioqCgAMqosdlsOAkUCsXHH39cUlLC5/OZTCZ8+QaDwWQyGY3Gu041AMMwEKscHBxsDiGb+cQwrKSkZMuWLQ0NDTwej06nQ49wWkA+g3sCHN7DkwEAE2yxWMg6JxA2yLeBEtFqtY5ypLfFwMCATqcTCoU2RxqTyfTx8bl58ybkrQ4MDFy6dOnOnTuzs7NPnDghEokmTJgwffr0SZMmicVicLz54IMPtmzZcuDAgT179ojF4oiIiBkzZkRFRfH5/NtuypDbkMfj2QilEHjG5/O7u7tBKcBisVasWLFjx44ffvjhrbfewjCstbW1vr4+MzOT0DiC9uHnn38+dOjQ8L6kUilYUAEikeie8rlzOJyoqCioXqVSqfbv379r166GhoaCggIbBwkyMAwD+XnTpk3DZ4DJZNJoNJ1ORzjFDZeOUBSFN6Gjo8PBwWHixIlr1qzZtWvXnj17du3a5eTkFBERkZqaCjIkdfJRGFN4eHhkZGT861//qqiomDVrFiTXMplM5IzYV65cee+99ywWC5fLJdKmQVQPnGKjYeK1Wu3AwIBEIhl+WhGGGoBerz99+vR3331nsVjgLIa/wm6MYdgoeySg0+lwHB+u8aTT6Uwm02w2k8N9BQKBzenPYDBAYBuhCxzH9+3bB/l7yPovDodjb2/f1dXV0dEBYoDJZLJarSN82haLxWQy8Xi8h5gJfXhTPT09u3btOnv2LIqiLBaL0MXA8QSJK+AEZLPZI6do8/f3DwkJqa+vr6ysDA8P7+zsPHfuXGBg4NSpU0fYviBJHZ/PtzmgRSKRQCAgF8/IyMg4cODA8ePHX3rpJaFQODAwkJ2d7e7uTjgUDA4OQlbVb775ZniPHA7HZu1YLNboc9KCulwmk82dOxeiXjdu3FhVVfXtt98mJCSMMMChoSGdTtfa2vrFF18Mv43H45GV43Q6ncfj2VAFcQQglguFwieffLKnp+f69evvvfcei8Xy8fGZOnVqXFwcBGiNc1UaJR09CoDoYnOxs7Pzp59+0mq1K1euTEpKgrTLJpPp8OHDP/zww70a+h8iwNnPxgsLx3EMw+5qmIKNY8mSJVu2bDl37tyECRMaGhquX78eFBREVue4u7t/8cUXZWVlN2/erK6ubmpq2r17d05Ozuuvvw5ZWUYPBEH8/f1jY2Nzc3Obmpo8PT1LS0t1Ot38+fMJbvLQoUMlJSVTp05dtmyZt7c3n8+n0+k5OTmQQGz0HRF7PVmRT+z+BHp7e8+ePdvR0ZGRkZGWlgaVi1AU3bVr1/bt2+9jZclnDBlWqxXyzNxrg/cBkPGAjbChATLjwaFCp9OTk5NDQ0PLysrKy8tramqqqqry8/NnzJjx7rvvAieUkpIyadKkK1euVFRU3Lp169q1a/n5+RkZGc8+++xtM1MjCMJkMoe/fsBeYBhG3seXLFmyY8eOa9euGY1GtVpdWVnp4ODg7u4O3Alkx0IQJDU1NTAwcLgvn4ODA5mGBzG2CASC1atXZ2dnt7a2ZmVljSAdkYm/bcZYm0zBwAzZTAW8CXAbh8OZP39+TExMSUkJTPLly5fPnj2bmZm5YsWKe/VfpUDhngCJ78VicVdXV1tbW0dHx40bN7y8vFxdXeGLM5vNn3zyiU6ne+mll5KSklxcXICdPXny5Mcffzz6jlAUpdPpNuohAPkKxLps3bpVJBI988wzMTExTk5OEO77zjvvnD9//j7GCAMZ7qtMiHYPvi0rlcpbt25BAMzp06fJf7JYLJWVldeuXZPL5cQeZbVa73S4AAcC58V9UHLbZm0GaLVaCwsLz549GxISsmjRorCwMPDjtVqts2fPHhwchEYISu5aySczM/PDDz88evRoQEBAS0tLe3v7rFmzbIxCNiBSig8/oMFyRdDs4OAQGRl5/vx5CMdVKBS1tbVRUVFEyl+YVYlEkp6ePtxaBcnrbGbj/lYcRdGJEyc+++yzn376aVNT09DQ0AiFWKAXT0/PlJSU4aYqOp1O2BiJQ8FmKuAMhcMaUkN98MEHtbW1paWl1dXVLS0tP/7445kzZ9asWTM85954w7ge/ONFY2OjWq2Ojo7OyMgAmwyO42azub29/fES5uLiQqfT29vbyYHyVqu1v79foVDctUo3jUabOHEinU6vra3t7Oysra1VKBTz5s2z8W+GJDzR0dHgcrZv376srKycnJx7lY4IJ0OLxVJbW0uj0Xp7e728vDw8PAjiT548KRQK//KXvxCJwjAM6+vrg+StowSNRhMIBJBaUKVSkc1obW1t5Du7urquX78eERHx1FNPEfFOGIY1NTXZHAmwbd1VXoIEOGq1WqvVEqYMHMdhRXg83iPwEnZycuLxeOB1SehZcRw3GAyVlZVk3w/IIT5z5syZM2daLJaysrJPPvkkNzd39erV8A4gCCIWi+fMmTNnzhy9Xn/lypWdO3eePn06IiJi+vTpw7tmMBj+/v719fU2AcRWqxXqccnlcmIGRCJRSEhIa2trcXExj8fLzs6OiIggnA1QFPXy8uLxeGKxOC0tbYzq/BJAUdTT07O1tdXGdcdmxSG1LmSonzVr1l11kC0tLUNDQ+QrZrNZr9cLhULi8wT1ZHp6enp6ul6vLyoq2rhx4759+2bPnk1JRxTGGm5ubjExMRcvXiwsLDQajR0dHc8995yPjw/sG+3t7Wq12tXVdcWKFQTrplQq29vb70l5JBKJXFxcrl271tvbS+YCrVYrwY4T/9VqtXFxcRkZGYROpK+vj5wXFAAeHHftWiqV0un0a9euTZs2jWCLIZBDr9czmcwHj2s/efJkf39/cHDw8FrnLS0tRUVF9fX1SqXSwcEBPBSI/M7DmwJzU09PT19fHxE1Ohx0Ot3GogUjGo3TgU6n6+rqwnE8JSUlOTmZWIvm5mayDAmp2+vr6xsaGkJCQkaQKGbOnPndd99dvny5srLyzJkzEokkLi5uZD9nYF3UarXNAQ0DtylOuGDBgry8vCNHjsTFxeXl5dHp9IiICOIpiUQiFAp7enri4uIiIiLG2t7u5eUF7ArBIcB7aPMqQoFBjUaTmJgYFBQ0sjyGYdjg4KBerycfc/X19dAdcYXL5YK/A6Tz2b59+4ULF4qKivz9/UeQ08YDKBeLxwZyLAF8A5Cz7tKlS4+XMPBVbWlpKS4uhm0R8qhevXqVnM/0TkBR1MXFZcqUKe3t7UePHi0vL3dzc/P19SV2bbPZrFQqCd0e1IyLj4+3WCxEuRi1Wn3z5s3CwsK7xl8B9xwSEhIYGFhcXLxv377Ozs6kpCTy5gj6EmIrgZIIVVVVRKru0QBBkMDAQB8fHziWCPpVKtUvv/xCvhMysJGVSZCxtKKigiwdQUQQhmG3LZJDhkgk8vb2ViqV58+fJ/qFkhGVlZXBwcFEnMzYAdxXNBoN1NiBixiGVVdXV1dXQ9VdosI3safDkSOVSol0sVAXiGiWw+FERkYGBQUZDIY7aRPZbPbkyZP1en1NTQ3hqQ+FlTo6Olgslq+vLyEdoSi6atUqtVp94MCBpqYmk8kkl8vJIdrTp093cXHJzs5ubGwka1JxHDeZTEQc+T1hcHAQOBWbwwzcSsHbG67AW2E2m8nyEoIgycnJUqn04MGDkPqCTJXRaLSRhXp7e6GeDHHPpUuXQObk8XjwiM0kx8XFOTo6Djf9UaAwFnB1dY2NjTWZTNeuXSsvL2exWJ6enoQvFrz8HA6HeNUtFgsYme+pF5FI5OXlZTab6+rqyJkVQCVH/Bc+bRRFwZ+NoOH8+fPNzc02bYKEcNdIpGnTptnb2589e5ZQjeE4Pjg4WFpaarVanZ2dH9CHzWw2X7hwQa/XL1++/H+GITMzUy6X19XVNTQ04DgeGBgoEAhyc3M7OzuJKQXTAezV7u7uEyZMqK6uvnz5MpHDBkBsFFBg3Wg0EjIqjuNtbW2NjY2jSedD5B0li5darfbQoUNkmz/UIVCpVPn5+VCJm/iTwWCwcRFPS0vT6XTHjh0rLy/38vICj+URIBQKvb29VSrV5cuXCYlOp9OVlZW1tLSEhoaS3fliY2Pd3Nxqampu3rxZUFDg7OxMjtiRyWQ+Pj5arbakpIR8osFprtVq7yPFERSRb2trs3nWbDbfvHkTCr2A6goq0VssFhvpXS6X+/j4dHV13bhxw2YdrVarWq22ca+oqqpqbm4mXglIuY6iKOigLRbL0NAQMecoinp4eISEhAiFQrVafVfj3h8elO3osQGCB8rLywsKCvz9/VEU7e7uPnXq1IMkFnsogNJ133///Zdffrl8+XJnZ2ej0VhWVlZcXEx8uiO3wOVyZ8yYcfHixTNnzhiNxqSkJKKSEogTp06dcnJyInQ5g4OD+fn5XC6X4PIhXTUU0iHnkLgTvL29g4KCsrKyMAwTCARQaYf469SpU8+fP79nz565c+dyOBylUllYWFhdXX2vhV+CgoKio6OPHTt24sQJo9EIJR2Ki4tramrIt0kkksDAwOrq6jNnzsTHx9Pp9L6+vtOnT1utVrJiD0VRJycni8VSU1OTn5/PZrMZDIa7u/twh2wmk/nnP/95/fr127dvJ/Lv3bp169y5c0wmc9q0aaOsKnhXQNI2olApAXt7e/DJrqmp2blzJ/iFoyja0dGxf/9+qEsrlUqtVmtNTc3Vq1cDAwMdHR3ZbLbFYunq6urs7OTz+UBkR0dHQUGBn5+fSCQCV9Jbt27V1NS4ubndSVNFp9N9fHxCQ0Orqqr27duXkJAAZZTOnj1bW1sbHx9vUyk8ODhYKBTW1NSYTCaZTBYdHU1uzd/fPyEh4dChQ7t3705NTZXJZEwmE+Si9vZ2FosFceT3hLq6OiioFRAQIJFI2Gw2lCmDXAvu7u5Evkd7e3u5XN7Q0HD69GlXV1dIuujk5DRlypSpU6eePHly7969kEeBwWCYTKahoaG2tjYGg/Hkk0+SlyMnJ4fJZAYGBqIo2t7e/tVXX3G5XOgFx/Hm5uYrV674+Pg4ODgwmUyj0djQ0NDX1+fq6jp653gKFO4bKIrKZDK5XH7t2jXQDgQEBBC7n6enp729fX19fU5Ojre3N4IgnZ2dFy9evCd1FfQCASqXLl1ydHSMjo7mcrn9/f379u0jK/KgTiubza6pqcnLy3N3d8cwrKGh4dKlS+QgQ4BcLq+qqjp79mxQUBAUqpbL5cOjYSMjI2NjY7Ozs7dt2zZv3jwHBwe9Xn/16tXTp08HBQXFxcU94IdWXV3d2dnJ4XDIRycBb2/v6OjorKysqqqq8PDw6dOn37x5Mz8/f+/evcnJyZAzXa1WDw0NeXl5+fn5ubq6Tp8+vaqqKjs7m0ajhYWFcblcs9k8MDDQ09OzePFi2GZjYmKys7OPHDliMpm4XK5SqSwoKKiqqhqN5YTH47m4uJjN5suXL0OKAoPBUF5eXlFRQb6NxWLFxcVduHChoqJi9+7dSUlJUJkKLIcJCQlkN7a0tLSDBw/m5uZCFru7mjIYDEZGRsb333+/b98+eM2gsNX58+c5HE5MTAzZGw0KAP74449ZWVm9vb3JycnkY5ROpyclJVVVVZ04cQJBkPDwcGB+9Hp9b29vX19ffHz8yDVXhsNgMBQWFl69ejU6OhrYP0hT0draevjwYYvFsnTpUlDzMZlMX1/fkydPFhUVOTo6MplMHo/n5ubm4OAA+YTg/pCQEIh51mq1CoWiv79/xowZhCoQRdHa2tpTp06p1WrQbF64cKGurg6S7oK19tSpUxKJxMXFBexLUApSr9e7ublRZfEo6eixQS6Xz5w588iRI1u2bPHx8QGXMJlMlpSUlJub+3hpS09PHxwczMvL+/bbb8HnRyKRJCQkFBcX0+n0u3qjgv+rm5tbQ0ODWCwOCAgg70oYhhUXF9fX1zs5OUEmH8jKmpSUNHPmzPsjmM/nQy89PT2hoaFECT/A0qVLW1tbs7Oza2trBQKBWq3mcrnBwcH3mqWAz+enpKQMDAwUFhbW1NQ4OztrtVqTybR06dKtW7cSt8lkstTU1I6OjsOHDxcXF7NYrKGhIUi5bpNcztPTMzExsaqq6ssvv2SxWEKh8Omnn37iiSeGd52YmLh06dLz589/9dVXvr6+OI53dnayWKxFixY9RP9gqA70xRdf2FwPCQlZvnz5rFmzlErlmTNnNm/e7OPjQ6fTm5ubURRdsGBBRkYG3Dk4OHjq1CmQfvl8vslkamtr43A4Tz31FEh9Op3ul19+Af8KLpdrMBi6u7u5XO6TTz55p8TZCIK4urpClYns7Ozi4mIHBwfwiomOjl6xYoVNIXY+nz937tw9e/bcvHlz+vTpNtIRg8HIzMxEECQ/P/+rr77y8PBgs9kGg2FgYADDsNTU1PuYNxDF4RwF5weLxQIlm8PDwzMyMmDsCIK4ubktWbLk559//uGHHyD736uvvpqcnMxkMjMzM1EU/e23365fv+7u7s5isfR6PeTvsqHK399fKBQeOXIEXC5ra2shR/DChQvhBqjJS6fTnZ2dIZdRW1ubo6Pj/PnzbxvZRYHCQ4efn9+UKVPAkyc0NJTsks3j8RYtWnTo0KF///vfQUFBKIoqlUovL69p06ZlZWXdUy8TJkxYunTp3r17s7KyILPlwMCAq6urXC4nshvDV5mWlpabm/vNN994eXmBn0J0dLRKpaqqqiI3uHTp0h9++AGUPiiKxsbGvvDCC8OdUVEUXb58ucViuXz5cm1trUwmU6vV7e3tvr6+CxcuDAsLe4CZs4NYI7VanZycfNuySyKRyNfXl8Vi3bp1C9zdn376aTqdXlBQUFJSAmoXqGTw8ssv+/n5oSgaFRWVmZl58uTJ/fv35+bmCoVCo9GoUCh8fX1BOmIwGIsWLWpubj5//nxdXZ1QKNRqtc7Ozr6+vqORWul0enh4eHx8/LVr1xobG+FwNJvNc+fObWtrI1qAtVi1atXevXvz8/Mhfx14iTOZzNDQULJ0JBKJ4uPjT5w44eLikpSUdFe1LFTL7enpycvL27Bhg1wuxzCsu7ubw+EsXbp08uTJNiLrvHnz9u3bB+LctGnTbJwhIyMjly1bduLEiaysrPPnz4PMqVKpBgcHPTw87jXxLMhjbDYbIrEFAgGIPfDa8Pn89PT0RYsWwZ1MJnPixIlRUVEVFRU1NTVMJtPb23vJkiWTJ0+OiYnRaDQnT57ct2+fRCKB1KxDQ0NKpdLHxyc5OdlmRbq6ur7//ns+nz8wMNDR0REVFfXKK6/AgWUyma5fv15XVycWi0UiEYIgCoVCr9dPnjw5Li6OqoxH+/DDDx83DX80gJ4jPDwc/gvVb6KiomwU/KARl0qlQqGQyWQ6ODhMnjx5wYIF/v7+zs7OkZGRhCEFAhLCw8OJ3GhMJjMqKgqSFJMhkUiio6PJflZ+fn6gUSOuREREhIeH2/DTYrE4NDTU09MTtg/Yp9zc3ORyube3d1RUVGpqqkQiycnJgS9w5EAXCKN3cXHx9vaOi4ubPHkyWetDo9EcHR09PDwEAgGDweByuXK5fMaMGXPnzoWU3wAulxsQEBAeHm6TnutOPQoEAqlUGhQUlJKS4uPjQ9b2OTg4eHl5QTZqPp8fHBw8Z84cqOY2YcIELy8vYtOE7F6ETgjSnUdGRsLRDv/18vICzp7D4Xh7e0MeZxaLFR0dHRQUBCvr7Ozs4eEBdQNg9RcsWODr6yuTySIjIyFvDHjWgV+cXC6Xy+W+vr5BQUGQNl0ikYSFhbm7u8NK0Wi0CRMmuLi4QNUOoVAYHh4+Z86c5ORkcpp1KBsCcV/k+WGz2aGhoQEBASN7w3t5eYWFhfkOQ2BgoK+vr0gkCggIcHNzI7RZEyZMmD179pw5c4j15XA4bm5urq6uXC4X3urw8PDU1NT09HTI9gHJdqHyN4vFkkgkkZGRc+fOjY+PHyEeBrS//v7+jo6OfD6fw+F4eXklJSXBrNq42oOHANT/jo2NHZ5XisvlhoSEuLu7Q3A2kBQSEpKcnDxlyhTCJxPSIRL6uRHA4/FAR+vu7g55EQUCgb+/f1JS0rx586ZOnUrcyWQyZTKZh4eHXC738vICmxhILAKBIDg42N3d3dHRkcFgMJlMJyen0NDQGTNmTJkyBSano6OjuLhYIpEsXrzY09PTarWyWCxYhcWLFxOvMYvFcnZ2hrcUJnnSpElpaWlgdht5LBQoPBSw2Ww+ny+VSqOjo2NjY23SjQQHB0skEthJxGJxdHT0nDlzgoKCiCOMuBmOMA6HA1doNFp4ePiECRNgh6fRaDKZzNPTExLZC4XCqKioxYsXu7u7+/j4REdHw4fDZrP9/PzAc4nNZstksoSEhNmzZ7u4uPj4+EycOBEUDeDT4e7uTnye4E0Nfbm7u0dHRxO5uUHx5+LiYm9vz2QypVLp1KlT09PTY2JiyKePvb19cHCwv7+/DWvO4/EmTpxIDqMnQ6VS+fr6pqWlOTs7DzfdQP4VZ2dnoBPm2dfXFywSTCYTAkGnTp0aHh4Opz+bzfby8oKqg1wul81mOzk5RUVFzZgxgziPhEKhXC4Xi8UcDkcgEISFhaWlpYWEhLi5uUVGRjo7OxM7LbhR2JgXxGKxp6eno6MjJMfz9vZOSUl54okn2Gx2REREdHQ0DAQ288DAQGB+WCyWSCQKDg6eNm1aUFAQmbWwWq21tbXV1dVTp04l1429E+B8CQoKgoMSWg4PD09LS0tMTBxuerK3t4eTMTY2NjEx0WY4oL708fFxc3Pj8/kMBgPypsbGxk6fPt3X15dYZbFYPHHiRDc3t5HlNzBFent7e3t7g28Fh8OBDyQlJWXBggWQ1hW65vF4/v7+8Cp6e3v7+/uDwwWNRoMW4JBlMBh8Pl8ul0+ZMmX69OlyuZxOp2MYVlZWduPGjYULFz7xxBOQtcjZ2Xnq1KmLFi0i+EY6nS6RSNzc3GAV4J2ZNm1aenq6t7f3XWf7D49RBSBSGDvgOK7VavV6PbC8v5MUikR6GeKKWq3OysrasWPH0qVLX3rppQf/ciBGBUJuuFzuWMfHQ8YLtVoN+84DhsxiGKbRaMxmM5yLt101cF7XarV0Oh2y5D1Ij0Sb4IsMk/a4SrbBTEIO2dvSYLFYwKpGo9Hs7e2JjL0AyH8IN4B4PHovFIvFotfrTSYTi8UaniX/XoFhmEqlMpvNwE88+BqBTtpoNKIoCgt0H1+0xWKBeixwYpHHeOXKlU2bNrm6ur766qseHh5Q4fdOn4/ZbAb1LZyg4zwBEYXfIbRarU6nYzKZYKh5kKYMBoNOp4PgGXJ2MjIgyNNoNHI4HMgj+iA9EtBoNAaDAb6yx85TEqfqnTZns9ms0+lg0+PxeDZpOYkjBlJj32uBDWhfo9FgGDbC4QggkljQaDQejzc8hbRarX711VcHBgY++OCDe7LVwHEPbpMPftzDiwq+mqAVfUA+DXgDvV6PYRiswp3e2JEbAargrCGLdiaTaffu3du3b1+3bt2iRYtMJhNMBfjyDU82CKtAMBVUyQcAdV4+ZsAe9HtT6Go0mp9//jkoKEgmkzEYjMHBwatXr545c8bNzS0iIuKhHAAgpYy1UETujslkjrJe211Bo9HumvgLTEMP13kXVIaPPZPMXWmg0+kjzA+k/76/zGl0Ov2ulpzRA5R5D6s1IG80ps67NjKaJQZ76Qg3MBiM0RQoo0DhceEhHgFsNvuu2iJQ1jzEDQTwuzrBuVzuyAkhQA97p78++BHDYDBGualClbbbvgDd3d16vR7SZsTGxg53kxkZcNw/xIPy4fIqD4U3GD3rOPJUjLAK4xyUdEThNjCbzceOHcvOzgaVnsFg6O3ttbe3X7x4cWRk5OOmjgIFChQoUKDwx8SXX345MDDQ2toqFoszMzMfYhFbChRGCUo6onAb2Nvbv//++9XV1T09PQaDgcvlenh4QIjO70dJRoHCeINEIklMTBSJRJSqjwIFCn9UuLi48Pn8qKio+Pj4B09xMd4AuRznzp1LrmtE4V5BxR1RuD3AG9VkMkFRJhaLRal2fu8AACAASURBVDmkUqDweGEymXQ6HY1G43K5jz3CgQIFChTGAlC9CvyoKa7jXoHjOIQSPZpK8X9UUNIRBQoUKFCgQIECBQoUKNjZ2dlRQjkFChQoUKBAgQIFChQo2I25dGQwGNavXx8VFRUQEPDMM88UFRWNcLPZbN65c+fMmTN9fHwiIyNXr17d0NAA13/66Se3/x9vvPFGb28v+XGtVrtp06bVq1eP6YjGAlar1Wq1Pm4qHhEwDBs/5srxs7I4jlutVgzDHjchjwj3Wkf4vxoWi2X8fLNjhF27dn311Vcmk+lxE3JvgPzOj5uKR4RxdTaNn8HCKTxOBgsH8fjhOsZ0dxrDrAwYhq1bt+7XX39ds2aNVCo9fPjwu+++u379+ri4uOGZ3Q0Gw9tvv33p0qVnn302JCREo9G0tLRACnaAv79/ZmZmcHAw/NfFxcUmKyWO4yaTyWAwjN2IxggqlUqtVtvUiv2jorW11cnJaZykdlAoFFD57nETMubAcVylUmm1Wigs+IdHdXX1OIkVxnH81q1bAQEBVJjTg8BsNhuNxv86Fs1sNjc1NQUGBj5uQh4Fmpqa3NzcHm4Nht8txs9gNRqNTqdzcHB48KpHv3+YTKb+/n6BQDAeWCyr1VpXVxcSEjJG7Y+hdHT16tVz5869//77K1aswHE8PDz89ddf/+WXXyZPnmxTYgzH8SNHjhQWFn733XfR0dG3bU0gEEREREyZMmXsCKZAgQIFChQoUKBAgcJ4xhh61hUUFKAounDhQihcJRaL4+Pjm5qaWlpabO60WCxHjx4NDw+XSCS1tbVVVVXNzc1Q3JeAyWTq6elpamrq6OhQq9V/JNMhjUa7j4rU/6VgMpnjJwUNnU6n08dL0vxx9RqPB50rASrr0bgFgiDjQeMOYLFYw71a/qgYP4NFUZROp4+TwUIx3/HDYo3p2TSGrFt9fb1UKiXqUrNYLHd399zc3M7OTj8/P/KdPT09XV1dYrH422+/raur0+v1QqEwLS1t0aJFUAweRdH+/v79+/cfOnSIzWZHR0enpKR4enrasJ6Qx7C5uRn+C1WxEQSh0WiEly2DwSDc6MFXBIIlhv8GX1UURWk0mtlshjaJxxEEQVEUvDyBDybcPYEqcIhEURRFUfJvoIRMFYPBcHR0tFgs8PgIVCEIAk0hCEKn04Eq+E1QRaPRyJQQv8mPj4YqkGTMZvNd52o0VBFzJRaLmUwmMdh7nSugaizmisFgYBh2r3NFuL3aPA6U8Pl8uGd4s6OZq5FXEEEQ8mBHTxX8Jrq4E1UjLMFt54rBYDCZTAzDhlMFj5A/IngcBnsnqlAUJeaHGBR8j8Tjd6VqhLkamSoyJcOpcnV1NZvNj54qYq5sXow7zRWxgvDIfVBlsVikUqnFYqHRaBA2Ay8JebDkDYfogkajEY8wmcwxO2cojCHodLpMJnvcVDwiSKXS8aPMGj+D5XA446cYCZ1OF4lE42SwKIqOqSf/GH4eSqUSZBsAjUbj8Xhms1mr1drcOTQ0hGFYfn5+amrqW2+9heP48ePHN27cyOfzlyxZgqKoXC5fsGCBt7c3giDV1dV79uypr69/4403nJ2dySoBHMc7Ojp27doF/500adKkSZOYTCaXy9VqtcA9ODk5aTQak8mEIIi9vb3VatVoNAiCcLlcFEU1Gg2O4zwej0ajabVaDMNYLJa9vf3g4CAshlgshsfpdDqXyzWbzXq9HkEQoVBoMBgg6gkCopRKJfFlwuMsFovD4QAlDAaDx+PBb4PBwGazWSyW0WhEEITP5+M4DlRBzUcwowGrDXYzJpMpEomgWTqdLhQKCap4PJ7JZCKoMhqNEL4lEAhQFB0aGgKBm8PhwONsNpvNZhNU8fl8lUoF7JFUKoVmURTl8/nEXMFvWEcyVQwGw8HB4bZUcblciAobGhpyc3PDMGz4XMEkwG8ul8tkMjUajcVigaIHNlQZjUYURWF+1Gr1cKrodLpKpQKqhEIhUMVgMAQCAXmuDAYDTDusrNFoHD5XNlTBXNFoNKFQqFQqgUeE94qgCijRarUCgYDFYul0OhDX6XT60NAQVHIgVtCGKi6XazQagRKxWKzT6WCuyFRxOBwGg6FSqezs7Hg8HoPBgLkCqqALBEEkEgmZKuK94vP5GIbdlipirlgsFo/HA6poNBqfz4f6V1CTlJgre3t7Go02MDAAxIvFYoIqWEGz2YyiqIODw3CqYE/AMAxWTSAQwAcFvxkMBvEuEd8gm80GquDxkaki5opGo8FHBFSp1WqLxYIgiKOjo82nTVBlsVhgfmyoYjKZg4ODCoVCJpMRc2VDlb29vc2GQ3zaKIoS7xKCIDBwHo/HYrFUKhWIKBKJ5E5UEXMFnzbxYhCbDHzC8JvL5bLZbOIThu/xtlQRc0Wmyt7ensFgKJVKhUIhFotlMhmxHCKRiLwEZrMZ5srBwUGr1cJyCAQC2GRQFB0PoXd/SFgslp6eHk9Pz8dNyKOAQqFwcnIaJ7ay3t5eiUQyHgYLRzyfzx8POhqLxaJSqbhcLpfLfdy0jDmsVmtXV5dcLh+j9sdQOkIQhOz/huM46BSHmzjhT3w+/6233pLJZDiOe3l5lZeXnzhxYvHixSiKxsfHx8fHg0BsMBjEYvH+/fvnzZvn6OhI1n+AwBMREQH/dXd3Z7PZdDqdRqMxmUxQhSIIAs5doPVEUZTNZoM2FH4Djwj1T4G3RhAE7HfwFDwOmlEgHppiMpkIguA4DtehWbBywuMMBoNGo7FYLBqNBl0AVRCwC2YuoATHcYIqYO8IqthsttVqhevQLIyLTBWDwSCsEODsBFTBQMiDJVzdgBLywGGZ4K/QMjFX8Ps+qCISyMCsDp8rGo0GjxOUwPJBFxiGEVTB6MhzNZwqFotFHjg0a0MVNEV+MeARYrA2VBHvErwMMPA7UQUCNoPBsJmr0VNFrCBhIrgTVTBXsFjQxQhzBXeOTBW8ujZUwaiBWuJ1JeYBxDPyCtrM1XCqiEER1i2b19VsNpvNZmDxiZw8BoPBYrHAhmA2m0GoUKlUcB0yWKIoSjxCtnuAlA6rplKpiOvE44ThCP6k1WotFgsIFRqNhk6nm0wmEF/VajXRBYZhRqMRhC4EQYxGIwjzKpVKr9cTpjkggNivhlMFj9yWKjAcwZ9AGCaoMhqNcB1MN0QXoHyBD0etVt+JKmKuyFRptVoajQYjNZlMSqUSrsMBfFuq9Ho9rDuxmuNHa/uHBLhjPG4qHhGID3A8QK/Xj5PBwu70X5cQ5f4Am//48YUGrdwYYQylI0dHx9bWVoIfwjBMpVKxWCyyQQkgFArpdLqnpydYEkDICQwMrK6uBo8dskDFZrPj4uKOHTvW2Ng4efJkG+lIKpVmZGQMJ4acwQMMDgTI6hOydoH8m5wfz+ZxIgKBTqeToxHIj5B/kwkGxpdGo+l0OhtZn0wV+Tc5tONOVAE7Pvz3CFSRmyWcIUeeK/IXOBqqYD71er0NSaOkiryCI8zVvVJFvsem2TtRRaaEPFfDqcIwDFh/MlXk93/kuborVeTbyFSRuxjlXI2GqpHnisFgGAwGJpP5gFSR3w0ej6dQKEB9AJuAyWQi+HjC/AVQq9XEbzJLR06jTM5pieM48Qj5N4Zh5MfJXRDXHRwcMAwjYiPJVOE4TjaPgyVtOFVg4xpOFXkgNlSRKbGhimjZYrEQfpWEBfL+qILrOI6TDbxAyZ2oGhwc5PP5Dg4OhKBrk1mUwn8XwKvicVPxiMDhcMaPJD9+BktoGx83IY8CECg4fvKL2jCoDxdjKB0FBwefP3++q6vL1dUVztqmpiaRSDQ8dbWTk5NEIjEYDIR8D45JdwocBA2ojdT034txlagA3HUeNxWPCOCn9LipeBQAa9JD35SHhoY0Go1UKv29fexWq3WcfLNg2Aer18h3Wq1WnU43NDQkFArHz/H8xwaNRhOJRI+bikcEgUAwTkJxCJX046biUQAOpnGyI9FoNC6XO05WFjz2x679MZzE5OTkbdu27dq1669//SuKovX19SUlJZMmTXJxcbFarU1NTf39/X5+fmKxmMPhJCcn79mz5+rVq8nJyRiGVVZWVldXJycn0+l0rVY7ODgoEolAD93d3X3u3Dmr1erv7//H4LPB+2WcqOjAXWecfL0GgwEc/B43IWMOHMfhNX64ydyUSiWEjT3ENh8KjEbjeFhWgMlkGqV0CtFT48SJZTzAarWq1WqyhfwPDI1GM3707hqNZiz0Wb9DmM1mCJ0dD4MFt3M2m/3H4I1HBlRZHO6M9rAwhkxqQEDAypUr9+/fPzg4KBAIKisrhULhokWLICNTXl5eUVHRK6+8IhaL7ezsFi5cWF5e/uWXX168eNHOzq60tFQmkz3zzDN2dnaQra6zsxNyMLS0tNy6dWvhwoX+/v5/DPUtxDQ7Ojo+bkIeBbRa7TiRA0E6Gg87MgCko4fbJpiIH26bDwUQvTNOMPpVgGixsaeIwiMCSEePm4pHBK1WO34MZRqN5neodRoLWCyWh662+93CarVC8MLjJuRRAKSjsWt/DKUjJpP53P9h780Do6rO/vFz99lnMpmZ7IGEJISwhx00IouKImoVCtW27gtaW/v2tWpfu/h1K9VWff1a5UWtC22t1fdbEcWqaEVAUAGRPYSQfZlMMvt2t98fz6+3tzNJiDB3JsyZz183k3vP/TznnHvOec55lu9/v7y8fP/+/dFodN68eQ0NDZDXFqJFlZeXK122tLT0P//zP//xj39APO4LLrhg/vz5EyZMQAjZbLb6+noItyVJUkVFxaWXXjp79myr1ZodMzF4zGeaRZqAT+YBJY5CplmkCRAYI9Ms0gR8+jBuwuaQAExWWrjNTfgIi9XEhNsWlaajk7aL8vz8/BUrVpxzzjmSJBmNRovFAs1GUdTChQvnzp2rbNUQBFFTU1NcXAy6IKQqgn+ZzeaGhob6+vpYLAZBt8A+OGt6AATezTSLNMHlcuGjCuKzEwnR57Nsfy4SiRw6dKizszP5X5dccsnwz0qS9NBDDy1YsKChoWGoDs/z/F//+texY8fOmzfvDKmKovj+++9fdNFFZ1jOoMAhEm4Og4KmaXAbxgGFhYX4dHV8hIX1FSYKEmRVwURYkiRLS0u1K1/zdSrLsoWFhQk/EgQx6MLRZDKpg1wpN3Mcl8VW/pCSyOFwZJpIOgBZsDD5eiGuNA6br7IsQ4Q0MJTNDgiC0NnZeeTIEYTQl19+SRDEpEmTYElxwQUXDD8iEQRRXFys7AcNdU9+fn7yiHcaiMfj69ev10g7gsChWpScwyiHJEn9/f2YKEgDAwP5+fmY6Axerxcys2eaiOaAhARGoxEHOw5IiAcJLTPNRXPIsuzxeLRTkHDZxR/N0MJhY9QiOXZ5FgPSsGaaRZqgpEzNGhiNxsWLFzc0NCCEfvzjH5Mkec0118C2zkj8jlavXg05o4a6gaKohoaGVO0U9Pf3p6ScZIxa768ctAZkAM80izQhHA7jc9ofCoXw8TuKxWI4aAtKVAZMhmt1xgstkNOORgXwifKEj6S4CZt9IElS0eQhySmY+1511VUPP/zwM888QxDEb37zm5MnTz733HOtra0Gg2Hx4sXf+ta3IKX1D3/4w4svvvjSSy8VBOGqq6565plnHn300ZMnT06dOvXaa6+tra3lef65556rra298MILOzs7H3300UWLFr333nvHjx+vqal55JFHLBaLLMtdXV0vvvjizp07CwsL58yZc/z48aVLly5ZsuSU/CVJ2rlz58aNG5ubmwsKCq677rrZs2fr9fpYLPbrX/96586dkiSNGTPm6quvbmhoOHHixIYNG7766iuCIMaNG3fDDTcoabVzwBn4DGL4SJoTNouREzZVyGlH/8Lx4+j991FVFTrnHJTOjQaDwZDFdoMJKCgowOE0H2Cz2bLGO254gN+Rpt1YlpEgIJ5PcbF6PfqmTeT1ep944om77rrL5XLp9fq8vLyrr766sLCws7PzjTfe+Oyzz5YvX05RVCgU4v9J1+12P/LII9deey3DMP/7v//7t7/9rba2Fk4XIXmrJEler/d///d/b7nllry8vAceeOCnP/3p73//+2Aw+M477zQ3N//sZz+TZfntt9/eu3fvwoULR8Jzx44dGzZsmDZt2u233/75558/+eST999//7Rp0x577LHGxsZ169aZTKaOjg4IYPXJJ59EIpFHHnmE47jGxkb1AS8+H2wOCaBpuqSkJNMs0gR8XHEQQkVFRZgIq9frWZbFxNuZpmm73Z5mYeNi/MMTHzb2N4pSWkO5yrIsxATkRHXOOi3Kx6LHjBCffYZ++Uu0fDkaPx6Vl6fvvbIs4xMgGCsfBkmSMNGOQFhJkrQrPxBAzz2H7r47xcX29aFvGktfluWf//zn48ePhz8rKysrKiqi0ajL5fr666/37Nkzffr08n8fQViW/c53vjN37lxw5Pjggw8CgUCCMkmS5D333DN+/HiCINatW3fjjTfKstzZ2fnWW29df/318+bNk2W5vb19z549IyEpimJzc3Ntbe21115rs9lqa2t37Njx3nvvjRkz5uuvv548efLkyZMRQhUVFZBErqOjo7CwEM6LQHNTy/vNKiiHbIEsy6C94wBRFPHp6oIgYCKsLMuaTkyjDaIoptOvW5Kl/9713+t2rOsN9abtpQrydHkFeQU57UhzFBSgkhLU2orc7rRqR5FIJBAIpMQ5e/TD4/E4nU5MFCS/309RFA4Wz7IsRyKRUChkNBo1egVBII5DKTeVPw3tlabpsrIyuOZ5fvfu3c8991xbW5ssy/F4vLq6OhQKJT8yf/58OGQjSTIajSZrR5CvENRpm80Gaxee561W6+zZs+HZqqqqsWPHjoSkLMuyLOfn54MrBUVRxcXFhw8fDgaDP/3pT++7776bbrpp6tSps2fPnjp1qtPpXLBgwe9+97vbb7+9vr5+wYIF48aNUz5SnucxCaOSQwJEUezp6cHEG8ftduNzyICPsNFoNBwOYxLJTRAECHyVniWWIAmvHXjtuS+fC/PhqyZcVWhKDMCmKWRZjoVitY7aEdx7Osj+b2PkcLlQURFqbUU+X7pfjc8JAz5RCqBZ8WlZrbuxyYTWrkU33ZTiYk8jlr4ipizLTU1NGzZsmDlz5hNPPGG1Wl9++eVdu3YNuimrXoiA6jJUsco98KMkSbFYDH7hef4b7eXDgR5JknBADVEipk+f/qc//Wn37t179ux54IEHLrjggjvvvPO8886rra39/PPPd+zY8c4779x+++2LFi36hhWTQxYCnxEbq7Ean2bFrWXTJiwv8ltPbn1q91Odgc57z7n3tlm32fVpjVgrimJjY2NtaU470h52O3I40BdfIJ8PyfLpbCqfHvBxOoLsVZgcHIFHGT7jMsdxmgpLEIim0SjZ61RUnVAoFIvFJk2aZDQa/X5/W1tb8sHRmQAyoX3yySeFhYWyLB8+fLitrW2om9WhLwmCYFm2qamppaWluLg4GAy2t7fPnDnTbDb39vYaDIbzzz9/wYIFTqdz27ZtPM8Hg0GLxbJs2bJzzz33qaeeUkuBwwZzDoOCJElMDo4QQlarFZ+ujo+wLMvikxCWoiij0ZiGJZYgCXu79z752ZOH3Ieum37dd6d+N82qEcxxeXl52pWPxecxQthsKD8fDQyg/n4kSShtXxPDMPisofV6PSaDMlZ6L0EQw0evzjLAXEsQhMPhKCkp+fvf/x6LxXp7e9va2lLY6ARBFBYWrlix4uOPPzYajTRNnzhxAib75Jt5nt+yZYvyZ3l5OZwF/fnPf546dWpjYyPHcYsWLTKbzc8//3xRUVFBQUEwGNyzZ8+ECRPAFYplWZvN1tvb6/V61dF+8WnWHBJAkqR2trKjDZikxAEYDAZMhIVwo5gIS5Ikx3FaL7FESWz0ND69++lPWz+9uPriW2fcWm5Noy/KP0EQhKYOKbisU0cCoxG5XIiiUHs7CgRQ2rbMgsFgIBBQPBmyG93d3U6nExMnq/7+foqinE5npoloDlmWg8FgKBTK1ghXU6dOJUkSNJOGhoZYLAZR3UpLS2+44Ya//e1vn3766bhx4xYuXBgKhSDw98yZM0tKSsDR6JxzzlGKcjqdkydP1ul0BEFUV1cXFBTArsH06dOVlajip2QwGJYsWSIIwr59+2w2W0lJSV9fX/LWIEmSc+fO3bZtG/xJEMSsWbNWrVrFMMwHH3ywbds2u92+du3ayspKgiBqamoOHDiwb98+hmEWLFiwYsUKWZYdDseXX34ZCAT0ev0FF1ygDucdj8d1p2GAmMPZD0EQ2tralAAk2Y2Ojo6SkhIc3ESxEjYcDoPfEQ6blTzPezwei8Wi3RJLkqWOQMf6Pes3Hds0t3TuD2b/YIJzgkbvOgUTSWppaamr0yQkQ047+jeQJCouRk4nOnECDQykTzvKIYccRjnWrl2rXP/6178Oh8NwTVFUbW1tQpA3wH/8x3/ABU3TDz74IFwTBDFlypQpU6bAn1dccQVc5Ofn33777cqzer3+V7/6lXK9aNGiyy+/PBKJvP766xaLJTk7OMdxjz/+eDKHiRMnTpw4MeHH5cuXL1++POHHCy+88MILLxxBTeSQQw455IAjZFn2hD0v7Xvp1a9erbHX3Dnnzjmlc0giO8/lctrRv6GkBBUUpDswA8uymJylgN8RPpZ1er0ekwN93LLipK0Py7Lc09OzadMmvV4fCoW6u7sbGhpGGLYuVcDEZD+HZGDld2SxWPDp6vgIyzAMPhMxZDDXbnoKxoOvH3x9/ZfrnUbnHbPvWFyxmCEz5kae8ztKK1wu5HCg5mYUCKTvpfhoCxj6HWHiUUYQBE3TmAibTlccSLNbUlLi8/nsdnt9ff3kyZPTbCKCycIih2TAYivTLNIEg8GAicKAlbAwMWEyiIHfkUYtGxWi7zS+8+SuJwmSuHXmrSvGr9AzmbTMhMlRu/JxWaeOEA4HstvRzp0oGExf2DqIx4/JJOT1evPy8jBRkILBIEVROJg7y7IcjUaj0SgOhuzgj5GePkwQhMvluvLKK9PwrqEgCAImC6kcEiCKosfjAT+6rEd/f7/L5cKkqw8MDNA0jYOwsVgsGo1iclYmimIwGNQibJ0oiTvadqzbvq4/2n/bzNvWTFpj1aU6+eA3hCRJfX19FotFo/Kx0KdHjrw8ZLejUAj19KB4PE0vlSSJ5/k0vSzTiMfj+CSuFgQBn0zzWHVjfPqwknkpBwwhyzLk2sIB8Xgcn64ei8UwEVaSJEEQMBEWcuJpMT0ddh/+1ce/auxvvGrCVTfV3+Q0jopYU+okFilHTjv6N3AcKipCBgM6cQIFg2l6KcMwmBwcIYRMJhMmB0eQrAaHgyMAmHdnmkWagMM2pAKshM1BDZIktduaHW0wmUz4dHWz2YyJsDRN63Q6fCzrtHBe6A31/vSDn37e+fmSyiU/nvfjMuuoCLBMEIQ680TKgcs6dYQgCFRejhwO1NiIAgGUn5+Ol2pnJzoKYTKZsMoGm2kKaQJBEGlIszB6gI+kOe0IZ5Akqen6Y1TBarXi09UxsTSDcEGY2BDCWJ3yqAxhPvyDd37wYfOH9UX1v1r4qyp7VQoLPxMQBKFpzBgs9OlvhNJSlJ+PWlpQSlPeD4dwOOz1etP0skzD4/HgY6rh9/uDaTuCzChkWcaqG+NjQ4ibsDmoIYpiT09PplmkCW63G5+ujo+w0WjU7/djYuIuCILP50vhEkuUxLvfv/tvR/9WZCp64sInJjonjp7YS5IkdXd3a1d+TjtKREEBslpRZyf6Z0YTzYGVw4ZGRrGjE4IgiKKYaRZpAph3Z5pFmoBPH875HeEMWZbjaXPAzTSw8jvCR1jc/I4EQUjh9PTo9kdf2f8KSZAvXPbCjOIZo81AUdOt9tEl6miAy4WsVtTVhUIhlJ4PCp9wk3DyO3r2HrQGSZL4tGz2deOWlpZNmzadOHFC/aMoin/4wx8OHjw46COffvrpHXfcsWvXLoTQww8/fN9990UikeR7brnlli+//HKENCRJ+uijjx599NHTleNf6O3tffPNN7/peSY+H2wOycDEJAkrSbESNvsmpuFBkmSqRuyX97381K6ngvHgK1e80jCmgSJHXZ/R1MQdo04zQkDYOlFEJ0+i9JiAWa3WkpKSdLxpFKC8vFzTEPWjCi6XKz89vmuZBvgnFBUVZZpIKmEwGHbv3n3gwAH1VtzAwMAzzzxTVTW47bUoiuFwGA4M582b19DQkDx8C4IQCoWGP1T8y1/+snz5crgmCKK8vHzu3LlnLlFPT8/GjRsD3zCbm06nyylIeIJl2aG6evahoqICn7gy+AhrNptdLhcm4ZE4jissLEzJEuvDEx/+4h+/6A31rlu67sq6K0ehakRRVE1NjXblY+RbPEKQJBo7Ftls6MgRFAohnU7zNwYCgUgk4nK5NH/TKEBXV5fNZsNkXO7v78ck2bwkSeFwOBKJOJ2jItBnSpCXl2ez2bZt2zZlypSxY8eC3cLzzz+fn5+v1+sjkYgoirIskyTJsmxyrBHQZ0A7kiQpGo2KokhRlGJ/CFYQYGsqyzJN0xzHkSQpCEI0GpVlORAIkCSp0+nKy8uVDRRJkuLxOBQCj4DqEggEWJYFM5KhKA0KWZZFUYzFYpIkwYOQP1GSpFgsBgw5jtPr9QRBQGIrURQJgqAoimVZfDahMQTP811dXeXl5Zkmkg60t7c7HA5dGqb8UYCOjg6Hw4GDzhAKhaLRqNlsZlk201w0Rzwe9/v9RqPxTJZYkix91f3VPR/c0+HvuGPWHWtnrk0px5RBFMW2tjaYmrVATjsaBBUVyGZDR4+iJKMYTQBLk3S8aRQAllaZZpEmxONxfNaOgiBo66Lw/9u5ptralSAQGvxghKbp+vr6P/zhD+3t7WPGjCEIIhqNbtmy5eabbw4EAk8//fSxgxuk9wAAIABJREFUY8fC4XBBQcHFF1+8bNmyhKXGI488EggEHn74YZ1O19zc/Nhjj3V1dZWWlirHibIsf/zxx5s2bers7JQkqaqq6uabb66srNy7d++LL74YCoVWr15dXFx87733NjU1bd++/Ze//KUsyydOnHj99df37NkjSVJtbe0tt9xSWlpKkuQFF1zw7W9/u7+//+DBgxaL5YorrrjkkktO2f0goc2OHTv++Mc/ejweq9V6ySWXXHTRRSaT6dixYxs3bjx48KAsy06n86GHHsrPzz927NiTTz7Z1dVF03Rtbe3KlSunTp2ausbIYXRBluVk09BsBWxJZJpFmhCJRDBxnhRFked5TFoWHAXPRMOXZKmpv+m/tv7XQffBFeNX3N9wv44evfsFYS3DA+S0o0FQXo6sVtTairTMNPUvkCSJT4Bg2JbONIs0gaIofLQjkiS1FVaWULQHhVpTXGz+DEQOecYye/bsDz74oKOjIxqN6vX6Q4cO0TS9cuXKQCAwb968G2+8kSTJHTt2bN26NS8v77zzzhu0EEEQ7rvvvqqqqnvvvbe/v//FF19U/uV0Or/3ve+VlJQEg8GNGzeuX7/+3nvvnT59+rXXXvuXv/zlj3/8I5wdNTU1wf2BQOCPf/xjLBb71a9+xbLs008/vW7dunXr1hkMBkEQvvjii7Vr1956661btmzZunVrfX19aWnpKSugqanpqaeeuvLKKxctWvTll1++8cYbNE2vWLHi+eeft9vtv/71rw0GQ3d3N0VR0Wj0N7/5jcvluv/++0mS7O7uNpvNp1XpOZw1wCcBA1ZzE8MwmAir+cQ0ynAm3ViW5VZf68OfPrytddvc0rkPLnrQYXSM5n6i6XkgLovyb4SiImQyoSNHUDSKZBlp3Td0Oh0+2pHdbsfhNB9gNptH88iSQhAEodPptF1IiSF0ciPad3eKi72yD3FD+obp9fri4uKPPvpoxowZFRUVL730UnV1NU3TRqOxrq7O7XYHg0GWZTmOO3DgwFDaUSAQ6Ovr27Bhg9lsLi0tXb58+UsvvQSVVllZ2dXV1dLSEo1GJ02atHHjxmg0mpeXB2ZskGpGvcW7f//+lpaWb3/723V1dQihH/3oR3fccQccxpIkWVVVNX/+fIRQXV3dJ598cuDAgVNqR/F4/MSJE0VFRddccw1BEAUFBe3t7W63OxaLmUym/Pz8WCym1+vr6ur0en04HCZJ0mw2B4NBq9VaW1uLiRkStqBpOptsZYdHfn4+PqogPsJCIj5Mllg0TZvN5tNu2a5g12M7Htt0dNN4x/j/c/7/qbJXkcTojU1AkqSmDilY9JhvCpcLWSyovx/19yNJQlrvO4iiGI/HMckcGovF8BmqeJ4nSRIHbRB8V+LxuIYeZQSNTONQ8fIUFzv0wRGMv+eff/6+ffvcbrfZbD5x4sTPf/5zCG/w9NNPRyIRmqZFUezu7h4zZsxQhQSDQYZh4JiFIAil8wuC8PHHH//jH//geZ6maUEQThlNrru7m+d5xem2sLBQUb8piqqtrYVrUNhGYnXA83xjY6MSSRJOO3t7ewOBwNKlSzdt2nTy5Em73V5eXr548WKbzXbzzTdv3LjxlVdecTgc48aNmzVrVkFBwSnfksNZCvCXw+SEMBaL6XQ6TM4ZYrEYJmnowbIOkyWHLMuw6jgNefvCfRv2bHjj0BsFxoL/Ove/ZhTPoMlRXWngBGuxWDQqf1QLnykYjaioCFEUOnIEzZqFtI4gEIvFAoEADr77CCGfzwdLt0wTSQdCoRBFUZjE6IvFYqFQCI47NAGlR6WXoZJLUl3sKY7mq6qq8vPzv/zyy0OHDsEpCkJo9+7dx48ff+qppwoKCtxut9pYLhksy4LqCGYAylmQx+PZvXv3xIkTL7vsMpvNdvTo0V/+8pfwr6GOHE0mE0VRin9XMBhU29MnrHVGYmpPUZTdbm9qapJlGSIxSJJkNBo5jps/f35tbW1zc/OhQ4f+8Ic/uN3u22+/fcaMGZWVlUePHt2/f/+mTZuCweDq1atP+ZaMQBCEpqampqamaDRqtVqnTp2an58/aMVKktTR0XH06FEYncaMGVNTU6OEu2hpaWlra+vv7wflv7y8vLq6Wn1oFgqFDh8+3NHRIUmSy+WaNWtW1vh/S5LU39+PyfGR1+s1Go2YnKgMDAwYDAYchI3H4+FwGILNZJqL5hBFMRgMnsaerDfq/cvBv7z01UtmznzXvLvOrzh/NLsbAWRZ7uvr0+74KPu7y2mAIFBVFbJY0MGDKB7XXDuC6E/avmPUACvbboqi8Mm0oLl5N0EggkIo3V8KwzD19fWbNm3q7u6++OKLYT0RDAYpimIYJhgM7tu3b//+/eeee+5QJVitVo7jtmzZ0tDQEAqFlFxJEHqOZVmSJHt6et577z2v1wv/ys/Ph3kO/qsUVVtb63A4jhw5MnHiRIqiNm/enJeX9436mCzLPp9PvbifOHHi+++/v3fv3qqqqtbW1paWlunTp8NBGcdxtbW1RUVF77777u7du2+++ea9e/eOHTt26tSpNpvtxIkTPT09p1OnacGuXbtefvnlQCCg0+k8Hs/06dN/8pOfmEym5DuPHDny0ksvNTc3GwwGURRZll29enVDQwOsMJ588sne3l4YuGKxGMMwV1111UUXXQQ9gef5t99++6233oKPva+v77LLLrv++uuzZkjHYQENwGH1rACfiRi3fEenkVIyFA/9venv679cz4v8nfPuvGz8ZRZOqwOZ1ELT0Unz4SAUCjU1NcXjcZfLBbGVhrmZ5/nm5mav18txnNPpLCgoUOYYQRDcbjc4B5eXl1ssFk17/LhxyGRCjY0oDYnCsfI7stlsWbOxekqYTCZ8ZqBs7cYEQZx33nmbN28OBoPLli2D4XjOnDnbtm3bsGGDxWIRRXH4RE86nW7NmjVvv/32sWPHOI5rbm6G351OZ21t7VdffdXd3c1xnE6nUzb86urqrFbrhg0b7Hb7RRddpBRVVla2ePHi7du3v/jiiyRJtrS0rFq16ht9UJIkvfrqq8p5pt1u/9a3vlVfX//nP/+5sLCwv7/fYrFMmTKFIIjPP/+8tbWVYRg4M7nmmmsEQXj33XdNJhNN036/n2XZmTNnnlalao729vaNGzfyPH/99deXlJTs3bv3kUceKSsru+GGGxLu9Hq9mzZtOnLkyJo1a6ZOner3+zds2PDss89Onjy5oKCAIAiWZVesWFFVVWUymbq6ul5//fUXXnihpKSkvr4eIbRz584NGzbMnTv38ssv5zju7bffXrdu3Zw5c6ZMmZIh0VMJiqIwydgG3wI+qqDdbs/K4ToZOb+j4REX4zvbdz69++nuYPeN9TeunLjSaTw7zooJgtD0WFvbHnPixIkXXnihra0NOuiSJUsuueSSoY782traXnvttUOHDkHTms3mW2+9FVLRRSKRHTt2bN682efzybJcUlKyevXq8ePHa9fjy8uR0YhOnkQ8r9Eb/gVIe6L5a0YHBEHAJJAoCIvPrpUoitnajR0Ox3e/+92BgYGysjJo0PLy8htuuKG9vR0MsSiKgtAI48aNW7NmDWRgWLZsWTweh9hQV155ZVFRUV9fn9VqnT179sDAQHl5uU6nW7JkSVFRkd/vt1qtU6ZMqaioACtql8t1yy239Pb2gvXL+PHjwfeDoqhzzz3X4XC0tLTIsnzuuedOnz4dBswf/vCHSnDt0tLSVatWJbtCFRUVXX/99WrvJovFkp+f/93vfnfv3r0+n6+2traurq68vJwgiEmTJhmNxlAoBC+aO3euKIpLly51u93RaHTMmDFVVVXjx49Pb1OMFNu3b9+9e/ePfvSjhQsX0jQ9fvz4P/3pT88+++x1112X8Ek2NTXt3LlzxowZK1asAOdPkiR/8IMfHD161Ol0UhR11113Kb5VVVVVoVDo7rvv3r59O2hHW7duDQaDl112WX19PUEQY8aMee6555555pnf//73WbAzAm4MmWaRJuAT9xkrYSEFHCZ6LywmR74wFiXx656vn/jsiYPugyvrVl477doi09mU0l3TJCIaakeRSOTxxx8/cODA2rVrDQbDrl27nn/+ebPZvHTp0uSb+/v7f/vb33Z3d1966aX5+fk8zwcCATg4kmX566+/fv755/Py8i655JJIJPLmm2/+z//8zz333FNYWKgR+ZISZDCgQ4fSEbYuGo1CDCgN3zFq4PP5GIbBxO8oHA5j4ncEaXNCoZB2LpIZBEVRS5YsSfhx3rx5yXeWlpYqYeLUN+h0ukWLFg1/P0JIOSaCaBDK73l5eUpGTqPROHPmzORDm29/+9vKtcvlWrx4cfLrHA7HihUrkn93uVwXXnhhwo8TJ06cOHEijOQ6nQ7iSUBMvNGPzs5OSNMEkwhJkgsWLHj22WdFUUzQjrxeb3d3t16vV6wNJ06caDQaP/jggzlz5lAUpQ47AVbQaqdnv98/depUl8sFupDZbC4uLt6+fbsoilmwXS1J0sDAgMPhyDSRdMDr9WLiioOVsPF4PBKJ4ON3FAqFIKn3KW+WZbnZ2/z4zsc/bf10aeXS22bdVplXeRbt6ciy3N/ff1b6HX3xxRdbt269//77r7zySpIkx40b19jY+M4775x77rnJcWA3bdq0Z8+eRx99dNasWTRNq7esAoHAZ599Fg6Hb7755nPOOQf8hjds2HDo0CGHw6FRj3c4kM2GIhHU0oLGjNE8bB0muzhYSQrCYiVvDjmMEsiyXFxcbLfblcm+vr4eZpaEOwsKCioqKvx+fzAYBN3+o48+8nq9e/bsSc5b3dnZuWXLltra2oULF8LCi+f5mpoa9aZATU3Nzp07k7Wjw4cPv/766/BjfX290+mEoO0+nw/0N5PJFI1G4/E42KmCXgph5SVJisfjsiyD+aXyiNFoDAQCYH+v0+mi0SjP8wRBGAyGWCwGZ7lmszkWi0GxYMQBh4cMw9A0Da/gOI5hmEgkAiIrrARBEAQhHA4rrCBOFEIIUmzB3q1Op9PpdOA1R1GUTqcLh8OyLLMsy7JsLBYblFU8Hoc06GCUC6zA0S4Wi8myzHEcy7KhUAjMDWw2GxiPkCRpMBji8Tiw0uv1SkZ18ByDuuI4Tq/XK6z0ej0chML2nMLKaDRGo1EQU5ZlRVgI6RYKhaB+wOtsUFZ+v1+SpFOyUoRVWjC5roAJQRAmkykcDkNzKHV1SlZKmBar1er3+2VZhlfwPK+wglaDto5EIsAKLHvVrCBdLMuyDMNAqyWwMplMPM8rrEiShCCZ0HWTWREEAckAJEkailVCXXEcx3Gc3+8HmzGO4xRW6roym82hUGgoVoFAALLVwRYeVDXHcYOy4jiO53kI+6bX64Eh7EkJgqC0IMMwynfHsiywgmulrtSslMcTPu2EulKEhU8b+hhN0yzLAiv4iNSsRFGE7xGq2ufzBYNBeCQajSqsotGoKIoEQVgslkAgIEkSQRAhFHrisyc2H9s8xTFlbf3aKnOV3+dPYMWyrE6nU7OCDpDMCgbDZFbgnQufNk3TCitoTYVVMBiEaxhYlLpSBpyEFoQBJxKJBAIBg8GQzAq+R+gkwEqSJPVwB87Dw2Qi0VA72r59O0EQy5cvh/mguLi4vr5+586dbW1t1dXV6jtjsdjmzZtra2vHjh374YcfRqPRcePG1dXVwSafx+M5fPgwuAJDUXPnzn311Ve/+OKL2bNnD+ple+ZgGFRZiT79FH39NVqwQFvtCJMtHIDD4cDk4AimqLNoJ+ZMAIMaPt0YH9+5s9cvX6/Xq5sJPsZk7WjcuHHz58/fuHGjwWBYsGCBx+N56aWXPB4PTMbqOwOBwNtvv71v377vfe97MIVBXA2j0ahWhPLy8gbl4/F4jh49CndWVFSYzWaSJCG3Paz4lSUUSZIMw8BSQIl5CMsCaAv4HRZwcA23qVcVyhLKZDIpv9M0DboHfLMEQcDbKYqiaRrEAd0SfgftUWHFsqwkScrKFVa0CaxgFQtsCYJgGOYbsYLgLvA4aLPxeFxRU+F3UHVgEQyslJUrsFIeT2AVj8dhXcgwjPK4srAzm82welNYKY+Dp7tSLCiralbKil9dV+r1tLqulJaFlSuwggNJqB+lY0BzqOsKzkIVVoomqbQg6GzwuHptDayU+jGbzRRFKQyhqhNYwWpVYQWaJCw91St+YK48rtQbsALlCjqDyWSCYoGV8rjCCupK0Y4oigJ9AyQCH0g4/gVhYWkOxYJOAnZ0SgvCe2EcgCaAqoZiFVY8z4P1ndJdgRXUGwwm6rqCLqpkaFA6QwIrRXlQHodPW2lB6AzASi2s0i1FUYRGHKqulGvoAKIogk4IewRKCyr1AwcPgiCE+NCLR17849d/LLeU3znjzukF05H8L1YwuEFdKS2rsAL/CDUrdf0o+wLQXZW6IkkSBhxgBa2pZqVkQIHHk4dBRTsC1YDneZvNBm6xUBR8nkpvV+u3Op1OGbsUVtAPh5pBNNSOjh8/7nK5lFQJHMeVlJQEAoHOzs4E7ai7u7unp8dkMt1yyy1QccFg8Lzzzrvnnnv0en0gEHC73dOmTVNsz4qKinQ63YkTJxJMoiHpCmyrKB/56ZEnCFRbiwwGtH8/StpATDFkWcbHFQer4xQYXDLNIk3AqmXxkfTsBZzDKH/CsUPybXq9fuXKlbIsb9my5d1333U6nd/61rfcbrfD8W9J4kOh0LvvvvunP/3pwgsvvOKKK2AJCHuQ4XBY7XEHG/DJmD59+k033QRTktlshguCIECbgshaRqMREgHDuAH3UBQFp0awwgCXesXMD65JkoTTJ4PBAI+bzWaQF4x7IREZrK2VR2CNojxutVrhEYWVJEmhUEjNCjZulZUrFJvAiiRJeHx4VgaDQRGKIAg1K3gFPG6z2ZSGs9vtsKKlKEpdLOwlK6wGrStgBUsr2No3Go1QlMVigViOyU2gsILmHpQVFKusBZXH1azgcC9B2EFZKUUpzTFMXQEreFwpSmlBKAp0CaWuGIbR6/V+vx+WhkOxAgHVrIAJ1BVoAsBq0LqCXX+FFVSUUqzCSqkrYKXUlbqqh2KlMFF3XWgCYAWwWq2CIEAmq6FYweMKE6WuQEZF91DqSmEFTIZipVwrjyt1Bd+d8mkrrNSftrqu1KyGqau8vDzIZAWHfgorRUC4jovx//fV/3vmy2esOuu959578fiL9Yxe/Wkn9Cs1q6HqCr5HRVjlE074tIdiBXWlFAvnogkDDpywKY/b7Xav12u1WpNZKZ+2uusq1a48Pnw8Qw21I5/Pp47ZBWN0PB5XtBf1nTzP/+Mf/7j55pu/973vCYLw5ptvPv/882VlZTfeeCMogqAQw/16vR4O4hOUClmWd+3apdjrX3755ZdffrnRaMzPz3e73ZFIhKKoqqqqjo4OOHyEXbGenh6YY2ia7u3tFUXR6XSyLGsyhWna0dhI8bzc3HwU5qoxY8Z0dXUFg0GdTme32yORyMDAAE3TxcXFgUDA5/NJklRSUkIQRHt7O3x1FoulpaUFHKBtNpvH4wmFQgaDweFwACue56GZwdWqoKBAFEVgBQbfbrdbkqSCggKGYXp6enieN5lMJSUlR48ehWGotLS0u7s7GAzq9Xq73R4Oh5NZFRcXUxTV1tYGH63VagVWNpvNYrH09fWFw2GDweB0Oru7u2OxGEVR48ePb2trCwQCDMM4nU6FFVx7PB7I78FxXE9PTzweNxqNpaWlalY9PT0QUddut4dCITj2HT9+fF9fH1gjlJSUkCQJrKxWq8lkamtrg3HWaDT29fVFIhE1K5Ika2tr29vbYXB3Op2SJCWzKiwsZFm2s7NTEASDwVBSUtLY2AjbXYWFhZDsUq/X5+fn+/1+v99PUdSYMWM8Hg8cOhcXFzMM09LSAnVlNpsVViaTCepKp9MVFRW1t7fDhkdNTU1HR0cgEGBZFsIx9/b2RqPRwsJCv98/MDAgSVJRURHHca2trZIk6XS6srIyNSu32+33+3U6ncPhSGAFNhJFRUU0TSt1pdfrOzs7IfSZwWDo7e2NRCIcx5WWlp48eVIURYZhKioquru7/X4/wzAOh0OpK5fLFY/HFVY6na6lpUWSJL1eX1xc3NTUBAs4p9PpdruhBZ1O58DAABxGV1ZW9vT0+P1+kiQLCgqAFWQpdTgcwMrhcJhMpp6eHrD5LisrA1Y0TVdWVgIrlmUdDgfP8263myTJoqKicDisdFewhKFpGsIoq3fIeJ5X9oCVOB+wqQZ7eBALARbHELsWdlJglxo8ksH0Ak7t4VrZWoZNR1jywn45XCu7hvDSoVjBZi2w0ul0yoZuAivYzjwlK57nlS1ANStRFBVhKYpSHoE9OYXtabNiGIYkSdgKhfUZmCVAUVDVyawEQTh+/DgYC1it1sOHD7MsC8F10ozW1ta+vj7lz6+++irZ6QhQUFBwww03rFq1ChyaDQbDK6+8snTpUuXQLBaLbdmy5fHHH1+yZMnatWsVOzqIhdXY2KhOWHfgwIFBkzQYjcaCgoLkk3P10Rys7ZQ/1WzVv6sfGerxhGeHKlZ9rT4BU/aP+/v77Xa7+vGhrtVMhnr7GbJSXyc8/k1ZqW+DYv1+P6hGI2kCjVgNJfgwdaXGUKySmfj9foPBkCCsRqzUxQ7PatDrb8oq4XHIaJyc5zezrDSqK4IgYKGr0+mGYbX15Naf/+PnJEneOfvOKyZcoWf0wzM8Q1ZDMRlhXQ2VHYGiqIGBAfA7GurxhN+Hevug0FA7AlVP+RO2lgfV1UCDKiwsvOmmm2BzaOXKlVu3bn3//fdvvPFG0CyTixq0nPr6+ieffBL+NJlMYHcHR2zwI0mSJSUl6vfCrAbXMO3B9cyZZpOJaG5GCBFKaKaExy0WC7QNnDnCNRCGR5Kv1Uzg2uv1hsPh4uLioVgp13C0rTw+FCuz2XwmrCDiFmAYVsp2AlhVDcpK/bjFYiksLASVo7CwEHydh2elLjaBFcRQHp7VuHHjhmcFGx5QFKzOIc7HyOuqsrJSETChrvLy8np6emiadjgcoOXC48rBaTIrhclIWIECo/yueO2TJKksRtXFJtfVCFkp1+rmUBcLjwcCgXA4DMrkN2WltJrSdZVdLmUjWe2sqD4TVl+DaYTyp/oR9QirXqEOVax6YE1IPQ5G+SNnlVCs+hF1sUOxShBKzWooYVPLCpT5kbASRREyLoDGhRDKVFA7u90uCAJsKwCTv//970Ol5IJxVRlaX3zxxe7ubkU7EgTh448/fuCBBxoaGn72s5/BbrfyIE3T27Ztu+6660pLS+F3t9u9YMGCrMl3lOx8la3Ax4IDq2bFyqhhJN34qOfotW9dG+SDt8689bZZt43+rK/DQNNurKF2lJ+f39raqvwpiqLf7+c4TrG1U2C1WmmaHjNmDMy+sCweP378nj17otEo+FZGIhFlngsGg4IgwIGauhywbFb0BDVGookmYMwYxHHoxAkUCiGL5dSPJ3iYjESlhmu9Xj/yTJojKTYlrIYv9rRZWa3WhASXp8FkhOZqI9xrGfQ6JXVlMpngYHokxQ7FZBhW37TYYfBNBUxmBZtVpyHsMHA6nZ2dncFgMHnQyCzwyaWoFnZ4kSVJcrvdgiCod5QzpSRcdtllX3311ebNm6dNm1ZTU/P+++93dXX95je/AVONzs7OzZs3L168GDZQurq6BEEA9WbXrl2vvPLKkiVLlDB0e/bsWbt27YUXXvjEE08ki3PFFVfs27fvo48+qq6uttlsDz30UCwWe+SRR7Kje6gNkLIesA7JNIs0IXn5lK1QW4tlPcBEaxhPUU/Yc9GrF/UGey+vvfyhRQ+d1aqRYrOnETQcC2pqarZs2eLz+cBfKBqNtra2WiyWsrKyhDsLCwvNZjPoP/ALmDvTNM0wjNlsLioq6u3tdbvdsK/c2dkZiUSqq6s1dRe22ZDTiQ4fRgcOoGGTPZ4pIOCPhi8YTbDZbPi44mgUMmQUAjYmUh5vw2Qy6fX69vZ2OEpKbeE5pBawZ1lUVDQaFiJ5eXnLly9/9NFHV65cabFYOjo6Fi5cCFHLZVnu6OhYv359RUUFaEfvvvvuI4884nK5ZFnu7u5uaGj4yU9+ori5rlmzRhTF5uZmdTD0FStW3HzzzQRBzJs37/LLL3/22WffeOMN0LvuvvtudZT2sxqKXxMOsNvt+MxN+AgLAe4wmT7A02ao/8aE2Kq/rjrpPTmtcNr6S9ef1aoRrDo0TTagoXa0aNGi55577sUXX7ztttsIgujs7Ny2bdvs2bPLysog9AS4yoH/1uLFi19++eWWlpaqqiqYvXbt2rVo0SLwJ5k8efJrr722e/fupUuXyrL8wQcfhEKhc845R7Fx0giTJqFdu9CePWiwFE0pg9/vDwQCyUpjVqK1tdXpdGKiNvT29kIHzjQRzSHLst/vD4VCg57cnjYIgigrK4tGo+BUM3rQ1taGyQcLo3FxcfFI1lIGg2H0LEQWL15cV1f3+eef9/X11dTUzJo1C7R36FQ/+MEPFFPPK6+8cvz48eAEOGnSpIkTJ6pnlp/85CfJxip1dXXK9dq1axctWrRnz554PD5nzpwJEyakS0TNwfN8c3PzqM35m1o0NzeXlJRovagYJcBH2GAwGA6H8/LycAiWG4/HPR6PxWJJXmJF+ejad9Zua9lWai59c9Wbdv1Zv+shSdKxY8fUQ3FqoaF2NHny5JUrV77wwgvhcNjhcHzwwQdms3nVqlXgAfy73/3uvffeA2NuhNDVV1+9Y8eOO++8c9WqVbIsv/XWWw6H47rrrgPDs/nz5+/ateuFF144fvx4IBD48MMPL7744rFjx2q9+TFxImJZtH+/pi/JIYcchgQ4eo22Wby9vR0TiyNZlnt6emw222g4EfqmKCoqSs5+SxBEUVHR97//feUXq9W6YMGCBQsWDFrIbbfddsoX1dbW1tbWnjHfHHI/wfBGAAAgAElEQVTIIYfUI8yHf7P9N68fet2ut7/57Tcr8ioyzegsgLZWtvfdd19JScmHH34YiUTq6urWrFkzdepUmJ9cLldVVZWi4BYUFDzxxBMvvPDC5s2bEUKzZs1avXq1Mt/U1tb++Mc/fv3117dt28ay7OrVq6+66qo0nPhXVSGWRcePa/sWCMuo7TtGDZKdjrIYEDQs0yzSBKy68WjT1jQFPna/OSQAoiZmmkWaAEGEM80iTcBHWIipg4mwELM0YYkV5sOv7n/191/8Xk/r/+/F/3dWyazMEUwxNJ2bBsmOd5YiGAyuX79+z549r776aqrKbGxECxeieBx1d2uYEBYSfmGysozH4xC/ONNE0gElXnOmiWgOyNmFTzeGELGZZpEOQLLC0WMvd5Ziw4YNbrf7xz/+8dmlbEDrn12cTxtYzU34CCuKopK3J9NcNIckSZC3QNmWjQmxzY2b7/3w3v5w/88afrZ21lqWypJU5lqPTtnfXc4ExcXIYEAeD+ru1vAtkJ5IwxeMJng8HiW5e9bD7/cHg8FMs0gHZFmORCJerzfTRNIEyOmECbq6urAKdpyDAsgHmGkWaUJvb29CfvkshtvtxkTYaDTq9/vV+ZqzGIIg+Hw+ZYnFi/z2tu3rtq9zh9w31N9w3bTrGDJ7ti8lSerq6tKu/Jx2NByMRlRRgQgCffGFhm8RRREfhSEajeKTaQEyaWaaRZogCAJkFMUBySmtsxiQBDYHDAG7HplmkSZEo1F8dgEikQgmwoqiGI/Hs8ZIanjAcQq0rCRL+7r3PbbjsSN9R66ccOUds++wcJYsMwEIh8PaFZ7Tjk6BadMQTWurHdE0jYnpAjhs4OOKw7IsJpZmuHVjTIIuApQswDngBnVK7qwHJB7MNIs0AR9hKYrCxzAYHAUpipJl+UjfkSd3PbmjbcfSyqV3zbur2FycfZWgpPDWAtnvEXGGmDgRURQ6cEDDV2AVqMBsNuOjMBgMhuwbjwYFQRAsy+Kj9+KTBAZyB+EzQOWgBkVRNpst0yzSBIvFgoOPKACf1LcwMWEyN1EUZTAYaJpu8bU898Vz7x5/d3bJ7Lvm3VVtryaJbBvDtc5VnW31lXJUVSGSREePavgKnufxsV4IhUKYWACDqQYmNpOyLPM8r+kx96iCz+fLNIX0we/3Y2KXkkMCJEkKBAKZZpEmBINBfKy+8RGW53l8bCYlSYpGo52+zle+euUvh/5Sba/+4Zwf1hfVM1QWbklDlkXtys9pR6dAZSWiKNTSgrTTX7BaVua0o2wFTEKZZpEmYKUdBQKBnHaEJ7DSjkKhECYKA1bakSAIWGlHPd6evx746wv7XrDr7LfPuv28Mefp6OwMr5rTjjIMhwM5HCgcRo2NWr0C4vFrVfooAz6ZB+CYGx+TJIIgMLFeAGuNTFNIH/Axhc0hGfi0PlZzEz7CYjUxxcTY9q7tz+57VpKlG+tvXF6z3MRls4uspqMTLku30wbDoEmTEEJozx6tXmEwGPLz87UqfZTB5XJhkigGIWSz2SwWS6ZZpAMEQRiNRny8ccrKyjJNIX0oKSnBR8nPQQ2apouLizPNIk0oLCzEZ9cDH2ENBoPNZsNByZdk6Uj/kf/+6r+9vPfqyVdfPeVqmy6bnQZJkiwtLdWwfO2KzhrMmIEQQl99pVX5sVhM0/PBUQWfz4dPkOtQKISJR5ksy7FYDJPkTgihvr6+TFNIHzweT86yDk9IktTf359pFmnCwMAAPlbfXq8XE2FjsRgmNpP+mH9L05bjA8cvrrp47ay1ToMzu48HZVn2eDzalZ/Tjk6NiRMRQhpa1mHlsBEOhzEZlGFcxsrvCBNVEAIVZJpC+hAMBnPaEZ6QJAmfLY9wOIzDGhqAicIAfkexWAwHvyN/zL+zfWeRuWhZ9bKsjN+dAFmWNfWKzGlHp8a4cQghdPy4hq/AZ/GBj6S4CYsVsGpZrITNIQH4tD4+kuaEzUqE4qFDvYfydfnj7eOzL373oNC0ZXEJBnAmAO2oqwt5vUiL3A9Go1Gv16e+3FEJfMydscqKQxCEyWTCpxtXVFRkmkKaQBBEeXl5zu8IT9A0jY+LXXFxMT75rEtKSjCZiA0Gg06ny/rAV6IkdgW72vxtE50Tx9nHZZpOOkCS5JgxYzQsX7uiswZmM6qqQqKoleuRJEnxeFyTokcf4vE4Jgf6YGyGjxmhKIr4eJThYwory3I0GsVk8zWHBIA/YaZZpAmxWAyfuSkWi2HyUcPElPXChvnwJy2fGBhDlbVKR2IR+ArmJu3Kz2lHI8Ls2RpqR5FIxOv1alL06EN/fz8+qmAgEAiFQplmkQ7IshyJRPDJAtTV1ZVpCulDb29v1q8tchgUoij29vZmmkWa4PF48NnM6uvrw2QzKxaLBQKBrG/ZiBDZ0bbDylhrTDWYLLFkWe7p6dGu/Jx2NCLMmIFEER05oknhBEHgY7hCkmTWOwsqwEpYgiDwERafBBq4CZtDAvBpfXxmYayaFYf1lSzLET5yyH3Iylkn5E/INJ30QdNunOW2mKlCXR0SRdTcrEnhHMfhs6y0Wq04ZB4AGAwGTFqWIAisurHD4cg0hfQhLy8Pn5bNQQ2KovLy8jLNIk2w2WxZ752iwGq1YiIsy7JZnxBWkqWT3pPdwe7qsuqJpRMxWWIRBKGpa3eWq9SpQnU1kmXU1oa0OLGkKAqT3gy5jbN+I0cBTdOYzEC4dWN8MhqDsDntCE/ArkemWaQJLMviMzfhIyxJkjRNZ/cIJkjCh80f6hn9tMJpNoMtu1VBBQRBaDoRY/F5nDlKS5HJhAYGUHt76gsPhUL4JJfs7e3Fx6Pd6/VikhhHluVQKIRP4siWlpZMU0gf2tvbccgWkkMyBEHo6OjINIs0obu7GxOHDayEBb/u7PY74iV+e+t2C2eZUTCjv78fkyWWJEltbW3alZ/TjkYEjkN1dSgWQwcOZJpKDjnkkEMOOeSQQw45IBQRIgfdB42McXLB5ExzyR7ktKORor4exePo8OHUl8xxnNlsTn25oxJY+R1hlcmK4ziTyZRpFmmC0+nMNIX0IT8/P7vtUnIYCiRJ4pO0DSu/I3yEZVnWaDRmt7HZYfdhT8RTaCqstFeaTCZMllgEQeTn52tXPhafR0oweTLieU0CM5AkiUlvxsrcGfyOMFlWgtsrPt0YK78jfDxPckgAVn5HWMWVwUdYHPyO3mt6jyXZmcUzDawhjuL4LLFyfkejAtXViOeRFu4GEI8/9eWOSni9XkzSLIBHWTgczjSLdADysuHTjfFJAgOpUXL5jvCEJEkejyfTLNKEgYGB7PZOUQMfYePxeCgUyu48v9tbt+sZ/fyy+aIoBgIBTJZYsixr6rGf045GispKJEmouxul3M1ekiRMejNCiOd5fDy8BUHI7kFZDUmSMJluYUcj0xTSB0y8t3NIhizL+LR+PB7HZxcAH2FhYspiYaN8dH/Pfo7mphVOk2VZEAR8lliaTsQ57WiksNtRSQkKBFBTU4pLZlnWYDCkuNDRCrPZjIm5M0JIr9fjY4KFVTfGJwkM+Apmt11KDkOBJEmr1ZppFmmC2WzObu8UNSwWCybCMgyj1+uz2Nhsd+duX8xXbC4ut5aTJGkwGDBZYhEEYbPZtCs/a3tMysEwaNIkFA6jI0dSXDLLsvi4s+PjMoiVdkQQRE47ylbYbLacdoQnsNKOrFYrJgoDVqogaEdZLOzbx96mCKphTANLsRRFGQwGTJZYOe1otICi0JQpKBJJ/dlRKBTCx7bb7XZjEow/l+8oi6FpmoXRho6ODnxMNXJQQxCEzs7OTLNIE/BJAYQQ6unpwcSeH/IdZbGwn7Z+ylBMQ3kDeC4MDAxgssSSJEnTbGw57WikoChUU4NiMZTydZEsy/h4p2S3BXACJEnCZ1kpyzI+wmbxXJsMfNzJckgGPq2Pj6RYTcTZPTFFhei+7n0UQU0vnA6/iKKISctqPRHntKORgiTRmDEoHkcpV1YJgshio9gEUBSFj5UOSZL4tCxW3RgTw25AFhul5HBK4NP6+EiKlbDZPTHtbNsZESKlltJSayn8QpIkPkssTSdijOb4MwRoRwghjwe53SiF2SCtVis+tt3l5eWZppA+uFyuTFNIE8A/AZ9uPGHChExTSBMIgqipqck0ixwyA5Zlq6qqMs0iTaioqMg0hfQBH2HNZrPZbM40C63w7vF3EUIXjruQJEhIY1VYWJhpUmkCRVGazk3aqtQDAwP333//nDlzpkyZ8p3vfGfr1q1DHV4/+OCDNTU1VVVV1dXV1dXVEyZMuO666+BfPM+//PLLZWVllZWV1f/Efffdp2mk82QQBDIaUVUV8vvRsWOpLDkQCOCTPqWrqysSiWSaRZrQ39/v9XozzSIdkCQpGAy63e5ME0kTTpw4kWkKaYIsyy0tLfiY/uagBs/zra2tmWaRJrS3t2PisAHOhJikJQC/7qz0KJNl+fOOzxFC51ecD7/E4/G+vj5MlliiKJ48eVK78jU8O4rH43fffffnn3/+ox/9yOl0/u1vf3vwwQd/8YtfNDQ0DHrwV1hY+Itf/EKv18OGpcViUf+3qqrq6quvrqurgz9dLlfCDWkAx6FJk9Du3ej4cbRgQcqKFUURk3EKIRSNRvFZacXjcXwMGARByMoZaFCEQqFMU0gfMMlonEMyZFnGZKUFcxM+DhuRSCSLvXHUEEWR5/msbNlgPHjIfUjtdAQJyjCJlKv13KShdrR79+6PP/74gQceWLNmjSzLdXV1d91115tvvjl37lyO45Lv1+l0c+bMGSq2tdlsnjRp0ty5c7UjfEqwLJowAX30UYoDM5AkiY8bA03T+BjFUhSFj3ZEkiQ+wrIsm2kK6QMm8WFzGBT4tD5WcxPDMJgIm8UT0/a27UE+WJlXWWopVX7EqhtrOhFruCj/9NNPaZq+9NJL4SwoLy9v3rx5O3fubGlpGdRYkOf5o0ePchzHcZzD4UjIKBKNRltaWsxmM8dx+fn5GcllxjBo7FgUiaDOTiTLKFU9UKfT4aMd2e32QXXjrITZbMZknCIIQqfT4bOQwse2myAIl8uVxW7NOQwDmqadKXSxHd3Iz8/HZwTDR1iO42iazsol1kfNHwmSsKJmhbLMoGnabDZj0rIkSWrq2q1hj2lqanK5XMpZEMdxJSUlgUCgq6srWTsiSVKW5fXr10ejUYqiJk+evGzZsvHjx0OrkyTp8/neeuutLVu2kCQ5adKkZcuWjRs3LqETQNKVI/9M12qz2Ww2G5zMCIIgSRLkrOR5Hq5pmpZlWRAEgiAglhqEuQTlG64piqJpGizfJIkoL2fjcdTZKQeDgsFASZIkiiJBEAzDiKIoSZIsy8CK53kIlkJRFFgcwUkCMIHf4ZFYLAZPQVEJrJQQjWpWJEkyDAOs1AJCsQormqYhqPTwrEiSBCZQFBxDEwTBcVw8Hh+0rk6bVSgUgqIGZUWSJIRoTGaltCDHcTzPp7yuElqQIIh4PJ7MSmlBeESpK5ZlBUFIYBUOhxmGgYZWioVHvhErsEUcihVN0yRJjpyVcj0oK5qmh++uycWCDSF0Ffi+ToMVCKjuriCsUj9qVlAn8PgwrJRWg86QzIplWWiCkbMiSTIWiwWDQdAGB2XFMAy8Asa9QVnB9RmyUjoGsBq0rtRNMCgrqJ+h6orn+WAwCBkVwSsDuq6alcIE2MIroOdHo1H4ZrWbaHLQDpIkRaPRLHZqVyMWi+l0umw9Z0hALBbjOA4HYcGyLvu0I0mW9nbvFSRhUeUi5UdZlnmex8QcSZblaDSqnYuNhjXo9/vVoypFUUajkef5QS0Fp0yZ4nA4CgoKEEKHDh166623vv7664cffriwsJAkyerq6tWrV5eXlxMEcfTo0U2bNp08efKee+4pLCxU783LstzV1fXaa6/BnzNnzpw5cybLsgaDIRQKwfTvdDpDoRAsMc1mM3iTEwRhMBhIkgwGg7IsG41GiqJCoZAoihzHmc1mn8/3T1XVYTaj3l6hsTE8YQLH83wkEiEIwmq1RqNRWD1A5C54RK/X63Q6uOY4Tq/XAxOGYYxGI1zD4gMGLIIgTCaTLMvAymg0IoSCwSBCyGQyURQVCARgDWqz2aBYmqatVisIRdO00WiMx+MKq1gsBobjFosFlEw4rdLr9cq1TqdTWJlMpkAgAGudgoICKJYkSZPJpNQVXIPrhZoVwzB5eXmDsjIYDPF4PBqN9vT06HQ66NYJdaXT6TiOg2uDwcCybDAYFAQBtkP8fr+aVSwWI0kS6icQCCSzomna7/cDK6vVCsUyDGOxWNR1FY1GodrtdjsUm1xXCaygriiKslqt8AqCIKBfKayAidfrhU8X+rzZbKZp2ufzgf6mtGACK4PBEIvFgIndbg+Hw1BXalZ6vZ5hGEg1azQaGYaBugJW8AqCIBwOh5qV0q9MJpMoioOyUuqK4zjoouA9ZTKZIpEILLuVYpWc616vF7qcTqdTWEELwmANHSOBFYwJoDODgPBBwTXDMEpfUr5BnU4HrODx4VkpdUVRFHxEwCoQCICWmJ+fr3zaSgcAVqDcJrNiWdbn83V0dHAcp9RVAiuz2Zww4CifttKCBoOBIAgQ3Gg0chwHrECQoVgpdQWfttIxlEEGPmHlFfBpwydstVqhOZJZKXWlZgV7kD6fr7OzkyAIZcSArqtuAmVUz8vLg9cBK3iEJEl8zh+yDJIk9ff3Y9J8Xq8XxtJME0kHBgYGDAYDDsLG4/FwOMyybJYpDH3hvqb+JoZkFKcjUAWDwSBJkjhsSMmy3NfXp93xkYbdhSRJtdsfHBcMFXt+2bJlSpj2ZcuWuVyuxx9//JNPPlm1ahVJkrNmzZo9ezb8F7ayXnnllaNHjzqdTnWPJwjCZrPNmTMH/iwrKzMYDLCBynEcDASwkQlnC7DraTAYlI15iAkBe7GwiIc74R6CIEwmVFODfD6qo4ObNIki/gmKoliWBdFgP0YpliRJuKZpmqIo2HJWs4JtaWUjByRSHlHerjCEEy3lHjhGAKFgj59lWairhGs1k6FYkSSp1+uVhlPXlSzLyiPK9QhZgVBQOJBU6koREJgoxQIrOLhIZgUPJtSVmhU8AuchyivgKXVdKdUOv8N1Ql0ls4LylVckswImsViMpmmGYdTVDn1sGFYgFDAhSVLpVwmdYdC6gu8LXqEWKrmuEgRMZgX3JNQVFKKuK3VRoiiCdqc0AfTw4VmpmcDXlNAE8Hb1PcrjI2Gl/gaVTxvqSv1pJ7BS14OaFfyu1+uhJw/FSrEzTGClFAsG08ms4JGhWClvHGrAgW6Z0ATwXnjFoKzUjyR0AL1ebzAY4BflFcrjik2/8i+lOZTfMTEuzVbgsIAGZNnqeXjg452SrfmOPmv7zBfzTXBOKDAVqH/HKqWkpqOThsOBw+E4efIk7BaDDYnP54MN1+Sb1Se8DMMsXLjwscceO3bsmLJEUP6r0+lmzZr117/+tbm5ec6cOQnakcPhuOiii5LLV98GE7kCtZKt9vFS17tyCBYIoNpa9PHHlNuth3uV8CAJY+ugjyfcBtdgjqKsHZOZnJJVglAMw6hZqQOYqB8ZnlVysQlM1PU2QlbKgwl9Wv2I+l9DsRqmrtSs1BE+TskqudiRsFK/IuFxZVUKp3ODFqsRK/U9w9RVClnBQYEgCAzDnAYrpdXUXXcYVurHR1hXasFHwkrNJJlVaWkpnFsO9fgw3VVNWN1docDhWSXU1VDCDtWCw7BSP5LwEZWUlMB/R1JXCcMgJkZZ2QqKovLz8zPNIk2w2+34qIJ2ux0TbTBb/Y52tu+MClEl0xEAK78jsNnRrnwNVeq6urr+/v729nb4MxqNNjU15eXlnTIfqCzLYKcxVDyKcDgsCIJOp0v/loBejyorUTCIurpSVqbiS4ADFLcEHAC+GZlmkSaIoohPN8YndjluwuagBrgxZJpFmpCtcZ8HBT7CSpIEHsiZJpJKSLL0de/XMTG2oOzfcsvAYjLLhB0Gms5NGmoX559/vk6n27BhQywWEwThyJEjX3755aRJk1wulyRJx44d+/TTTyGjaygUOnbsmJJtwO12v/rqqyzLgo1cMBhsaWkJBAJQbEdHx5YtW2RZrq6uTv9+AMeh0lIUDKLubpSqHhiNRhXpsh4+nw+f6TYcDmOSLUSW5Vgshk83TnMq6szC4/HgM93moIYkSQMDA5lmkSZ4vV589nfwERb8jrJsm7LD39Hia2FIZnLBZPXv4JiKyX6WLMv9/f3ala+hdjFu3Lhbb711w4YNbrfbarUePnzY5XKtXLkSoqJ99NFH27dvv/POO8EF+be//a0gCEVFRRDsrrW19fvf//6MGTNgIfLyyy+3tLSA91Vra2tHR8eaNWuqq6vTf3bEsqikBEkScruRz4dsttQUi8/iAx9JQVis5MUH+Jx/4vbN5pAAfLo6Vv08J+xZjd2duwciA1MLp+brEw1fs0/YYaDp6KShdsQwzHe+853KysovvvhCEITly5efe+65VVVVYC9YUlJSV1cHVul5eXmXX375wYMHIUzcrFmzbrvttrq6OnDqcDgc559//t69e71eryRJc+bMmTJlypQpUzKSTIYkkd2OioqQ243a21OjHWESOgbgcDhwiKYCsFqtmPhHgis/Pt24tLR0BHdlCYqKijDpxjkkgKIofFJ7uVwufEYwfISFUDRZ5ne0t2tvIB5YVLGIof6tESGgKCYtSxBEcXGxduVr22OsVuuiRYtmzZolSRIEvVVCPy1cuHD+/Pmg/+h0ukWLFs2bNw9sYVmWhSCzUIjRaJwzZ87UqVPhuBAidGcqLgdBIIsFVVejvj7U2oomTUpBmRDNLwUFnQ3A6jgFAu5lmkWagFvLZppC+oCVsDkkAJ/Wx0dSrIRVkitmmkjKIMnSYffhMB+eVTSLJv9tDY/VLHwWnx0BGIax2+0JP0KSDfWfLMsOFYNh+P+mH2YzGjcOHT+essAM0Wg0GAxiEtxpYGDA4XCMntbUFKFQSB3JOosBCaxCoZD6u85i9PT04BPLq6+vb9BAozlkPURR9Hg8eXl5mSaSDvT39yvx6LMeAwMDmAgLfkfZFLau1dfa5m9jSGaCcwJF/Fs+X1EUA4GAyWTC4fhIlmW3252sX6QKuGxspxAGAyotRT4fcrtTUyBWZ0dZtoszPLASFqtdqyzz8R0eWAmbQwLwaX18ZmGsmjX7JqbPOz53h92zS2bbdIO4duS6caqQJcp0OqHXo6IiFAggtxtJEjpzyymwJEwNuVEPi8WCw64GwGAw4GNZh8l5IACfgyPwC835HeEJkiQxOTgCR4CsOV44JaxWqzrJZBYDJqZsEvaA+4Av6muY3GBgEnNtUxRlNBoxWWIRBKHdwVFOOzodcBwqLEQsi3p6UG8vOnOfVY7j8FlZWiyWbBqnhofBkDh4ZSsIgsCqG2OlHdntdky6cQ4JoCjKlqrArKMeNpsNn7kJH1UQQjJkTcuKsni8/3ggHphUMImjEwNcgXaEyZ6s1toRFpWYWhAEystDY8ei7m7U0ZGCAgOBQFcKk8uObrS3t0OqXxzQ19enaTz+0QNZlgOBQE9PT6aJpAnHjh3LNIX0oampCStrjRwU8Dzf3NycaRZpQktLSywWyzSLNKG1tRUTYUOhUF9fX9akAGoeaG73t+tpfbW9miETz4ji8Xhvby8mSyxJko4fP65d+Tnt6HSQl4cqK1FvL+rszDSVHHLIIYcccsghhxyyHfu693UFumaXzLbrc0f62iKnHZ0OrFZUVob6+5HHk4LSaJrGJwWQTqfLmjPuU4JlWUwsgKEb42NZZzQaM00hfTAYDJmmkENmAHnMMs0iTdDr9ZiYJGElLEVRLMtmjSJx1HPUE/HMLplt5gaJcgwm7vgssTSdiLEwPE05TCZUWIi8XuTxIFlGZ/jd6XQ6fJaVdrsdE3NnhBAmUdphUMaqG+OTIhMSR2KykMohARRFOZ3OTLNIE/Lz8/HZzMJHWJiYskNhiArRkwMng/FgnbPOwAyybUHTtNlszg5hTwmSJF0ul4bla1d0FsNgQAUFKBZDbjeKRM60tEgkMjAwkBpmox4ejwcTc2eEkN/vDwaDmWaRDsiyHIlEvF5vpomkCfg4CiKEuru7c35HeEIURXycCd1ud9Z4p5wSfX19PM9nmkU6EI1G/X6/IAiZJpICnPSebPG1WDnrWNtYjhrE4EgQBJ/Ph8kSS5Kk7u5u7crPaUenA4ZBLheyWlFHRwqyHomiiM+gHIvF8Flp8TyfHYPySCCKIibTLUIIE7dXQDQazTSFHDIDyPKcaRZpQiwWy7LEOMMgGo1iMhHDxJQdLXvIfajd315fVO8yuga1FZRlmed5TFoWjha0KzynHZ0OCAI5HKi8HHV0oDPXXRmG0ev1qWE26mEwGDA59sUtVjvDMDqdLtMs0gSLxZJpCukDPtnYckgAQRD4tD5W6enwifsMft3ZIeyJgRM9oZ6pBVPzdINnISNJEivXbk2dF3DxAEk5HA5UVoaOH0d9fWdaFMMw2fHpjgQmkwkTc2fwfM0aZ9DhQRAEy7L4dGN8ksBAahR8WjYHNSiKwmcjwGKxYOUTi4mwsL7KghEsFA+1+lqDsWB1fvWgIRlAO9Lr9ZgssUiStFqtGpavXdHZDasVFRYijweduatFPB7HxDsFkjvhY38ViUQwsUuRZTkWi4VCoUwTSRPwcRRECHm9XnxMNXJQQxRFn8+XaRZpQtZ4p4wE+AjL83wkEhFFMdNEzhQtvpYTAyccRscY65hBnY7ggw2Hw5gssSRJ0tTVOacdnSYsFuR0ooEB1N+PznDlIAgCJmtoUBiyYJwaIWKxGD4eZYIgYOIMCkp+pimkD/govTkkQJZlfFo/HA7jswuAj7AwMWWB31Fjf+NJ78mpBVOLzEVD2aTANiU+SyxNzxVy2tFpwmhEEEuwsxP5/WdUFFD4LccAACAASURBVEmSmJxxgxEwJsZmYJeCjwUwSZL4CIuPOxmYpmSaQg4ZAz6tj9XcxDAMJsJmzcTU7mvvCnTVOmqdhuGC7GPVjTWdiHFZlKccJIkKClBBAWptRX196EzcEIxGIz5RGQoKCvBRBfPyBnedzD4QBIFVNx47dmymKaQPZWVlZ6nVvtvt3r9//8DAQEVFxeTJk4eZSkOh0MGDB0+ePGk2m2fPnm23/ysPvSzLXq/3yJEjJ0+etNvtixcvVo9ge/fuPXr0aIIpyzXXXJMdCxSGYUpLSzPNIk0oLi7GZ24qKirCRFi9Xq/T6c7SEUxBIBZo8bX44r7KvErb/8fed4bJVZzp1kmdc5rQEzVJmpGQRhoFlLAIxgiMwV6TjG382IAMa6+xzbXxXtaAvdjLJfkBLIyE2cUsCBYMIshIBAFCQiiM4giNJueZzt2nw+kT749anz3bEzSpu6e75v3V03Oq+v2q6lTVV/UFzbjbTYqibDZbrgs7SeA4Xlpamr76kXg90gEMA4WFwO0GfX3A7wfV1dOvKpFIJBIJRJLuBQIBs9mMyDY6EokQBJFWx8E5ApjviGEYh8ORbS6ZwNDQEDoK0sjIiNvtzrnz1/379z/55JMDAwNarTYQCFx00UW/+c1vxpx5zp49+9RTTx06dMhisdA0rdPpHn744SVLlkCRu7q6rr/++mQyyfP88uXLL7roIuW28uOPP37hhRccDocya/vNN9+cKSnTC57nPR4PIgqS1+t1OBxq9dgeHXkGn89nt9tREDaZTDIMYzQac1pnaA+0t/pb3QZ3ublcRYx7ysPzPJzBUNhiiaI4MjJSVlaWpvrntaPpw+kEhYXgzJmZBmZAyu+IYRh0QsSyLJtze8ppAym/I3TCqORocqdQKLRz504cxx977LHa2tr333///vvv37hx49VXX53yJMMw77///pkzZ/75n/9506ZN8Xj8rrvu+uEPf/jqq68WFxdjGKbVam+66aaampru7u4PPvggpXgymaRp+ve///2aNWsyKF+GIElSLvb+9JBIJBBxxUFKWJ7nWZbNdWHbA+3tgfYGV0OZuWyCe2lJkliWRUHphUirV2QOK9NZh8UCbDbg9wOUdkozRR44R85jHkgN41wUdteuXe+9994VV1yxdOlSg8Fw1VVXmc3me+65Z7QsLS0t77///sUXX3z55ZcbDAaXy/Wzn/0MwzCfzwcfLigouOOOOzZu3Gi328f7Oa1Wq9frDX9HfpjVQeRi78/jvJjv1tzCUHRomB6utFS69K6Jn0SqZ9Mq7Lx2NH1YLMBuB4EACATATGKE6PV6l+s8Iz5vUFhYiMKdL4TNZkPBrE7OGomIWR0AoLKyMtsUMgQMw8rKynLOKGVkZITjOKvVCn2UKYr68pe/HIvFRkdz8vv9fX19KpUK+qljGLZixQq9Xr9z507oTYTjuFqtJghiAp2nvb19//79Z8+ezbNoUSRJptWyf06huLgYnUN3t9uNSGgZnU5ns9lyOrhIlI32hHuCTLDMXGbXjXtGA/2O7HY7ImnZcRwvLy9PX/3zlnXTh04HXC6g1YLubhAKgfEPFs8DURTRuQyFxmaI2JtxHAfTpGabSCYgCALHcYgMY3QMRCVJYhgm5/IaS5JUUVGhdOZcsWLFc889JwhCijO6zWYrLi7mOI7jOPiqHjt2LBqNHjx4kOf5845ngiC0Wu3vfvc7+AoUFRU9+uijK1asGN1c0Wh0aGgI7tIsFotarcYwDMdx2eYHx3FJkuBpKCw+5mcMw5RF4Gf4vVx8gmrl4pOpVhAEhmE0Gs15WeE4LmuGaWJFEITyJybTVhOwGi0swzCwd2ad1XjCTobVDHswpbj8OZFIwIOD2WI1peE6HqtZbyu4CvM8nyZW432e3bZqD7Sf9Z4tMZaUm8spnBJFcTxW0L4dnubMtR6cRrUTs+J5PpFIwJAbU2Ko/HUcx8db2ua1oxnB7QaFhaCzEwSD09eOEokETdNG49jJj/MMgUDA6XQiojDQNE0QhE6nyzaRtAMut7FYDBGdYWhoCJ2LMo/HY5lJUM4sQa/XK3Ubq9U65ipYX19/+eWXv/HGG1VVVRs2bEgkEn/4wx+GhoaUi/cEWL9+/bp16xYtWqTRaE6ePHnvvfdee+21zc3No6PsvPbaa3v27IEcfvKTn1xwwQU4jtfV1bW1tYmiSFFUeXm53+8PBoMkScLRNTIyIklSUVERy7KhUEgQBJfLZbPZWltb4TlxaWlpT0+PIAgmk8nhcPj9/nA4TJKk2+32+/2xWEySpOrqalgtQRAOh0Oj0fT29kqSBKPjeL1eQRAcDofJZBoaGkokEgCAurq6jo4OnufhfiKZTAaDQYqiHA6HIAher1eSJLfbzTAMZFVQUGC32yErjUZTWFjY19cnCILFYrFYLMFgUGYVCASi0agkSVVVVaFQyO/3EwRht9u1Wi1kBY/5fT6fzGpgYAA6NNbX10NWarW6uLg4FApBVi6XK5lM+v1+SZKKi4tZlg0Gg7CtHA6HktXAwADHcWaz2Wq1+v1+mqZhUD6PxxOPx4PB4NKlS2maDgQCsK1UKlV/f78kSQ6HA8dxv98vCILT6TQajUpWnZ2d8GCoqKgoHA6PZlVSUpJIJILBoCiKTqdT7kGdTudwOIaGhjiOs1gsZrPZ7/dHo1GSJMvLywcHBxmGGd1WarUasrLb7QRBBAIBnuftdrvZbO7r64MXnnV1dd3d3clkUqPRFBQUhMPhUCikUqlcLheUNBgMLlq0iGXZQCAgSdJoVsPDwyzLms1mi8WiZAUHiSRJlZWVNE37fD6SJO12O0mSg4ODsCoMwyArh8NhNpu7u7sFQSAIYsGCBb29vZCVy+WiaRq2VUFBgdw+paWliUQCtpvD4bBYLO3t7QAAg8FgsVg8Hg/LsrCtvF5vPB4nSbKysrK/vz+RSOA4XlZWRtO03+8nSRKOpe7ubpZlS0tLKYoKBAIcx9ntdovFIrOqqqrq7e1lGEan09ntdpqmQ6EQRVGFhYXRaDQcDouiWFZWlkgkvF4vhmEOh8NoNHZ2dgIAzGazyWTyeDzJZNJsNpvNZp/PJ7MaGBiIx+MwtFosFpPbCsfxkZERURQLCgokSZJ70Gq1QmFVKlVZWVl/fz/DMHq9vi3c1hHsKNWVahltNBqVWZWWljIMA1nZ7XaTydTW1gZDfNntdq/Xm0wmYVt5PB6oD1dVVfX09DAMQ5JkUVFRPB73+/3yq+3z+URRdLlcsAfh9bvdbleyGhgYSCQS8EaOpulwOExRFHwfaZqGbcUwjMfjwXHcZrPp9fqenh44A+t0Op/Pl8KKIIjq6uq+vj7YbkVFRYlEAraVw+GQJMnr9YqiWFhYCKOJ8Dxvs9kcDse5c+cCgYDb7Xa73YODg4lEQq/XW63WcDgsv9rwNZckqbS0lOO44eFhHMetVqvBYOjp6YHjcLxNC5Y3RorRaPSZZ55pbm5+4YUXMvajn3wCfvlLAAB44gmwYsU0KwmHw9Fo1O12zy63uYmenp6U+E55DDhBoLCNFkWRpulYLFZcXJxtLpnAmTNn6uvrs80iE5Akqa2traqqKrfuex999NFPPvnk3nvvXfH3efnDDz+87bbbzpw5M/popqWl5Zlnnjl+/LjJZGIYZvny5e+9915JSclLL70kz1SxWOytt956+eWXX3rppQkMV0ZGRpqamu6444577rlH+f327dsHBwd/9KMfwV8/r6neHAHLsr29vdUzCcmaO+js7CwqKkLE8LurqwsRK3eaphOJhNlszlG7BlEStzdvv/u9u79Z/83fbPpNkbFogofhQQb0fswgx+xAEIT29va6uro01T9/dzQjuFzAbgdnzswoMAM0sZhNWnMYZrM5py2ApwSdTodIz2IYhtQwRkHjlTHerctcBoZhQ0ND8Fwckj916pQgCGMK0tDQ8MADD3zxxRfDw8NFRUVVVVXNzc3r1q2bRkIYmM/t0KFDo/9FUZROp8utLRpBEOgkbbNYLIikAIILMSLCqlQqDMNy63BHiUgy0hXqSvLJElPJxE5H8IXV6/WIbLEwDLPZbOmrH4nXI32w2YDVCjweQNNAksD0thAEQSAymuEWIec8vKcNpLJWIzWMEXF7hdBoNDk3jO12O7Q5EUURmuB/9NFHE+Q8MZvNckjud955h6bpyy+/fBrjeWhoSBTF2traGUswJwBPPbLNIkNQqVTorE3oCIvjeE4vxH3hvtOe06Xm0hpbzQSZjiBgBJrcVQWnBAzD0roQI/F6pA8wqDfDgOFhMO1cL9AgdZaZzVV4PB50kjuFQqFIJJJtFpmAJEmxWCwQCGSbSIYADakRQX9/f85lC1m7dm1TU9OhQ4eam5t7eno+/PDDrq6um2++mSAISZJ8Pt9bb701ODgIH+7v7z969GhPT093d/e+ffuefvrpxYsXl5aWwh2VIAgdHR1dXV1w7urs7Ozo6JDjfbe0tBw7dqynp6e/v//48eN//OMfNRrNt771rWw3wOyA5/mBgYFss8gQoKdNtllkCOgIm0gkQqEQz/PZJjJNDEWH2vxttbbaGnvNeR/meT4QCCCyxRJFsa+vL331z98dzQgqFXC7gdEI2toATQOUDpTnMY95zGOOorq6+h/+4R+ef/75rVu3Wq3Wjo6OdevW3X777VCT7+zsvP/++3/3u99BN7kzZ8689tprBoNBkqSRkZGKioo777zTYrFA7SiZTD788MMcxw0ODvb39z/66KMEQWzatOm6667DMOyTTz45duwYvJUKBAIej+eHP/xhQ0NDthtgHvOYR85DEAVPzDNAD3yp4ktlprJs00EL89rRTFFWBpzO/9aORoUpmhTQMV1Aze9Ir9fn7oX+VIGU39HoiGR5DLvdnos9e8kllzidzhMnTsTj8aampo0bN8K4oBiGud3u2267bcGCBfDJmpqaTZs2weugCy+8cM2aNcXFxbJ1Co7jtbW1oiguWrRIrhyGdQIAXHjhhQaDIRwO8zy/cOHC6urqDRs25I3NEow6lW0WGQJSfkfoCJvTfkfhZPic/5woiefNdARBEITBYEBkiwUj9aWvfiRej7SipATYbKC3F8Ri06wBx3FERjNS5s5I+R3B5QedYYyU31GOHt+oVKqmpqampqaU72XtSP6msrJygvS+Go3mrrvuGu+/y5YtW7Zs2SxRnnNAyu8IqfMddITNab+jkejI8eHjJcaSWnstRZx/eYV+R+hssdK6EKdXO+I47m9/+9vRo0eTyWRFRcWll146XmzQN99889NPP5UNYUmSrK6u3rJlC/xTkqTe3t69e/e2tbWRJNnY2Lhp0yaz2ZxW8pNEQQEwm8GpUyAen2YNyWQyHo8jEuQ6FArleuLqySMWi+E4jsJOGuYMhWkQss0lE8jRFEDTg8/nQyE+7DxGQxRFv99vMpmyTSQTgLl3ELlRQUdYlmUZhsnRHPS+uK/V11puKa+2TSqqviAINE0jcn0EPUjTpwikV8X885///Oijj8ZiMa1Wu3fv3sceewxmlRqNkydP7t271+l0wtRORUVFyiuz7u7u7du379q1S5Ikmqb//Oc/79ixY474uzudwGQCXi8Ih8H0XJdFUYQZ3FAAx3E55+E9bfA8L6dRz3uIopi7nq9TRXLaMVhyEIh4b89jNCRJQqf3WZbNm/SP5wU6wsKFKReFFUTBG/f2RfqKjEUlppLJFJEkied5dLZYaV2I03hy0N7e/txzz23atOnOO+9UqVTHjx9/6KGHXn/99Z///Odj3nKazebvfve78hWKfKqRTCYPHjx45MiR66+//vLLL+d5/tlnn33ttdfWr1+/aNGirN8hGgzA5QIYBjo7AcOAaRydq1QqRE7cAQBGoxGF8yoIrVab9fGZMahUqlxcgaYHdJLAwJk5R+1S5jFD4Dg+R2w0MgCj0ZiL1wvTg8lkQkRYiqJydCEOJ8OnPKdwDC83l1s1k1pxcBzX6XSIbLEwDEurBUcaG/Hjjz/2er233357SUmJJEmNjY3Lly8/duwYzLg3+nkcxy0Wy2gTDr/ff/z4cbfbvWnTJljwiiuu+OSTTw4ePLhgwYKsJ3smCFBZCSwW8MUXIBabpnaEyDwFAEDkzhdCq9Uisq3EMAypYYyUdiRHb5sHakBKOzKbzejMYOiogjD/Ty4K64/7Dw8cdhvdDc4GAp8Uf4IgdDpdLgo7DaRbO0qjPn3q1CmHw1FWVgbF0Ol0tbW1fr+/t7d3zOeDweA999xz22233X///Z999pn8fTgc7uvrKy4udrvd8Juqqiq9Xt/S0jJH7FsWLABWK2hrA4nEdIrHYjG/3z/7tOYkvF4vIsH45/Md5THSmmZhrmFgYAAdU415KMHzvJwVKu+BTgogAMDIyAgi9vww31EuChtJRlp9rcXG4jpH3SSLcBwXDAYR2WKJopjWbGxpvDvyeDx2u12+0CRJ0mq1MgwTCoVGP0xRVG1tLQweeuDAgb/+9a833njjL37xCwzDGIaJxWJ6vV5WiGFUaL/fn+LUIYpiZ2fn73//e/hnY2NjY2MjtFuLxWIcx8EIgJFIhGVZHMf1er0oirFYDMMwrVZLEEQ0GpUkCV5NxmIxQRDUarXBYIDaC0EQFouFpmmWZUmS1Gq1HMcxDKPXk1qtsbsbGxoKazQC9GGNRCIwla9arYYiq9VqrVYLmVAUpdPp4vE4x3HRaJQkyXA4nEwmMQyDaTei0ShUKTEMi8VikiQZDAYcx6PRqCiKKpXKbDZ7vV7YsCaTKRqNQlY6nY7juEQigWGYyWSCLomSJMGMHOFwGIYh0mg0kBVkCJlQFKXX62maFgQBwzCn0xkKheS2klnBdkskEpAVbDdBECiKslgs47GCTEKhkNlsjkQiyWRSkiSTyYRhmMxKrVaHw2F466JSqSArkiQNBkM0GuV5HrKCbXVeVjRNi6JIUZTJZII9SFGU0WhUskomk7DZrVZrLBaD1tjwXC0UCo1mpVarYQ8SBGEymcLhsCiKGIY5HA4oFDy8geMqGAyazeZoNApZwWrD4bAkSSRJms3mybCKx+NwslOy0mg0JEnSNA0A0Ol0KpUKtg9BEGazORgMSpIERztN0zIrua0MBoMgCDIrkiRDoRBkZTKZoJKjVqv1er3MSq/XJxIJlmUxDLPZbNFoVB6uOI4Hg8FEIgGXIiUr2FbwWng8VrCtoLEHfKEgK4qiIBOSJI1GYzAYhMMVvs6wuF6vZxhmPFZyr8EhCmOsUxQF2wrHcavVqny1YXHIShCEeDw+mpVKpfL7/ZFIBHqrj8nKaDRCwQEADocDCpvCSn61ISuVSkXTNBzhNpttTFZ6vZ7necjKbDYzDAOPh4xGo0ajge8dfIXhq63VajUaDRzVE7CCU6vcVjiOQ1bwmjccDkciEa/XW1hY6PF4YHfAUS2zghMOvGWKx+Nwi2k0GrVarcfjIQgirXFX55FWoONMiI6kUFhEDKElScrFwx1BFHxxX0+4Z1nhsnJz+RQKCgIiPQu1wfRVnkbtCC7J8p8YhpEkOZ7r9k9/+lM56mI8Hv/Vr3714osvrlu3bsOGDaIoCoJAEIRs3QE/j1mPKIryhRJ8/1MA3xblCyOPpNHPKP+Elac8Bv90OkW9XurqwhlGGq+2lDqV32AYhuP46J+W65F/d7xqxySfUnwCVuPJPkG1Ka0hiuLE1crAcRzDMFEUle0/umXkn5C/SfmJ0YKksJphW43HavRPp/xL5ikLO9UeHBPj/fp4bCdglfIKjC41mo+y+ARdAI9ClN0xusgE3ytZKd/NCbhN5rUd7xtlp4x+tSdmRRDEZHpQKezEXT/mf0d30JgFU9pqzC5QVpXCasxpUPk9nJ0mYDtx8VzcmsxDBiI+DPK+ItssMgREjK/gzjMXnY6ibPTw4GGKoCqsFVbtFAy54a4jndTmENI6O2Hp0zJvueWWvr6+999/H3YVwzCvv/76tm3b7r333k2bNk1QUJKks2fPfu1rX/v+97//i1/84sSJE/fff39TU9M999wjq0833XSTw+F46KGH5Fx10Wj0mWeeaW5ufuGFF9Ik0XhgGHDddeCtt8AHH4CLLgJTnXbgfiIXX+BpAN60IPL2oiOsvGNGZBjD85pss8gE4OyEyDBOH7Zv3+71en/605/mVvqg+bUpX4GOsDk6g/WGe7e8s+Wc79xvL/7tDYtvmGSpHBV2ekj37JTGWW/BggXDw8PyTQ7LssPDwwaDoaCg4LxltVotRVHQoMhgMNjt9kAgAG1joM0ewzDl5eVzxL9fowGlpUCrBadPg2l4QkWjUWgVgwKGh4cT03PPykEEg0FosJT3gDZ76LjPdXd3Z5tC5tDb2zt//4MmeJ7v7+/PNosMYWBgYI54MmcAg4ODiDhZxePxYDCYW35HkiTF2NhZ71mn3lnvqJ98QY7jAoEAIlssURTHi2IwK0ijdrRmzRqO4z788ENoRuX1eo8dO1ZSUlJZWQn3UoFAAL6fPM9DxxV4As0wTHNzsyiKFRUVAACbzVZXV9fT03PmzBlomNfc3ByPx1etWjV38mzW1gKTCbS0TEc7EgQBkXkKxmdHZ6fFcVxuTcozAVLDOD7t3M85CETW2nmMhiRJ6PQ+dIXNNosMgWEYRBZiQRA4jsutnhUlcTg23B/pt2vtZZayyReECcoQ6dl0L8RpNNpbt27dihUrHnvsMYPBoNVq9+3bNzg4eOedd2q1Wp7nP/roo9OnT1977bV1dXWhUOhvf/tbSUkJjJPb0dGxdevWxYsXX3rppdDTd/Xq1Z9++unrr78OXclfffXV6urqxYsXz5G7IwBAdTUwGkFbG5jGZhjH8bkjSLqhUqkQsdOARrHoCIvjODouCnPnXCYDyC1jsHnMImBYmmyzyBBUKhUK9kgQ6AgLF6bcEjbBJ/b37FcT6hpbjUUzhaDVGIZRFIXOriOts1MadzN6vf7ee+995JFHHn30UZ1Ox/P8DTfccMUVV0AFd2Bg4MyZM1D/EUWxubn51VdfNRqNkiTRNL1kyZJvf/vbMIQ3hmGNjY3f+c53Xn/99ccff1wQBIfDceutt07GQi9jKCkBOh3o7Z2OdgTjj6WF1tyDxWJRqVTZZpEhGAyG3JqUpw0YRg8dJd/lcmWbQoYA4zGis9zOQwmk4g1arVZ0ZjCbzYaIsGq1miTJ3HITTXCJ/X377Tr7KveqKRUkCAKdlJI4jjudzvTVn95NeX19/WOPPXb69OlkMul2u6uqquAYJQhi06ZNDQ0N0HbO6XT+8z//c29vbygUEkXR6XTW1tYq07waDIarr756xYoVPT09FEXV1NTYbLY5tWAXFQGdDrS3g1gMSBKY0paY5/lkMqmbRh7ZHATDMCRJIqINwmDoKBy+SpLE8zzLslnPzpwZxGIxRLJkSpIUj8fR0fPnoQTMkWA0GrNNJBNgGEatVufWNnraSCQSiOTvhibfObTlkCQpwSdavC02rW2xa/GUyoqiCHcdOSTvtAHXJphBJx1IewuaTKa1a9emfInjeG1tbW1tLfwTHk86HI4J6iFJsry8vLx8CnHfMwmbDdhsIJkEnZ2gqmpqYetYlo1Go9CqMO8RiURgBqFsE8kE4vE4PMvJNpFMgGXZWCyW1tzVcwd+v7+4uDjbLDKEYDCY1iO6ecxZiKIYDAYRuSkNh8OIzNVICcuybDwehzdI2eYyKYiS2B3qHo4O19pryy1T2/HC5IEEQaCwxZIkKRAIFBYWpqn+OXT9ktMgSVBTAzQacPw4mGpOOUQUfYicswCeCQiCQOFwDgLHcXSERcc6FGaYzTaFeWQN6PQ+UmsTRVGICIthWG4tTLzIf9T1kYpQNTgbjKopX9siNYzTuhCjsinPABYtAno9OH0aCMLUCiLld2Sz2VA41YAwGo2IzFOo+R2l77xqDsLlcs0pM+Z5ZAwkSaJzbehwONBZiO12OyLTNVyYcqhneZH/tO9Tk9p0YemFU90/kCRpNBoR6Vkcx9N6rT2/5s0aqqqARgM6OsBUoykKgoBOmgWGYYSpqo85C5ZlEYnoLUkSUsM4Fotlm0LmEI/Hcyse7jxmC9DvKNssMoREIoHOOE8kEogsxNDvKId6lhXYkyMnDSrDBQUXTLUs9DtCpGeh31H66p/XjmYNpaVAowHd3VO+O0omk+hstmiaRkRhgCsQOnsLpIZxMBjMNoXMIRQK5dDeYh6zCFEUQ6FQtllkCJFIhJ+qWXzOIhKJILKHZlk2t1TBM94z/oTfrrNXWCqmWlYUxXg8jsgWS5KktC7E89rRrKG4GKjVwOsFfv+Uy6Kz+UBHUtSERQropNubH8aIA53eR0fSeWHnMt7teJfCqZXFK7XkdALA5pawM0Rahc0ZW8y5D70elJWBL74AJ0+CBQumUFCn06Hj5O1yudDxO7JYLOj4Hen1enR6tqxsCvnLcx1ut3ve7whNkCSJTmzGwsJCRBw2oLCI7Dq0Wq1Kpcohv6P9vfu1lHZD+YZpbB5IkkQnbReO4yUlJWmsP31VowYcBw0NQKUChw9PraAoiuhc6PM8j865uyAIOXShP0MIgoDOMEbEdAGC4zikziPnIUOSJHSGOjqSwoUYkZdaFEVBEHJFWEEUjg8fVxPqaTgdyQ7AiGyx0j07zWtHs4nFi4FaDc6cmVophmEikUi6OM0xBINBlmWzzSJDiEajafUanDuQJIlhGJqms00kQxgZGck2hczB6/Xmyt5iHrMLQRD807AUz00EAgF0FCS/34+IsMlkMhqN5sox5eGBwyEmZNfZF1inYoD0dwiCQNM0IlssSZK8Xm/66p/XjmYTFRWAokBX15QLorP5QEdSKCxq8mabQoaAyOEcBDrdOo/RQGeoIzXO54Wdm3in7R0SJzeUbSCxaZoC5pCwM0daZ6ecscXMCZSVAYoCnZ1TK6VSqRDJWg0AMJlMiBjFQo8ydBw2ELFi5vvasgAAIABJREFUh7Db7dmmkDlYrVZE3OfmkQIcx61Wa7ZZZAhmszmHvFNmCLPZnFs5UqcNuDDlirD7evdRBHVJ5SXTm3IJgtDr9YhssTAMs9ls6asfla1bZlBcDLRaQNNTU5DUarXROOWMyDkK1LQjrXY6YWdyDhiGqdVqdJR8pLQjm802rx2hCYIgLBZLtllkCBaLJVf20DMHOqogRVE6nS4nepYTuGPDx0iMnJ7T0bx2NLuY145mExQFFi0CBAEOHpxCKZqmh4aG0khrLqG/vx8RVxwAgM/nCwQC2WaRCUiSRNM0Ot44586dyzaFzKGjowMd86p5KMFxXNc0LMVzEz09Pejks+7t7UVE2Fgs5vP5csIV59DAoUgy4tK7Kq2V06uBZVmPx4PIFksUxfb29vTVP68dzTKWLQMEMeWwdfOYxzzmMY95zGMe80AT77S9AwC4vOpyEkfiWm+OY147mmUsXgwIAnzxxRSKkCSJTqIYjUaTE3fcswKVSoXIHTccxui4Hun1+mxTyBx0Ol22KcwjO8AwDJ3e12q16LiJoiMsJ3EhLhTn4nM8XIEEpM8HPgcAXLrg0mlXAk3c0dlipXUhRuL1yCQWLAAEAdrawOTfRI1Gg45tt81mQ2cPbTQaEdlGYxim0WjMZnO2iWQIhYWF2aaQObhcrmxtpGKxWDAYnOPbmjwGQRBOpzPbLDIEu92OzmEWIsKKktgaaX32i2c/6vsowSeyTWci0Em61ddKYMTSwqXTroQkSaPRiMgWC8dxl8uVxvrTVzWaKC8HJAkGBkA0OtkiiUQiGAyml9acgd/vR8TcGQAQiUSikx8HuQxJkhKJRCgUyjaRDAEdR0EAwPDwcLb8jlpaWrZt2/bee+91dnYyDJMVDihDEAR0nAm9Xm9OeKfMCnw+Hwr5jvxx/xtn33j888f/eOSPLZ4WUZq7/pOHBg6FmFCFpaLUXDrtSnieD4fDiGyxRFEcHh5OX/3z1o2zDJsNFBSA1lZw5gxYvXpSRQRBQGdSTiaT6Hh4cxyHzh23IAgoLLcQiLi9QmRRLRFF8eTJk/v27SsvL1+2bNnixYsXLlxoMpkQMQrKOmCW52yzyBCSySQ6t5QMw6CwEJ/xnnmv8z1e5D/t/fTd9nerbFU2bRqjnM0Ee7v2ciJ3Ze2VM3E6kiSJ4zgUehYikUjjfeC8djTLIAjQ2AhaW8HRo5PVjiiKQiTuM/RhQEdhUKvV6GzjKIrSaDTZZpEhmEymbFPIHLIYqH3p0qW/+tWvTp48eeLEiT179rz33nu1tbVLly5dunRpVVUVOi9XtoBhGDph+pFKT6fX6/NeWDpJHxk60hZoq7PXJfnkq2deXVe2bmP5xrkZ86B5qJkX+Zk4HUFjM6Rcu9OaC2cujpJcx/LlYMcOcOrUZJ+nKCrv5ykZBoMBBXNnCK1Wi0iiGAzDVCoVOsMYHUdBmBolWz2r1Wrr6+sXLVp0ySWXtLa2nj59+ujRo/v37y8rK1u8ePGqVasuvPBCdOaTzIMgCHQOAkwmEyIpgOC2Mu+F7Qp1vdv2rlPr/MGyH3SGOv9y6i+vf/H6IseiImNRtqmlwhf3dQQ7cAxfXrh8JvXgOK7VahGZEnEcT6urMyq7mUyivh4AACYfh51lWUS8U2ByJ3TsrxKJBCJ2KZIkJZPJWCyWbSIZAjqOggCAUCiUXVMNDMOcTufChQvdbjfDML29vV1dXfv373/wwQfvu+8+dLzdMg9BEMLhcLZZZAiRSITn+WyzyBDyXlhWYFs8LYcGDi20LLy4+OJ/WPgPi52L/3r2r0cGj7DCnHNkODRwKMgEFzkWFRpmFO9HEIR4PI7IFksUxbRO/nl+eJAVVFUBAEBnJxBFMJkjV57nEdlDQ4UBHVONZDKJzh03z/OIOINCJT/bFDKH7Cq9HMd1dHTs3bv3yJEjQ0NDLpfrF7/4xeLFi9VqdVtb229/+1uKou67774sMsxjSJKEzpFHPB63Wq3ZZpEh5L2wg/Tgm+fe1FCa1UWrnRrnAtOCL1d9+cnDT25r3nZBwQVl5rI5Zdaxv3d/gktcXnU5gc9owwCPKdHJEJPWe4V57Wj2UVYGVCoQCIChIeB2n/95HMfz/o5bBkmSc2pWSisIgkBHO8JxHB1hEQmZCpFFO43Tp08/99xzp0+fJkmysbHx+uuvX7BgQWFhoV6vxzBs8eLFu3fvfvvtt+e1o/QBESsd1NYmiqLyWFhBFHpDvR90fdDgbLis6jINpdFS2psvuPlA/4GPuj/6qPuj6xdfryHnkJfsKc+ppJBcX7Z+5lUhNYzTuhCjsinPJLRasHAhaG8Hp05NSjvS6/XoRGUoKChARxXM78M5JTAMQ2oYV1RUZJtC5lBaWpotv6Pe3t7+/v7rrrtu1apVRUVFZrNZuVlXqVTf+ta3mpqassINBVAUVVJSkm0WGUJxcTE6a1NRUVEeCzscHf7r2b8m2MSygmXLy5ZTOIXj+ALrgmvqrmnxtPy/A/9vQ/mGSkvlHNEiRqIj3aFuIIELCi6YYVUURdlsNkQcgHEcLy2dfvTz89efvqqRBYaBVauAIIDjxyf1PFKJYgKBADr2V5FIBBG7FJjvCB0XBaTyHY2MjGTL7+hLX/rSk08+edNNNzU0NDgcjtH3GOvXr//ud7+bFW4ogOd5j8eTbRYZgtfrRcRhI+/zHQ3Sgztbd1bbq69ZeI3IiZFIRBAEAie+vfTbK90r2wPtL516ae54Hx3sPxhkgksLl9p19hlWhVq+o7RmY5vXjtKCpiYgCKCtbVIPI+V3xDCMIAjZZpEhsCyLTiYrpPyO0Amjkt3kTtFotLu7OxQKKU9DW1tbP//8c+hTrlar9Xp9tujlPSRJQie1VyKRQCpRTL4KG2bC73e+3x/pX2Bd0FTcBPNJQmGNKuPtK2536V2/3//7rlBXtpn+Nw4PHqaT9GVVl6mImdqJSZLEsiw6W6y0nj7Pa0dpwcKFQBRBd3e2ecw9oJNubx55DKSGcRaF/eijj/70pz+laN3RaHTLli1IKahZBFJDHR3kcbeOxEb+cvIvpabSGxffqFf9r6MTDMM212zeWL6RFdgHPn4gexz/F1r9rXEuvrJo5awkYsrjnh2NtAo7rx2lBVVVQJJAby+YzN21Xq93Op2ZoDUHUFhYiE7OUKvVmtZ4/HMH0O/Ibp+pYUCuoLKyMtsUMoeysrIsGrK73e7y8nLlNytWrNBoNEhtArIFkiSR8jtCJ9pKvgrL8uzxoeOt/tYSU8mmik0wya/ValUa5f76ol+XmEpeOv3Svp59WZ9GBunB3nAvwMAi5yICm2lYI4qi7HY7IlssHMdTloZZrj99VUMIghCNRmmaZhhmkgMxGo1GIhH5vBDeFYb/N+b4vXBxMTCZQCw2KeM6ePObCVpzAMlkci533OyC47j8zimhhCAIeWzIngJ0zI2gEU4W9xCSJKX8Ojp2I1mHJElIWX2jszbl5UIsSVKACTx5+MkCfcE1C6+BbjxwYVIKW2OvuWnxTRpS84+7/jHKZvkK+mD/QV/Mt7J4pU1rm3mUCFEUZTPCvAf0dk5f/ekNWhKNRk+ePPnZZ59xHFdWVrZ+/Xq32z1x2N9YLPanP/0pGo1edtlla9euhf3d3Nz85ptvUhQlH2E2NjZefPHFczZzDo6DxkZw8iQ4ffq/k8NOAIZhaJpGJCV5MBgkSTIvT61GIxqNEgSh0+myTSTtgLuoWCxmNBqzzSUTGBkZcblc2WaRIXi93mxFX8QwbGRkpLe3V76/EgTh1KlTHMfNkXhT+Q1BEHw+HyJ3woFAQKvVIhLB3O/3azSaPBNWlMQ2f9vRwaONRY1fX/R1+GUymYzH4xRFKWP03b327rfPvX185PgLp164bfltM8wyNBOcHDkZZILXL75eS81CxFdBEGiaxjAMhS2WJEkej8fhcKSp/jTeHfE8/+qrr95xxx3Hjx8fGBj4j//4j/vuu697Ql8cURR37tz53HPP7dixo7W1Vf7y3Llzu3bt6u3tTfwdHMdl/Up0YjQ1AZYFX3xx/icxDEMnUQxBEOhsa3AcRyS2JhzG6Aibx8FwRyOLs1NBQUF3d/cTTzxx+PDh1tbWL774Yt++fb/85S/Ly8uR6oIsAp12RmcVzldhk0LyqcNPkQS5oXxDmbkMfjnmwmTSmH524c80pObBfQ92h7LmIM4JXFewK8bFLii4QE3MTgpXHMfR2WKldXZKY9Xd3d2PP/74l7/85QceeIAgiAMHDvzmN7955ZVX7r777vFEam1t3bp16ze+8Y1XXnkl5V9lZWW33377mjVr0kd4dtHQADhuUoEZ1Go1OtvKlIwl+Q2YszLbLDIBDMOQGsboOAoCAOx2e7aG8erVq7ds2fLss8/+3//7fy0WC7zKKCoqeuCBB1C4ks06CIJAJ2mbxWJBRxVMccXJD/SEe97rfK/YUHzT4ptw7L8XI5VKNWam8huX3LijZceejj1PHX7qwUsezEpy2IHIQE+4R0NqqmxVFDEL3UEQhMFgyL+eHRMYhqX1WjuNc8HevXsTicQdd9wBXcQaGhqamppOnDjh8/kKCwtHPx8Oh5944ommpqbNmzeP1o5EUYxEIh6PR6fT6XS6ub8Pq6oCPA/6+oAogonJInXDgNTBBmrCojOM8/LkdTxkUVi1Wr158+by8vLPPvvM4/EQBFFWVnbppZcWFxejM9iyC3SGOmp2DdmmMPt47thzMTa2unZ1naNO/hLeHY3uWQIn/uWif/m8//OXTr10Ve1VF1denHG+4NjwseHocGNho1PnlNW5mWA8YfMVaZ2d0qgdnT592mKxyDEltFptTU3NsWPHenp6RmtHoii+9dZbnZ2dW7du9fv9o2sbHh5+7bXXPv74Y4vFsnDhwrVr19psqU5skiRBpzT4J0EQWZzZy8sBjgOvF4RCwGab6Ml4PE7TNCJZO3w+n9PpRORsIxwOEwSBQgAZmBclFoshMoz7+/vROVMfGhrKojuZWq1evnz58uXLs0UAZQiCMDw8jEjgTY/H43a7Ebk+yj9h/XH/S6dfMqvNtyy7RZk4iGGYeDxutVpH7wZXuVfdsuyWJw89ufXI1mWFy2zaCTdqacBZ31lf3Pe1hV8zqmZnguV5PhQKmUwmFLZYkiQNDg5aLJY01Z/Gd8Pj8SgVGJIkzWYzwzChUGj0w2fOnHn55Ze/973vVVZWpmhHGIYVFxevWbOmqKgIAHDu3Lm9e/f29PTcfPPNKe0iSVJXV9cjjzwC/1y2bFljY6NKpdLr9dFoFDryOp1OmEsYx3Gj0SiKIk3TOI7D+yiapiVJMhgMBEFEo1FBENRqtclk8nq9UN2y2Wwwnh5FUTqdjmXZRCKB47jZbE4mkzC4k9lsxjAsmQwXFFhpWnX6NFtbGwAAaDQarVYbi8VYllWyisfjJEkGg8HRrOBeMxqNSpJkNBoJgqBpGrIym80wizlJkhaLhaZpmRWsczQrHMeDwSCGYZBJIBCAWqtGo5FZGQyGSCTC8zyGYQUFBTIrg8EgSRJkZTAYRFGMxWKwrSiKgrmoVSqVxWIZzYokSb1eD9uKpmm73R4Oh2EMQ9hWoVAIslKr1XB46HQ6tVoN24eiKKPRqGQVCoUYhpmAlclkIggiHA6LoqhSqcxmM+xBlUplMpnkttLr9QzDwKqsVmssFksmk6PbajxWJpMpFAoJgoBhmMvlCoVCyWSSIAi9Xi+KYjQaDYVCZrOZpul4PA5ZwY6WJImiKIvFomQVjUYZhiFJ0mAwpLCCYaOgUJAV9B4Oh8MAANgFkBVsdr/fL0kSjuMOhyMSiTAMA1nBtsIwzGg0CoIgs6IoKhAIQFZms9nn88FdqcFgiEajsAcNBkMikUgmkxiGORwOGIUSVgXbKpFIYBiWSCQgK71er1araZrmOA7a54zHCrYVhmEmk4njODhcTSaTSqWCTFQqldFohNOCVquFL47cVuOxUrYVfHEAAEajEQ5Xnufh66x8tWFxOFx5no/FYqNZqdVqr9cbj8f9fr/JZJJZ6XQ6ua2MRiN8oQAALpcLCguHqMxKp9NhGAaT9hiNRpVKFYlEOI6D7QNfIiUraDIBWUEroGQyKb9EarUaFoEvC3y1dTqdVqulaZplWYIg4Ps4ASvZFlTJKhQKxWKxkZGR4uLi4eFh+dVWdgHLsjCIn81mi8fj8kuk0WhGRkYIgpiJISLLsgMDA/39/Smh8zZt2oSC5/E85jGPyeCl0y8N0UOXLLhkZfHKyZfasnLLrrZd+3r2vXH2jVuW3TIrFziTRJJPdoe7I8lIg7MhJS/TPOYCpqMdSZIEN4JOp3OCyxlBEJT/hbEH4PVOypORSOS5556rqqq6/PLLR9eD4/jy5ctra2tdLheGYb29vdu2bXvttdfWrl27dOnSFAJwawI/azQagiDgPSM0PIWqGvwMv4essL8DMpQ/yxfQ8LP8TUq1yqrk4mo10diIHToEzp4FixYRsp3V6OJwEyPf7Kewgt/L1UI+KazGZDKalfJhpTjK4rKAKW2F47goiqPbKqWqMVnJpeBuT6VSwR2zsqnlG2FlVXLx8VgphRqzB0cLO2YPym17XlbwsyiKyo5QslIKbjKZ4HYzpdox2210cSUr+VdShIXfp/Sg8icm01YpRUYPjBRWyu6Qq9LpdBRFpbSVsgdHs4LEJEma/LiaoAfHZCWb/CnbSv4J+ZnxXu3RReDDhYWFE7xEyuIprMYUKoX8mBOOsgtkC4qUHhxdMKULxmOVMpZSRrvL5YInkeNNOCnVKl+KGV7gRyKR999/f8+ePYODg6IoiqIINWGDwXDhhRfOa0fpBkEQ6QsJNddgs9ny6S5lYuSZsAzPbD2yVUWovrfseymaBnSIHW8WKjWV/tPqf/rpnp++eOrFi8ovqrJVZYoy6A339oR6zGpzuaVcedk1ExAEAU+1ZqW2OQ54Kp2++if1esRisf/6r//asGFDVVUVAODDDz985ZVXRFFcvXr19ddfP57RhXzlAgHPqimKgpqAEvv27Tt69OgNN9zQ0tKC43hra6sgCN3d3cePH6+rq9NqtTabzfZ367SampqvfOUrBw4caG1tbWhoSFHAYPAG+KfylVAOlxQ7AaV3r5Kb0iBKefapLK7RaGTx4Qm3/K+CAvXy5eCTT0Bfn0pZXMkEfk4mkxzHpUQnV7JSflar/yewyTRYKYuMx8qmMAScoK2UNlSTZAUAoGkaGptNhpWyWiWrlOjn47FSeuyNx0r5EynVTqatlD8xuq3i8Ti8u1B2rnK3oaxW+euTZKUcokpWyp+YoK0mw2rybcWyLM/zGo1GyUppfjYBK7nXJjkwptFWyldbyWq8aidmFQgEYCXjtZWyOyZgpRyuU2WlVqsn01bKC3bl58mzwjAMijZBF8hjKWVhnmH4imPHjr388ssNDQ2xWKysrKypqamjo2PHjh2rV69GwXRkLiCf9tATgyRJdBw28kzYt1rfOuc/V2urvbwq9YR9YlccCqeurL3ytS9eOzJ05D9P/ecv1/9ythSV8+K053RfuG9Z4bJCfeFs3VnJp7qzUtvcR1p9ZybVJefOnfvP//xPuBolEolHHnnE4/EYDIadO3fu3bt3vFKVlZUjIyPQDgQaSAwODhoMBmggp0RbW1swGHz55Zfvv//+X//619u3b08kEu+8884f/vAHpX4lw2AwkCQ5OiEsPPik/o7supPiOKiuBskkGBg4z5PJZBKa/aCAUCiETurbWCyW1mxlcweSJCE1jMecl/IV0CQyKz8N80rdfvvtVVVVS5Ys+drXvvaDH/zgV7/6VUdHx3xO2AxAEIQx3YDzEsFgMPPJuxNcwh/3i1Km03dmRdg0QZKkbc3beJG/dcWtFk2qFwrLsrFYbDxhMQxz6p3/uOofMYDtatt1dPBoRigDAEBXqGskNrKsaJlVO2surDzPR6NRRLZYkiSldXaa1LFQT08PNFsHABw/fry7u/v55583GAzPPvvswYMHr7766jFLrV+//t///d9379799a9/HRrjHTp0qKysTI7TIOMb3/jG2rVr5eHb2tr6u9/9bvPmzddee63T6YS50uUQK6IoHj16lKbpBQsWzOXjQ4IAFRWAZcHgIOB5MMEBnCiKeTNPnRc8z8/xRFWzCKQ2cKIooiMvIssPBMdxWfx1m80GzSeg05TFYtm8efNDDz2UXVboAJ12znwSxRATevHUi5/2fvrDph9uKN+QyZ+e+xkjJ48DfQeODh01qAzXNVw3+trkvAsThVOr3Ku+2fDNv5z4y4unX2xwNZjUpgmenxUwPNMb7g0nwzW2mtn9OaS2WGldiCelHSWTSRgzHgBw4MCBioqKZcuWxePxkpKSM2fOjFdq1apV69evf+ihhxiGcTqdb7/9tt/vv+2229RqNcdxzz///GeffXbHHXcsX768tLS0tLRULqhSqQiCqKysbGxsBAD09fW98847BEFAu74jR468+eabq1atqqmpmcvBRjEMFBUBrRYEAmBgAIxSCf8HMEJDRsllD4hEU4GAnvfZZpEhIGLrDJHWNAtzDRaLZS4M488//3zTpk3V1dUMw4x2Xp1HOoDjePpCQs01wKg5mfzF7lD31iNbu4Pddfa69WXrM/mWmc3mubx9mhK2NW+LJCM/WfOTQsMYqWKgN8cEEcwxDHPoHDc03LC7ffeHXR9+0PnBtYuuTTNl0B3s7gx22rS2cnP5bOWBhS+sXq9HZIuFYVhaI8dOai5wOp0jIyN+v1+tVr/77rtr1qwhSVIURY7jJtgSabXaBx988LHHHtu6dWsymayqqvrZz362ceNGDMMkSfJ4PO3t7TA40sSgKCqZTO7Zs8fv9wuCYLfbv/rVr37zm98sLCycC2v2BNDpQF0diERAW9t5tKO8mafOC2gVmW0WGcJoF7t8BYZhKpUKnZ5FZ8uYde0oFAr5/f7ly5fv379/69atixcv3rVrVyAQmOOTf34Ax/EU/7Q8hslkymQWIIZnWrwtZ31neZEfig7FuXgmA5cZjcb8mK67Q937evYJonDr8lvH9N6BC9PEWywCJ5YWLr11xa33f3T/ztada0rWFBlTHUBmF+cC5zqDnY2FjcXG4lmcygiCgDFaZ6vCuQwMw9K6EE/q9Vi5cqXNZrvpppuMRmNbW9vDDz8Ms/T09vYWFxdPULCwsPCBBx6Ad7gEQajVavhCUhR11113/ehHPxozFcyyZcs+//xz2dna5XJt2bLl+9//PjwvxHEcuhXN8XRmGAbUarBkCdizB7S1gUsvHffJWCwWjUbdbndG+WUJw8PDdrs9JQRFviIQCCAS9EmSpFgsFovFJp4Q8gbd3d319fXZZpEh9Pb2VldXZ2XFXblypcFgiMfjV1xxhd/v3759+86dOwsLC5955hlE5pDsguf5/v7+mpqabBPJBAYHB4uKijJ2pDVIDz516Cle5AEAdJKmk3QmtaMMC5s+PH3k6ZHYyNcXfb3aVj3mA/F4PB6PWywWZfye0TCrzZdUXLKzcOfujt0Xll74g+U/ILA0zngDkYHh6PCXq77s1M8obk0KOI4LBoMGgwGF6VEUxd7e3rq6ukk8Ox1MSjsyGo3btm3bvn27z+e7++67ly5dKkkSTMFx4YUXTlAQposZrQLB78flRJLK8yocx9Vq9cQje25CpQJ1dWDnTjA4ONFjY0Y5z1egIynsWXQsgJESFh0Pq+y+s5WVlZWVlfDz9773vVtuuYVl2bl/NJZPQGfGzqSkoiR6Yp6jQ0e1pFZLaQfoge5wd6FxDMOwdBHIi26NstEPuz6Mc/Efr/rxeGHfJrkwYRjWWNR46/Jbf/zuj/d07Lmo/KKFjoVpoAxgpqM+ui+QCFSYK0aHkZgh8qNnJ4m0LsSTvVotKSm577775D8xDFuwYMFjjz2WNmL5AIoCJSUgkQAjIxM9JmcIQQFIhZtEqmfl1FIoID+MUiaJLAr75ptvnj179uc//7mcQykXj8lyGugM9UyuTcFE8LGDj6lw1ZcqvqRX6T/p+eSM98yakjWZ+fV0h0LOGF44+UJ3qHuRc9GywmXjPTP5hYkiqJXulV+q+NLf2v62vnT9AuuCNEX37g51n/Odc+qdpeZSDTnuPcH0MEH48vxDWmenSQ0aQRAGBwdhNnQYZfWpp5565JFHjh07htQZ6lRBkqCsDLAsGB4GDDPuY0ajcXSU83xFSUmJMuVOfsPhcCjTNOUxMAwzmUwFBQXZJpIh1NbWZptC5lBVVZUtvZdhmMn4ps4jTaAoSr67y3uUl5dnRveWJCnEhPZ07Kmx19z/pftXu1cPRYc6g52ckLnwgOXl5RPY7+QEOIHb074nxIT+z9r/o6XGNRE0GAwOh2OSQYOWuJbc0HCDUW18p+2dE8Mn0mQN0RXqOuc/d0HBBeWW8f3RpwWVSuVyuRDZYuE4Xl09tjnl7NQ/mYc6Ojq+9rWvwfB0PM/fddddTz/99IsvvnjPPfccOXIkfeRyHQQBHA5gt4NAAHR3j/tYNBpFJ33K8PAwIimAYE6JcDicbRaZgCRJ0WgUndQo3RO8z3mH3t7ebFlraLXaSCRy7ty5ZDIpCIKoADpmnFkE9DvKNosMYWBgIJlMZuCHWIH9y8m/xNl4ja1mScGSQkOhjtJFkpEol7mDgMHBwVxPS/B+5/unvaddetf6svUkPu4dQjweDwaDkwxMj2HYRRUXXVlz5cc9H+9q2xViQrNKGcC1ciQ6MkQP1dhqxgyyNxNwHBcIBBDZYkG/o/TVPyntqK2tzWg0Quen9vb2o0ePPvjggzt27CguLt69e3f6yOUBdDpQXw+CQdDZOe4zgiDk+jw1eSSTSXTsYjmOQydbCFLDWL5IRwFZXGsbGho4jvuXf/mXN9544/PPPz+iwGTMFjiOC4VCPp8vGo1OPO0IgkDTtM/ngxsppeolSRLP85FIxOv1BoPBMbWyRCJOq7dlAAAgAElEQVTh9/v9fn9mttcZgyRJiOy04NqUGZU7zIS3N28vMhZtadpCEZRepbdqrd6YNxAPZODXIXI9LD4rsG+2vjlAD9y24rYCQ8EEtmSCIEwpuVOZueyq2quqbdWvnHmleahZEGfZPCrBJ/oifeFkuNRUatPOsmmJJEksy+Z0z04JaV2IJ2W0F41GjUYjHH/79u0rKCi44oorYrHYkiVLzp07lz5yeQCdDixcCN55B/T0jPsMjMKXUVrZg5w4CwWQJImOsDiOo+OikOtGKVNCFl19zp49e+LECQDAE088kfKvd955x2w2T1A2GAweO3bs+PHjNE0XFhauXbu2vr5+THeLaDR69uzZw4cPj4yMqNXq5cuXr1mzxmQywSUvHo9/8sknbW1tfX19ZWVlW7ZsSZmu+/r6Dhw40N7ezvN8fX39hg0bCgsz516fViDl6KVSqTLjsLG7Y/dIbGRD2YaV7pUAAJfeVWmpPOM70x5or7JVZYBAJoVNE06PnD42fExLai+pvERLThR5Dy5MUxL2kspLDtQcePrI02+cfWORc1GRoWgW26o/0n/Kc8qpd1ZYK2bd6QjDMKSC1qR1dprUbsZsNkciEY/HI4ri3r17V6xYIW+DcvoFywA0GlBRAWKxiQIzaDQadLaVFosFnbShBoMBkRcERqFER8l3uVzZppAhYBjmcDiytdwuW7bs17/+9Zj/mti2nmXZXbt2vfTSSwUFBS6X629/+9u777776KOPjvaiEQTh888/f+qppzAMq62t9Xg8b7/99ne+852bb74ZZnMeGRl56KGHjEZjLBZrb2+/9dZbleN8ZGTkiSeeaGlpWbhwoSRJDz/88JEjR37zm9/kxyxHEAQ6iY+tVmsGZjBO4B7a/5BRZfzu0u8aVAYAQKWlsrGw8dljz3YEO0RJHC/22uzCZrPl7nQtiMJb59465z8HA3kT+EQRJmAimSlFoTBrzFfVXnWg78ArLa9cXHnx5prNanLWduEDkYGzvrMLHQurrLOvCRMEYTAYcrdnpwQcx53O2YyHnoJJbcrr6+s1Gs22bdsKCgpOnTr1ne98B97MDg4OorNLmB7UauB2g1gMeDxAEMCYbyjP88lkEhFHOoZhSJJERBtkWRbGo882kbQDWh+xLJsHCTQmg1gsNvHFRd5AkqR4PJ4tPb+4uHh6GbTOnj375ptvLlmy5Mc//nFhYeHp06e/973vbdu27V//9V9TBBkZGdm9e7dOp/vlL3/Z0NDAsuwf/vCHbdu2XXLJJVVVVQAAu91+7733Op3Oo0eP7ty5M+WHdu3a9emnn/7TP/3T1VdfrdVqX3rppbvvvvuqq67asGHDzESfExBFMZFIGI3GbBPJBBiGUavV6Q7mtq933zn/uTpH3VW1V8FvHDpHla2KEzhf3MfwjI7KxE4gkUjkbhr6rlDX4cHDoiRurtls1VonfhiafE91y7GudN2VNVc+dvCx508+v6xwWYWlYlYmQFESvXFvf6S/qaipxFQy8wpT6xdFuOtAYYsF16b0paue1ClFaWnprbfeGgwGm5ubb7zxxo0bN8LNkFarbWpqShOz/IBKBYqKAI4DjwcExjEqZlkWnbhMkUgEHVeceDyOjtU+y7KxWCzbLDIEdOJPQBO1bIVA8Hq9B8fBxNPIZ5991tLSsnLlysLCQgzDlixZ0tDQsGPHjtEW+R0dHYcPH77gggsWLVoEDcm+/e1v6/X6kydPQtcms9l88cUXL1iwYExzypaWloKCgmXLlsH/3njjjSqV6sknn8yPoBGiKAaDwWyzyBDC4XC6Y/BKQHpw34MYhn2z/puyzwmBE2a12agy+uI+OkmnlYCMDAibJkiS9GHXhyeGT6wrW7fYtZgiznNPwrJsPB6fqrAUQV278NoVRSve63jv/c73GX78oMNTQYyNdQW7YmzMbXLPutMRfGFjsRgiWyxJkgLj7apnA5PSLzEMu+aaa5qamhKJBAwEKUmSxWK57rrr3G53+sjlAXAc2GygpAR4vaCzE4x5DYiIog8xVQvgnAZBEDl6ODcN4DiOjrD5YTc1SWTRTqOlpeWpp56S/xRFked5SOm5556bgFgsFrNYLFarVZ5tLrroon379omimDJKRVEUBEE5KcE5avfu3VdcccXEMzPDMAzDrF271uVyyTU4HI6TJ0+O/iFl2BKKojAMy4mZEBErncysTSdHTn7W/5lJbfrO0u8of8uhcxQYCs75zw1FhwoMmciLAEdgBn5o1jEcHT7YfzDABK6qucptdGPgPFJgGDa9hWmRc9E3G755xnvm6aNPbyjfUGuvnbnR40hs5NjwMZfeVW2rnnWnIwiktlhpXYgnuynHcdxoNLa3tzc3N/M8b7Va6+rq6uvr0XH/mjaMRlBbC3p6QGcnWL16jAeQ8juy2WwoWJpByLFM8h6o+R3ljdv9ZOByubI1z5eUlHz1q1+V/xRFcWho6I033ti4ceN5dzwul0tp/VhdXY3j+Oi7o8rKysbGxi+++KK9vb22tpbjuB07dni9XgzDznveHA6H4/G42+1W2kUXFxefPXtWEIQUhp9++ilN07Alr7zyyoqKCgzDioqKhoeHJUkiCMLhcESj0VgsBp0HYP3QV5Pn+Xg8LoqiyWQyGAyDg4OyU5DP5xNFUavVGo1GmqYTiQRBEBaLJRaLMQwDACgoKIDVwkWcoiifzwcdt1QqVTgcliTJYDDodLpQKAT1t6KiopGREVEUMQyzWq2hUAiyMhqNoijSNC1JktVq5TguFotJkmQymYxG48DAANx2m83mQCAgiqJOp9Pr9dFodDQrl8sVj8ej0SiGYUajUaVSQVZ6vZ4kSZqmRVE0Go1arTYQCECV2O12Dw8PC4JAkqTVao3H45CVyWTieT4ajcqs5LZKYRUMBgVB0Gq1kBXDMARB2Gy2SCSSTCaTySSGYeFwOBqNwrYiSTIQCMD2wXEcRj6cgJXFYkkkEqNZ2Ww2eLX+yGePxLn4zUtuxqLYQGxApVIZjcZQKKRP6st0ZSeGTzR3NTsFJ+xZuTsKCgpisRhkBb1KRrOCPej3++GgLSoq8nq9PM9TFGUymRKJRDweJwjCbDYnk8l4PA5D5IfDYdiDRqPRYDAMDQ3BHafRaAyHwzzP63Q6nU5H03QymUxh5XQ6E4mE3FY4jodCIVgVhmGxWEwQBNhWcIjiOO5yuXw+n8yKYRjYVmazGbYPbCuO42C7GY1GnU43MjICt0k6nS4Siezp2vNZ72cN9oZyVXnQG4zgEZfL5ff7OY7DMMxut8MkabCtCIKAPUVRFKxWEASDwaDX671er8wKFoeCy21lsVg2FmxcYl3yQf8Hfznxl580/oRNsBiGGQwGrVbr8XhgygGYdQC2lVarjUajyWQSVhsIBFiWhaySySRN0194vjg1fKpYW2wRLAMDA9AqDLYVZAWFhbNBIBDgOE6tVuv1+kQiIb9EDMPE43FJkux2O8dxkUhEyQr+Io7jNE1zHAd7MBwOcxxHEATsAo7jcBy3Wq3JZDIajaa82jAgDWwrvV5vMBiUrILBIMuyKpXKYDDIrOD7mEgkRrNSq9Xyq61SqWialscVZIXjeEFBgd/vhzaBFouF4ziapuE0KEkSZGWxWOBnURT1er3RaBwaGuJ53uPxwDmKZVnYVvF4XH614WsOWfE8Hw6HMQzT6/Uajcbn88FxOF6MpcluyltaWrZv397S0gLbiOM4t9t95ZVXXnPNNUgdo04DRiNYsACcOAEGB8d+QBCEeb+jvARSfkdwGM/7HeUfsuh3VF1dnZLvLxwOL1y4cNeuXec1XSMIQqnUjXekWlxcfNlllz399NO//e1vFy5cGIlEBgcHeZ6fjGkczLxEEISy5vHOCOx2e11dHZz67Ha7VquFpbRarSRJMMM9RVFarVa2JoBvE6wfmmwov4dF4PcwBBlci+EtrhyUTK4WwzAYRRMWpyiKIAj46/AmQel1A6sVRZFhGJPJJLMSRRFuJuCTsHgKWxzHYXEYPmtMVjBS63isZGGhgLKaqtFoYIPLxeUrayWr0W0lsxJFEcZNhUxwHIefoZoBOStZwWph+8hCTYMVRVEBPrCncw8A4IdNPzSoDXBMQmHrCusWuRZ90P9BIBkgVaSaUsOFA1YyugcnYAX1f5khtF9QqVRwjEEmGo0GGvPDz/KghW0FWanVaoqiYA+q1Wr875BZpfQg/EW5KshEZitJErwslVmltJXMhCAISZLgZ1itcmCwGNvsae4Kdf38wp83FDXoSB2sFoZegB2a0lZQdoIgSJKErJTtpiwOn5dZ4Tjutri3rNpyNnL230/8+1cqvtJgbZCbHbKCvltQKMgQjiW5WvjywndHo9HExFhvpPcrC75S46rRarVwiCpZKV9tmRWsFn4PGcL2gdXKvQaL8DwPmxQWl3sQSjdmW8Hn5XEl9+Z4rGBjjmYF50zYgxO82oIgwFaSmcDgGbCt5OJQOvgZ9qD8ass9GIlE4OBMYaV8teFLKreVHNZPq9VObN0zqU0qTdOPP/54X1/ft7/97dLSUqiO792794UXXnA6nZs2bZpMJchCpwNuN6DpccPWJZPJWCxmtZ7HuTA/QNO0Wq1GQWGAnq/wBCvbRDIBOIwtFku2iWQCwWBwetECchGhUCitoYGmBLPZvHnz5n/7t39jWVav10/wJLzxkP8cGhqClyEpj5EkuW7dOo1Gc+TIkUgk4nA4rrzyyt7e3pqamvNeT0G1AaY5kpfhwcHBMa3m6uvrr7/+evgY3AfAZ5Qzv16vVwqlPNRUHp/ZbP/jsaAsrpxqlEpaSrXK4sqfUPo3w2pZlu3u7i4qKlIWV56AzIQVPD8+LyvlMYRyeiFJUslKWdV41SqLK5lAwaF/3QSslIKPx4qiqDFZqVSqVzpeCSVDX6n6Sr2rXkWolMXNkrnEWqIm1Ek8qTVpTWpTSndMkpWSiZKhkpVKpdLr9cFgEG4Qp9dWECRJKosrl3UlK+VgULKCTOTPyrYaj1V3ovuw93CFtWJt+doSR4kcrS5FWGVxvV4Pd8lqtVo5riZgpfx8We1ll3df/h/H/+Pxo4/v+MYO2c1JyUpZZLy2oihKIIRBdpAX+QpbRVVRlTwGlG2lrHYCVuO9j2azWRAEtVqtUqmURZRVpVSrbCtlVcq2UrJSCjWe4FDpGrO4cpAomaRUOxlWVqvV6/XCSsZjlbL7Gk+oMTEp7ejUqVMtLS2///3vV61aBVU3QRCqq6v/+Mc/fvzxx/Pa0cTQakFR0X+HrUsmwZh6QX648E4G6EiKmrBIAZ10e3NwGIdCofPavOE43tfX5/V64fEwAODjjz+GVhyjH7ZarRdddFFjYyPDMBqNhqZpAMDVV199XktRrVar0WiOHTt25ZVXyoHdfD6f0+kcfT0ODy9zzvp0rvV++pBWSeNc/O1zb7MC+4t1v1CqRhAYhlm1VrPa3BHsCCaCUDtKK3KxW1mBPTFy4pTn1E1LblpasHTiQN5KzERYLaX9yeqf7O3a+277u+91vre5ZvO0q/LFfZ/3f15gKKh31lN4uuaBXOzZaSOtwk5KOxocHLRarUuXLoWKF7wvKykpqa6uns8Ge15QFHA6gcEAvF4wNAQqKlIfgPbf2SGXcbhcLkQujuDxGzp+R3q9Hp2eLSsryzaFzMHtdmfL76inp6e5uVn+EwYp2rVrF7yVnaDgkiVLSktLoeG+SqUSBOHkyZMNDQ3jXQdRFCUn9nnkkUcikcgED8uAtvsffvjh4OBgWVkZhmFdXV3xePzOO+/MjxefJEl07kgLCwvTp7s+f/z57lB3nb1uTcmaMR+otlWXW8oPDxweoAfKLeVpoiGjsLAw53YdZ31nd7fv1lP/n70vj2+jOtc+M6PRMtoly7It73ac2I6zrw6B7CGEpUmBJrRJWVsoLXDpbS9fewu0twV66aWl9LalkAKBhKUQCLkUskBWspo4cRI7zubdlrVZ+zaame+PQ6eqvODYGo3so+eXH8gjzZnnLHPO+57zLsq5lrnDj12hUCikUulojPknGCfcOe3OJ/c9+aNdP1pQuEArG6FNtSfiabQ35mvyq0xVAs0P0CVvzG3BjAw4jufnJz8qOo9hjRiNRuN0Oj0eT/xBWCQSsVqtiFgNjQYYBgwGUFIC7HbQ2jqAdsQHYkIB0D9SbBYpQkIsrPENhmHQGcaIhEyFoGmaP4FJMerr63/2s5/xj4a+ExMmTHj55ZeHXnoWLFhQW1v74osvejyeqqqqbdu2dXR0bN++HcMwlmXPnDnzs5/97Ec/+hHMSrR3714Y1JvjuD179uzevfvxxx/nw7FGo9GPPvooHA6fPHnS6XRu376dJMmysrIpU6ZgGLZx48aGhoZnn312/fr1JEn+7ne/M5vN8ZEkxjQ4jkNnqNM0PZh/9ijBAW77he3eiPd/b/jfwfKKVpuqK4wVW85s6fH1pCAn7DA969IHHMddcF440nlkUfGiBQULhn9wBINSjkY7wjH8e7O/9/bZt0/3nt50ctOj8x8dQSEcx3nCnivuK8tLlwun/ULDLkSCxwo9Ow1rxMyZM4eiqO9///v/+Z//OX36dIIgOjo6Nm/efPjw4Yceekg4cuMGBsOXgRk6Owf4FoZYES6nVVqhr6+Pd+Yb94DRYFCIt8FxHAykg0jiyN7e3qysLLFZpAh2u10sd7Lly5fHp9TDMAyetMvl8qHPjuRy+cMPP2wwGN5///1XXnmluLh406ZNkyZNgt9GIpHu7m4YPA3i2LFjW7duBQBMnDjxt7/9bW1tLR8/IBwO/8d//AfzD/zkJz8BAHz729+uqanBMKywsPCJJ5548cUXn376aZZlZ82a9atf/Wpoh6gxBIZhnE7nVxrojw+4XC6B4sfuvLSz0d6olCoXFS8abJfBoDDkqnJxDHeGnJFYREEKG97G6XRCn3hBn5JEdHg7dl3eFaSD03KmlehLvjKQN49IJBIKhUYZC0otVf9qya9Wv7n615//em3l2mJdv03ur0KADpzqPRVjYxa1xUQJ5cbJMIzP54NBIAV6RPqA4zi73c6f+ScdwxouOp3u2WeffeCBB77+9a9Ds7poNKrRaO6+++41a9YIxGw8QaMB+fng0CHgcAz8g7G1izMaoFNTWFnU6is2hRQh43eUGiSEE7gqGAyGhx9++OGHH064juP4nDlz6urq+CuLFy8ewntWo9EMYUCO43hNTc0f/vCHkZFMf6Az1IUb56+fft3qt/5qya+M1KCSHIZhWrmWklBWvzUcCwutHY25ufqS69LHlz6elz9vZdnK/o5bQ2P0lcUw7IaKG1aUrvis9bNf7P/Fpls2DV89g/CEPYfaD+WocqbnTh/+wdcIMOZ6djQQdHYarjI9c+bMTz/9dOfOnc3NzdFoND8/f968eVqttqWlZcKECcLxGx9QKkF2NvB6gd0OOA4kbB7BKPuikUsttFotOpZ1SqUSHcs6mUyGTmXTJ4ZbCmAwGMTq2cbGxhMnTsyfP7+iooK/ePDgwbNnz959993o+LmJBRzHETk4grvAQpylNNobm5xNgAMrylZI8KHKL9QWZlFZRzqPrJu8Tq8QNoatQJUVCO6w+1jnMavPesvEW6pMVVd1LzwEToqx2Ys3vTjlT1M+uvjRwbaDCwsXDn9W5DguQAfO2c6ZleYp5imjZzIYYI4gREQsmEhKuPKvwrZVrVbfeuutP/3pT3/+85/fd999+fn5mzdvfuaZZ4QjN25AUcBsBjQNbDbg9yd+mxC+cHwDJvsTm0WKIJfLERHg+IwcYhNJEdBJdgQPT8TSjs6ePXv69OkEXbS0tPSvf/1rMBgUhRJSgIk+xWaRIqjV6qQ7bLAc+9f6v15yXto4dWOBpmBob6IZuTNK9CXHOo/ZAjahTwBgplRBH5EscBx3pe/K1rNbJ2VNWlm2Uim9usNkmB0oKXFlinXF9828zx12P3XwKV/EN/wbOcD1hfpa3C16ub5Ye9VWecMHjNKOiIiFYZigDiniRCJCDRIJMJlAbi6wWgdwPfL7/b2D5UIad+ju7g6FQmKzSBGcTqfb7RabRSrAcZzf77fb7WITSREuXbokNoXUobW1VUTzKrVaneD1ZLFYEFn+RUcsFmtraxObRYrQ0dERiUSSW2aPr+eM7UyMjX2j+htq2VfomeWG8gJNgSfisQfsMVbYCDednZ1Jr6xACMfCZ3rPXHRerDHXzM+ff7W3BwIBp9OZLPf9/1jwHyW6ktPW09vOb2PYr8grwCMcCx/vOs5xXKG2MEspoMMqTdN2ux0REYtl2ZaWFuHKz2hHKYLJBMrKgNUKurrEppJBBhlkMEZA03Q0Go2/EgwG0XGGyWDsguO4dxvfbbA2LChcUG4s/0pvEwkuMSgMconcGrBGmejQP0YEHMf1+ntfO/VaFpV1bdG1RqWAllTDgU6u+7f5/+aNel8++XKru3WYdwXp4P62/VlU1hzLHKGjEWaQLGT6KUXIygLFxcDpBDZb4ldImSRRFDVWDvRHD5iyWmwWKQI0YBCbRYqASIRJCLVaLZZlHUmSLS0tx44d43dDvV7vhx9+CEN7i0IJKWAYhk7SDqVSmdxB5Qq5TnSfcEfcG6dszFHlDMePP1edq5aqG6wNATqQRCb9kfTKCoQYG2tyNtX11FWaKq8vv/5qYyHAFEAymSxZlSVxcs2kNdcWXtvsbN56Zms4Fv7KWziOi8QiDb0NeoV+Ws60pNAYDDiOy+VydEQsQe1+h7JPiEQigUBgsKzkbrc7Y/k9fGg0IDcXuN3A5Ur8amwF1hwlUIvKIDaFFAHDMKSGMTrhvAEAer1eLO2orKyMJMk//OEPK1euzMnJYVn28uXL77zzztKlSxHx6BMXBEHo9cKGB0gfJD1Qwd7WvXXddVWmqsnmyTJiWMN1es70HFXOvrZ9faE+E2US7r0bK1EZfFHfGw1vSHBJbX5tgaZgBCXAVLDJUhgwDNPJdQ/OefDu7Xd/0PzBkpIltQW1Q3cTB7jeQG+Ht2NW3qwSfUlSaAwGgiCUSiUi2pHQMWOGej2uXLmya9cuxyBRqCORSENDA58yL4OhodGA7Gzg8wGnE9A0iFcQQqFQMBg0m4eb+3lMw+l06vV6RKJQ+Hw+HMdROD7iOC4UCoVCoezsbLG5pAI9PT3l5eVis0gRbDZbYWGhKCvu5MmTH3rooa1bt37wwQcwfyVFUatWrfre976X0Y5SAIZh7HZ7UZFQySvTCg6Hw2QyJWuc+6P+z9s/b3W3PrHoiVJd6TD1nKk5U/PUebuv7HaGnBzgRnBUMkwkt7ICgeXY1r7WXZd3FWoL11auHVkg7HA4HIlEkpgCSEpI51jm3Fp169YzW98++/bErIlZ1FCbZTE2drD9IPQrMyiEjQAZi8W8Xi8isa9Ylu3t7S0tLRWo/KFaMBwO2+32np6ewX5gsVimT58uDLHxBoUCZGcDqRT09IC+PhAvQzIMk2BYP44RjUbR8RmgaTrNl58kgmEYQRNXpxUQcXuFiM+ammLgOD5z5kyLxXL+/HmYSNpsNk+ZMkWhUKATPl5EwCzPYrNIESKRSBIjxX3R/cXRrqMFmoLZebNVsuFaJxoUhmxlNgYwm9/GsAxOCGX8ltzKCoQoE3373NtBOjgvf97ErIkjK4RlWZqmk1tZo8K4fvL6va1797TsmWOZs75m/RCaG83Q+1r3aWSaBQULhHY64jiOpml0RCxBZ6ehtKMJEybce++9Qwvu6BgljxI4DkwmkJ8POjuB1fov2hFJkoicpSAY0XtM2HYnBUi5zyEV0VtEvyOfzwdPm+OztVqt1t7eXrGOs5ACUhG9k+iKQzP00a6jZ21n75p2V5WpisCuYqBmK7PlEnmjo3FZ2TKSEMoKfUxE9O4L9b117i0TZbq9+na5ZIROrRKJJOkLMYET1dnV36z55rOHn912ftv8gvllhrLBfhzjYqetp9VS9fQcwc8SkPI7Ejqi91Byqkqlyig/SYTJBIqKQE9PYmAGkiTRkaFR044Q2eHGMEwqlaIzjBNiTI9vaLVasYZxfX39kSNH1q9fH6+OWq3WF1988Te/+Q06fn1iAcdxdAKQqNXqZK1NjfbGg20HFRLFvPx52cqrMzaenD1ZJ9d91vLZvTPuVUmFEsCESO6UdLx97u1ef++y0mVzLHNGXAiUr5K+Nunl+lUTVn3a8umRjiPbm7c/OPtBmWRgW992d3uXr6vaVD2EBpUswHxHiLh2Yxgm6DYlKtJMOkCvB7m5wOFIDMwQiUR8vqvILDam4fV60TEjDAQCiJhgQQscf/9Ux+MUg3ljjks4nU6xTDWsVqvL5UpIiF5cXPzFF1+gM42ICIZhXP3jCI1TuN3uWCwJWYY4jjvVe+pY17GlJUtn5c26Wm+ZBQULspXZx7uOeyNe4Yzf+vr6klJZ4cCwzKb6TUqpcsOUDaPREqPR6BDRxUYMDMMmGSfdXn07wzF/v/j3ht6GwX6558oeDGA12TUameAbDQzDBAIBROZGlmWdTqdw5Qu7ix+NRt9+++0DBw6EQqGJEyeuXbu2urp66FtCodAjjzwSDofXrVu3atUqeJHjuEuXLn344YdnzpyRSqULFiy46aabBI1WIQRgYAaXC3g8/3KdYZixkpdt9AiHw+iYaiBlAYyU+1wgIGy83bSCuBq+XC5PMDzW6XTpv+09PgCjrYjNIkUIh8NJma7bPe0H2w4G6eCsvFlF2qKrjaxQqC3MVmbXW+ttAVuxrliCCSKkJauywuHD5g8vOC9UGCuWly0fTTnQIVYIPZOSUktLltZ11f2t8W87LuyoyKrQygY4yvis5TOKpBYVL0pBpiOO46LRKDqpNQSNmy1sbz333HPPP/+8xWKZPXv2mTNnfvWrX507d27oW1555ZXDhw8fP37carXyFy9evPjCCy8cPny4srLSbDa/8cYbmzZt6uvrE5R80oKf2D4AACAASURBVKFWg6wsEAwCmw3Erzg4jqNjbEaSJCLGZjC8JjpiHFLDGKmAaeIGXYQhPeOvuN3upO8EZzAYUAi5CSGRSJKyNp2xndl9efeCggXXFV8nJa669UiCzKKySJxs97THWKGOd9J/If7d0d/hGH7fjPv08lHFlMdxnCAIISqLAaxEV3LTxJuyldkfNn94tOPogDpYvbVeJpGlwOkInmglaxiPCQg6OwmoHTU2Nr755pu33nrro48+eu+99/7oRz+y2+1/+9vfhlDim5qa/vSnP33nO9+JvxgOhw8fPnz+/Pk77rjje9/73r//+7+vXLlyx44d7e3tab75kQCSBGYz0OlAezuIPw9UqVSIxEEGAOTk5KDju28wGBBx34dZI9HJAlRSImzairRCYWGhWB5lUqn0wIEDb775Jh+byO/3P/bYY+FwGB0nNxFBkmRBwUiSzIxF5Ofnj37Xwx121/fUd/m6ppinTMqaNDI5tdxQriAVe1v2BmmhtsYtFks6b/Gctp4+0nlEIVF8vfLro5T1KYoyGAwCueKQBHlt4bW3Vd3W7Gz++NLHvYHehB9ccFzo8feopKoKY4UQBBL5kKTRaERExMJxXNBkAwIuMHv37vX7/ffcc49Go6EoqrS0dN68eefOnevs7Bzw9zRNP/7446tXr54z51888BwOR0NDQ1lZWW1trVqt1mq1y5cvJ0ny888/H1vBRjEM5OSA/HzQ1gbs9n9eDwQCglpPphVsNtvY6rXRwO12I+JRxnFcIBBAx0Whvb1dbAqpQ1dXl1j7UIsXL16zZs1///d/r1mz5qGHHnrggQeWLVu2a9eu559/PhMxKAWIxWLd3d1is0gRenp6Rm8bfNZ2duuZrTXZNUtKlijJEUYNWVy8WCfX/d+F/wtEAxwQxPXIarWmsyH004eepln6rml35apzR1lUKBRyu93CZZvQK/TLypZNzp781tm3DrQdYNh/Odb+oPkDHMPn5c9TkKnQWGia7uvrQ0TEYlm2q6tLuPIF1I7Onz+fnZ0Nt5MxDJPL5SUlJR6PZzDt6O233+7p6fnxj3+cYIzk9Xq7u7uzs7P5A5aCggKKoi5cuJDOr/eAMJtBbi6wWoHb/c+LSPkdoZbvCJ0UQEj5HaHjjCFuviONRvOd73znySefVCqVR44cOXXqVHV19datW2trazNnRykAavmORrk20Qzd7mm/3Hd5as7UuZa5Iz70mGWZpZPrevw9zpBToMAMo6+scHAGnftb9wMA7pp+1+h9dYTzO4LAMGxBwYJbJt7ij/o/vvhxh7cj/tt9rftInFxasjQ11m6o5TsSdCEW0E/AbrcbDAZ+TEgkEp1OFw6HPQlBCQAAALS1tb3wwguPPfaYwWC4cuVK/FfhcDgYDCqVSl5rUqvVJEm6XK4E63OWZS9duvTzn/8c/jlr1qxZs2ZJpVKKogKBAJRTTSaTx+OJRqMYhqnVapZl/X4/hmEUReE47vf7OY6Dz4JxTmQymVqthiGqcBw3GAww6ppEIqEoiqbpUCgEAwuGw2G4kEBjKlhNhUIhl8uhi5RMJtNoVAYDdvo06O0NRyISyMrv95Mk6Xa7I5EItFDiOA6ygiFrYSgwmKDA5/OxLCuVSnU6nc1mgw2r1Wp9Ph9kpVQqo9EozyoSicABpNFocBx3u93Q0VmhUEBWcrlcLpdDJiRJqlQqr9cLG9ZsNvf19UWjURzHVSoV31bwM3RMj2dFkqRerx+QFUVR0Wg0HA57vV6DweDxePq3lVwul8lk8DNFUVKp1O/3x2IxiUSiVqvjWcG2wnEcto/P5+vPSiKReL1eyEqr1cIeJElSo9HEtxVMpI1hmMFg8Pv9UE1NaKsEVrCtCILQarVut5tlWQzD4LjiWUEmHo8HPg46TsCIsW63m+M4+DoMyIqiqEgkApkYDIZgMAjbKp4VjNrp9XphkHSSJGFbQVZ9fX0cx2EYlpWV5fV6eVb8uFKpVAzDDMhKq9XCk0yZTKZUKv1+fzQaJQhCpVKFQiGo/2RlZfl8PsgQRoZ1uVxwyIVCIZ4V7EGapnEc1+v1LpcrgRVBEEqlEobZgRWELxT8TJIkZAIHAD9cISt4+9Cs+LYiCAK+RJCVz+eLxWIYhhmNxvhXG94OWcViMdg+CaykUqnD4QgGgw6HQ6vVwuOyBFZqtTp+woGVhc2O4zg/ljAMgxVXKpUymczr9cIoUllZWYOx4tsKvtr8wJDL5fC9g68wbCuKouRyOexBHMe1Wi3sjv6s+LaKZwWn2b6+Pr/fb7PZcnNze3t7+ZmcZ6VSqWiahm2l1+v5iEkajUahUPT29uI4bjKZRraIYBim1+vvuOOOO+64g79otVpfe+21DRs2IGJAIi7SP2do+uCS69KLdS8aFIaZeTMN1MijRikkimxlNo7hvf5eLpu7yrAOw0I6d+v/HPkfV9h1XdF1k7Mni81lWJBL5KsmrNrXum/r2a1LSpbkqfN4f7N6az2BEzNyZ6SMTDr3bNIhaGUF1I4Yhonf3sMwDMdxjuP667XRaPQ3v/nNtGnTVq5c2b8cjuOgUMVfgT52Azrm4jjOW9NC77QEQCaQDE8s/nr8xfivYOHxX8XXiy+T763+t2MYptVyej1wuXCv959FqVQqjUYDFbb+ZPhi468nFNv/ev/bh2A19O0DfoatAVn1Z9i/WB4mk0kmk0F5HbIasI/4R/BXcByHekjCLTyHBFajbKvBWCVc6f+Z5wxTlcEAfUO0zxBtNZyn97/ev8o8q4Rfxvfg0HziK9X/W/hKUhQFX734HvzKwvu/gAnDdbBC+jMZrH2GaJMhXu2hWeXl5Q2nB4funa/kmcBqsJGT0FYDdkF8Uf27pv9Yin8Hc3Nz4c7UYGyHuD1+ph0xYLb7UCh05MiRbdu2HT58mKbp2267LaMdCQ2JRJKfny82ixQhLy9vNE7eLMd2+7rreuqWlSxbM2nN1YaqSySjypPgktPW04uKF11tTPBhlT+6ygqHEB366OJHMTb2i8W/SEqBcGESOgXQzNyZN1bc2NDb8HrD67PyZkGXsyZ7k9VvNavMFYZUOB3xfkeIxIIS2u9IQO1IrVY7nU5eKIR71SRJJoRnBQDs2rWrvr7+ySef7Ovrc7vdDoeD4ziPx2Oz2aA7nVQqjUajfFGhUIhhmP6ZrXEcLy0tfeyxx/qTiZ8IEjI5xqcUjF9u46MixkdNiL9doVDwyfIS5poBb2cYYDYDlgUul4KmgV4vg4dj0Wg0wX0/vpXiPw+HlVwu56Nmw7OvAW+J/xzvoBmfXSShreKZxNv9x98+BCuNRuN2u/tnOB4Oq/gA7kO01QhYDVbsYKziOzo+DkHC7fAwAcdxiqLiWcXvow+HlUajiW+u+Fvih2t8+8Q/YphtNRxW8e2ZUKzJZIpEIjRNKxSKeFbxbTUEK/4djB+6Q3RB/O3D7MH4ise31WDFxrdPf1Y2mw2+JoPdHl/xIVjFTz5XyyrBqXqwtorvwRGwMhqNTqcTchuiC/j2SZgGRxNvhmXZSCQSCAQuX768e/fu3bt3t7W1FRYWrlu3bvXq1ehkKRUR0LIOkay74XCYJMkRS5a2gO2NM28QGFFlqspVjdZbZmHhwg+aP9hxcccDsx8YLM3oaBCJREZTWeGw5cyWdk/7BMOEefnzklIgtKwjCEJoW9yvV379UPuhD85/sPPyznxNvkqq2tG8AwCwpHiJnExRiG2WZaPRaDrH20giYL4B4WYnAbWjsrKyY8eOQaM4eEDU3d2tVqtzcnISftnZ2SmVSp9++mmo/ASDwUAg8Prrr586deq//uu/YCwsp9Pp9Xrhkmy1WkOhUHFx8ZiLIEwQIC8PZGWBy5eBywWgnBMOh30+HyKLfV9fn0QiSc9dq6TD7/fDQxWxiQgOKEUFAgFEkln19vaiE2fSbrfr9aMKqnu1iMViLpfLarXW1dXt2bPnypUrcrl82rRpHMc9/fTTtbW16ISsFRcMwzgcjoRsvOMVLpcLWiyP4F6WYzs8HTuad0zOnrx+8vrRn/YsLV2qlqqPdR4L0AG1LPmTqtPplMvlQp+oXC1CdOi9xvf8Uf/z1z8/gmDoAyISicB9eaHFxQJtwS2TbjllPfXnuj8vLFw4PXf6wfaDAIBV5asEfW48GIaBjgYoiFgcx9lsNuEi5Qo4XObPn//666/v3LnzlltuwTCst7e3vr6+qKiouLgYHg2Fw2GdTieXyxcuXGg2m3n/9dbW1r/85S8LFixYtWqVVqtlWXbSpEmHDh06e/bsvHnzWJatq6sLhUKzZ88ei0mv8vNBbi5oaQFuNygsBND4JA23cASCQJkH0hM4jqPjO54UG6qxgjG3LzMapH52cjgczzzzTH19PUEQpaWl999//+LFiwsKCu67774UM8kAnaE+mnEepIOfXPokEA1UZlVWZCXBjKpIV2RQGLp8XT2+nhxV4oby6JGeIsfBtoONjsYcZc6SkiXJKjOVC9PXJn5tX+u+N8+8+ebZNy0aS6O9ERrdpebpELwVPQoQdHYSsOh58+bV1tb+4Q9/gDEADh8+7HQ677jjDrlcHovF9u3b19DQcNttt1VWVlZXV1dXV/M31tXVvfLKK9OnT1+1ahVUEOfOnXv48OH33nsvEAiEQqH33nuvurp68uTJ6bbzMRzk5gKTCXR2Aj7Us0wmQ0es1Gq1Y7HXRgalUonIPIVhGFLDeMRhBsYijEZjioex0+nctm1bQUHB+vXrly9fXlBQgMJWaBqCIIgUHxuKCJ1ONzJhi+M4W8C2qX5Toa7w9sm3yyXJ2bS1qC1N9qZmZ/P03OQnEtXr9em2EEeZ6Jtn37QFbI8teMxEJW2ClUqlMCFssgocAmqZev3k9Se6Trxy6pV8Tb41YDUpTaWG0hQ8GgKGyUm3nhUIMK6ScOULKM1QFPXYY4/V1NRs3rz5tddeu3jx4oYNG5YtWwZnE6fT2d7ePmA8PoVCUVlZyVvhYxg2derUO++8MxAIbN68+e23387Pz7///vvHqIBiNAK9HvT2Ar8fQDdvpE4YkNrYQK1n0alseu68CoTUV1an0914440Gg+Hjjz9+6aWX3n///ZMnT8JIjClmkgE6Q33Edg0xNravdZ/Vb51onFibX5ssPtNypkkl0k8ufZKsAuORhnP1md4zp6ynVFLVTRNvIomkyffxQYlSgEXFi1ZPWB1jY88efjZEh1aWrkyWtjwcpLiyokPQ2UnYQ/OKiopf/vKXzc3NkUgkNze3qKgIVoYgiEWLFtXU1BQXF/e/Kz8//9FHH43/SqlUrly5curUqZ2dnRKJpLS0VKfTpeHrPRzo9UCnAx4PcLkAwwCJBASDQZ/Ph4jnq8PhMJlMiOxteDwegiDGov3n1YLjOOguiMgw7uzsRGdPvaenJ8XuZHl5eU8//XR9fX19ff25c+dee+01jUZTXV3d2tra09MTDoflcjk6EoCIYBjGarUmBPAYr7DZbBaLZQTHR6FY6A/H/6CT69ZMWpNEH6EbJtywqX7Trsu7aIZOorYAMeLKCgSWY98//36ru3Vt1doSXcno0xzxgClh9Hp9avR8CS7ZOHXj3ta9J7pPcIBbNSF1TkfQY9PtdsN8GKl8rijgOK67uzshclgSIfi7oVarZ82alXARx/GysrKysrIBb9Fqtddcc03CRRhadBxEF1UogNkMpFLQ0gL8fiBYz2aQQQYZjEnAXG2LFi2qra3t7u4+8w/Y7fa333774sWL1dXVq1atQkECyCD9cbjjcJOjaXL25BsrbkxisdNzp+vkumZnszPkFML1KK1w2XX5aOfRGBe7tfJWlVQ1jDvSF5Wmyo1TN15wXvBGvLMts8Wmk8EIkS47B+gAx0FREcjKAs3NwOsFOh2Qy+Vj9BxsBNDr9ei4EMDsn2KzSBHkcjk6Rjhms1lsCqmDyWQS66BGKpUWFxcXFxdfd911LS0tzc3Np0+fPnTo0K5duxYtWpTRjoQGQRDChYRKNxgMhpGdpTx/7HkSJ9dWrjVSyfSCoEjKrDJfdF280ncl6drRiCsrEHZd3tXkaFpUvKjKVCXBk0kMOsSmeG26vfr2Nk9bNBYt1BSm8rkwFzkiIhaGYYJGjk2j1wMdFBaCrKwvz45QC/aFWsw6RCobn3IUBaSVYCE00kHp1Wg0U6dOnTJlClSTLly4gIgEIDrQGeowffzV3nXecf5A2wGjwriuel0S7cEgKowVhzsO72vZV1uQNHcmiJFVViD0+nsPdxx2Bp1rJq3JVmYnl5gorjhZVNYjcx/BMVyIXFVDAAZATp+eFRqCrk2oSDNphdxcoNeD7m4AY1JEIhEfH8BuvMPtdkejUbFZpAgwxKLYLFIBjuOQGsZ2u11sCqkDTOotNgsA136z2Txv3rx169YhkvFQXDAM43Q6xWaRIvT19cVisau96+mDT9MMfXPFzQXagqRTWla6jMTJdxrf4UCSX8CRVVYg7G/bX9dTNyN3xszcmUmPYRCNRgOBQOorm6vONatSbWIQi8X8fj8iIhaM7iZc+RntSARkZQG1GlitIBgEHAdYlk2feUpoxGKxNJG0UgCGYRiGEZtFisCyLDqVRWT5geAz0aUPpFIpOvuj4iINe18g0DR9tWtTX6jvw+YPZRLZvTPvTa49GMTSkqUKiaLR3ugNe5Nb8ggqKxCCdPBY57E2d9uNFTcW6YqS/l4jtTChJmIJuhBntCMRYDAAnQ6Ew6CrC0SjQCqVIhLpC1rIoOMtQFEUCgHrIJAaxoKmWUg36HS6jCqCJnAcFy4kVLpBo9FcrRnhs4efdUfc8yzzqk3Vw/j5VcOoMGZRWTRLW/3W5Jas1WrTwWIWxrQ42H4wX5M/1zJXI9MkvXySJBUKBSJW3ziOK5VKREQsDMMEjRyLxIhJN0gkoLAQqFSgqQkEg2iJlSqVCh1DdoVCgYh2hGGYVCqlKEpsIikCOiJjRjtCGTiOazTJF1jTExqN5qpk6Bgbe7fxXQDA49c9nvSI2xAYhuVr8wEADb0NyS1ZrVanw0LMsuwp66kmR9NNFTdVZ1cn3XELbttRFJUmqqDQIAhCoVCkQ8+mABiGCboQZ7QjEYBhoKwMGAygsREEgyAQCDgcDrFJpQhWqxURVxwAgMvl8ng8YrNIBTiOQ2oYt7a2ik0hdWhvb2dZVmwWGYiAWCzW2dkpNosUobu7+6oMdV6tf7XT25mryp1jmSMcq8XFiwEAHzR/kNxiu7u7I5FIcsscARpsDZ+1fCbBJbMss0yUSYhHBINBl8uFiIEoTdMulwsREYtl2fb2duHKz2hH4qCkBOh0oL0dhMOA4zh0hA90agp1BnQsgJGqLFKG7Ei9sxkkAJ3ev9qabjq1KRwL/3H1HwWNS/b1yq8DAHZf3k2zyZTv06RbT1tPH+86vnrC6nmWeQQuyPEOUgtT+vRsaiDoQpzRjsSB2QyUStDVBSIRgOM4Iieh0AgYHSsdgiAQOdCHRjjoVBapgGmZ2NkoA53ev6q16WDbwSt9VyiSWlqyVFBWlaZKtVQdiUVsflsSi02HhbjT0/l5x+f+qH9G7gwhIv5BwIVJ9MqmDBKJBBEnK6FnJ1SE8nRDdjZQqUBvL/D7gVKpQsfvKCcnB51X12AwIDIpYximUiE0jEtKSsSmkDoUFRWh885mEA+SJAsKhBJb0w0Wi2WY+zsMy/z26G/7Qn2PX/e4WqYWmliBtqDN3dbqbrVoLMkqc/iVFQgsx560ntx5aeeCwgXXFF4jJYQScymKQicqg1QqNRqNiEgdOI4XFxcLWL5wRWcwBDQaAFOQX7gA+voQctiw2WzhcFhsFimC2+1Gyu8IndQogpo7pxs6OzuRstbIgEcsFuvq6hKbRYrQ09MzTFeci86L5x3nZRLZusnrhOcFpudMj7Gxz1o+S2KZVqtV3LQEnrDnZM9JW8A2J29OZValcA8KBoN9fX1I+R0hImKxLNvR0SFc+RntSBzgOKioABoNaGgAwSCDTvqUSCSCjqRF0zQ6mawYhkFkBYIrrtgUUgdEfHwz6A+O4xCRtODaNBwHFY7jXjz5Yoe3Y82kNXnqvBQQu63qNpqld1/ZzbBJ87IIh8MiLsQcxzU5mt5ven+CccKCwgWCnr/BfJKIuB5xHEfTNDoilqBrU0Y7Eg1QO2pqAgxDoGPbLZPJEDnjhnYp6HiUEQSBSJoFaK0hNoXUQaFQiE0hA3GAYRgiOQng2jQck6Q2T1tddx3DMt+d+V0ZkQr/w8UliyW4pNXd6o0kLSesXC4XcSEO0sHT1tOX+i7NscyZa5kr6LPgwoSIsRlMrYGOiCXo2oSK6JaGKCoCSiVobwc4LlOrUXFn12q16KiCSqUSnUlZJpOhowpmQbtYBIBhmMFgQGe5zSAeBEEYDAaxWaQIOp1uOPs7W85sueC8sKBgQZmhTIj8PP2hkWnMSnOMjXX7uvWK5KS/1Ol0Ik7XHd6O95rey6Ky5ufPN1LCZtaWSqXohEciCAKdbLA4jgualj2z5omG3FygUIDOThAMxkIhVKwXQqEQOsZmkUgEEZtJjuNisRg6Rjg+n09sCikCx3F+vx8Ru5QMEsCybCAQEJtFihAMBr8yQLA9YN/bsrcv1HfPjHv0cn3KNr8qjBWRWOSU9VSyChxOZQVClIk22hvruuumZE9ZUrJEaA0zFouhY8/PsmwkEkFExIJrk3DlZ7Qj0WAyAbUaeDygvT2Kzgrk8/kQeXWhKoiOwhCNRtHxxunr6xObQurg8Xgy2hGaYFkWkbgycG36SoXho4sfXXBemGKeMi1nmnBh1vpjWemyAB3YfWV3st5Er9crlnbkDDq3NW0jCbK2oDZfky/042iaDoVC6GhHwWAQERGL4zi32y1c+RntSDQoFKCwEJAkOHsWR8fEER0LYATzHaFjWZfJd5QBIkCn979ybQrSwd2Xd1v91vWT11vUllQuZKvKV8W42Dn7uVAsOW7oYi3EDMu0ult3Xd5Vpi9bNWEVSQhuA4ZUIj6Y7wgdESuT72h8AsNAVRWgKNDcrFCrkbAThSmA0FluNRoNIvMUhmEKhQKdns3NzRWbQupgNpszfkdoQiKRZGdni80iRcjKyhraYeOzls9O954u1BbOzZ+rlKY0t1uhrlAr0/qjfmfQSWmTEBLGZDKJ4p3ij/rfa3ovHAvPtsyelDUpBU+Uy+UkSSLiikOSpEajQWSbEsfxnJwcAcsXrugMvhITJwKKAk1NrN+PSszcQCCAyLEvjJo6zAQaYx0wkCg6lnXomBtBI5yMZR2aYFnW601anLQ0h9/vH8LYjOXYfa37Wtwt36z5ZoWxIjXxGHhIMEmeOi9Ehy73XU5KgcMxI0w6OI7rC/e91/ieRW1ZO2mtXJKKcIg0TYfDYbHMCFMMhmHC4TAiIhbHcYLOThntSEwUFgKZDLS1Ab8fFbESNe0IKb8jdBLjCGrunG7IaEfIgmVZdAKQDK0dHe86fqzrmIyQLSxaaFCkOo6fBJfMtcz1Rryft3+elAKHrqxACNCBbU3brAFrRVbFbMvs1DwUakfo+B2hE/iK4zhBtykz2pGYsFiATAZ6e8lIBAn7KzigxaaQOiBVWaSAVM8iVdkMEoBO7w9d0/1t+8/azq6bvK7KVEVgqfZjIQnyxgk3eiPeI51HYmwSZF9RutUb8b566lWDwrBhygYlmTrTRHTGcKaySQQS5olpC6MR6PUgFsOcTlTSp+Tk5CBiAQwA0OtTF/JVXGAYplQq0UkcWVxcLDaF1KGgoCDjd4QmJBJJfr7gUcXSBHl5eYN5Tra6W7/o/sIf9dcW1JooU+pndQIjasw1MonMFXJ5wp7R5wgaorICIcbEDrQdaHI01WTXLClZkrI2pCgKnVx8JEkajUZEolDgOF5YWChg+cIVncFXAsdBVRWQSrH6eiRGM0wBhMgZNzzTR+SMG1o80zQtNosUAR2DSVhZpPYjM+DBcRwinpNDj/Ndl3cdaDuwesLqmbkzJbgIcjaGYTKJzESZwrGwPWgffYGpX4jDTPiFYy8oSeWdU+/Uy5OT03Y4gAsTIjMYy7I0TSMiYnEcJ+hCnNGOxASGgcmTgVQKGhpQ6Qi3241IglToZIVIoAI4T6HjomCz2cSmkDo4HA5EZIsMEsAwjNPpFJtFitDX1zfg/o4v4rvoumgP2hcWLSzSFYllDkDiZJG2qC/cd9p6evSluVyuFO/c+aP+U9ZTSqly9cTVqWzDSCQSCATQicrg8/kQEbE4jnM4HMKVj4pQnraYOBHIZODKFVQ6Aikxi+M41OorNoUUAZHNOQh0ujWD/kBnqA82zj9r/ezD5g+rsqqm50ynyCRE0x4ZlFLlsrJltoDtYMfB0ZeW+pf61fpXo2x0onFiqa40xY9GagZDqrKCzk6oCOVpi4ICIJGAlhYQCIBoFIz7ga3VatHxO1IqlQqFQmwWKYJMJlOpVGKzSBFMJpPYFFIHg8GAiPtcBgnAcdxgSHV8NrGg0+n6e6dEmegl56VWd+vNE2+emTtTJGoAAECR1OLixeFYuLWvNUiP1iRhwMoKB47j3jz3pk6ue3D2gymeTKRSqVKpRMQVhyAIlUqFiIiFYZjROFoHvCGQ0Y5EhsUCVCrOauVuuw288gq4dAk4nSAcHrdqklKpRMQ/Euahk8lkYrNIBTAMI0kSHVVQq9WKTSF1QCepcQYJwHFcrVaLzSJFUKvV/WXo+p76D5s/zKKyqkxVGplGJGoAAIBjuF6u18v1QTroDI3W3FGlUqVSYej0dp63n1dL1QsKFqTsoRAkScrlckTiyuA4rlAoEBGxMAzTaAR8JZEYMekMrRbcfjtTXh774gvw0ENgzhxw//1g61Zw9izo6QGh0HhTk7q7u9HJiuN0OhFJjMNxnN/vt9uT4C48JnDp0iWxKaQOra2t6JhXZRCPWCzW1tYmNosUoaOjIyEEBc3QjfbGkz0nV5atXFS8SPQ9gWqOewAAIABJREFUAikhzVXneiKednf7KIvq7OxMZbyN3x/7PQvYawqvyVHnpOyhEIFAwOl0IhIxiKZpu92OiIjFsmxLS4tw5QurYrIs29HRYbfbGYZRq9UWi2WwPVer1epwOILBIMMwJEkaDAaLxQL33VmWtdlsV65cif+92WwuKChIcUhKgfDDH/qvvz7Q2GjZswdcuAAOHQI7dgCTCSxZAhYvBpMng5wckJUFZDIg9uScQQYZZJBBBkig3dO+p2UPSZBTzFPMKrPYdIBapp6ZO/OTS5+c6DpRW1ArurY2TESZ6AfnP5ARsrum3SU2lwwyGC6E1Y7q6+v//Oc/2+12juMoilq2bNnatWv1+gGCOW7fvv3o0aNer5emaYIgDAbDLbfccv3110ulUoZhdu3a9ctf/tJisfCODStWrPjWt741PrQjqZScNEl2zTXgnntAYyPYtw8cOQIuXgS7doG//Q0UFoJrrwW1tWDiRFBQAMxmIJGMYTWJoihELIChKw4iB/q8AYPYLFIEQQ/00w1qtXqsyGEZJBcYhqHjTKhUKuOna4ZlztnPfXLpk3n585aVLhMlkHcCtDLttUXXbj2z9az9bIyNkcTI3UsSKisoTllPXXFfKdQWTsudlponxkMikaCzEOM4LpfL0RGxBLX7FfCFd7lcTz31VDQafeihh7Ra7WeffbZ161aNRnPrrbf2X2vz8/PXrl2bk5OjUCi6urrefPPNX//612VlZdXV1fAHRUVF9957b01NDfxTp9ONG3toPlUZQYCaGjB5Mrj7bnDuHDh8GJw8CS5cAB98ALZsARMmgNpaMGsWqKgAZWUgJ2dM6kioRWUQm0KKgGEYOhn3AABZWaikb0YqqXEGCSAIYsDdzHGJhEAFzqDzQNuBKBOdnju93FAuKrUvIZfIyw3lUkLqDru9Ee9ocsKmMirDyydfZjn2lom3pDLNEQ+pVCqRSBBRGAiCQCcEhdAxYwR8PY4cOXL69Om//OUvS5Ys4TguLy+vqalpz549K1eu7L/zunr1av7zpEmTOI579NFHGxoaeO1IoVAUFRVVVVUJR1gshEKhYDBoNn95cI9hQKkEc+aA2bOB2w3OngVffAFOnwZNTeCtt8Drr4OqKjBrFpg2DVRWgooKkJ0tdgWuBk6nU6/XU5RocVFTCZ/Ph+P4+DjhHBocx4VCoVAolD22huNI0dPTU16eFgJTCmCz2QoLCxFZcTOIB8Mwdru9qKhIbCKpgMPhMJlMcJxzHNfibnm38d1JWZOWlSyTS9LiVBzDMIVEkUVlecKe3kDvaLSj+MoKCn/Uv79tPwDgmzXfFPpZAyIcDkciEbVajcJCHIvFvF4vIrGvWJbt7e0tLRUqQLyALXjs2DGlUllbW8sHl5gxY8bu3bvb2tr4I6D+4DjO6XSePXtWJpPl5+fz191u94EDB9rb2zUazcSJE/Pz88fNEQTDMANm78IwoNeDhQvBggXA4QCNjaChATQ0gNOnwauvAoIAU6aAmhowdSqoqQGVlWBMRF6NRqPoeHhDM1GxWaQIMCW52CxSBETcXiEEzUeeQTpD6Gz0aYVIJMLnivFFfQfbD9oCtqWlS2dZZolN7Z9Qy9TlhvJOX2eTvanKNPLN4vjKCoq9rXu7vF1l+rLRsB0NWJalaRqRLEAcx9E0jY6IJejsJKB21N7ebjKZeFcEqVRqNpsDgcBgga18Pt8LL7wQDofdbnd3d/edd945bdqXVqoSiQTDsMuXL7e1tblcLp1Od/vtt8+fPz/BzwGmzv3kk0/gnwUFBXDLUyqVRiIROGJUKlUoFGIYBtoCsSwLNROpVIphGIziIpVKcRyH0wc0Wg0EAlDHoygqHA4zDIPjOEmS8MXDMEwul9M0DZNPQ1aw20iSlEgkUJaSSCQkSUajUYZh4llFIhGFQhEKheDtMBYFzwSyUihAba1s/nysrS3S1MRdvEicP684eDD017/KNRp80iRQVQWmTuVmzGAnTuQUihiUUxUKRSz25WdoehvPZGhW0KYTxsmAbcVxHGQFP8N2k8lkkCHHcQRBKBQKv9/PR5bk20oqlcZisVgsxnEchmF8ZeVyOfwTMpFIJPHtBpngOC6TyeJZwdsxDIO7QQOywnE8HA5zHAeZwB4kCAIWlcAKOkRFo1G+C+LbKoEVbCto4BsKheC0q1KpwuEwzwoyicViJEmGw+H+XTACVvFtRZIkQRCQlVQqJQgCtg+GYQqFIhj8MhtGAqv4toJDF34mCALeAisFP0skEjgYeFY0TcOM40qlMhKJxLdVIBCAZGiaHpAVRVGwsgms4t9BuVzOq1jQTg/e0p8VbBN4+xCs+LaCr/MQrOBneDsslmcyICtY5cFYyeVyOEjiK8u/LHz7wM0C3vYjHA7DEa5UKgdjFd9W/CCRyWQkSfLvnUwm4ytOkiTswaFZxbcVhmH8S0QQBLzu9/u1Wq3P5+OHLmQFBwbfPgqFgn+ETCaTSqU+nw8p35VxBqQiese74tgCtq1ntuZr8q8vu15FptHoNVGm2vza544+d8Z2Zk3lGhwboTtNyiJ6v3PunQgTuWvaXUqpOHbmEokEqYje6PgdCR3RW0DtKBgMxmsvcNmOxWJDaHvQuj0YDDqdTigyQtlx3rx5JpPJaDRiGNbR0fH666//6U9/Ki4uLi4ujjeI5zjO7XYfO3YM/skwTFZWFi8PwfUbilDRaBTDMIIgWJYNBoMYhmEYBkUEKL5D0ZNhGLjG87IjFAui0ahEIsFxnKbpUCgEk71Eo1Fehoa1gOICjuPwMy+y0zQNpVvIiqZplUoViUQikQh8NMdxkBV8pfmnEwSh14fmzWOvuUbq9yuOHw+0tsbOnFHU1ZGbNwO9HpSUYBUVYOJEeurUYGUllpsrjUajvJQPi4WiFS8Qw4mDZwV1OSjfqNVqWFn4aL6t+M88q1AoxLIszHjDy4tQ4ufbCrYPjuP854S2gtI//ExRFJQjY7EYr8vFs4pEIrAoeHt/VrAikBUvxZIkCSV+yAp2AWx22LNQhk5oq/6s4KGQVCqFj4DyXzwryIRlWYIgaJqGtxMEAVlBrXswVlCUh0ygRAvbCn7FjyuSJOFn+ArAtoJvDT+M4WjnWfHjiiAIhmF4VvAwhN8L4IcrVFCj0ShBELCtoNwMRXbIEH4VCoVomoZ6Hc8Kqs00TcdrkvGs4L08E4lEAl+ohMrCAcB3B5T44e08wwFZ8W3Ff4aseN2MH678q82z4iuSwAoWBbuenxkSWMWrxHxlYbPzlYJkeFbwHeRV4sFY8W0VP+HEtw/UiPjhyvcaVGMGY8W3Dxzh/MCA2jh8+7RaLd8gcrk8nhU/wvlXHv4Mvps4jme0ozEKHMfRCUCiVqvhoI3EIl90f9HkaFpcvDgdAnnHQyvXVmdX0yzd4+8J0kGVdIRv1oDJnZIOZ9D5Rc8XDMfcWnWr0M8aDHB3DB3tCMoGYhNJBTAMEzTxoIDaEUmS8ZY2HMdB6W2wnlMqlffddx/Lsh6PZ+/evVu2bCkqKrrpppswDCspKSkpKYGTVE1NTTAY/P3vf3/u3DmLxRJvS4phWG5u7je+8Q34p06n02q1UFBWqVRQioXCmUKhwDAMCsFQCOD/C2VEKK/Ab3Ech30AL8LboVYA94yhdgRFQI7jYAW1Wi38PUEQ8HYoSUAm8Dr87Pf7/X6/wWCAgngCK15Yh6w0Gg08DzEYgNmspmnMbse7ukBTEzh4EPv8c+zkSU6jUeTmkpMmYddeK1m4EC8pkUkkQ7GC4gtkJZFI1Go1lGJhpwzYVrB/+7PiE2XC+SihraDgzrIsRVEDthXf1JCVWq3mWWk0GtiDkFV8W8Hbh2DFF9ufFUEQsCj+OmQFX7z+rPheg0+EjxiQlUQi6evrYxhGpVLB0yS+2K9kBQVQ+AiKouA2wWCsoCIB2wreAh/Bj/b+4wp+HpoVrGw8Kzjz8m3FFwt7MBAIRKNRqVQaz4pvK1jsYKxgIVA5h2eAPCte140fGPG3D82Kl/L5Vym+rfq/2vztUM3ozwre4nK5oHgxICuSJGHFYckDsoKf+f8Ok1V8W/H7R/xL1L+t+B6Etw/ICrZPfFvFs9JoNC6XC4rICcOVZ8XP6hKJBD4unpVYwmUkEtm7d+/+/fs9Hk9+fv5tt91WVlY2oJDEMEx9ff0nn3zS1dVFUVRtbe2KFStUKhVkznGcx+PZsmXL+fPncRyfOnXqqlWrcnNz4b3btm3bs2dPwpbfyy+/PD6kMYZhXC4XIsqt2+2Gr5Un4nnp5Et6uX71hNWj8e0RAhJcolfoNVKNN+L1hD0j1o76+vpS4He048IOq886K3dWib5E0AcNAbiLlBptUHQwDBMIBCiKQsTvyOl0Cne4LWAL5ubmnj9/npcdaZp2uVwKhWKwKBM4jsNIUCaTiSTJ119//cCBA1A7+hfGEkl5eblMJrNarfAwgQdc8idNmtS/8HglKsE575/DKOIigl2AiwKAAQAIAOAHAIAcfsAACALpP69jBAAkBgDAQIhPrIuBMAAYIP7xGwCAnP8KAGncZwIDAGDRsNcfU5CkOV5vjB/c8Z/j33C5XC6XA7UalJSAWbPAypWgpwecPo3t3y85cECyfTs4eBCYzUR1NVi8GCxfDgoKEm8fsFgocn1FWw3JasDboQjFcRyvFA14+2Cf44viJddksYKfEwSawdon/vb4turPCsMwlmWhbd6AtwyTVXyxo2c14OdhshqsWHhowB8mjJhVwgIWzyThIJq/fQhW8V/FVzaeVXyxw2cVi8VgdQZjNcRwTSKrwQbGYD04MlYsy/avbPzt8UwSZgwRg7y/8847mzdvrqqqKi0tPXTo0Oeff75582ajcQBh97PPPvvd735nNBpramrcbvemTZtsNtvGjRthzMlQKPTjH//40qVLS5YsicVi77//fkdHx8MPP6zT6QAAFy9e/PTTT2+++eaioiJ+qUqr04bRAEZbEZtFigBNW1mObXO3He44XJ1dfWPFjSM2XRMOKqkqV53b6e1s87RZNJaRFcLb8QqKnZd2BujA3dPvlhKiRUSAdr/o+B1Fo1F0UmvwhhhCQEDtaNq0adu3bz9//nxlZSWsRlNTk9FoLCn56l0EaKuToPzwsNvtkUjEYDAkeTPA8Tk49wwI9w7+i+Gtedi//O8rf6pkGQUmB/T3Qdm9YERJFTAMKBSgqAgUFIApU8BNN4HeXnD8OPj4Y7B/P2hqArt3g9/8BsycCW64ASxbBkymETwkOYBnAqI9PrVIUBXGN+CphdgsUoR4TW/cYyzGempoaPjoo48WLVq0YcMGjUZzyy23rF+//he/+MXzzz+f8Muenp5PP/00Pz//wQcfLCwspGn6z3/+8+uvv37DDTdAO8OTJ0/W1dX98pe/nDdvHsdxH3/88W9/+9uCgoK77rqLn8pWrFgxb948vszxNMWNxd4fGeB+VjgW/s3h30hwyXVF1+Vr8odxX6qRo8qZZp6268qus7aztQW1IyskBQtxh6fjnP0cwzKLSxYL+qChAQ0fxtMrOQTgYT4ilRV6dhJwX2T58uVarfaZZ54JBoPRaPTkyZMnTpyYPXu2TqdjGObEiRPvvvtuV1cXzIx0/PjxQCAA9XuPx/PSSy+Fw+G5c+fC8+5z5865XC5Y7IULF9566y2CICorK5NtXokDjAC4BOASgBMAIwCG/+MfBjAMYAAALu4f++U/jgEcA7jYl/9YGrA0YKOAiQAmApjwP/6FvvwXC4FYEMSCIBYAMT/B+El/Ezj1/8CBr4G+hlFVAAcUBfLywNSpYONG8PLL4PPPwbPPgpoacOkSeOcd8P3vg9pacM89YMcO4HYnr+WGDZjSSoQHiwGDwSCoXWz6AHpeoZMFaDhbPOMGhYWFY85O7PDhwydPniwvL8/Pz9fpdOXl5eXl5R999FH/HbeLFy8eOXKkpKSksrJSp9OZTKbvfve7Uqn01KlT8MfPPPOMRCJZvHixwWAwGo1Tp04tLCxsaWmJL4qiKJVKpf4HUl5doUCSZEFBgdgsUoT8/HyZTOaP+nde3pmjyrln+j0Eno57W3nqvFl5sxxBR7unPcoMEO12OLBYLEJv8bzX9F63r3tF2Yo8VZ6gDxoaFEUZDAZEXHFIkjQajYiIWDiOC5psQMC93uzs7KeffvoHP/jB4sWLjUZjR0fHokWLNm7cCJ3y9+7du2fPnpycHIvF4vF4fvrTn9rt9oKCAoIgWltbWZbduHHjmjVrYGD+559//sSJE2azGcOw7u5uiqJ+8pOfJF9AyV0Bsq8DIMXBEDmfzxe98p6x7Veg5xPQdwpMfARUPAgkoxrfOA4UCqBQAKMRlJeDO+8Evb1g2zbw7rvgxAnQ2grefhuUlYEf/xh8M7VJCGw2m06nQyTfkdvtJggCWuCMb3AcB8PWmUQ8l0wh2tvby8rKxGaRInR1dcGZWWwiV4FQKGQ2m+GSAbX3FStWHD9+HAZKif8lTdMJFqEwnNff//73FStWSCSS8+fPWywW3lglPz9/7ty5LpcLxlCBF5977rk///nPBoNh+fLlq1evHjd7t7FYrKenp7CwUGwiqUBPT092dvZ/f/7fQTo40ThxgnGC2IwGhoyQZauyFaTCHXb7o36DYiSpPKxWq8lkElRBOtp51BvxfmvKt8TNFhUKhaDfEQqnoDRNe71eiqJQELFYlu3q6iouLhaofAG1IwzDli9ffuDAgZ07dwYCgcmTJ8+bNw8uJziOz58/Pzs7G+5LlZSUvPbaa/X19VAvslgsCxYs4LOjlpSUPPHEE6dPn+7o6GBZtqioaO7cuQaDIfkrEE4CXIQNBgbngua1xikbwYkfgLYt4PT/A93/B6b9GmTNHX3hGAakUiCVApUK/OhH4Ic/BJcvgzfeAO++CxoawB//CEpLwfz5yajG8MAH5kYBSGUeGCxt17iEoObO6Yax6HnCcZzZbNbpdPwyUVFRAYPuJPyypKRk+vTpDofD5XLBw8/XXnvNarWyLAtPhziOKyws5MtRq9V5eXmtra1utxua3k2ZMqWiooKiqLq6ugceeODGG2/83//93/6nbYcOHQoGg3AFvP766+GJnMlkcjgc/wi0YwgEAqFQCAa94DgORmlXq9UMw8CQjyqViqIom80Gl1GdTgetKmQymVKpDAaD4XAYxtiAJhsAAKPRGAwGYWxVpVJJkmRfXx8faNHv93McB8PkeL1eGDWRZxWLxfx+v9frhaz4MEIAAI1GA8P3Q1ZKpbK3txfap6nVarfbzXGcXC6HARgHZAXToMOw9VKpFLKCESahIQmM/OF2u2FHmM1mm80GQ8vAomAQVJVKxUeY1Gg0sVgMtpVSqVSpVPGsPB4Py7JyuRwGq4TBPHU6nc/no2na4XAYjcbNpzfrZLrvTf5eJBSJETGPxxMfyxEWK5PJPB4Pz8put0OtW6PRhMNhvq14VlqtFsa9hG2lUChgXhOSJJVKpdfrZVlWoVDI5XIY2wbHcb1e7/F4YHcktJVEIokGompSbQ/aOx2dMVmM70G32w1XHJPJ5HQ6odcrDN8P20qtVsMwtg6HQ6vVRqNRyFCpVFIUFc/K5/MxDAPbCrLCMMxgMHi9Xhhty2AwhMNhGJSSoigcx71eLywKAHDOeq6xtxFgYEr2FJfDBQVCo9EIIxVBVpFIBLYVzwq2VSwWgykNoJTvcDigDRVFUZAVbCu/3w/zqRiNRrfbDcOQ6nS6SCQC2wqGaLfZbLCj4SNgU1MU5XK5oFc8fztJkjDwKWwr2Jsw4IpOp4tvK5lMBt87uVwul8shK5lMBtuKZ+XxeOBnvqnhqw0T2MCNGOjaB0NV8ZWFAwCO/ARWQ7SVXC632WxerxeKx4FAAPYgbCvYPllZWX19fTAZg0ajiWfFTzgwCgsMuqtQKJRKZTwrOCwTWGm1WqiFwraC8waMCiuTyfhXmyRJnpVCofD5fDwrt9sNw9uq1WpYqf7TINyE5ThOoVDAV9vhcKjVaq1WC1lJpVKYSIZ/tf1+P5xwtFoty7Kw2WGkq76+PjgOB9sjENxPIDs7e8OGDYlPlUgWLly4cOFC/kpeXl5e3sDHrwRBWCwWi2WE3odjAjiOA6kezH8VFN0GTv0E2A+DA2tAxfdA2b1AljUyZ6RBHgQmTAA//zn47nfBL38JXnkFbN0KqqpAyuy/xpyJzmgA47OJzSJ1QKeySA3jMVpZHMfjByQ0remvHZWWli5cuPCpp55yOBxLliyx2Wzbt2/3+/16vR7+ICGKDPSvYxgGCsePPPJI/LnT//zP/zz33HN333337NmzEx4EA1HCX8Igh/y5Vnwj85NGwof4uvC38LFV438Mr/e/Jf43g/03IbAEHwq5/1f957fBir1aVgP+hm98PnIp1g/DYTVgq0JuBEFsadjiCDqqs6qnZE8Z7Mf9/4zvghGzGrBB+l+HyFHllOnKztnOXXRdzLPk8fF4h7glvtgBu7V/Kw1Y/aEfwRey49KOTl/nbZNuMyvNIAT46FxDFAubMaFJr6qt4j/zFYSVHYznYGMpoX2Gvn3AYTnE56GHJT8b9L8lnl78kIsvCjpZ9WebUKn+9erf4P1ZJRQ74Mww2O3DZJXwY55V/xmA79mhB8DQ4wcMDmzchPLw+/1/+ctfTp48+cYbb4jN5eoA01l+abnBcSDYCZqeBW1vgZgfZNWCyn8HplogUYGkBs9hWXDoEHjgAeDzgSeeABs3gtTY5cL0KYi478N8Migc6MNt5n8O4/EOn883ntxLhgDcrlMqlWNL9X3uued27dr1xBNPzP/Hyfj27dsfffTRpqam/u9jJBL59NNPt2zZ0tXVZbFY7r///ieffDI/P/9Pf/oTRVGlpaWTJ0/evn07bIFAIPDqq69evHjx8ccfHzD+anFx8dKlSzdt2hR/8eWXX7bb7Y8++ujYiufBsmwoFIK73eMeXr93ystTbAHbq7e8evvk28WmMxTsAfvTh57+44k/Prv82QfnPDiCwHrBYBCmexaCXpSJ3vXBXe82vvvamtfWTFojk4g55uHCBJMxiEgjNYBJ3mFSELG5CA64NgmXb2D8D5f0B8MwMIUlgJZwygIw7RkwdxPImg9cdeDYPeDcr4GnETBhkDxVFsfBjBngu98FHg947z1w5kwSyx4KMMduKp6UBohGo/Epv8Y3YrFYxrJuXAIaFInN4uogkUg6OzvtdjvP/MiRIzB5Wv8fy2SyG264YcuWLfv27duyZcuECRMYhlm9ejU8MtLr9b29vXw5Npvt3LlzSqVyQPUYPgKaGI0DQO1IbBYpwtHOox2eDpPStLJ8pdhcvgJZVFaZvowDnDPkDNEj6SBozSUANQAAONlzstnZrFfoJ2VNEjGWNwRcmBAxcWdZNhKJICJiwez2wpU//vXL9Ec4HPb5fP8S3ExCAcuNQFsNrvwVdLwHLjwPHIfBhPtB9rVAng2w5Oz3qFRg1Spw4gT48EPw/vugqAgMlAskyYAZ98bWBuqIEQgEYDpOsYkIDo7jIpFIIBCAaUPHPWw2G+8YOe7hdDoHTBOUzigrKzMYDJ2dncFgkKKovr6+Q4cOlZeXQ9ejaDTqdDr1ej0M7hSJRDiOk8lkGIZ5vd6XXnqJYRjeS3bDhg2bN2++fPlyeXk5wzDNzc0nT5689dZb4b57IBCAqZ8wDKNp+syZMzRNL126VOwGSA5gvsVUxqIMx8Jd3i5bwBZjYyl7KMSTh55kAXvvjHu18nQPNIphmFqm1sg09oDdG/EqpVe9xPT19VEUJUQkN47jPmv5rNXdenvV7XnqPNHPnKFrjVQqReE4hWEYv9+P4zgKIhbHcQ6HIzs7W6Dyx/9wSX9AU9H+V4G6FFT/BGTVgiuvAvsBUPcQKFoPim4D+hmAkINkTDqlpeC220B9PXjrLTBlCrj5ZiD0O4VUMH7oXSA2ixSBt/RFAYjEh4UYi1LFddddd/bs2X379qnV6qKioqNHj2IY9sQTT8AEzZ2dnZs2bVq3bt2UKVMAAE1NTU1NTdC19cyZM0ePHl23bp3RaIQz1caNG3fu3PnUU09t2LAhEons3r27vLx86dKlcLTv378/EAiYzWbo//373/++qqpq3bp1YjdA0pCy3o+xsV5/7+cdn7919q39bfsD0UBqnssjykSNCuN9M+5L8XNHBhNlylHmNDubu33duercq71duIXYG/E2O5r9Uf81RddoZeLrmQPLV+MX6CR3EnohHnvL3vgD76o7ACQUsKwC2krQ/jfQsQ1cfgk4j4HSO0HuCqBKQkBzggDXXgu+8Q3w/PPgrbfA5Mlg0qSkqF2DQqvVouCHAzHmvDVGDAzDhhrG4w6IBC6H4PWEMQSVSnXTTTeFw+Hdu3fDXcYNGzbwkRJCoVBrayuM9QQPx3bu3Altb3Acv/nmm2+//XY+JK5Go/nhD3/41ltvvfzyyzD02be//e2pU6fCb61W6549e6BXg9/vr6mp2bBhw7gJ4k8QRAqODTmO80a8x7qO7Wjesb15eygWqsmuMVJGbJjp15OHGbkzspVCbUUnF+WG8kpT5f62/a3u1hm5M672DdXr9QLpvSe6T5y1ny3Rl1QYK0Q3q4N2s4j44UClV6VSIbJ5B4PdCVc+EiMm/TGkWT8GVCVg4sPAMAu0vQW6PwKnHgPOo6DwdpC9aJRpkQAAOh342tdAXR349FMwaxa4/37wj1hNgoDjuDHnwzBiJIRbyWDcAJ0xPHZRVVX1yCOPtLa2+v1+s9lcXFwMJSQMwwoKCn7wgx9MmPBlQpva2tqioiIYJttiseTm5sbv4MBUsJMnT25tbYX35ubm8u/1rbfeWltbC4PkajSaioqKcZaKUeihTjP06d7Tf7/49/fPv3/Zdbkmu2Z1xeobJtyQr8kfQbCB0cDtdudnpfqhI0a+Nr/cUP5+0/tWv5VmaKnk6vQQgbqV47i67rorfVfumnZXgaYsZqGLAAAgAElEQVQgTZY/dKQOdGoKIWhlM9qR+AiFQl8dAouQgZwlQDMRGGeBtndAyxbgrAOF3wCFa4G2apQEKivBunWguRm89hqYPRtcd52A8etcLpfJZELk+Mjn8xEEMc6kpQEBkzYIGkAmrdDT05NKZwxx0dvbq01ZyP+kQqvV8oc8PGD6kflxWd4UCkV5eXl5eflg5RAEkZOTk5OT0/8rjUYzjn3tGIax2Wx6wTbM2txtOy7s+LD5wyOdR/LUed+Z+Z2bJ948K28WRYqQy9LV5WJ0DBgj2+4KicJEmeSk3BFyBGPBq9WOHA6HTCZL+olKb6D3vON8lIlOz5muVwi5zzpswKRMEokEheMjhmG8Xq9Go0FBxOI4zmq1Dhg4NCkY/8NlXIGygNK7gW4q6NwOWl4Hjc8AVx0ouh3krQbSkYsvEglYuRKcPAk2bQIvvQQmTQIWi7D2dRlkkEEGGSCLEB3a3rz9/ab397XtizLRtZVrvzbxa7UFtdnK7DQ5cEh/GCmjXq6/7LrsCrl08rQw5vyi+4v6nvqa7JpJWZNIfIwomhlkMBAy2pH4UCgUV7GrgUtA1lygngCMc0DLa6D7Y+BpBM4ToORbQD99xDmRDAbwzW+C48fBJ5+A+fPBffcBgQKtGY1GFHY1INRqNSKBCmBWbBQ25yAGS109LmE2mzMCK5ogCCLpIaE4jjvQduCNhjf2t+1vcbcsKlr0zSnfvKbwmlJ9qbhWbVlZWWPLYaNMX1akK6rrruv2dZfqS6/qXiEqy3Lseef5FnfL/TPvL9IVpcmkAR1iEVmbJBKJVqsdW8N4xMAwbMDz/GQBiRGT5hiJqajMAPJvBpr/z955h8dRnfv/OzM723tV77ZkW7ZlG8sG9wYu2IAxnYQaSAg3cSAkIZDc/CAJCdwQci8QSEJzcOi4YHDDxgU3yb3Ili1ZvW7Ranubmd8fI4SwZVtlV9r2efbRM7uaPfueOWfmnPect4yEYTqq/oHqN9BxFNm3I+tmiAZo8DNmDB54AL/5DV59FbNnY9w4RGhiHyUPzSEgcWqaJEmSJFek0lK56tiqzdWbj7cdz1Zl/2n+nxbkLYiGrDixyCjDqBHaEeVN5a2uVoZlKLIfQXEiMTbVd9YfbT0KAqONozXiqDCr40kOxEkGQFI7Gn74RDFX8Du6GIKEchSkGdBMxPk30bgWzipY96PgYWgnoz8PSh6axrJl2LULH3yAP/wB77wDaQRsvzs7OymKSpC1DbfbTZJkgvgd8ebdCeJ3ZDabYy4F0ICxWq0x6neUZJAwDGOz2cLid9Th7fio4qP3Trx3pPUIwzGPTH7krnF3FeoKlaJo8dqy2+1isTiGNhnUYnWKPAWA2WP2M34p2Y8Bu6OjI+x+RyfaTpQ3lZemlY41jhWQ0XIZ/X6/z+ejKCoRQqqGQiGXyyWXyxPBQofjOKvVmvQ7imc4jhtgbmOCgEAB4wwoCmCchcr/Rd2HsB1B9u3IuweSfudAUKmwciX27cPnn2P1avwgAokfQqFQ4sRUSZCU1TwcxyVIPnIAwWBwuEUYOkKhoc7LmSR6GHzrh9jQzrqdr5S9srdhr9VjXViwcOXVK8cZx+ml+qha1I+5sYkkSI1YI6WljZ2NnqCnX6Eswl7ZEBuqsdfUddYtLVyao8mJnpYd+PwqNmEYJra68WCI6ECc1I6GH5FINPDeTBAgBJBmIPcuaCfi3N9R/xFOPQfzboz+BfTXoD+ekQSBUaPw85/j8cfx7LO44QaEPQ1x4hjFJlS+I74bJ05lEydgHQCtVps4LZukJyRJDnLj6JT51GsHX1t7Zm2bq61IX/T8gufn5803yowUEXU5K1UqVQxtHPHkanKNMmNZU5nVY9VL+/FQUqvV4a3s+Y7zexr2SGlpka4oqszq+F2URNg44qspk8kSZIpFEERELThi7FkQlwiFwsHeugQBSgJNCSb8Baa5OP0iWjbDdggFP8TIRyDuh4pDUbj9dqxdiy++wA9+gHXrBiXXxchkspgbgQaMWCyOthlAhCAIIgzdOHaIm3SffUGlUiVIN05yASRJDjheudlt/vfxf//94N/r7HUqkeqxqx97cOKD2apsASmIzu6kVCpjLohOSUpJjjpnT/2ednf7SN3Ivl9YhUIR3sf1Oeu5A40Hrs64enL65KhqX5qmKYqKuZYdGCRJSqXSBKksn5shcuUnxEWMclwul9lsDkNBBAlagawVmLYaBQ+D8aPiT/j6dlj2ge2HdYRYjOeeg0yGL77Ap5+GQa6etLa2er3eMBcardhsNrvdPtxSDAUcx7lcLovFMtyCDBE1NTXDLcLQUVdXlzg2k0l6EgqFGhoa+vutABPYVbfrrk/venr703X2ulk5sz685cPfzvptniZPQEWpagSgqakpEAgMtxT9I0edk65I94Q8Zo851J9Rvqmpye/3h0uMIBNscjY1OZvyNfnZqmwCUdTEHo/HZrMliC10MBi0Wq0JMsViWbauri5y5Se1o+EnnA4bBAGShnIkJv0NU9+CYgTad2DbPJx8BqG+3jAEgdGj8eyzCIXwxBNwOMIjGk9CTbMSKnF1QlU2oQzZE+qeTXIB/Wp9juNanC3/tfG/5q2at/X81lxN7qqbVq2/ff2c3DlSWkoSZFTNmy8gFvu5gBTopDqxQNzubg+y/VAAwlvZ6o7qjVUbtWLtGOMYlTi6Irgk1MAUo914wER0IE5qR8MPSZLhNzYjBci8EXO3ovAnEMhx8vfYXIr23WB86NuT4qGHMHky6uvxs58hjF7ZNE1H7dph2EmQODk8JEkmTmVFItFwizB0JEL4oySXoo+tz7BMh7fjlfJXJrw+4Y3Db6TKU389/ddb7t5ye/HtEjo2gnbG6NiUIk+RC+VHW4+6Aq6+fyuMleU4rtHRWNZUNjl98vTM6WEpM4zwA1MstuzAEAgECWJZF+mxKVE8QKIZuVwui1DuVUkKJr6I1Otw8hnYT2LbPIx8FIUrITGBusL0TiTC22/j6quxfj1uuAFLlyIsj5eUlJTEuXUTx52dIIgIduPoIzc3d7hFGDqys7MT555N0hOapjMzMy9/Dsuxdp/9cMvh32z/TVlzmU6iW1a47BfTflGaXjq82V37S3p6eiyu70xMnZgqT91Ru6PD22GQGvo44oSxst6Q95ztnNltzlZlZ6uzw1JmGJFKpRKJJEGeYEKhUKfTJcisgyTJnJycCJYfuaKT9BG32x1Bhw2CRNoizPochT+BNAPnXsHOJWhYA28buCvswI4ejV//Gk4nnn8eTU3hEae9vd3n84WnrKjHbrd3dnYOtxRDAcdxbrfbarUOtyBDRH19/XCLMHQ0NjYmlLVGkm5CoVDTZR/9dp/9aMvRxzc/vvDdhWesZ0rTS/+28G8frPhgasbU2FKNALS0tITRFWfIKEkpSVekn7Oes3gtHPpqQtba2houJ6uGzoa1p9emKdKuSrtKJoy6BTKPx9PR0ZE4fkc2my1Bplgsyw7AK7LvJPeOhh+GYSLuDCrSYvwfkLYIp56HrQzlP0TWbci7B5I0EGTXC989AAGCfOAectPn5MmT5Mv/S/72v0mplBzkFpLf70+cmVYwGIzFxciBwTBMgoxA/Ig73CIMHQni45vkYvgsz73+yx1w19hr1pxe80r5K86As9hYvGL0ih9e9cN+xZWOKvx+fyw6qKjFaqPMSJFUq7M1xIaEVJ9sjXw+X1gGYpZj29xth1sPT0qdND0r6szq+Dl0zGWyGjAcxwWDwcSZYkV0bEpqR8MPRVFDZNlvmI5rilH9BureR917aP8K2kkghSCFIGmQNIhvDr55aTjhnx+mX/snLWql7SdoaToNQgCCBCgQJAjqG+WK+ka5+uYT9PhXj3NETDsZEoKTgIh/tYGm6QTZ0Oe7cYKkWeCtNYZbhKFDIokNv5EkYYcgCLFYfMGHQSZY21m7o2bHm0fePNp2NEeVc1PRTT+86ofjU8YPk5jhIXYztpnkJgktqbRWXsdc10ftSCwWh2VscgfcB5sPuvyuXE1uhipj8AWGHX5gitGW7S98ao3EmXVEdGxKakfDj0gkGrodBqEahT+BYTrOvwlrOWyHwTE9Xux33zIUx5SSbOlDDMDhPHAeAAmSBikAwStUNEjBN8qVAKQQhKDrhO7/8meSAhC0LsQJnOlQj4IsB7IsSNJAxm0nTJxssARBiESixMlklTjZYAmC0Gq1iTPcJukJRVFarbb7Lcdxra7WvQ17P674eHP1ZrlQvqxw2R3FdywqWCQSxHycErVaHaPrO2MMY9Ri9faa7Q9OfFAulPflK+HKBmvxWNacXpOhzJiVPUsiiMZlFD4RX4IYcSRUNliSJJPZYOOcUCjk8/mGbjWapKErhaIAtkMI2MEFwYbAhsAFwYXAhsAGwYW+OQ6BCwZ8oRPHQwf2M/l5zPRpIZmUAcuAC/XQo0Jgvzng/zJ+MJ4LT2NDVNBHNNogEEFRCM1YqMZAXgB5PmTZoPv0WI8h/H4/SZKJEN+M47hQKOT3+xNkn8HpdEY0D130wGeyksvlCaLnJ+kJy7Jut1uhUADo9HUebD742dnP1leu7/R3Tkmfsqxo2fKi5UaZMT76hsfjGdKVyvBxdebVBqmhvLm809fZx8AMHo9n8Pm7GZZpcbWcaD8xMXXiNZnXDKaoyBEKhQKBQIIoSCzL+v1+giASYaWSH5sGnK76isT/FYx+AoGA2+3uuUQXcQgCIh1Sr+3j6ZyPa2jlXtwZ0p8I/a4kdN20ENGlCIW+0X94PSrEq0DfvGV6fN51Zkd7s0LgFPvr4DiDhjU4vwryfCiLoCyEshDKIihGQKQPT4C84cbr9VIUxc8t4p5AIODxeDQazXALMhR0dHRkZESjGUkk6OzsNJlMwy1FkmGAZdnOzk6tQXvafHr92fWfVX52xnKmSF90/4T7lxUuK9IX9dGOKyZwOp2Rm2lFlBx1jlFmPNJ6pN3dnq/N70tSKYfDMfiByRP0bKneEmJDow2jU+QpgywtQgSDQa/Xe7GBaFzCsqzH40kE1YjXjux2e1paWoTKT4iLGOVEJN9RWBGKiKuvIZavEL76qnD1hygYhYKCARblFzRK1UqQDjjPw12NzjPoPIGOI2j+HGIj5PmQ50NVBFUx1MWQpIGM4T3iBFmv4on+bhxGEmE/sJtkvqNExh60v3HkjfVn1h9oOqASq+6fcP/SwqVXpV6lFCnjY8uom9j1ThGQAqPMSJP0+Y7zpemlJHVlO9iwVNYVcK07sy5VkbqwYGHU6skJlYiPz3cUo914ACTzHcU5Eokkyu1ECQJ6PW65BYcP48svMXkyfvADDMyESqvVCoVCCJSQZgAzELDDXQ9PPRzn0HEEHUdR/yFIEWSZkGZBORLq8dBOhKIAVOyt/SiV8TaBuBQEQUgkksSZRqempg63CEOHyWRK+h0lICE2tKVmy2uHXjtuO+4KuK4ruG7FqBXXZF6TIk+Jy8eaXq+P8oH4MhTqC6W0dFfdrhWjV9DUlWthMBgGWVmWY2vttZXWypKUkslpkwdTVEQRi8U0Tcduy/YLmqaVSmWCLFOSJJmSEsEdy4S4iFEOv/Mb5Q4bFIUxY3DXXfjNb/D++xg3DrNnD6Qct9vdY5OBgFADoQbqcTB54WuFtwWuGnQcgeUAzLvRth1iEyQpkGZBOwG6KdBeFUPuST6fjyTJRNAZ+ECiPp8vQQwYOjs7E8RgkjfCkUqlcTkhTnIZvq7/+sntT1bZqiamTLy35N45uXOyVdl9mXnHKC6Xi6bpGN1nmJE14x+H/rH5/GY/45fQV55LOJ1OgUAwmMr6Q/73Tr5HkdTUjKnRHMY9GAwGAgGSJBNhiYdhGH4UTgQFieM4h8Mhl0dqQhj/VzD6CQQCMZFRRCLBtdeivBxvv40PP0ReHrKy+l2I2+3uRQ8kCAikkOdBlgvtZKQugN8KTxM6jsC8B5Z9sB1C2zaI9BAboZkEwzTop0KaHq6qRQheO0qQaXSsdOOwYLfbE8fvyOFwJP2OEo2ajpqfbvpplbVqef7yX837VZ46LwoTfYaXiHp4R5oJKRN0Et3R1qMWj0UtVl/x/MFXNsgGN1Zt1Ev1NxTeQJHRq1Im1LIdy7JerzcRVCNeO+rs7IxhvyObzbZv3z6v15ufnz927NhLNZvD4Th79mxDQwPv2D1hwoQLbFeCwWB1dfWZM2eEQmFJSYnJZIrRNZ5eiYlUZQSBlBTcfjtOnsSnn2LaNKxYgf76X1yhpgQBSgjKBLEJykLopyD7DgQ60HkS7TvRtgPmr2E7jPoPIdRANQam2TDOhGJkdIYFj4lmTTIAEqplE6qySfjwdCs+WlFhrpiXNe+R0Y8UG4oTYecwpvu5lJYaZUYATY6mAu2V3YIHX9ljbcfq7HXFxuKSlJJBFhVpYrpl+0uysuEisnPK8vLyxx9/PBgMqtXqjo6OxYsX//znP+81dPUzzzyza9cujUYjkUhaW1vFYvH3v//9+++/n/+vw+H44IMP3n33XYqiAoGAVCp98sknp02bFh82SzKZLFYWNigKpaW48Ub86U949VVkZmLmzP6VkJKS0lcLYIICrQSthDQDykKkLULIC1cVWrehZSts5XCeRcsmCBSQ58I0D6kLoB4XVXZ3Go0mEWYVvN9RDHXjwZOTkzPcIgwdmZmZiWCUkoQnxIZu/vDmIy1HxhjH/PPGf2oF2gR5iKWlpcXujIIgiExlJk3R+5v2z8qZdcXzB1/ZV8teFVGi60derxRF9YabVCpNnFx8NE3rdLp42jm4DCRJZg3Afqnv5UeuaIfD8fOf/1ypVK5Zs2b16tU//elPv/jii/fff7/Xk+++++41a9Z8/PHH77777qeffjpmzJi///3vBw8e5PcK9+7d+5///Gfp0qXvv//+6tWrs7OzX3zxxebm5sgJP5QwDOP3+4dbir4iEuH227FgAQ4cwCefoL+N4Pf7WZbt33cIApQIQg2kaTBMw5hfY+5mXF+JSX+DYSYYN8x7UPFHfHUdNk1G2Q/RuB4BO6JgBSUYDIZCoeGWYohgGCYYDA63FEOEz+cbbhGGDp/Pl1DrkQnOfWvv212/Wy6Ub7xzY6o8NYbGpkES6/18RvYMiUCy7vS6vpw8kIH4u+yo3SEXyZePWh7lyjM/MMV0y/YdlmWDweAgWzZW4DguogNxBLWjrVu3NjY2PvPMMykpKVqtds6cOePHj9+1a5fb7b745JKSkvT0dIVCIZfLTSbTXXfd5XQ6T5w4wdvmlZWVpaamLl682Gg0Zmdn33HHHR0dHUePHg0EApGTf8jw+XwOh2O4pegrBIG0NNx7L8aPx9tvY/9+9Gv+39HRMahWIyhQItAKKPIw4oeYtQ7LzmPmWuR8D0INnGdQ9Tp23YC1mdi1DFX/hLd14L81aFwuV6+9Pf7gn1Mx1I0HSWvrcParIcZsNifI3CLJ09ufXnNmTZAJHn74cIYqg2VYs9k83EINETabLabXd67Nu1YmlO1r2ucNXtn/02q1Dmblbkv1llZ3q1asHa0fPeBChga/3+9yuRiGGW5BhgKGYRwOR3xMjK8Ix3Ht7e2RKz+C2tGhQ4dkMtmECRP4tzKZbNy4cWazuaqqqtfzOY7z+/0+n8/lcp04cUIikWRnZ/PPrPPnz2dlZeXl5fFnFhUVKZXK8vLyCxRHfgjnehC52oWXKF99uZjZs7FwIQQCvPACTp3qxz5NmGtKEBCqkbEUU/+F6ytx7T4U/wbaySBptHyJ8h9hTTo2T8Hx/wfzXnhbEehE0IGgCyEPGC8YP9gA2BA4FhwX9u2mmGvWJH0koSzNkt04EQixoTcOv/HG4TcYjtlw54Zu35XEaf1Yr6lRbjRIDQSI+s76K548mMpyHPfC3hdElOjBiQ8KBTFgixjrLdsvkpUNFxG0xWxoaEhJ+TYxAk3Ter3e7XZfai3K7Xa/9tprHo+nqqrqyJEjt95666xZswB4PB673V5YWNjt1aDVakUiUUtLy8WLHy6Xq7Kykj/WaDS84wdFUQzD8MoSTdOhUIg/5q0z+UWFSx0TBCEQCLqXlLq/ThAESZIcx/GbmAKBgGVZ/piiKIIgeNn4OJI9j3lJekpFEIRcLu/e/L2MVN3F9pSKPw67VHymrUtJRZK4/36mspJct476+GOkpIQ0Gq4vUkmlUv7zwUjV8+s9pBJCM5lRTkThk5TnPNH2VahxIzqOUPazpP0ETv4/AgSEKoiMEJsgNkFshNj47YHIwFFiDiQIiiAFICiGJUCQBEkTpCDEcCCIi6Xq7oG99is+zUKvlb34WjEMw7IsX2x3q12mBQmC6NkxuqW6oLvyxV7cgt2d5DJS9eyiF9xEPYslCCIYDPIpjxiG4X+i57Xiv9JfqUiS7ClJd8V5Sbqv1WWkuvy1upRUF9xEvUqlVCqDwWBPqS7VXcMl1QWSXNAxLnWtejYB38f6K1UoFFIoFHxl+SXJvnfXbqli150jQQixoS3VW17Y+4Iz4Pzz/D/Pz5vPf06SpFarHW7phgi1Wh3r3ikZyozjbcdPW04X6gsvf+ZgKusJesqaysQC8fUjrx9YCUOJUCjkH1PDLchQQFGUXC5PkOROBEHodLrIlR/BZ4HP5+uZUZ4kSZFIxDDMpXb9WJZta2tzu90Oh6O4uHj8+PF+v18qlfLzrZ53slAoJEnS7/dfsDvEcVxFRcWPf/xj/u2SJUuWLFkilUq1Wq3FYuHDK+fl5fG/QlGU0WgMhUJms5miKI1GIxAI2tvbWZbls8JZrdZAIMBb+tXU1PBTiszMTP7rYrFYrVZ7vd7Ozk6KolJTU10ul8PhYFk2NTWVIIjm5mY+mrNSqWxoaACgUChUKpXNZvN4PBKJRKfTWa1Wr9fLcVxWVlZ7e7vL5aIoymAwsCzb3t5OURQ/MlmtVpZl+fRtZrM5GAzKZLLU1FReKpFIlJaW1t7ezkul0Wi8Xq/dbr9AqpSUFIqimpqaCIJQKpXdUqlUKoVC0S2VXq9vb2/3+/0URRUUFPBSCQQCvV7PMAx/rfR6fSgUYtmOxYtlFRX6l18mMzObpk3zK5XStLS0nlKZzWaXyyUSiTQajcfjcTgcoVBIKpXa7XaHw8FxXGpqKkmSTU1N/LWSy+VNTU28ZiuVSm02G58JqlsqkiRHjBjR3t7Op2vQ6XT87ipFUTqdjmVZm83GsqzRmCbMvK+VXoQ0szpwTBs8zloPUowHbBBcEO4aOM+BC4INdn3ChgCwlDJEqYKUWihPh9jQ4aUYWidSZoiU6c1WP0dKNFqDTKG2dji8/pBYIjelZDS3moMMSIEwP7/rWvFukaFQyGKx8K3m8/nsdjvLsiaTSSgUNjU1sSwrFovT09P5ayWVSk0mk8VicTqdIpFIp9M5nU6n00lRVGZmps1mczqdHMd1tyBJkkqlUiwW8/ZdOp1OKpWazWb+jktLS6uvr+dvmZycHP5a0TSt1WpZljWbzSRJGo3GQCDQLZVYLG5oaOClSklJqa2tBSCXy/V6vcVi4VtQr9fb7XY+XVVOTo7ZbHY6nXxRvFQsy8pkMoqiekplsVi8Xq9QKExLS2toaGAYhqKo3NxcXiqhUKjVavlrRZKkyWTyer3d3VUsFtfW1hIEIRaLjUZjXV0d3101Go3VauW/bjAYepWKv1kaGxsJglCr1TRN81vwBoNBLBbzfYmm6aysLL4JhEJhRkYG/3WhUKjT6fx+v81mIwgiJSWlp1RSqbSmpsbr9fKXrqdU/LUSCoVGo5G/tQmCyM/P5yvL39rd9yC/cGO1WnmppFJpW1ubz+fjr0+3VJmZmd3XSqfTBQIBq9VKEERaWprL5XI6nfwDRyaT1dTU8NdKr9fzt7ZGo1EqlRaLxe12C4XClJQUi8Xi8XgukIp/3HVfK5IkeamMRqNEImlpaXE4HC6Xq7CwsOetzXdXoVCo1+u9Xm9HRwcfv8Fut7tcLr67KpXKmpoamqa7t/2TRCEMyxxqPvTsrmcbHY0PT3r4++O+T5NdsyuSJHuNohSXSKXSWN8Tnpg6cXP15jWn19xYdOPlz5RIJAOu7EcVHzn8jslpk3PVuQMrYSgRCAT8gtdwCzIU8PkVE0QV5GNBRbD8yJmffe9732tvb9+8eTP/1ufzrV+//tVXX3366afnz59/mS96PJ4333zzrbfeevbZZxcvXnz06NHf/e53U6dO/eUvf8nvRPl8vjvuuEOj0fzP//xP98qWy+V6/fXXDx48+MYbb/CfxEqCZLvd7nQ6MzMzh1uQfuP345ln8OqrGD8eb76J3FxccZ+zpqbGYDBELoHXJeFYBF0IWOG3wG+F34KAFf5vXgErQl6wfrCBb8ztAmD9YAJg/WCDIAgIFBDpINJBqOs6EOm/fUuJQYpACkGJQApBCkGK2ix2SijXGyOYzjlKYFnW4XC43e709GhPQhUWTpw4MXbs2OGWYijgOO7MmTMjR45MkBE3QvzrX/8ym82PPfaYqL85ECIMx3GnLad/vuXnO2p33DTqpj/N+1OGMqPb4iMQCNTU1BQWXmEjIj6oqqpKT0+P8rTsl6essWz+v+eLBeKmx5oun7d3wJXlOG7uqrk7ane8uezN+ybcNzh5hwKHw8HniYm2Wy8S+P1+q9WqVCqHYYo15DAMU1lZOXp0pDzfIrh3lJaWVlFREQwGeRUlFApZrVaJRHLFnXqJRHLTTTe9++6727ZtW7x4sUQiUSqVDofD7/fzxnV2uz0QCFyc8ojfP02cta5hRyTCQw/h2DFs24b33sPjjyN6QzoTJIRKCJWQ97bc1aU72RDoQKCj68Bv+/Y45AbjA+sD44O7Fo4z375lfAAHWgmhDkINRFoINRBqIdRI/EJCWQDxFMiyQEXtpUmSJEmCUmOveW73cztrd87KnvXU9Kd6qkZJYo6SlBKFSNHsbDZ7zGmKiGTJbHQ0VpgrRALRgrwFkSg/SXxtmogAACAASURBVJIoIYLa0cSJEz/55JOTJ09OmDCB4ziXy3Xy5EmTycTHWugJb7/e86HM22bwm6EajSY3N/f8+fO1tbVFRUUATp8+7XK5xo8fHx+LAUKhMKL7gxElOxsPPoiKCvzv/2LaNMyefYXz5XJ5NNp2d+tO6C2PDccg5EHAjqAdAftFB51g3Ah5wHgQ8sBvhbsBjBeMRxl0gVbAMhtp10FXCsVIkMIr76/FJkKhMIbioAwSjUYz3CIMHSqVKjljjksaHY3/d+D/Pjv72YTUCb+d9dtCfeEFDU2SpEqlGj4BhxSFQhHrG6RCgTBNntbsbD7fcf7y2tGAK/v+qfc7fZ0zsmdESPsKOzRND8aMMLbgTWGjcYoVAXhT8MiVH8GLOH369Nzc3FdeeeXRRx+VyWR79+6trKy87bbbtFotwzCHDx+uq6u7+uqr09PTOzs7y8vLtVqtVqslSbKtrW3jxo3BYHD69On8RGTSpEmHDx/esGEDnxpozZo1Op1u4sSJ8aEd0TQd05OP667DzTfj1Vfx7LMYNw6X3xqUyWSxd+sSFGgFaAXQm/Ujx4FxfxMNz4Hgtwf+znqi84SwfQfatkN/NVLmw3ANNCUgY8Dgs18QBEHTdPyPQEEH3HVw1aZ7m1CngyIPslyI4txtXalUxvQDKkmvmN3mVcdWvX/q/Vx17pPTn5yUNokiL5wukySZCCY6PHK5PNa1IwDFxuKDLQe/rv96etb0y5w2sMoyLPPF2S+CbPCRqx6Jlae9QCDgY/kMtyBDAUmSYrE49qZYA4J3oY9c+RG8iOnp6T/5yU/eeuutv/3tbyKRyG63z549e/HixXxMpC+//HLz5s1GozE9Pd3r9W7evJn3Hef9jjwez/333z9nzhxeeSgtLa2rq9u/f39lZSWfYfPuu+9OT0+PjzHb6/XyERGGW5ABIpHgkUdw4AC+/hqvvYZf//pyJ3d0dPABMIZOvkhDEBDIIZADF7rcONtbKPc5YeA42nfCvBvmXdBOhmk2jLOhKwUVP4G8+HxHHo9HHL22lQOFDcHbDOe5b15n4TwHVz3ERigLv30pCiFJBRlHHfsb2tvbs7OzE2R6kSB0eDvWVa576+hbKpFq5dSVs3JmCXt7HDEMY7FYEkRBslqtfIyZ4RZkUCwsWPj2sbc/q/zsF9N+QRKXVGAGVtlT7aeqO6qVIuWM7BnhEHYo4PPEKJXKRIicyec7ilILnXDDB3KL3NMpsldw0aJFRqOxqqoqGAyaTKbx48enpaXxYQfnz58/YsSI/Px8PkL3bbfdVl9fz8fmksvl2dnZY8aM6a62yWS67bbbRo8e3dzcTFFUXl7e2LFjY9ca7QL49MbDLcWgyMnBz36Ge+/FSy9h2jTMmnXJMwOBQIIkcgYQYglOPgq6q5E6H5YDaNuO1q2w7EXzJuhKkXotjDMgiJNuzDDMYNILRhcch2AnXNXoPI3OCriq4aqBuxYBG6RZUI2y0lfppX50nkT7TghkkOdBng/lSKjGQFUMRR6oWF3suBi/3z/cIiQJJ56gZ+v5rS+XvewP+f9ryn8tGblELux9hsEnIRxyAYeHQCAQB7bBc3LnCEnhGesZh9+hFl/S7mhglf3o9Ec2r+3m0TfrJBGMpBxeWJbtTrYR93Ac151BJBGI6NMpstqRQCCYMmXKlClTLvicoqjJkydPnjyZfysWi0tLS0tLSy9VDkEQRqNx3rx5EZV2uIhpvyMegsDChXjgAfz1r3juOZSU4FLG6gmyqsHTZe5M0lAWQTEChhnIuAGtX6JxPawH0LYduslIWwzjbIhi3o8lHvyO2CA8TbAfR8cxOM7A0whPI7zNoMRQFiFzOdRjIcuFNCPYCWiFcNfDdR7247AdQcsmNG+AJA3SLMjzoB4LzQRoSiCQxbqnWdLvKJ4IsaEDjQde2PtCo6Px3pJ77yy+Uye95Ew36XcUcxhkBoPM4PA7Wlwtl9GOBlDZABPY27DXF/LdUXxHDD0QEs3vSCKRJMgUK4b9jpL0kVj3O+KRSLByJTZvxtdf4+WX8dRTvZ8Wk35HA0UkEn3bsgQFRR7kOdCVImM52raj/mOcfwftu6GZgIxlSJkPsWGYJR4ovN9RrHbjkA8dR2A7BPtROKvha4WvDSEPJGnQToT2QahGQ5IOiQkiE0gaBCGjHFAqoSgEF4TPDG8LPA2wn4C1DLaDMH8NoRaSVEhSoRkP7WToSiGNDSfmi1EoFLHaskm+C8dxFeaK/97x35WWyhsKb/jR5B+lKdIIXLJxE8rviE/XNtxSDBYCRL4mv7y5/FjrsVH6UZc6bQB+R3sb9tZ21JpkpvEp48Mh6RCRaPmOEko7UigUkSs/IS5ilMM7bMSu31E3mZl4/nnccAPefhuzZmF6b06hceh3dGn49L7fiR1CkJBmQJIObQkyb0Trl6h9D42fwroPde8h40akLYYk9vIj8X5HfOre4Zalj3Bw1cN6ANYDsB3qyoIVtIMUQl2C9KXQToY8pyufFS0H8Z2ZRHt7u1KpBEGAEEKaDmk6NCUwzYbfAp8Znadg2QfzHrRshvlriPQQ6aEcBcM0GK6BohAXub9HMxaLRSqVxsHEMUmDo+HX235d3ly+qGDRUzOfylPnXV7vTSi/I5vNFgd+RwAW5C/Y27h3c9Xm24tvv9Q5NpuNT07d92I/P/e52WN+aNJDGnEsWTp0+x3FQcteEYZhnE5ngqxB89ntI6cgxf8VjH4YhgkEAsMtRRggCMyfj0cfxauv4sUXMWECLjYYTCy/o0uZOxMERHoIdVAUIn0ZWreh5h00b4K1DDXvImsFMpfHnI7EMEwMuM8F3bAfh3k3zF/DWY2gHUEHQh7IspAyH4bp0E6AyABaCYGC3ybqtRiv13vhR6QAQg2EGsgLoClB+tIuz6X23WjfCUsZOo6h5QvQasiyYZgB02xoxoOOYMidcOHz+YZbhCRhwOa1/far3355/svJ6ZOfmfPMSN3IK24JJv2OYpEVo1f89qvf7mvc5w/5RYLe4/r6/f5+VdYT8BxvO+4OuhcWLKRjKuZqovkdBYPBxJliRXRsSmpHww9JknGj6ItEWLkSn3+O3bvx8sv45S8vPGHo4z6zLA4exMmTmDkTBQVD+ctdsUQv+W+CgFAFWgF5HjKWonU7ql6H5Wt0HMb5N5F9J3LvhsgQK14r0duNORaeZph3o+0rWA90Wc0xXhAkdFNhmg3THChGgJJAIAEpwqUDPXVzuVwCBAGBFAIpJCmQ58EwHYUr4beg7Su0boVlD1zVsOzD2ZchSYX+aqTOh34axKaobehEiPUU9/hCvr/s+8sHpz4o0BY8P//5UfpRlwlo1g1BEInT+jFsG/xdRmhHqMQqV8DV7m7PVPWWhQIQCoX9quyW81uqbdX5mvyRupF96TnRAz8wxUfLXhGCIBKnslcYiAdNVM5mEgyFQhFPpgsZGXjhBSxfjg8+wLx5uOqq7/w3LS1taG7dUAjl5Vi3DuvWobERDAONBrfcgocfxqhLGmOHGe3lcz/xECQEUshykXcPMm5A61ZU/g22I7CfxLlXkHc/RvwIQk3UTp15eAvgaOrGHBg/Oo6hdQtavkTnSTBesEFwDGTZSF2E1AUwzYJABZIGKbjAcO6K8ME2rwxJg6RBKyE2QjkC+fch2AlLOZq/QOtW2I+jswI1q0BJoZuE1IVIWwx5XrSFBc/JyUkQq/045j8n/vPivhf1Uv0f5/2xNL304tRGvSIQCC7O3h6vZGZmxse0kiKpdEW6xWNp6Gy4lHaUkZHRr8rurNvZ5m771fRfaSXa2LpKMplMKpXGlswDhqZpvV6fIJUlSTInJydy5UfXMJyYuFwur9drNBqHW5DwQFGYPh333ov33sM//oFx49Bz8bG1tVWtVkul0gj9ejCIY8ewfj3WrUNtLXw+BINQKjFmDMrK8Pe/Y80aLF+Ohx4aCh2po6ODoqg+hVUhCBA0RHpk3YLUa9G8CZV/g/04Tj6LqtdR8DAK/yuarbA4jvW4nT6PS29M68veSwQJdKJ1K1q2oH0nvM1gg+BCIEVQj0PqtUhZAGURBDKQNAgB+Cvff2pra/uqIPHwHkokDUqK9MVIXQDGC/sptGxE80Y4KtH6Jdp24vh/QzUKqdcibTH0UwcgWCRoaGjIzMxMBKv9eKW8sXzlppVCSrhyysqFBQv7qBrxtsEtLS1ZWVkRFjAqaGpqMhqN8ZFifqxx7OfnPv+64etrsq7p9YTm5maDwdDHynb6Oqtt1e6A+6rUq8SCGMto5/F4fD6fQqFIhF3QYDDocDikUmnkpljRA8uyDQ0NkVOQktrR8MMwTDzZdhMEtFr8+MfYtAkbN+Ltt/HQQ9/+1+/3R8IoNhDAyZP4+GN8+imqqsAwAKDR4I47cNttmD8fBIFDh/Dcc9iwAS+9hFWrcMst+OlPUVQUwV2ZflsAd+tIuXcj61Y0f46KP8N2CMefRsUfUfgzFP4E4qjRov1WdBxBx2HYjpIdR+WuajkbAEGBkoCSQiAFJeuyMRPIQEkhkEEg7TqgJN982OPzC86/tNvPhXAMOo6jZSOavoBlz7efiwxIX4a0JUiZDUk4Q8Z5PJ4BfY8AARA0SBoCKUwzYZqJkj/CVYuWLWhaj7YdXYEiTj4LoQ4ZNyB9KUxzIBzOqMq9OFkliR2aHc2z3pkVYkMPTnxw5dUrqf5sk3IclzitH6GxaVi4oeiGjyo+2lK95YlpT/Qak9Dn8/W9sl9UfVFhrhifMj5fmy+Isp3tK8I7xCaO31EgEIjDnOyXYKADcZ+IsY4er8SZ4QpJYtQo/O53ePRRfPIJpk/HqFFdE92w1JTjwLIIBuHx4OxZrF2Lzz7D2bMgCNA0srIwbx5uuglz5kAs/naCPWUKPvwQR47gpZewZQveeAMffIDly/HjH6OwEGIxSDLMmhJBEAPf46aEyLwJ6UvRshlnXoTlACr+hLOvIP8B5D8AeU4fPWQGDscBLDgGLAOOAReEuwGdJ2E/BvsJdJyAtxEgQVAgKI6kQIpAigkC4DgwXjAewAwOAAfwIxMH7puDrvK733LfPRMAQAhASUFJIOjxl5JC0K19SSEQw90I8y54WwACJA1aBfXYrm0izSRQEXEgDusNS0CeixEPY8TDCDrQtgPNX6BlI/xW1K7G+bchkMEwHWmLYJoLWSZ/wUGQANXVASJsRxFnT6eEwuqxTn9rui/kuy7/ur8t/Fu/VCOexGn9eKrp3Jy5JEG2ulrtXrtG0kuIub5XluXYIy1HWl2tP5j0A6Msatbm+sygRuEYJKEqG9F7NqkdDT8ymSz+dH2pFAsWYPlyfP453nkHv/1tV/w6o9FI0wOfsPIakcuFc+fw+efYuBFnzkAohEyG0aMxbRquvx7Tpl0yF61QiClTsGoVjhzB669j2za89x4++gg33oiHH0ZhIVQqCARhm22q1erBPqpIAdKXIG0R2nbg3Mto34Ozr6DmHWTdhty7oSyEQI5wRRDiOLCBb18hF9x16KyA/RQcp9B5GgE7SAFIYddLmg15HlSjoRoN1ZiQJIchZWIBC8YLxouQt+ug+xXyIuQF673cCfwBGwLYb7QptkvX8lsAtkun4j/nDwgSlBjKQuinwTQHptmQpIbnglyaSNka0UpkLEPGMnAcrAfQuhVtX8FRCcs+tG0DQUKWDUURFHmQ50NeAHkuBPwmG93l40TS/fWhuiKpqRnxNHFMHGwe2/IPl9d11o0zjfvktk/o/q8UCASCtLRYzdPVX0wmU9wYX4lpcYo8JcAEWl2tvWpHKSkpfaxsq7P1rPVsiA0VG4qldOzZa0kkEqFQOJhZRwxB07RWq00QK2iSJDMyMiJXflI7Gn54y7r4U5AyM3HvvSgrw9q1mDABK1ZAIIDP5+tvcDOOQyAAhwMdHaiqwtat2LoVFRWQy6HRYPJkTJ2Ka6/FlCnoSxAEADSN0lJMnIgjR7BqFb76CmvX4pNPsHQp7r4bY8ciNRVhGSUDgQBJkmEYcQkSKXNhnAnLPlS/ifadqHkH9R8iYxmyboV6LEQ6kP39FQ4sA8b3jXLiQdAJ5zl0VsJ5Bo4zcJ0H4wEpgUACSgKRHvJ8yPOgLISyCMoiKApBS79pIM5uDwABsSkcyQfYABj/N4L5vhHS1+OtD6wPIR9YLwRKaCdCOwHU0KVa8ng8Ec1DB4KAfir0UzH6Sbhr0bYD7TthP4GgA7YymHeD8YH1g+MgTYcsF/JcyHIgy4E8ByI9KBFIMSgRKDFIEUh6ANuM/E1nt+PcOW7mzF6i8yeJZiwey+ObHz/QeGCEbsSW720Z2LyWZVmv1ytLjLb3+XxCoTA+ZpYkQeaqc6s6qk6ZT40y9OJi6/V6aZruS2W31W470X5iWta0WDSr433ngsEgRVGJsMTDsqzf7xeJRFEaPzascBzn8XgiFwsq/q9g9OPz+ZxOp+pS+x0xi0CAKVPw0EN47jl8+ilKSlBYCLvdTtN0X5xBOQ4+H6xWtLfj3Dns3o2vvkJlJZRKGAyYNQulpZgzB6WlfVWKLhZv8mRMnIhjx/DBB/jqK2zZgrVrMX8+vvc9lJQgMxOD9Gx0u90URYVtbkEKYJwBXSk6jqB2Ndp2ov5jNK5H6rXIXAHNOEjSQQovufPFbw2FXF2voBM+M9w1cJ6D4xxcVXDVgCBBKyCQQyCHajREesjyoCyAfAQUIyDLBPUdHd7rhdkMsxlVVTh6lNNqcf31yMoa9Eya35uiI6l+DI729naTyTQUv0QKoCiAogD5D8BvgfMs3PVw18NTD3c9AjaE3PC1wFUNxoOQB2wAtAqyLEizIMvqOhCngFb0MFCUQiDtdYup+6Yzm1FdjX37sGsXceyY/PPPsWDBUFQ3SViweW0v7X9p/dn1marM/yz/z4ANoliWtVqter0+3AJGIx0dHVKpND42GWiSnps791DLoZ21O28edfPFJgx9rGyQCZ42n25xtjw86eE0RUzuIgYCAY/HIxQKE0FhYBjG5XKRJBkfwUUuD8dxFoslcvHM4r+7RD8EQcTHetXFaDRYvBh792LrVpSU4JFHcMVg/BwHrxetrWhqwpkz2L8fe/agrg5yOdLSsHAhrroK11yD0lL0JRTcFaEoTJyIkhKcOoVPP8WuXTh4EJs2Ye5c3HwzSkuRnw/lQGPFRWS9ihJBPxWaCbCfQMPHaN+F5o1o3gjTHGTcBM0EKPK7dCSOQ8iNoANBO4KdCNjhbYW7Bq4auM7DdR5+C0ghaBWEKoj0UORDZIIiD/I8yHIhz4PYdHF0aY6D04mWFjQ34+xZ7NuH/ftRXQ2aFpGkaONG3HEHZsxAdjYkQ7eXM9QMwxSKICA2QGyAYVrXJxyHQAe8zfA2wt0EbyM8jfC2IuRCyAnnOXQcRtAFxg1SCLEJ0gxIUiHNgCQD0gwI1RDIeWWYEyg8AXlTq6i5mTh7FmVl2LcP1dWQyZCayk2d6m9qEqE33+4kUYjL73rvxHvvHH1HI9a8sOCFcaZxgyktEeaUPPFUUwEpmJc77/e7f3/SfNIX8knoC5/FfcyKc77j/Mn2kxJaUqgvlNExuYUYx/OrXqEoKnFcjyI6EMfP4yB2EYvFcXz3FhXhzjtx+jQ++AATJmDKFFWvlmb8onVDA2pqcOYMDh1CWRnq66FSIScHJSUoKUFpKSZNuqRP0WAgSYwdi+JiVFdjwwZs24Zjx/DTn2LqVCxZgmnTMGoUNL0Yb18BmUwWqecUJYLuKmjGobMCTZ+hfTfad6NlK4wzkb4EqjEIueC3wtsEdwPc9fDUwdOAoAMCOURaCHVQj4NIB0la1/aCPBvSbIguuQ3HsrDZ0NCA2lpUVODQIRw6hMZGpKQgOxuTJsFkQk0NDh7EL3+JmTNx442YPh1ZWeGxUYw2DAbDcIsAEAREWoi0UBd3fcJvD/pa4WmGrwXeFnhb4GuD34ZgJ4Kd6DiK9l0IdIL1QaiDJJV/caJUlyv11CHD9q9Vx0+rHV6VWq26YbFq7ATZxEnkyJH+vDxhUjuKCfwh/+fnPn+5/GWGY351za8W5C/oe/zui6EoSqfThVXA6EWj0cTHxhGf8ihLnaUUKd0Bt9VjzVBd6J6h0Wj6og2WNZcdazs2I2tGoa5wMB1pGBGJRBRFxZPqexkEAoFcLo+bbnx5CIKI6LZ2QvSY6CeOw00KhZg3D0eP4vXX8f77SE3lRo/+TmX9flRX4+xZnD6NY8dw9Cjq66FWY+RIzJyJsWMxYQLGjIFKhUibDRMECgqwciVuvhmbNmH7dpSX43e/w/jxuPZazJiBkhJotf2I2cBxXGRXcUghNCVQFSPjJrR+ifadsB5A2zaoiuG3wtcMNgShDmIDRAYoR0FshCQN0nRI0iHNgDQdlPTy9QmFugznqqpQUYHjx3HsGGw2ZGaiqAhLl6K4GOPGYdQoiMWB2trgjh3yTZuwbx8OHMDcuVi0CLNnIzUVcab+R+kNSxCgRJBlQ9YjgycbQsAOXxt8bfCb4WvnfG2tdZaaMza/q0MpsmpkVVqZTSd2XqsWl8wwto03dfqMKpOxcLxJbTIQIp2fkBHu8VD0J79TkuGAYZkddTv+su8vba62R0sfvX3M7VKBtNeAzn0nSrt6BIizmtIkna5IdwVcNfaai7WjvlTWE/Scs55rd7dPzZiarkiPmKQRh+O4OGvcS5E4NeWJaGWT2tHw4/V6nU5nZJ28hxW9HsuX4+BBbNiAtDT3ypW0yST0+XD2LCoqcOIETp1CRQUaGqDRoLgYixahuBhjxqCoCCpVpOMV90JmJh54AEuWYMcO7NiBXbvwl79gwwbMno3ZszF1KnS6PknldDopipJE2sKMFEBdDNUopC1E+9do3wlPPWTjIV4IcQokJohTIUmBJBUi/QWOQ5ciGERzMyoqcPo0Tp9GRQUqK+H1IienKz776NEYNQqFhV3mcyzLORxepdL94IPyOXOweXNXtqu9ezFnDhYuxPz50GiGoSkjREtLS8w4Y5ACiPUQ6xlmTEMDTp/H6dM4fcJTecLi67QYFJapEywzSi0TcswqsTXXZ8n1W+Cvgb8cLVa0cBBqAAWu+lNSO4pyOHBlzWUv7Hmhwlxxz/h7fjDxB1qJdpCrMwzDtLe3awawbx6DWCyWeHJnFwlEE1ImbKreVN5cPiN7xgX/7UtlKy2V5c3lBqmhSF8kE8akWR3v1+3xeAQCQdy07GVgGMbhcCiVyriJvngZOI5rbW3VDszvvA/Ef3dJMuwQBMaPx513oqYGa9eqi4qELItjx1BZibNnUV8PoxETJuCWWzBmDAoLkZcHtXqYZ9IkibQ03HYb5s7F/v3YuRNffonXX8eWLbjmGsydi7lz+6ojDREEBWURFCORMg/eVojUEBkh1PQrWFkohOpqHDuGEydw5gyqqlBTA5bFiBFYtgxjx2LkSBQUIDcX9CUytdI0ioqQk4OZM7F9Oz77DB9+2OV4tnQpFi6MT0O7aMbrxfnzOH4cx4937QFWVSEYlBYXZ42bkVVcjJEjYcrn6MwQ6E74bQh0IGBDwAa/DX4L520LWKuFstzhrkeSK3Ci7cSL+17c27D3xqIbfzLlJ+nK9MRxP0hyMVJaOi9v3nsn3zvSciTEhARUvyd7py2nj7Uem5k9c7RhNBnR3HpJkkQfSe1o+JFIJHG/qiESYckSHDiA99+XPP883G40NcFkwlVX4YEHMGYMcnORlTU8O0WXgaKQkoJly3DNNVi0CLt24fPPsXo1duzA2rVYuBCLF19OR1IoFEMdRZQgIc+FvH9z2WAQp07h0CEcPoyqKtTWorkZFIVx43DffRg3Dvn5yM5GSgouFQiHIIie3VgsxoQJGDECM2Zg2zZ8/DFWrcL+/diwAbfdhjlzIm4kGWmiPAkMx8HlwpkzOHgQx46hqgp1dWhogFSK4mL84AcYPx65ucjORno6BAIABEADeoh6bIhxLEIeBDtJewvUY4azPkmuxPmO838/+PfNVZvn5M557OrHCrQFYZnOUhQVuZBQ0YZer48nhw0hJRxtGE1TdLun3eF3aKXfWWK/YmU7fZ2Vlkqb11ZsKM5QRDCrTKTh/brjforFIxAIVCpVPHXjy0AQREpKSuTKT4geE+UkiKmo0YgHHkBVFVNTQ151FbFyJYqLkZGBtLSBB4UbGkgSRiPmz8fEiVi8GDt24NNPsW4d9u/HRx/h+utx883o1cwqytdu3W4cP459+1BWhro6NDejrQ0SCaZMwZ13dsU0T0uDToeBPWzlckyejJEjMWcONm3CqlV46y2UlWH6dHzve5gyJfw1SnA4Dm43ysuxfz+OHOnSci0WaLWYNAn33YcxY5CVhdRUGI19UFAJErQcApnfJ5GQoqjuyolNm6tt1bFVH1V8NM407mdTfzbONC5GHeiThBGSIGW0TC/RuwPuNnfbBdrRFcemSmvlzrqdOeqcsaaxYjq2kzFG+UCcJDpJakfDj9/vd7vdcex3xEMQKCnBU0+107Q6PV1qNEImi66dostDktDrodNh1CgsWYKdO7F6NbZsweHDWL0ay5fj1ltxwY6C2+0mSTLifkf9geNgt+PwYezahbIyNDTAbIbVCr0e06djxgxMmgSjEXo9VKp+hFLgOI43774gNRtBQK3GlCkYORKLF+Pjj/HGG3jrLezdiwULcM89GD06ItWMNGazOapieXV2Ytcu7N6N8nK0tsJshtMJkwmzZmHGDBQXIyUFej0UioGEx7BarfGXjS1ucPqd6yvX/+PQP1JlqY+WPjotc5qQCpv1KsMwNpstQfyO7Ha7WCyOp00GCS0p0BY0OBouzgnb0dFxeb+jhs6Gk+0nryu4bpxpXEyb1fn9fp/PR1FUHEcG7iYUCrlcLrlcniB+R1arNel3FM9wHMcwzHBLMRQIhcjN9RsMbMSyG0ccgoBGA7UaeXldOtIbb+Drr3H6NFavxs034/bbLvweSQAAIABJREFUkZPTdXL0NCvHwWbDnj3Ytg3l5Whuht0OtxuZmVi0CPPmdYXjU6kGrrJyHMeybK//IghotZg8Gfn5WLEC//oX/vMfVFVh2zYsX4677kJ2dq/fi16CweBwiwAAjY3YtQvbtqGsDHY7Ojvh8yE3F7fcgjlzMGZMV18ViwdlyhgKhcIpdJLwEWACu+p2PbPzGQEpeHDig0tGLLk4s80gSZzWD4VCcWbEoRKppmVNe3Hfi+VN5RfkhL18Za0e69HWo66AK1+TH6NJYLtJnPkVD8MwcdaNL0NEB+KkdjT8iESixOnN8WEUSxBQKCCXIz0dS5Zgzx783/9h505UVuLdd3Hzzfj+95GfH8l8R32DT1K0dSs2bcL+/bBa4fEgGER+Pr7/fVx3HUaP7tKIhMLB7uOJRKLLV5YgoNNBo0FBAb7/ffz1r/jsM5w9i3XrcP/9l7ROjE6GMWAdx3Uplps24fhxdHbC7Ybfj5IS3HUXFizAqFGQSiGVXjJyRn/Ragcb+ixJJGA59mT7yR9/8WNX0PXQpIfum3CfXBjmZSeSJBNk44gfm+Jp4wiAUqScmjHVx/gaHY2eoKdn3Dm1Wn2ZylZ3VG+q2lSkL5qaMTWMW5HDAr+LkggbR3w1ZTJZHEyx+gJBEBG14IirZ0GMIhQKE+TW5ROkxs0IRBAQiyEWY9kyzJ+Pffvwl7/gyy9x7hz+/W+sWIF77xWPHDk808r6enz2GTZswIED8PkQDIIkuzIULV7MpycCTYOiwjOBJgiij92YJKHR4OqrMXYs9u/Hc89h926cOIHVq/Gzn+HaayGLhcixarV6iH+R43DuHD79FBs24PTpLi2X4zBtGq6/Htdfj8xM0HRXm4YXlUqV1I6iDY7jmp3Nd35yZ6urdcXoFU/PeFoulIe9mUiSVEa5V2j4UCqVQx1EJ8KQBKkRazQijTPgtPvsPbUjhUJxqcc1x3Fmt/mM9czSkUtLUkpi/d6naZqiqDhr2UtBkqRUKk2QyhIEEVGT7ziZp8Y0TqfT6XRmZmYOtyBDQXNzs8FgkMeuaV1vCARQKnHddZgzB2Vl+OMfsWULXngBr79OZGd3xZzghxj+L//s6vnJBX8v/+Flvsj/ravDkSNdstE0Jk7E8uVYuhRFRZFy9OI4zul0ut3u9PQrJw0kCFAUVCpcdx2mTcNnn3XpSHv24Npr8bvfYeLEAcaBGDKqqqrGjh07ZD8XDGLdOjzxBGprAUAmw+zZWL4cN9wAgyHizns1NTUjR45MnBWcmMAddN/20W1nrWdn58x+dcmrClFE3FZDoVBdXV1hYWEkCo82Ghoa0tPTo8pNdJAQBCEWiA0yg9Vjre+sT1d++3C+TGXNHvOOuh1BJpitzjbJTUMrcvhxu90ej0ej0YguFXE1jggGg1arValUxtkUq1dYlj1//vzoiPkuJ7WjJEnChlCI6dOxdi3KyvDSS9i+naquDmf5fTTA5J2jZszAsmWYN+9bP6goRC7HHXdg/ny8+y7+8Q9s345t23Drrfj1r5GbC7E4SuN2DM16KseB42A245//xB//CACLFuGeezB3LgyGIfj9JFGKP+T/0YYf7WvcV5JS8taNbylFEdzeifWtgwRHK9FOSp20vXb70bajUzOmXrE1OY5rdDRuOLthrGnstXnXUkRyTSRJ9BLRp1NSOxp+KIpKEDtR3jsl7rd9eR1pyhQcO+ZqaCCkUjk/ze1Wby7+2z0Vvsw5ff8rk2HmTAyxv8BgurHBgJ/9DDfeiH/+Ex9/jE8+waef4qGH8JOfwGCAXB51OpJYHPEQtxwHhkFlJf70J7z3HjIy8KMf4ZFHMPSxLYegspGAZVm32+1yuRiGoWlarVYLhcJeR1OO47xer9PpDAaDvGkKn6mMP5kPN9LR0eH3+/n0dAqFomdXDwaDTqfT6/Xy10qj0UT0EecNev+858+rT64eoRvx2pLXslURDGlCEEQirLjzxOXYZJAZrs68+r2T71VaKkNsiKa6+u2l3ERZjm1ztdXaa68fef1Y09Btj0cOkiRpmk4QJZ8gCJqm468bX4qIjk1J7Wj4kUqlMTr/GAAGgyFBTHRoGiUlkgkTiESoLkEQUql0kEYpubn4wx9w6614/XVs24bXXsOqVVi5sitUelS5PwyBHazPh7Iy/OpXOHIEkyfj8cdx883DoyWmp6fH4nDb0NCwatWqPXv2+Hw+lUp19913L1u2rNe5vsViWbNmzRdffGGz2cRi8cSJE++5555uY0KWZcvLy19++eWmpiaCIAoLC+++++4pU6bw/pOhUOjAgQP//ve/z507x7JsZmbmE088MXbs2AjNxvwh/39O/OfZXc+mydP+OPePpRmlkfiVbgQCQWpqakR/InowmUxx4xPbjZSW5qhzxAKx3Wd3BBw6SZcXe0pKSq8DsdVrXX92vYgSjdKP0koiFSt5KOHnVwkz66AjvToTPZAk2RdL/oGXH7mik/QRt9tttVqHW4ohor293efzDbcUQ0RnZ6fD4RhuKYYCjuM8Ho/NZhtkOXxSrFdewb/+hRUroNPh97/HsmX45z9x8iSczjCJO2gaGhoiWr7ZjA8/xK234tQpLFmCF1/EihXDtoHW1NR0qVjtUYvD4Xjttdd27dp16623PvPMM8XFxU899dSBAwcuPtPn83388cfvvPNOaWnp73//+x/+8IenTp166aWX7HY7H0q0tbV15cqVJEk++eSTjz32mMfj+etf/3r69Gn+v6dPn37++ecDgcATTzzx1FNP+Xy+e+65J0LP8xAb2ly9+bEtjymEil9M+8VNo26KxK985xdDoZaWlkj/SpTQ2toaCASGW4rwI6Wleqne5rVZ3JbuD3utLMdxFo9lc9XmAm3BwoKFMZ3mqBuPx2O326MkB0OkCQaDHR0dCTLFYlm2sbExcuXH20pJLMKybILcugACgUDMzbQGTDAYTJAlKz7NQri6MUli5kxccw02b8aqVTh0CE8/jY//P3vfHd/ElbV9ZzTqxZa7jXsLBgPGmF6DKaGYEkIogVCTQIBksy9ZsnmzSTabumET2CRkA6aGDoFACL04YIrBQABTjLHBvUqWrS6NZr4/zr5355MxkCyyhEbPH/7Jmpmr55a595xzzzl3J5o2DQ0ciOLi3J/XDtyoXAGWRTdvovXr0T/+gcLC0JQpaPFiFBnpol97JDyJa21ubu7Zs2dnzpw5depUkUjUt2/fvLy8999//9ixY067OiUlJWfOnBk8ePCCBQsgA5JQKHzvvfdKS0vVajVBED/88IPNZvvggw9iY2Mhg9/ixYv37dvXsWNHuFpdXf2Xv/wlIyMDdpb69eu3Y8eO+fPnP94asSx7svTkogOL7A77az1fW9B9QRsIr3DKs6t/xUNgs9m88mgNf4l/nH/cXd3d25rbTwX9O8GG1WptWVmaoYs0RVX6qs6hnTsEP5kHdbcAwzDed5JVa2BZ1m6380fEcuns5FrtyOFwFBQUlJaW0jQdGBiYkpISEhJy39tKS0srKiq0Wi1N0wqFIi4uLjExEUuWd+/evXDhAveRqKiotLQ070gvQ1EUf3y7+bPHDbnaebLHDcP48Z7PTVFo1Cj09NNozx60ezc6fx79+c+ob1+UlYUGDECJiciN7qguyghkt6NTp9Dy5WjvXtS1K5o9G730EnL73CCTydzM4Lfj9u3bDQ0NgYGBECAkEAjS09O3bdvmcDicvKdqamqKioo6d+6s/L+IrszMzGXLlp08eTI1NVUkEq1fv14ikWBfyqioqIyMjObmZrvdLhQKm5qaevbsGR4eDkpXdHS0TCbbsGHDK6+88njf/bzKvDePvFmjr5mRNuNvT/9NQLbFLAoes23wQ54AqVTqldN1hDKie7vu3+Z/W6gpHMWOAqX6vpVttjVvu75NKVb2jOzpJ3ZhruS2hEAgaC3g0PsAgYL8EbHkrjSUulY7OnHixOrVqwUCAUVRFoslIyNj+vTpoaHOOSKbm5tXr15dXl5OkiRJkmazWaFQTJ48OTMzE264cOHCu+++m5ycjA9h7N69e/v27b1DO+KVDK1SqfiTgkImk/FnUnbRsV0yGZo0CWVmop9+QgcOoLNnUV4e6t8fjR6NBg1CsbHuyf0dEPD4PfK1WrR3L1q+HBUUoFGj0KuvopEjH/uP/GYQBPEkOrIzDBMZGRkUFIRfwL59+/7www8trapKpTI4ONhsNlssFtAEbt68aTKZcnNzX3rpJZFIpNPpOnTogMd2cHBwhw4dioqKTCYTRVFmszk9PZ17/lVoaGhdXZ3D4XBqtKqqqvPnz8PsFxMTA+cIyWQys9nMsixJkmKx2G630zQNodWwmwELxHXN9b/+8teCuoIxyWM+zvzYZrHZkA0esVgsLMtSFCUUCvHjUBTDMCzLSqVSbrEkSYLBlaIokiTtdjvLsnAmjN1udzgcXFawV2a1Wmmahuh2ME6zLCsWi7FVXiQSCYVCo9EIwQAikQi2JiiKoiiKpun7sqJp2m63O7GCAHrMiqIoq9UKvSaXy00mE7SVSCSCYoEVZsJlJRQKRSLRo7MCsdJms2FWBEFAKg7oDlysEyuz2cwwDPwEbKE/gJVIJKIoymQy4Uw24E8BrKALCIKQSCTAtmVbcVm11lYymcxisQArP5Ffon+ilbZWNlUarAYJKaFpWiKREARhs9lwpYRCYZ2uLudeToQyYljcMHi8JStge19WsPkGNjIuKxiiuFKP3lbwOGzUgxgJPXXftmIYBnoTisWs4B4Yt/dlJZVKobLwEw6HA8YVjDGHw8GyrEQi4RYrEAiAFTBprQdtNht8dmKF26dlW0Gx8GpDpbisYJ11OBzACtoKisVMSJJkWRa6BrMChtzKPkZWLduKYRibzQasBAIBnnBgkmnZVlKp1Gq1wmeRSIQr9QBWQqEQZmyz2SwWi6GpW7LCE45YLGZZ1okV3NOa3OJC7aimpuaLL74ICAhYtGiRQqE4derUjh07goKCZsyY4SQywkqWkZGRkJAgk8mKi4u/++67f/7zn506dcJ7TeHh4S+88EKPHv8OQpXL5cq2T97kGtjtdrPZzBMTndFohBHsbiJtAXj9+LAxCGuP1Wp1hcGCJFFICJoxAz39NDp0CB09ik6fRhcuoP790TPPoKFDUUQEamPpvamp6TGeQwcnvW7ciLKzkcmE5s1D8+cjl53i8NsAJ1kpFI//pFFXQ6VScSfVkJAQkBucbktMTOzVq9e5c+f27t3bpUsXvV6/Zs2a+vp60ATgHu6J7BKJxM/Pz2w2G41GkOkhGx6+ITQ0tLa2tuUPlZSUHD58GKa+Z555Jjo6miRJqVRqMBiwxG+1Ws1mM0mScrmcZVmDwQD627GSY5eqLw2KGvSXvn8JkATU19eDsEJRlF6vx/nWLBaLxWIhCAKkN1CuQKAxm80EQcjlcqFQCMVKJBL4zLIsRK4bjUaapmFjAb4HORXqS5KkQqFgGAYeB80KREyFQoGLBckDHpdIJCCmt8bKZDLB9pRIJILHpVKpQCAwGo0sy8rlcpIkjUYj6GxyuRyKxfZWmGAVCgVN06BvkCRJ0zSodnK5HBcLrIxGI8MwEolEKpWazWar1QqiuclkstvtOp1OoVDYbDbcVlARbOcC3UwulxME4cQK5EUQuXBbYVYgFAIrhUKBixUKhfhxqVRKEAS0DwwGk8kE3eHUVhRFYVbQPtCDBEFAUbgHQQxVKBRKoVIpUtYb6rVGbYAwwGw2NzU1gRQLDOVyOSLRiaITGrOmW3i3OL84qCBuKxArgRV4UMNwNZlM+ARSGIpgzoe2gu+h10Ach2JBM8ejXalUQrNDW9E0DTqtTCbDbSUSiWQyGTwObQVMoFhoKxB8cVvB+GlqagIdDIYfNLVMJuOygseFQqFMJrNarTCuVCoVjDEYPzabDbeVWCzGLxG8OA6HQywWS6VSJ1bwGbRuaCtoH2grhUIBCTMZhuFWFoYlFOvEiiTJ1tqKIIjm5maLxaJUKvEQBYa4ffBnaBAuKzzhgGeEyWSCtoIhilndt638/Py4bUXTtMFgALUHt5VUKsWVgnEFEw5mBd0ErzDMrk7TIMuyMNqlUilFUc3NzTqdDrcVTdMikQjUP3i1/f398YQjEAjw3CWTyYAVjEM3aEenT5++ffv2pk2bevbsybKsWq2+fPnyyZMnx4wZ42R5ValUM2bMkEgkYGyLjo4uKyv76quvbt++jbUjsVgcFhYWFxfnOsLuAsyb7mbRRjAajTzRA0E74s8et6uHMUWh+Hg0ezZ6+ml0/Dj6+Wd05AjKy0PHjqFRo9CIEcjPr+3yFjQ1NT2uohgGnTmDVq1Ce/agsDD0pz+h6dMRRxp3P5qbm8PCwtzN4jcDNkzwvyDHt7xNrVZnZWXV19dv37794MGDYrG4Xbt2cJwizugNpnoAWFtBQAeB2MnRvzVX+Pj4+GHDhoE1NDo6GvaOCIIACQkSiMP2BTaagpgiFAr7x/SvMdSMSx6XHJwMj4CwIhAIQGgAMhKJhKIokBFBLsG7UrhYENzx3hH8Onwvl8tB4sesICtDSEiIQCDAe0fwi2BBpygKm3W5rOBx+IkHsIJac1mBvR+M/ZgVbl7cVrhYYAUdgVnhz06sQNiCtgJZjSAIEO4ZhtFoNKA74bbCTQ1FgXYNP+HECvZDoAtwW2EmWAiDtsLFQgPC45gV3ACsYO/Iqa24rLhtBc0OrOAeYEVRVJAiKEIZUWGoqDHVRIRGUBQFGXRgYMDjNsa2u3i3n9hveOJwlVRlF9hbYwXGeIFA4MQKBgYMBtxWeIwBVWg3YAVqA3yGv7it8OPctsLNDqxkMhnsNoDSCPshLVnBBgv+viUrXCnoDhiowAcsCMAK7sR7R/gloigKs6IoyokVfHZ6HMv6Tm3FfbXxyOey4v7FbQW/hXvKarXCnqQTK2gfbls9mBUeV06s7ttWMPJxW0HzYla4rZx6ECaclm2FK8VlBZ+dWNXX14MGDkUBK3i1gS2ecKDFnFhBL7e2grhQO8rPz1epVF27doUqKZXKTp067d+/v6yszEk7gm2yliVwJUutVrt///6CggI/P7+0tLSkpCSvMck/uIe8DLxKxg/vubtZtBHaZhiLxah9exQdjfr2RTk5aNcutGcPOn8eHTyIJk5Ew4e3kaPd45p8TCb0ww9o7Vp0/jzq1QvNn49GjnRnPNV98YTOtNXV1TqdDv9bWFjY0tsN0LFjxz/84Q+FhYUGg0GhUHTo0OHkyZO9e/eG8UwQRE1NDQhSoCtWVFQoFAo49Ugmk5WWlhqNRnwqQ0VFBUhpTr8SERHRo0ePlo3JtRaJxWLuDXhZ7NGuR7RfdIA0QCQQOXnbt/Y4l4BTsdzHuSsv9xEo1m63i/8P932Eu2nWGisQTFv+hEgkau1x7k9wt6NbK9aJye9jBVsNTqy4cxr3ey4r7meIcvlNrJwev+/3D2DVWltxP8eoYzqGdPyl9JfixuKekT1FIhHsjHGLbdA3XKy/GCwLHpYwjBJQlPQ/P8FlxT195BFZcZv9v2wr7k+01lZOxcKmCjh/Pgorbhw49yecin2UHuS2ldPjXCbcz60Vy2XltM46sbLb7WA44N72iMP1v2Hl1FatPd5aDzqdavMorGQymVwuBz7cx1tj9YBK3RculGYqKyuDgoJwJYVCYXBwsMlkamhoePCDWq32p59+iomJSUlJwc/CpmpxcXFFRcXu3bunTJkyYsQIp+qxLFtdXb1161b4NzExMTExEVrKYrGAVczPzw9v50mlUoZhYNMfgn/A+A0GFfDOFAqFUqkU8jKDQgwbizCqHA4H7DjLZDK73Q5bePDWwSYsTB94G10kEgETLiuaptVqtdFohE1YiUQCmYLwSXxgjIS9NdidB3MFGLDBiGI2m4GVWCymabolK4jChE1YoVCItzth1gAmYACAfV6EkL+/v8FgwFufmBXsyIM9FUxl8MiDWYHXL9hdoLJ45gJWXOd1sVgMvhPACjasMStuW0ECsfuygs19MFFAD4JdoSUrsENYLBZgxW2r1liBEQX2eWFc4a1hsFWArVokEoELh1OxMJZasgKbKLACqwlm5dRW2HndiRX2PwGThNlsdmIFTHBbgSsLDAboNdj0FwqFMBiAFRilwBivUqmgWFwpOHNTJBJh9wOxWCwUCs1mMxiEFArFQ1nJZDIYulAs9hqCAYCHq1gsZllLTIz9uefIXr0k+/fbtm6ltm8X5+cTP/6Ipk2zpaWZnHoQu4nDsoFZKZVK7qvNZYXbx4mVUChsbm6GESWXy4EhsIKegrbiTjjYvwJeYTyW6uqEa9agTZuo6mr03HOOadNMnTs7rFYkFquamu7DCnzfgZVcLocACWAlEonwe4fbCrrAYrFAD8L7+FBWBEHgQQIvkUQiaW5uVqvVoGzAIMGV5bKClwh7Z4nFYvB8ULX5YVUqlcpgMDQ2NmKt5vjx4/dVWqBGsbGxkJIOIXTgwAGdTjd8+HBYSnv27Hnnzh1wJoFk7mfOnOnWrRtMMmKx+NSpU+PGjQsICIAf0ul0AwYMeOxmkTCFG7bvBALBk7ht+PsQEhLirTGxUaqo1JDUXTd3Veor7YxdJBAFBwc7VXb3zd1Gm7FvVF+Xni/c9pBIJLBcuptIW4CiKH9/f554rJAk6dLT2Fw4YiBYCv8LMgeoEw94ymazLV26tLa29oMPPsCe/X379o2Li1OpVCRJ1tfXf/fddytXrkxJSUlJSeEuQuCVWFhYCP8qlcqoqCjYhsPiJgRIYCdakIFg1YSYLdA9gAlIEhDzB1UA1dxms+HITngcJFosmkPGTGxQx44ZEIgGnhiYFYjRQqEQioLdSfgMTLiBoTgmEn8PsjVmJRQKuazgMzYAw2f4FfwZnENAdcHxbUAYigWLGm4riKHksoJAPYZh5HL5fVnhttLpdLAH2rKtYJMXPsOGO8SMgibpxAq7jMPjLVlBkCi0M/aNAccJbltBUbDjj3vQqa2cWEFbgRiKgx25rCiKAibYNRkeB+cEPMYeygqEYG4PYiaw9YybGrcV3lvHegiXFR5XoNjflxU8Du0MQY02mw1sAVjTxlFG2MZjsVjgNlxZHIIJMjT8tBMrsDBhJqDY48+4fWAA4O4AJlarVSwWdOkiCg219+1rOX6cWL9etGkTcfo01asX+eqrjs6d//MOcovCbQU6m9OrjVlxmbRkpdFowMu8JSuu1s1tK+6rzbLoxg1BdrZ4zx4kkaAlS5gpUxiVyoYQbbX+x5WrJSvui3PfVxteYTxcYcKBV5irdTuxwo+DTxHuWRhvWq0WAm9wG4LZBVhBPC7WJPEgwazcsn06aNCg3Nzc3NzcHj16REVF5efnFxUVzZ8/HxwzNBrNuXPn0tPTIyIiEEIajcbhcAQHBxMEcfPmzXXr1qWmpsbHx8N7/cYbb8yYMWPDhg2zZs0ym82XL182m81dunSBemVkZJw7dy4/Pz82NlYmk61YscJms73xxhtPXJjWfeFwOLRarUuPXPQc6HS6wMBAr5QsJZQkVB4qoSQas8ZoM4qkIp1OFxAQwK3spoJNCqFiSscpYuqJ3CtuDTabzWq1ghuVu7m4HA6Hw2AwQAiTu7m4HOAN67pIDRdqRxKJhOudD1ksnDbynEDT9Mcff3zs2LG333574MCBeIEJDg6GpQs8tidNmvTBBx9cvnw5ISGBu6FGEERUVNQrr7wC/0LsHUi3KpUKNArsHQvfc10/saCAP2MXZ3AFhEe4j0MQGHwGoQHv5cEjUBT3MzDhsmpqajKbzQEBAbAVBo9zWcFn+F6tVmNrKGaFvc+hWNjvwuIR/vyIrPz9/bGDPrdYzAo0SZB+Hp0VRFXCBoJCoXiUtvLz82uNFYTGAiuctLc1VtwebNlWuNmh2EdvK4FAAD/RkhUwgcQ7EPHMZYXH0gPaCpiAV/pvaitghd8Ip7bi9iBmBXnJMBNcrNNoB/0KLrVsK71eb7FYxGLxA9rqvqy4vQYvFGbFbR8nVvjxyEiqXTu2WzfB5Mlo9Wr03XdkaaniwgU0YQKaOTMgMvL/e4lajiunVxsXKxKJcPu0ZFVbWwsmutZYOU043Lby8ws4dQp9/DF54QLZvj1asgQNGUL4+VEM44ebtzVW3LaCHXWngcGtVMsefAAr/AhWbKCy/v7+dXV10HetsYJtRvwSwU/gYt2iJ8TGxo4dO3blypULFy4MCAgoKSlJTk6ePn06QRAMw5SXl3/11Vdvv/02aEfHjx9fs2ZNaGgoy7JlZWXh4eGvv/46HHaEEEpNTZ00adI333xz5MgRgUBQWVk5ZMiQYcOGwdWRI0feunUrOzv70KFDcILFggULOnbs2PZVdgXA4OhuFm0Eo9HIzT3oTSAIQiVR+Uv8K5ortGatWqo2mUzcytab6n+t+TVAEjAgdoBbmT5+gO2GJ9HOYJZ9vEdreDLAAO0iuFA7ateu3bVr17DQTNM06HmBrUQcMwyzdOnSzZs3v/vuu1lZWU5qD/5MkmRkZKREIqmtrcWbCfg2SN7QsnCu2cBpj5WrZHNv437m7kE/4PFHKarlZygQgg5/0+MuZXXfYrmXWiv2waxAPP0dlXX66dYe/32sHlrso7SP0+Pw74Mr6yJWTrEEj9JWrbn2clk9oAsg7yfIyr+DVWufW2PFfRx+IjAQBQSgv/0NvfQS+vhjcvt2VFqKfvqJnDsXTZmC1Orf01YPYIX3dR/MquX3RiPauZN8/31UVYWGDkVvv426dUNiMYEQIsn7e+3/jrZqbYj+jpcIB74/IisnA627XJUoinrmmWfi4+Pz8/MbGxtHjx7dp08fyPFDEERgYOCwYcPwStG3b1+BQHDv3j2E0MSJE9PS0sLCwnBFJBLJa6+91r9//ytXrpAk2alTp27dumFfQZVK9cYbb/Tv37+goMDhcCxYsKBr167e5MbDk2M0vR7RqugWUDDWAAAgAElEQVQ4/7hrtddKm0oTAhKcuvXrvK/tDnvPdj3DFS50VfKhDcCrF9allXXhJJ6enr5z586rV6926dIFlLyCgoKgoKDExMSWN7Msu2zZsrVr17711luTJk168JpaVVVlNptDQ0O9Y/dQoVB4x8FNj4Lw8HBv9e1uCXcZztse4KXm3mFMEMjfH6lUKDsbLViA/vpXdPw4WrwYff89WrwYjRr1OLMdJCQk/NZHWBZpNOgf/0DLlyOSRHPnorffRmFhyPPnsJiYmCfRKUUqlXbq1CklJQWCD8FUAZciIyMXLlyIdZjw8PAxY8aArc3pThjb/v7+AwcO7Nu3L1YXuTf4+fkNGjSoX79+2KG0zevqKlAUFR0d7W4WbYTIyEgvXpuSApM6hHRYfWl1WVMZwzKRkZHcHYYdN3aIBKKXu73cNqcMtyXkcjmEm7qbSFtAKBQGBQV50xT0AJAkiYNFXVK+64rOzMxUq9Uff/yxyWSy2Wz5+fkXL17s2bOnQqFwOBxnz57dvHlzeXk53Lx27dq1a9e+/PLL06ZNc5qhmpqaCgoK6urq4N/i4uINGzbQNN21a9cnNJmSE2iabi0JrPcBR6vzAThung/AqQvcC5JEcjnq0wdt2YLWrUMJCej8eTR7Npo6FeXlocc19H6ruxHLoro6tGAB+vJL5OeH3n0XffYZCg9/AlQjfHSJu1n8HoCHJKQtwfoM7HByT5SHnUDIzMa9EwNnCsapsZ1u4F5tk5q1EeAwFnezaCM8ueP8URAgDYhURSKENCaNhbbgBC0IoVJdaZG2iCKpbhHd3E3z8QMWppbHQHslIICFJyIWy7KQAspFcKE+HRgY+OWXX86ePTsjIyMoKKiqqiorK2vmzJlwenFOTs6hQ4ciIyOjoqLu3LmzZs0ao9F45MiR48ePw+MymWzq1Knjx4/XarXg8w2bRdXV1SqV6v33309MTPQOw7zFYtHr9Y/xcElPRmNjI0VRPPGLNRgMkODL3URcDsg7ZzQaPeGMZoJAAgEKDkbTp6Phw9Hateibb9Du3ejQIfTCC+itt1Bc3H97MlJNTU1wcPCj319UhEaNQnfuoMRE9Pe/o/Hj/6tfb2PU19fjmDEfeAWHw1FfX+90Aoe3QqvVQqpMdxNxCUiCVEvUSrGywdRgspt0Gh0cUIMQ+ujURzRDj04aHSQLcjfNxw84HBZ8v93NxeVwOBzNzc0qlYoPIhbLsnV1dUFBrhq0rh0u/fr1O3369PHjx41GY4cOHTIyMnCMzaBBg2JiYuB0V7VaPW/ePKcDFkUiEVyNjo5+7733nnvuuYqKCrvdHhkZmZGRERgY6B2qEcCb6vJg8KemfKusB4IgUGgoWrIEPfss+vprtHMnWrsW7dmD5s9Hc+ag0FAkFP5ONekRPc1YFlmtaM8e9OKLCCHUpw/67juUmvp7ftGN8A1jPoM/ve/1NQ2RhwTJgq7UXqk11EqIf/sZOxjHoeJDCKFXu7/qboKugtf3LBe+yj4uuFyZDg4OnjRpktOXAoGgd+/evXv3hn8DAwOnTZvWWglw5IIXn7oAZ4y4m0Ubwc/Pz4t9u50Apzi7m0UbwWOHMUGg5GS0bBl64QW0bBn65Rf00Udo82b0xhsoKwuFhKDfYWV7FHsVw6CGBvT552jpUqRWo/Hj0bJlyAO21n4z+BM+54MTcP5DPsDf39+7txc6BHVICkjKr8qv1Fd28+8Glb1YfbGsqUwpUnYO6+xugi4BHFnhZS6vrUEgECgUCp6IWJBfx3Xl80V082RQFCV5jAHjng04QtHdLNoIcJKsu1m0BSByw5OHMUminj3Rhg0oOxsNH44MBrRoEZowAe3ejcrK0G+NDnvoMdtWK7p+Hc2ejZYtQzEx6N130erVT6RqBJX1aUf8BBwi7G4WbQSvN2YlBCTEqePqTfW1hlqhWAiVXX5uOUJoZtpMpejJnJ4eBvDk9+6exYBIS56IWHBMpevK58WI8XAYjUacc8LrUVNTw58UFI2NjU7+ot4KOBeloaHB3UQeAqEQjRyJtm9Hn32GBg1CZWVoyhT06qvo559RaelvyNlw9+7d1i6xLNJq0YEDaPJkdOwYSk9Hq1ahP/zhsVWh7VFWVsaTmGYfnEDTNM6c5PWorKz0hLwyroOYEgfLgqWUtNZYW1xWbLPZDDbDucpzBCLmdJ3jbnaugslkamxs5El6JLvdrtFoeCJiMQxTWlrquvK9eR/ZBx988KElZDI0fToaORJt3ox27UJ5eSgnB40fjyZNQmlpKCIC/W47I8ui0lK0fTtavhxZrWjsWPThh+h+Rxj44IMPPrQ1QuQhfhK/Ik1RD2kPhNCxkmM1hpqEgISnAp9yNzUffPAs+LQj90MkErl0f9CjoFAovNu3mwupVMqTDX0Yxk9WPtzAQLRoERozBm3ejA4dQvv2oaNH0bPPotGjUXo6Cgl5UMKG++Zws9vRtWto5Ur0ww9IrUZz56LXX0dekOzNz8/P51nHT5AkyZNkqgghpVLp9S5JyYHJEYqIsxVnJ8RMEAgEm65tstLWed3mSYSe6xT9X0IoFPJnIQZXWJ6IWHASnevK50UjejiEQiF/hA+5XM6TVxeCrHjSswRBCIXCJ3EFiolBf/oTGjEC7d6Njh5F33+PjhxBY8ei4cNR166otZjPliJjczM6eRKtWIFyc1Hnzujll9H48U9qoJETVCoVT4axD04gSVKhULibRRtBoVB4vXaUGpIa4x+z7/Y+E2GqN9dfq7tGEMT4lCfqhIHfCDi+2et7FkCSJH+OviUIQqVSua58XjSih8NsNptMJqlU6m4ibYHGxka1Ws2Tt1ev1/Mk6ROcd2QymTw5MUNrEAhQly4oORllZqIDB9ChQ+hf/0LHj6OhQ9GIESg9/T5KTk1NDT7ZiWVRTQ3atQtlZ6O7d9GIEWjePNSrF/KaF7quri4mJoYn4oUPXDgcjoaGBp4oSBqNJiQkxLvHeZAsKEwRxiK2qKrobtPdGkNNj3Y9ovyi3M3LhbBarRaLhSdHAMF5Rzzx0GEYpra21nWzk/e3oOeDYRiehAwihPhzajXENHv3WsuFw+GgadrdLH4nCALJZKh/f9S5Mxo0CB0+jH76Ca1YgX75BQ0bhsaMQampSCz+z/047JVhUEkJ+u47tGMHYhj0yito1iyUlIS8qdutVqu7KfjgHrAsy5/et9lsT5Zv8O8ASZDBsmCZUFaiK7left1oM85Omy0kvTmxKsMwNE17fc8CWJalaZo/IpZLZyefduR++OKOvBX8cXd+EuOOWoIgkL8/GjYMpaWhp59Ghw+jH39EX32FcnLQM8+g559HsbH/Vnsg7shuR/n56B//QCdOoHbt0Lx5aPx4FBb2O0+Y9Vj44o54C1/ckfchMSAxQBpwsuZklbmKIqmBsQPdzci14FvckVQq5YmI5Ys78n744o68FR57QOpjB8QdeUdlCQKFhv7bp27oULRrF/rpJ3TzJjp8GI0fj158Efn7I5VKZTaj3bvRl1+iGzdQz55o8WLUty/ySklSqVR6R8/68FvBq7gjuVzOB+0oIyIjQhFxruKcg3WMeWpMmCLM3YxcC4qiCILwaUfeB4IglK4M7eVFI3o4IGDDF3fkfTAYDAKBQMx1yfJSQNyR2Wz2mmEsEKCICBQcjNLSUFYWWr8eHT2Kbt1Cu3ah2bNRp071e/eq1q1DWi2aPBm98QZKSkLe2s8NDQ0ymYwPgqMPTuBV3JFWq/X6uCOEUJw6LlwZziKWReyk1Eliykunrf8Djjvy+p6FF1av1/PEBs0wTH19vesUJO9vQc+Hw+Hw7kPouOBb3NGT7mz26HA4HN4XPicUoqgoFBKCundHp06hr75Cp0+jwkLk7x9eW4sEArRkCZo9G4WGeps3HRc8OVvQh5bwxR15H0QCUbA8WCQQUSTVNawrRXi5EMi3uCO73c4fEculaxMvdhs9HCRJ8kHRBzyheZ9/HyiK4oO9CuDFw1gsRpGRaMIEtGsX+vprJBSiwkKpXI5WrUKvveaFgUZO4EOuJx/uC4Ig+NP7XuMb/FAkBSSpxKqpqVND5aHu5uJywMLEk54lCII/lYXgBdcV7p3SzJMFpVLJE9cFhFBERAR/Xl0+5PIGgAewFw9jgkBiMQoLQ7NmoeefR4cOEb16ochI5KX64P+H2NhY/lg0fOCCoqiYmBh3s2gjREVF8WRtmps+t31Q+9TgVD+J9ydckcvlMpnM66sJEAqFQUFBPKksSZKxsbEuLN91RfvwiNDr9XV1de5m0Uaorq42m83uZtFG0Gq1Op3O3SzaAizL6vX6hoYGdxNxLQgCiURIrUbduhXFxvJCNUIIlZaW8sdVwwcuaJouKytzN4s2QkVFBU9c3BUiRQdRhyBxEEl4vwRoNBq1Wq33eX3fF3a7XaPR8ETEYhjm3r17rivf+98Nz4fvvCNvBU3TDofD3SzaCLwaxrwKxeFP5IkPTuBb3BF/1iaeBFn54o68Gy6dnXzakftBEAR/olMEAgFPtn1h55c/Lkn8yZoKDgzuptB28NZwMh8eBfzpff6swjjPtbtZtAV4tTDxTcRy6ezEl4nPkyGTyfiQ9BkQFBTEnzBf/hyjSRAEr4Zxu3bt3E2h7RAeHs4r8cIHDIqiwsK8/DwcjJCQEP6sTSEhITwx8UilUpFIxJPKCoVCPz8/nlg0SJKMiIhwYfmuK9qHRwRN0/xx1LFYLPxxNrPZbDxxZGdZlqZp/jjhGAwGd1NoOxiNRp74pfjgBIZhjEaju1m0EUwmE3/WJpPJxBP/K5qm+eMzyTCM1WrlyTBmWdals5NPO3I/rFarXq93N4s2QlNTE3+iU4xGI0/iI2EY80dn8Pr8E1xotVqfdsRPMAzT2NjobhZthKamJp6IlQghnU5H07S7WbQFbDab0WjkSc86HA6j0cgTEYtlWY1G47ryfdqR++HFB8W0BH/cncEDmD++7CRJ8qey/PHA4VuQlQ9O4E/v82pt4s/hTrxamPgWd+TShZgvQrknQyKR8OftVavV/JEsFQoFT+YpgiB4NYxDQkLcTaHtwJ8DNHxwgkAgCAwMdDeLNkJAQAB/zJRqtZonlRWJRAKBgCeVpShKqVTyxKJBEERQUJDryvftHbkfkHHS3SzaCHa7nT9eOg6Hgycb+jCM+VNZnoSTAXjip+HDfcGf3udP3mdeVZZlWYfD4ausV8Kls5NPO3I/LBZLc3Ozu1m0EXQ6HX8kS4PBYDKZ3M2iLcCyrMVi4U/4HH+Ob4YgK/4stz5w4XA4XOrZ71HQarX8MVPyp7IQEMsTy53D4dDr9TwRsViWra+vd135Pu3I/aipqSkqKnI3i7YAwzC3bt3SaDR8SCDDsmx5eXlFRQUf5mW73V5dXV1SUuJuIm0BlmUvXLjAkwR9Fovl8uXLPBGkfOCCZVm9Xn/16lWe6MbXrl3TarXuZtEWsNvtBQUFBoOBDz2r1Wrv3bvHk9SLJpOppKSEJ8PYYrFcunTJdWuTTztyP27dupWTk+NuFm0Bh8Nx7Nix0tJSPkzKDMNcunSJJ5Kl1Wq9cePGuXPn3E2kLcAwzMaNG3my3DY3N+/YsYMnxkgfuGBZtra2ds+ePXwwZiGEfv7557KyMnezaAtYrdaff/6ZJxvgZWVl586d44nCoNPpzpw5U15e7m4ibQG9Xr9jxw7XOdfxIlLNw2E0GvnjvdDQ0GA2m/mgHUGKWJFIxIfKMgxjMBj4k/y3srKSD1uCYNGorq7mwxj2oSWsVmttba27WbQRamtreXLwIMMwdXV1PDF5mM1mnU7Hk/A5mqYbGxt5co4ITdMuXZt8e0c++OCDDz744IMPPvjggw/Ipx354IMPPvjggw8++OCDDz78G4TXuEzo9fp//vOf2dnZT9z5DCaTyWq1qtVqdxNpC2i1WplMJpFI3E2kLaDX6wmCkMvlXn9cDMMwFovFbrf7+fm5m0tboKamJiQkhCS937rEMExDQ0NQUNB/U9nk5OTNmzc/Vl5PGFatWvX5558rlconayqw2+06nS44ONjdRNoCDQ0NSqVSLBa7m4jLwbKsRqPx8/Pjw8E4FovFZrNJpVI+VJamaaPRKJFI+DCMIaNmcHDwfzOppqenL1q0qFOnTi0veU/ckUgk6tOnj1Ao5Ink7YMPPvjwRIAn4vUDkJaW9vLLL/PnIGwffPDBB89Hu3btWjtS1nv2jnzwwQcffPDBBx988MEHH/4beL9niA8++OCDDz744IMPPvjgw6PApx354IMPPvjggw8++OCDDz4gr4o78jSwLAtBYwaDAQ4WkEqlAQEB3MBcmqbr6+ubm5sZhpHJZKGhodygKZvN1tjYqNPpWJaVyWTBwcESicTzg3pZlm1sbKyurlYoFDExMfhLk8mk0WiMRiNJkn5+fsHBwQKBAF+FgzVMJhNJkv7+/mq12sN99OEgeY1GA0dkSKXSkJAQmUyGD/9paGiwWq1CoTAwMFClUuHKwgmb9fX1cFWtVgcGBnpytzocjqamJq1Wa7PZSJKUyWQhISFisZggCJZlGYbRaDSNjY0Mw0gkkqCgIKVSiZ/FV2malkgkoaGhcrncrbVxhtls1mq1ZrPZarXK5fLY2FjuVYZhGhsbtVotTdNisTg4OFihUODOgpbRaDRwFeqOr0Los1artdvt0DLuTVnBsmxTU5NerzebzXa73en1tFgsGo3GZDLRNC0QCJRKZVBQEPcdZFm2pqamqakJpqOgoCBuV9I0rdFodDodwzBSqTQsLAxGiDsq6sNDwDCMyWTS6XTQ3RRFqVSqgIAAoVCIu8xoNML5PxRFwRzFTcvR3NwMU59AIAgICAgICHgiMpQwDKPT6WpqatRqdXBwMEX9W/4xmUz19fV4bQoNDeVWx2QyNTQ0wFV/f/+AgACKojx8bOv1+oaGBovFQhCEVCoNDAxUKBR4EtBqtXht8vf3505ZBoMB1iaKogICAvz9/bkrl6eBZVmtVtvY2Giz2SABUnBwsFQqhas0Tet0Olh9pFIpTFncytbX1+t0OnyVO7e7HTAnw9pks9lUKlVwcDA31wJeX/DapFKp8FW8atvtdrgql8vxqAYhDa9cIKK4t+5NTU3Nzc1ms5mmaZVKFRkZianCZGU0GvHaFBISgl9eSB6j1WqbmpocDodcLg8MDJTJZNxluqGhQafTORwOkNMeUQjxaUcuRFVV1fLly8vKypqbmxFC/v7+gwYNGjduXHh4OPTZxYsX169ff+/ePYfDoVKppk2bNmLECJBIbDbbr7/+unXr1lu3bjEMExwcPHHixMGDB8Mc58kwGo0rVqxYs2ZN7969N23aBF/q9fqDBw/u27evrq6OIIikpKSXXnqpY8eOJEmyLGs2mw8fPrx161adTkeSZIcOHSZNmpSWluaxSWZYlq2srNyzZ8/Zs2c1Gg1JkqGhoS+//HKvXr3ggPldu3YdPXrUbDaLRKJ+/fpNmjQpKioK5qampqa1a9ceP37cYrGIxeLOnTvPmTMnPj7e3XW6PxiGuXv37tatWy9cuIB118mTJ48ePVooFLIsW1RUlJ2dff36dYZh/P39hw4dOn78eMgbyTBMYWHhunXrrl+/brPZZDLZ2LFjJ0+ejFcvT8DFixdXr15dWVl57969bt26bdmyBV9iWbakpGTjxo0XL1602WwSiWTkyJEvvPACvIMMw1RVVW3YsOHs2bM0Tcvl8iFDhkyYMCEkJASeLS0tXbVq1a+//gp1Hzx48LRp09yYUZNl2Y0bN547d66qqqqoqGjAgAH49XQ4HFevXl21alVdXR0IxLGxsc8991zv3r2hs1iWvXXr1rJly0pLS2E6ysrKGj16NBa5rl27tn79+qKiIliBJk+ePH78eA83cPAWZrM5Jydn9+7d9fX1FotFKBQmJCRMnDixe/fuYJ4zmUxbtmz56aef4GpqauqsWbOSk5NB4GhoaID5rampSSAQpKWlvfLKK1jT9mQ0NjauXr36u+++mzx58uLFiyFPrMlk2rdv3+7du2Emj4mJmT9/fufOnWG6bm5uPnz48J49e+rq6kiSTElJefHFFzt06ODJY7uurm7Xrl2nTp1qbGyEGj333HNPP/00Qqi6unr79u2nTp0yGAxCobBv376zZ88ODQ3FitOOHTv2799vMplEIlH37t0nT56cmJjosarv3bt3169ff/nyZVib/Pz8nn/++aysLIlEQtN0UVHRli1bLl26BMlUR40aNXr06ICAABjGd+/e/frrr2/duuVwOPz8/IYNGzZhwgTPSR1st9svXry4Zs2a8vLysrKyoUOH/vGPf+TKCaWlpdnZ2Xh9yczMfOGFFwICAvCqvW3btvPnz1ssFplMNmLEiGeffRbbYSsrK9esWZOXlweqyKBBgyZMmBAWFubG+u7cufPEiROVlZWVlZVDhw795ptv4HuGYY4fP75v376amhqz2UxRVLt27aZPn96vXz8Ylna7/fr16xs3brxx4wasTWPGjBk2bBjYIlmWLSgoWLduXWFhocPhUCgUY8eOffbZZx9FkBa8//77rq84H8GybFVVVW5u7pAhQ8aPH9+nTx+r1bp//36SJFNTU4VCYVlZ2QcffEDT9Jw5c4YPH15bW7tmzZr09PSoqCiWZe/du7dixYra2toZM2ZkZmaWl5cfOnToqaeeCg8P99ipCnDy5Mlvv/02LCxMoVBMmDABZK/jx4+vWbMmISFh5syZnTp1OnHixKVLlzIzMyUSCcuyV65cee+991JSUubOnduhQ4dz587dvHkzJSXFY5OzNzc3f/311/n5+cOGDZs0adLTTz8dFhYWHBwcFhZmMpn27t27ZcuWoUOHTpkyRa1W79mzh6bplJQUqVTKMMz69euXL18+ZcqUF198MTIy8uDBgyUlJQMGDPBMVdBsNq9du/bQoUOjRo2aNm1aRkZGYWHhli1bxo4dq1Kp9Hr9Rx99dP369Xnz5o0aNcpisezfv18ul6emphIEodPpPvnkk7t377744ovjxo2jafqLL75ITk5+6qmn3F2t/+DatWtlZWWdOnWyWCwikei5557Dl5qbm1esWHHx4sWJEydOmDCBJMl//etfkZGRHTt2ZFnWaDSuXr16375906ZNe/bZZxFC+/btk0gkHTp0oCiKpumPPvooLy9v7ty5kyZNkkgk69atA4HDXTWFZYaiqN69e58/fz4qKgpeTzCy3r17t76+fsyYMWPHjm3fvv25c+dOnjzZvXt3SDdnt9vnzJmj1Wr/8Ic/DBs2TKvV7tmzJzw8PDk5GdbaTz75RKPRzJo1a+TIkQ0NDStXruzRowe2//ngUTAYDNeuXXM4HFlZWVlZWYmJibm5uXl5eenp6UFBQQRB7N2795133pkwYcKsWbNiY2OPHTtWVFTUt29fiUTCMMzOnTu3bdvWp0+fF198MSEhYevWrVVVVZmZmR6+MFmt1mPHjv3www8ymSw6OrpPnz6g+R87duzvf/97t27dXn755YyMjJycnF9++WX48OEwXefm5n777bdxcXGzZs3q2LHjiRMnbt++3bFjR7Va7Tn7DFzY7fYvvvji8OHDWVlZEydOHDBgQLt27YKDg8PDwy0Wy/fff3/gwIGhQ4dOnTo1ODh4w4YNNE337t2bIAiapg8cOLB8+fLhw4dPnz49NDT06NGjGo2mU6dO4BPhaWBZ9rPPPsvJyZk4ceK0adN69ep19+7dLVu29O7dOyIioq6uLjs7+9KlS1OnTh09erTBYPj555/DwsLi4uIoirJYLG+99VZBQcGrr76alZVls9l2796tUCjAYuvumiHox5KSkrt37yYnJ4N217t3b6y8mc3mTz/9ND8/f9asWRMnThQKhRs3bhSLxV27diVJsqGhYf369WfPnh03bhysTdu2bQsNDU1MTKQoimXZL7/88uDBgzNmzHj22WcJgjhw4ABCKDU1lbsh08Y4duwYQRCdO3cuLy8PDw8fNWoUfO9wOM6dO0fT9OjRo8eOHduhQ4e8vLw9e/Y888wzKpUKjNHLli27d+/erFmzhg4dWltbe/To0YiIiNjYWJIkNRrNW2+9VV9f/9JLL40dO9ZgMGzcuDEyMrJ9+/YP58T64BqA9wI4ogDu3bu3cOHCV155paSkhGXZ1atXDxgw4NSpU3a7HTY6e/fuPX/+fJZlbTbbrl27Bg4cuGXLFoZhWJa9fv16VlbWRx99pNVq3Vqth6CmpmbixIl/+9vfXn311alTp8KXWq327bffnjRp0pUrV+CbXbt2de7cOTc3FzaO3n333WHDhpWVlbEsa7fbt2/fnpmZuX37dqi7B2Lv3r1Dhgw5ePCgzWbjfs8wTFFR0dSpU994443m5mao3f/+7/8OGTLk6tWrLMvqdLquXbtOnz4d7jebzRs2bIBh4KaqPAR1dXWLFy9esmRJdXU1fHPhwgXcd9evX3/qqaeys7PhUmlp6euvv/7aa6/V1dWxLHvgwIHMzMxdu3ZZLBbwExg8ePCQIUPcWiFnALfGxsZFixZNnjyZe+nEiRMjR45ctWqVyWSCt3L8+PGwPcgwTElJSefOnZcsWQI3NzQ0LFmyZNasWbdu3WJZtrCwsF+/ftnZ2VarFVSp1157bfjw4Uaj0U0VZeFMKofDYbPZ2rdvj19P8AG2Wq00TeM7t2/f3qtXrzNnzsA358+fj4iIOHbsGFy9ffv2c8899/rrr9vtdoZhVq1a1a1bt59//tnhcMCo7tOnz7hx49xUUR8eApvNptfrcXezLJudnZ2WlnbkyBH4sn///kOHDoXJzWKx7Ny5c8iQIUePHoUZfuHChX/84x/Ly8vh2S+//DI2NrampsZ9FXo4YNAuWrTorbfeWrRo0dtvvw0rKcMwc+fOHTlyZEVFBSw3Z86cSUtL+/HHH8Fz6eOPP37hhReuX78O5axfv75bt2779u1zmvk9B2fOnImNjR1pNVsAACAASURBVP35559bXiooKJgyZcpf//pXmJ9Zln3zzTdTUlIaGhrAUXzUqFGTJk3S6/XgzrRixYqsrKwTJ0545kJss9kmTJjw2muvNTY2wjclJSUdOnTYsGGDw+E4f/78008/vXz5cpCvysvLZ8+evXjx4srKSpZl8/LykpOTt2zZAg9WVVXNmTPnhRdeqK+vd2ud/gOGYWw2G03TFRUV//M//7NgwYLi4mJ89fz587169Vq5ciWsLyaT6dVXXx0+fDj0bG5u7qhRoz7//HNYbpqbm+fMmTN58uS6ujqGYerq6jp37vzhhx/CdF1VVfXWW2/NmDGjqKjIjfU1m80wvYwcOfLVV1/F3zscDvAGx98cO3YsISFh+/btIC7m5OT06dNnw4YNcBUG+XvvvQdNsXPnztTU1L1798IwaGpqmjhx4tSpU2FNfzA8Qkv2SoC/L9cTVCQSyWQyu91O0zRN05cvXwb3StDX/f39+/fvf+PGDavVajKZ7t27FxAQ0LFjRzBQxcfHh4aGXrx4Ua/Xu7VaD4LNZlu1apVAIJg2bRr3+7q6uurq6vT09Li4OPimZ8+eFEWBxcJmsx07diwmJiYqKgohRFFU+/btw8PDa2pqrFarm6ryINjt9qNHj4IN5scff1yzZs0PP/xQXFyMYzNu3LgRGRkJ4TcSiaRr1640TRsMBpiJDAbD888/D0WJRCJYnM6cOePuat0fFEWJRKKamprKykqr1arT6W7cuCGVSmFL4cqVKyqVauzYsXBzSEhIamrqzZs3CwoKGIY5e/asTqeLjo4Gb2mxWPzCCy/U1NSYTCZ3V+s/aO3UPIZhrl69Wl5eHhoaCjZmoVA4cuRI8POGeVYkEg0ZMgTuh0iGixcvwkg4ceKEwWAYOnQobAlKJJLJkyc3NTUVFha2bf3+A4IgxGLxfS2jJEmKRCIcYEAQhL+/v1gsxuc9rFu3jiTJwYMHw9XIyMhRo0Y1NjbW1dUhhMrKyiQSCQ5NkUgkycnJly5datv6+fCoEAqFCoWCG08il8uFQiHDMOAardFoZs6cCUNXLBZHR0fX19eDBefq1as3btzo1KkTeJAihKZMmSKRSH799Vf3VejhaG5uPnDgABg4uLv0TU1N9fX1I0aMwOE3YEEH7aKiouLs2bNgh4b7MzMzQ0ND7927B+GmHohNmzaRJBkVFbVjx461a9f++OOPRUVF0LM3b94sKSmJi4vDWxAjRoyw2Wz37t2Dda2ysrJv377gdCSVStu1a6fRaO7cuQOPexoIglCpVPX19RUVFXa73WAw/Prrr1KpNDo62mq1lpeXw149yFeRkZHx8fFXr17VaDQIoePHj1ut1oEDB0JR/v7+AwcO1Gq15eXl7q7Wv0EQhFAobC3o68KFCwaDoVevXlA7oVCYmZmp0+lAg6qrq7Pb7e3bt4dNP6VSmZKScuvWrcbGRoRQXl6eyWQaPHgwTNchISFdunSpq6uDYeAutHZOKUmSCoWCexVeVRAOrVbrlStXpFJpt27d4GpCQkJ8fHxRUVFDQwM0lEKhSEtLg5aUSCS9e/cuLS2trKx8KCWfdtRGoGm6uLj49u3b8fHxISEhZrO5sbFRrVZzZ+qkpCQI9LdarVqtVq1WY09QiOpubm622+3uq8RDkJub+9NPPy1atMgp+hxyS0DUI3yjVqsFAsGdO3fgKGsIk8X3q9VqtVpdW1vrmaogDtLdvHlzTk7OhQsXvv/++3/84x83b95kGEav1xMEAe6/gLi4OKlUCiGDNTU1DMNkZGTAJYIg4M3X6XTuq9CDoFQqBw4cSBDEqlWrli5dunTp0r17906bNg3CDGBiwoepURQlFotBGXY4HFqtlqIo7mZ99+7drVbro0xMbofD4TCbzRKJhBsl1aNHD7AoQ0SvXC7v0qULXCJJUqlUMgwDs/bVq1chiQWIXARBqNVqo9FYUFDgvjo9KqxW67lz56xWK1Ydz58/z1WrIMy3rq7u7t27YGZLTk7m+sH26NHDk4O5feDCaDReu3ZNIpFASEZ5ebndbu/Rowe+gaIokiS1Wq3D4aiqqqqtreXKbaGhoWKxOD8/3301eAjsdvulS5dycnLGjRsXERHBvVReXm4wGGJjY3EcERgRSktLwWhdXV0tEonwixAeHq5QKEpLSz1WO7pz545UKl25cuWJEyfy8vK2bNmyYsUK8NoACx03RVBqaqpAIIAJGcLWuR5HSqVSIpHo9XpIK+VpoCjqueeeI0ny22+/hbVp48aN06ZNS09PN5lMYLLhnkPt5+dXX18PjVBRUSEQCPBVMAGYzeb6+nr3Veg3oK6uTiQSYfdOkiQTExNtNlttbS1N083NzSAx4vvDwsIgQxL4NZAkCdHvCCGBQODn50fTNKgTHg673X7w4EHwIQS5uqKiAnItwA0SiUStVjc1NRmNRgj+56YIgjA8m81WXV390N/yZWVoCzAMc+fOnZ07d1IUNXjwYJVKBSuNTCZzMuBBujOlUmk2m4VCIVdjlslkNE17phUHIVRbW/vNN99AJLeTrG+xWGw2GzfPj0gkIgjCbDaDKMayLFdLBJHaZDJ55t6RzWYDKSEzM3Ps2LFKpfLWrVtvv/22SqX629/+RtM0bBLi+8EuazAYII0My7JYFSQIgqIouVxO07T7KvQgCASCiIgIuVxeU1MjFoshFx9BENCVGo2Gq/wQBCEQCGw2m9VqhV17iUTiNMLB09JNtfkNAN8GuVzO3VwC8VGj0QQEBDQ2NlIUxTUESKVSvN/S2NjocDi4kQkkSdI07fl1ZxjmyJEjOTk5I0eOjI6OxpmsuHWBz2azGfLNIIRUKhW3oYKCgjzEfd+HB4Om6cOHD+fl5WVlZcXHx0PQAsuy3LROAoEAAkRB+eeq/fgG2EX0QIA/8/bt27t16zZo0CDYOsBobm622WxOMZ8URTkcDofDwTAMTdMkSeLBTJIkRVHNzc0eO2NbLBaj0ahQKCZPniyTyfLz89esWbNnz57k5GSHwyESiWDxhZv9/PwIgoAthaamJtiNwUWJxWJIb+CxUkdCQoJIJAJVwWQygTMVzLR6vR46C98M3QoeVhaLRSKR4KskSYrFYoiGcF9tfgOAv0AgwNY3hULhcDggsRtIj9wJWSaTkSQJ/mkwaXNlS4FAAHmD3VSbRwXLsocOHdq3b9+ECRMgehm6jCRJbnVEIhH4Z8EiJZVKuYuRTCZjGAaEzwfDpx25HCzLlpWVrVu3rrS09MUXX+zSpQsIkRAHyZ137HY7bKeC0OxwOLhTMEzTnhkJStN0dna2w+GYOXNmS4YCgQBy0+FvQHQGuRn+ctuBYRiGYcRisWean6GCUql03LhxnTp1IkkyNjb28OHD586dYxiGJEmnjrPb7bAsgVUSNoXxzAXuxZ7ZrZCfav/+/RKJ5LXXXouNjbVYLIcPH962bVvXrl379OkDUdrc+6EF8EB1GuHQLK05s3kaCIKAvsPfQJCSVCqFroS+w1Zn7s0t81nDsu3hdWcY5uTJk999911qauq0adOw9fG+qg54XcJnMBngS7AMtxVrH34nHA5HTk7O6tWr09LSJk6cCFYbkDO4vckwDPgsEAQBb7dT50Iad3fU4OGw2+1btmypqqp68803W3rvCIXC+1YHKguA3VFuJmh4qg0r8RtAkqTNZnvxxRdTUlJA/7lx40ZxcbFWqyUIAlQ+fDMIxNAsoABzt4lARfRYqUOv13///fcKhWLOnDnR0dE2m+3UqVOrVq1KTEzs1asXpFR1kiugfUAAAzUJqobvdGNagt8EgUAADt74Gyw9gk4IfYevws0gUMGkzRVRoBzPFLcwIBL422+/7d69+5w5c6CnoCtZluVWh2EYbMCFDEnchqJpGgTsh/7ikzEUnlywLFtdXb1mzZrCwsKJEydmZmbCroJMJpNKpZBrH99cVVUlEomCg4NtNpufn19ZWRl43+FzY7jWDo9Cc3PzoUOHCIL49NNPQVS6fPmy1Wp95513+vfvHx4erlQq4dwneDMNBgPDMOA3KJPJFAqFwWDApZlMJqPRGBERwT05x3MAvaBQKPABAgKBIDU1FTI7S6VSi8UC1jgAHBuiVqspigoLCyMI4vbt2+BcB0YsvV7vsbLFrVu3Tp8+PXr06N69e4OFVaFQgDt7nz59nnrqKch2Dd0Kljl8JIhYLIbjC3BpJSUlkC3arXV6JAgEAoFAAMcs4C8hagjyRoaFhVksFsjNAF3Z3NwMJ8CAUfPixYt4Uob4UYlEkpCQ4L46PQQQrPzVV19FRUW98sor0dHR2DCZnJx88eJFfCekdggMDISsdARBlJWVcXeMIcO7m+rhwyOBYZgzZ858/fXX8fHxL730UlRUFI5xFQgExcXFOOUgTdNg0BEIBHBCDlg9YPaD3aTU1FR3V+j+gHRkZrP5q6++IknSZDIVFBQIBILm5ubJkyfHxMTI5XJw5YD5DTSE0NBQmMHA6QgOjYGVy2w2R0VFeayZA9zXsU++UqlMSEi4ffu2yWQSi8U2mw0WX+g7SNAP3oaQ7pkbeGMwGPR6vUQi8cx8qtevXz99+vTcuXO7desGCp6/v392dvahQ4cGDRoUERFht9u5s7fJZFKpVLDUqtVqyE0Ce2V2u72hoQFO/nFrnR4V/v7+JpMJUgsQBMEwTGVlJRxgJRQKVSqV1WptamrC98PRRuD7AFmRtVotvOAghEA+dLfW6SHIzc395ptvIOE+npoEAkFISEhhYaFOp/P394e1CQQq6OjAwMAbN25gRRFy3AmFQm7sQ2vwUPuHdwCG4OrVq/Pz859//vnRo0fjbWuhUJiUlARHfYEIxTDM6dOno6Oj5XK5TCaLjIysqakpKiqC++vr6xsaGuLj4z1TjBYIBIMHD+7Rowc4xcHOGKj1JEkGBweHhITcunWrqqoK7i8tLaVpetCgQWDJ6N69e2VlJbZa3bt3r7KyMiwszDMTiUql0piYGCe7VHFxsUQiAWffsLAw7MLLMMzly5fhzAFw9iVJ8scff4SrcE6ZVCoFO58Hwmg06vV6kUiEF0jYFYGN6YyMDIPBgFNKQERWUlIS5EVNTU2VSCTgOQmvw5YtW1QqFdd5w2MBDsp+fn7Y3wByFYKXEeQtaGxsPHr0KFy12+1mszk2NhbkkszMTIVCUVVVBYOEpunTp0/7+fnhkDNPA8uyly5d+vLLLwMCAl555ZXk5GSuKXHatGkMw2C3wPr6+jNnzoSEhMTExBAEIZFI7t69i32WWJbNz8/3tGN/feAC+uiLL74ICwubN29eYmIi7m5/f3+5XP7999/j19ZmsykUCvB6SE1Nfeqpp2DlgvshwL1Xr15urVCroChqwIAB/fv3F4lETmsTQRDBwcFqtfr48ePYpcpsNlssloEDB8J03bVrV4PBgD1I8/Ly6uvrY2NjPXMhRghBPAa2NppMJrC6SqXSqKio4OBgfII5Qujo0aN2ux3MVRKJRKlU5ubm4nWtqalJLBa3a9fOY22yNpuNu0sPRjqr1SqTyeLi4oxG482bN+EShDcnJSWBhgCBkbdv34arer3+woULSqXSKSzNY5GSkiISiYqLi/H6kpeXJ5FI4uLiSJJUq9V2u/3evXu4K+/cuRMaGgoKcJ8+fSC3G1wyGAz37t3z8/Pz5AMYzp0798033wQEBMybNy8pKQnv3IrF4tTUVL1ej0Xlurq6qqqqqKgoUJZSUlLq6+urq6txQ0EqKZwh7AHwaUcuhMFgyM7OPn78+KRJk7KysrhCIUEQmZmZAoFg27ZtkEBz7969RUVFo0aNAqed9u3bKxSKkydPNjQ02Gy2/fv3V1ZWDh8+3HNOK+NCoVAsXLjwzTff/J//+R/IPtm+ffvY2NiFCxf26dMnKCioffv2BQUF+fn5VqtVr9evWbNGJpNBxhiRSDRu3Lji4uJt27YxDFNbW/vLL7/AAYWe6b0gEAjGjBkjl8t37doFi1BBQcH+/fs7duwoEAgiIyOHDBly4cKF06dPsyx78+bNCxcudOvWDU7cCwoKGjRo0M8//1xYWAiR/evXr4+Pjx86dKi7q3V/xMXFxcXFnThx4saNG7ABsnXrVoPBAHnqEhISZDLZunXrmpqaaJq+dOnSgQMHkpOTwQ6dmZkZERGxYcMGyPZ74cKF3Nzc4cOHe2a3OoEgiH79+nXp0mXfvn0w816+fPnSpUv4jKCAgICMjIzc3Fywv+bl5Z0+fXrIkCEdO3ZECHXq1EmpVH744YdgwCsrK8vOzo6JiYEp29MAydmXLl0qFovnz58PRzZxb4Dx+ac//Qns6FeuXDlx4kRkZCQoiqNGjXrqqadOnToFMc379++vra1955133FchHx6C8+fPf/rpp35+fgsWLHDShEmSHDJkyIkTJ3799VfwfVi7di1MawRBxMbGJiYm7t2799KlS5B5ZeXKlSEhIZBx1AMhEokWLVqE16aXX365U6dOXbt2XbBgQdeuXUUiUXp6+uXLly9cuAAbYp9++qlAIBg9ejTswPTo0ePq1atHjhyx2+06ne6nn34SiURxcXGeuZ2CEJo9e7ZMJvv2228hR/+tW7cOHz4cGhoaFBTUtWvX9PT0I0eOXL9+3eFwlJaWHjx4sHfv3hCgLxKJRowYceXKlbNnz0Ls/tGjR1NSUtLS0jzTs65Dhw4BAQE7d+6E9QUhtGvXrqampr59+woEgrCwsJCQkCNHjpSVlTEMc/To0fz8/J49e0ImhiFDhkRERCxduhRS2xcWFubm5qampj4p2lG/fv2io6PXrl0LNqni4uIDBw5kZGSAhpOQkJCUlJSbmwtixqlTpy5dugQHBMErnJqaunnz5oqKCofDUVBQcOTIkaSkJI/1a7h06dLXX38tkUhgbeJOVkKhMCUlxc/Pb9++fSAq//LLL7du3crIyACJ65lnnpHJZGvWrAFR7dKlS2fPnn366acfxS+J8HmHuwgOh+Ps2bNz5swRiUQdO3bEpqaYmJiJEyd27NjRbrevX78+OztbrVZLpdLCwsLhw4d/+OGHsGFiNBp37979r3/9Sy6Xi0Si6urqrKysefPmhYSEeOZUxUVjY+M777yj0+k2bdqE3QuXL1+ek5MTHh6u1+sbGxvff//9kSNHQl7sxsbGL7/8cu/eveA9bLVa586dO3HiRI/1XrDZbOvXr1+9erW/v7+/v/+tW7eioqK+++67iIgIhmEKCgo+//zzoqKisLAwjUYTFBS0ZMmS7t27w1tdXl4+c+bMpqampKSk6upqgiDeeeedwYMHe2a3gl/Kt99+a7PZoqKimpqaysvLhw0b9sEHHyiVSpqmT548+eabb6pUqsDAwLKysrS0tLfffhuMkQ6HY//+/UuXLhUIBEFBQUVFRYmJidnZ2R61g6/RaKZPn07TdGVlpcPhiI+PF4lEEyZMmD59OsMwx44dW7ZsmcFgCA4OLisri4qKWrFiBUy7Dofj8uXLS5YssdvtQUFBVVVVKSkpf/zjH+EkXLDNL1q0SCAQxMfH37hxIzQ0dNWqVe3atXNjZT/55JOzZ8/a7faCggK5XB4fHx8UFLRs2TKhULh58+bPPvssLCwsISEBq0ZTpkwZMGAABCQcPnx4wYIF0dHRgYGBd+/e7d2791//+lfwT6BpeuPGjWvXrpXL5VKp9M6dO7169fr73//uUR3tA0ZVVdVXX321ffv2du3axcbGYmlj/vz56enpFEXpdLqZM2eWlZUlJibCCTBLlizBdo2SkpKPPvro2rVr0dHRdXV1RqNx5cqV6enpnjmDOaGysvKLL76QSCSLFy8GU2NTU9Of//znvLy8hIQEnU5XVVX17rvvTpgwAZqlqqpqxYoVhw4dioiIMJlMer3+rbfeGjp0qEwm88z6MgyzdevWTz75JDw83N/fv7S0NCkp6S9/+Qsc3Hz58uXPP/+8rKwsPDwc0vF98803HTp0gGW6oqLiz3/+8+3bt9u1a6fValUq1aJFiwYPHuyZe0cOh2Pnzp3Lli0Dd1CdTldWVta3b99PPvkENk9ycnI+/fRThmFUKlVVVVXfvn1fe+21uLg4mJ9zcnJef/31gICA0NDQ0tLS9u3bf/DBB9i/1BNQUFDwzjvvGAyG2tpaiEQQi8ULFy6EN/HUqVPvvPMOQRDt2rUrLi4ODw//8ssvYUsE1uXly5frdDq1Wg1r07vvvgs7S5BsduHChSzLhoWFVVVVJSUlvfnmm/j8GLdg27Zt69evhy0vkUgUExMTGxs7Y8aMjh07fvbZZ5s2bYqNjeVuYw4YMGDWrFmwK3jw4MG///3vUqlUoVDU1NQMGTJk3rx5kZGREGj3ww8/fPHFFwqFIigo6Pbt2506dVq6dCk3mWFr8GlHrgLDMMXFxTt27IBIVvx9aGjooEGDQHy02WyFhYVnz561WCyd/1979x7TVtnHAbz3UmiF3laWUuiQbnVcVy4dYxAuRswWmf8Q2f7YJcZoZkSMyeKizskSF7eYSQxLZjC6OA0qM8QM1GWzjGsZIGwNhHBfKbBSKLSnN2jP4f3jWRqiec1833djvH4/f5EnpyfP03M4T3/P83uek5ZmNBrDQRTJZxgZGent7fX7/WlpaWlpaWKxeFOMu/v9/uvXr/v9/oqKClJCXjbX19c3NDQUERGxd+9eMvwWXhNJUdTdu3cHBgYiIyOzs7P1ev36Pe6eNGQWZXR0tKuri6IonU5XVFRE+kuScTc/P9/b2zs1NbV169acnBy1Wh3+CUJelWMymaamphQKBXmX+ZPZ/ZDahkKhe/fu9fX1zc7OCoVCg8GQnJwsFotJY2manp6ebmlpId9Dbm7uU089Fb5LyWfb29uXlpZ0Ol1hYeGTlnBFUVRtbW14ZSpZr2k0GvPz80n9p6enzWbz/Px8YmJiXl5eeBNVcqFnZ2fb29sdDkdiYmJ2drZCoQhfaJqmHQ7Hr7/+SlJxSktLyZe2gY1tbGwcGRkhu56Q/CKJRHLkyBEul9vb29vW1vaHFdglJSVpaWnhRWVWq/X69euBQCA5OTkvL49MHJEjyaOst7fX4/GkpKQYDAYyTrlxbYV/a2lpqbW1dWhoKLx2mThw4IBOpyM3sNfrNZlMo6Ojcrk8Pz9fo9GEn1EMw7hcrq6urtHRUalUWlJSEhsb+4Qv6Q5zuVzt7e0k3Y70tmTdRUdHx+DgoEAgKCkpWT81RHaRHRgYsFgsIpFoz549iYmJ4Z7ryRQMBicnJ1tbW71eL3kmR0dHk2cyeSiZzWar1apSqQoKClQqVfhxzTDM0tJSd3f32NiYUqk0Go3x8fHhjdGeQMFgkLyTam5ujuzyvGvXLrJrDumb7t27ZzabnU6nXq83GAxSqTTcWLLx7I0bN9xud1JSUl5e3vqe60kwPT1dX1+/fuEum80uLS1NT08nmz/Nzc2ZTCbSvxQVFYWvcrjn6unpsdvtiYmJOTk5JK2OXEqapu12e0tLy8LCglarzc3NlclkG/sv3NnZ2draur4jViqVBQUFcXFxN2/evHv37h/6pvT09Oeffz78Y2xiYqKrq8vn8yUnJ2dkZKy/lMFg0Gq1trS0uN1uvV6fn58fFRX1MLc0oiMAAAAAAAAW1h0BAAAAAAA8gOgIAAAAAACAhegIAAAAAADgAURHAAAAAAAALERHAAAAAAAADyA6AgAAAAAAYCE6AgAAAAAAeOAJfQclwP8ZhmGGh4fv3LnjcDgYhomKioqNjU1NTdVqtV6vd3JyUiKRJCQkbHQ1AQDgH2RlZaWzs3NsbMzj8fD5fKlUqtPpUlNTRSLR7Oysy+XSaDRisXijqwnwWCE6Anjk1tbW2tvbv/7660AgoFAo+Hy+3+9va2ubnp4+fvz4/Pz8lStX9Hr90aNHN7qmAADwT8EwzGeffWYymeLi4iQSCcMwbrd7eHhYrVar1eru7m6LxXLw4EGdTrfRNQV4rBAdATxyXq/322+/nZubq6qq0ul0PB7P4/HMzc3x+XwWixUIBEZGRiQSyUZXEwAA/kEsFktdXd3hw4cPHDgQHR0dCoUWFxdXV1fJZNH8/Pz4+LjX693oagI8boiOAB45iqKmp6d37tyZnZ0dHR1NCrdv307T9MzMzLlz50ZGRkg/JBKJXnrppYKCglAoZDabTSbTzMyMUCg0GAwVFRVCoZBhGIvF8s033xiNRrfb3d/fz+fz9+7dW1RUFBMTs9ENBQCATeP27dsURb3wwgvJycmkRKvVrq2tsVismzdvNjQ0OByOM2fOREdH79y589ixY3K53O12X7169c6dO4FAIC4u7tlnn83JyeFwOBRFNTY2crlcuVxuNpvtdrtara6oqNi2bRuHgyXusMnglgV45AQCAYfDGRgYGBsbo2maFLLZbB6PFxERsX37drFYrFKpMjMzMzIyFAoFwzANDQ2ffPLJ4uLijh07lErlV1999cEHH5AkvYWFhWvXrl2+fPn333+Pj4/3+XyXLl1qbm72eDwb3VAAANg0VCoVi8X66aeflpaWwoVsNpvNZiuVSrVaHR0drdfrMzMzdTqdQCDw+XzvvPPOjz/+qFQq9Xq93W6/cOGCyWRisVjBYHBoaKiuru6HH37gcrkajaatre3EiRNzc3Mb2kSA/wTmjgAeuZiYmLKysosXL77xxhtxcXHPPPNMampqcXGxTCaLiYl57rnnzGZzSkrK4cOH2Wy2UCi0Wq1NTU3FxcVlZWUxMTE0Tefm5r755pvl5eUZGRksFsvn86nV6rfeeksmk7nd7o8//vjy5cvp6enh8T8AAIC/VlRUlJWVdeXKld9++y0pKSk5OXn37t27du3i8/l6vd5gMASDwf3796empnK53IiIiNra2q6uri+//DI+Pp7L5c7Ozl66dKmhoSE7O5uccHl5ubCwsLS0lMfjFRUVVVZWXr16tbKycqMbCvD3YO4I4JHjcrmHDh2qra0tLCx0u9319fWnTp0qJO9CSwAABQhJREFULy9vbW3lcrmRkZFcLlcgEEgkErFYzOfzOzo6ZmZmRCKRzWYbHBwcHh7mcDgej+fatWvkhJGRkTqdbtu2bTExMRqNZt++faFQCHNHAADw8CQSSV1d3fvvv5+QkGCxWGpra19//fUPP/zQ6XQKBAKhUMjj8SIjIyUSSWRkJIfDuXXrlk6n83g8w8PDg4ODDodDo9HY7fbFxUVyQqPRuGfPHoVCIZVKs7KykpKS6uvrN7qVAH8b5o4AHoeoqCij0WgwGEKhkM/na25uPn369NmzZ/Py8v588NTUlM1m++ijj7hcbriQYRibzRY+W2xsLJvNJlkQTz/9dFRUFEVRNE2v/wgAAMBfUCqV5eXlL774YjAYHBsb+/zzzxsbG+VyeVVV1Z8Pdjqd4+Pjx44dC5fQNJ2SkhIIBMiSWoVCIZFISN/E4/FkMllHR8fq6qpAIHi8zQL4ryA6AnhMuFwuCV2ioqIOHTpktVobGxtHR0f/fCSfz9+yZcvZs2fT0tL+UE7+oGl6ZWUlXL6yssIwjEAgIH0SAADAQ+Lz+Xw+f21tLSMj4+WXX+7v7x8fH/f7/X8+ksPhHDx48OTJk+sLuVyuSCRyuVxkFI9s6kDQNM1mszFmB5sOMusAHjc2my0QCORyOelX2Gw2h8NZ36OQN/GRtIfodSIjI8kBFEXNzs6Gj+/t7V1eXo6IiMDWQAAA8B8gYUxERASPx2MYhoy1re+YyC4ObW1tYrF4fcckFovD8c/ExITdbg8fPzMzk5GRgegINh38lgJ45BwOR01NzY0bN5xOp8fjoSjq9u3bFy9ejIuLS0pKEolECoXC5XK53W6v1xsMBvfs2aPVaqurqzs7O10ul8fjcTqdTU1NVquVnDAQCPT09Ny6dYuiqP7+/l9++UWj0ZBwCwAA4GF89913Fy5cmJiYoCjK4/HMzMw0NTWtrq6mpaWJRKKIiIiFhYXZ2VmPx+P3+xmGeeWVV9xud3V19cLCgsfjcblcFovl559/DgQC5IRms7m5uXlmZoaiqNra2omJiddee22jWwnwt7H/MDAAAP9zTqfzvffe6+7uFolEcrnc5/PNz88nJCRUV1dnZGT4fL7GxsaamhqpVKpSqY4cOVJcXDwxMXHu3Lm+vj6FQsHj8e7fvy8Wi7/44ouEhISWlpYTJ06kpKQ4HA6apimKkslkp06dysrKwtwRAAA8pObm5jNnzvh8vi1btohEIrK5QllZ2fHjxyUSSV9fX01NjdVqlclkBoPh1VdfVSqV33///aeffsowjEql8vl8y8vLxcXFp0+f9vv958+ft9vtNE3b7fbV1VWXy7Vv376TJ0+Gsx4ANgtERwCPQygUmpycHBsbI3sBaTSazMzM8Doin883PDw8Ojq6trZG3ixBXh9hsVgmJiZomo6NjU1PTye7e7e0tLz77rtVVVXZ2dkWi0UgEBgMBpVKhUVHAADwt1AUNTQ0ZLPZVlZWpFLpjh07tFpteKDNZrNZLBan06lSqXbv3i0Wi1ks1uLiYk9Pj9PpFIvFSUlJOp2Oz+c7nc7z588LBIKjR4/abLb79+9rtdr09HTsxwCbEaIjgM0kHB29/fbb5eXlG10dAAAAVjg6qqysRJo3bHbIwwEAAAAAAGBhR2+ATYbNZm/dunX//v1arXaj6wIAAMBisVgkx5vH4wmFwo2uC8B/C5l1AAAAAAAALGTWAQAAAAAAPPAv1CvOL84ACRIAAAAASUVORK5CYII=)"
      ],
      "metadata": {
        "id": "JU8hpnAXSl-g"
      },
      "id": "JU8hpnAXSl-g"
    },
    {
      "cell_type": "markdown",
      "id": "5183be7e-514f-4e64-a6f4-314a827e6be5",
      "metadata": {
        "id": "5183be7e-514f-4e64-a6f4-314a827e6be5"
      },
      "source": [
        "## Evaluate Finetuned Model\n"
      ]
    },
    {
      "cell_type": "markdown",
      "id": "038198cf-0953-47e7-bd47-b073d05f8378",
      "metadata": {
        "id": "038198cf-0953-47e7-bd47-b073d05f8378"
      },
      "source": [
        "### Performing Inference on Custom Input\n",
        "Uncomment following functions for running inference on custom inputs"
      ]
    },
    {
      "cell_type": "code",
      "execution_count": null,
      "id": "f88ad420-3f46-4eff-9d71-0ce388163062",
      "metadata": {
        "id": "f88ad420-3f46-4eff-9d71-0ce388163062"
      },
      "outputs": [],
      "source": [
        "# def classify(model, tokenizer, text):\n",
        "#     device = torch.device(\"cuda\" if torch.cuda.is_available() else \"cpu\")\n",
        "#     inputs = tokenizer(text, truncation=True, padding=True, return_tensors=\"pt\").to(device)\n",
        "#     output = model(**inputs)\n",
        "\n",
        "#     prediction = output.logits.argmax(dim=-1).item()\n",
        "\n",
        "#     print(f'\\n Class: {prediction}, Label: {id2label[prediction]}, Text: {text}')\n",
        "#     return id2label[prediction]"
      ]
    },
    {
      "cell_type": "code",
      "execution_count": null,
      "id": "fc52bb94-5e13-4943-9225-a6d7fd053579",
      "metadata": {
        "id": "fc52bb94-5e13-4943-9225-a6d7fd053579"
      },
      "outputs": [],
      "source": [
        "# classify( peft_model, tokenizer, \"Kederis proclaims innocence Olympic champion Kostas Kederis today left hospital ahead of his date with IOC inquisitors claiming his ...\")\n",
        "# classify( peft_model, tokenizer, \"Wall St. Bears Claw Back Into the Black (Reuters) Reuters - Short-sellers, Wall Street's dwindling\\band of ultra-cynics, are seeing green again.\")"
      ]
    },
    {
      "cell_type": "markdown",
      "id": "68a3e276-bf8c-4403-8a48-5ef19f2beccf",
      "metadata": {
        "id": "68a3e276-bf8c-4403-8a48-5ef19f2beccf"
      },
      "source": [
        "### Run Inference on eval_dataset"
      ]
    },
    {
      "cell_type": "code",
      "execution_count": null,
      "id": "ebbc20a2-a1c0-4cb7-b842-f52e4de61ed5",
      "metadata": {
        "id": "ebbc20a2-a1c0-4cb7-b842-f52e4de61ed5"
      },
      "outputs": [],
      "source": [
        "from torch.utils.data import DataLoader\n",
        "import evaluate\n",
        "from tqdm import tqdm\n",
        "\n",
        "def evaluate_model(inference_model, dataset, labelled=True, batch_size=8, data_collator=None):\n",
        "    \"\"\"\n",
        "    Evaluate a PEFT model on a dataset.\n",
        "\n",
        "    Args:\n",
        "        inference_model: The model to evaluate.\n",
        "        dataset: The dataset (Hugging Face Dataset) to run inference on.\n",
        "        labelled (bool): If True, the dataset includes labels and metrics will be computed.\n",
        "                         If False, only predictions will be returned.\n",
        "        batch_size (int): Batch size for inference.\n",
        "        data_collator: Function to collate batches. If None, the default collate_fn is used.\n",
        "\n",
        "    Returns:\n",
        "        If labelled is True, returns a tuple (metrics, predictions)\n",
        "        If labelled is False, returns the predictions.\n",
        "    \"\"\"\n",
        "    # Create the DataLoader\n",
        "    eval_dataloader = DataLoader(dataset, batch_size=batch_size, collate_fn=data_collator)\n",
        "    device = torch.device(\"cuda\" if torch.cuda.is_available() else \"cpu\")\n",
        "\n",
        "    inference_model.to(device)\n",
        "    inference_model.eval()\n",
        "\n",
        "    all_predictions = []\n",
        "    if labelled:\n",
        "        metric = evaluate.load('accuracy')\n",
        "\n",
        "    # Loop over the DataLoader\n",
        "    for batch in tqdm(eval_dataloader):\n",
        "        # Move each tensor in the batch to the device\n",
        "        batch = {k: v.to(device) for k, v in batch.items()}\n",
        "        with torch.no_grad():\n",
        "            outputs = inference_model(**batch)\n",
        "        predictions = outputs.logits.argmax(dim=-1)\n",
        "        all_predictions.append(predictions.cpu())\n",
        "\n",
        "        if labelled:\n",
        "            # Expecting that labels are provided under the \"labels\" key.\n",
        "            references = batch[\"labels\"]\n",
        "            metric.add_batch(\n",
        "                predictions=predictions.cpu().numpy(),\n",
        "                references=references.cpu().numpy()\n",
        "            )\n",
        "\n",
        "    # Concatenate predictions from all batches\n",
        "    all_predictions = torch.cat(all_predictions, dim=0)\n",
        "\n",
        "    if labelled:\n",
        "        eval_metric = metric.compute()\n",
        "        print(\"Evaluation Metric:\", eval_metric)\n",
        "        return eval_metric, all_predictions\n",
        "    else:\n",
        "        return all_predictions"
      ]
    },
    {
      "cell_type": "code",
      "execution_count": null,
      "id": "809635a6-a2c7-4d09-8d60-ababd1815003",
      "metadata": {
        "id": "809635a6-a2c7-4d09-8d60-ababd1815003",
        "colab": {
          "base_uri": "https://localhost:8080/"
        },
        "outputId": "e2554d18-1fc5-4e9f-b320-c2298fa7fe32"
      },
      "outputs": [
        {
          "output_type": "stream",
          "name": "stderr",
          "text": [
            "100%|██████████| 80/80 [00:10<00:00,  7.39it/s]"
          ]
        },
        {
          "output_type": "stream",
          "name": "stdout",
          "text": [
            "Evaluation Metric: {'accuracy': 0.921875}\n"
          ]
        },
        {
          "output_type": "stream",
          "name": "stderr",
          "text": [
            "\n"
          ]
        }
      ],
      "source": [
        "# Check evaluation accuracy\n",
        "_, _ = evaluate_model(peft_model, eval_dataset, True, 8, data_collator)"
      ]
    },
    {
      "cell_type": "code",
      "source": [],
      "metadata": {
        "id": "kMJgvV1ZnVhd"
      },
      "id": "kMJgvV1ZnVhd",
      "execution_count": null,
      "outputs": []
    },
    {
      "cell_type": "markdown",
      "id": "75f39087-f2bb-49d3-9fe1-0d812fb30203",
      "metadata": {
        "id": "75f39087-f2bb-49d3-9fe1-0d812fb30203"
      },
      "source": [
        "### Run Inference on unlabelled dataset"
      ]
    },
    {
      "cell_type": "code",
      "execution_count": null,
      "id": "2af62541-2c33-4f16-bb1c-cc969c715cd7",
      "metadata": {
        "id": "2af62541-2c33-4f16-bb1c-cc969c715cd7",
        "colab": {
          "base_uri": "https://localhost:8080/",
          "height": 123,
          "referenced_widgets": [
            "291b9f00cc4642ec92cc4ca5a966c022",
            "51732b861e9944f2bf6accf33892a0fd",
            "49ed9fda24d04501abb0c6235aeef401",
            "d16e30c3ab7f433d84099454f75212b4",
            "3d9e59afffc743b6a866c5b353958b40",
            "b63951459fc44a398919566e4aefd777",
            "8a8ad3f8d0ab4d2ab5bf16bb6be114b5",
            "0689cdcdc40e426ea1fed6d968f782d2",
            "08b71e76c4924e7fb45d303894d60dd8",
            "8ffb0fed95db484db060b24e857f9549",
            "5d7a38c5d36c4d989c2dcbccc9545af5"
          ]
        },
        "outputId": "8a110864-c8a8-4be5-ddcf-37b3d461de9f"
      },
      "outputs": [
        {
          "output_type": "display_data",
          "data": {
            "text/plain": [
              "Map:   0%|          | 0/8000 [00:00<?, ? examples/s]"
            ],
            "application/vnd.jupyter.widget-view+json": {
              "version_major": 2,
              "version_minor": 0,
              "model_id": "291b9f00cc4642ec92cc4ca5a966c022"
            }
          },
          "metadata": {}
        },
        {
          "output_type": "execute_result",
          "data": {
            "text/plain": [
              "Dataset({\n",
              "    features: ['text'],\n",
              "    num_rows: 8000\n",
              "})"
            ]
          },
          "metadata": {},
          "execution_count": 18
        }
      ],
      "source": [
        "#Load your unlabelled data\n",
        "unlabelled_dataset = pd.read_pickle(\"test_unlabelled.pkl\")\n",
        "test_dataset = unlabelled_dataset.map(preprocess, batched=True, remove_columns=[\"text\"])\n",
        "unlabelled_dataset"
      ]
    },
    {
      "cell_type": "code",
      "execution_count": null,
      "id": "e60991d3-38b1-4657-8854-408ce66f6b84",
      "metadata": {
        "id": "e60991d3-38b1-4657-8854-408ce66f6b84",
        "colab": {
          "base_uri": "https://localhost:8080/"
        },
        "outputId": "5e73e7e5-4689-4662-911a-12c4645eeb2c"
      },
      "outputs": [
        {
          "output_type": "stream",
          "name": "stderr",
          "text": [
            "100%|██████████| 1000/1000 [01:42<00:00,  9.76it/s]"
          ]
        },
        {
          "output_type": "stream",
          "name": "stdout",
          "text": [
            "Inference complete. Predictions saved to inference_output.csv\n"
          ]
        },
        {
          "output_type": "stream",
          "name": "stderr",
          "text": [
            "\n"
          ]
        }
      ],
      "source": [
        "# Run inference and save predictions\n",
        "preds = evaluate_model(peft_model, test_dataset, False, 8, data_collator)\n",
        "df_output = pd.DataFrame({\n",
        "    'ID': range(len(preds)),\n",
        "    'Label': preds.numpy()  # or preds.tolist()\n",
        "})\n",
        "df_output.to_csv(os.path.join(output_dir,\"inference_output.csv\"), index=False)\n",
        "print(\"Inference complete. Predictions saved to inference_output.csv\")"
      ]
    }
  ],
  "metadata": {
    "accelerator": "GPU",
    "colab": {
      "gpuType": "T4",
      "provenance": []
    },
    "kernelspec": {
      "display_name": "lora_env",
      "language": "python",
      "name": "lora_env"
    },
    "language_info": {
      "codemirror_mode": {
        "name": "ipython",
        "version": 3
      },
      "file_extension": ".py",
      "mimetype": "text/x-python",
      "name": "python",
      "nbconvert_exporter": "python",
      "pygments_lexer": "ipython3",
      "version": "3.12.9"
    },
    "widgets": {
      "application/vnd.jupyter.widget-state+json": {
        "291b9f00cc4642ec92cc4ca5a966c022": {
          "model_module": "@jupyter-widgets/controls",
          "model_name": "HBoxModel",
          "model_module_version": "1.5.0",
          "state": {
            "_dom_classes": [],
            "_model_module": "@jupyter-widgets/controls",
            "_model_module_version": "1.5.0",
            "_model_name": "HBoxModel",
            "_view_count": null,
            "_view_module": "@jupyter-widgets/controls",
            "_view_module_version": "1.5.0",
            "_view_name": "HBoxView",
            "box_style": "",
            "children": [
              "IPY_MODEL_51732b861e9944f2bf6accf33892a0fd",
              "IPY_MODEL_49ed9fda24d04501abb0c6235aeef401",
              "IPY_MODEL_d16e30c3ab7f433d84099454f75212b4"
            ],
            "layout": "IPY_MODEL_3d9e59afffc743b6a866c5b353958b40"
          }
        },
        "51732b861e9944f2bf6accf33892a0fd": {
          "model_module": "@jupyter-widgets/controls",
          "model_name": "HTMLModel",
          "model_module_version": "1.5.0",
          "state": {
            "_dom_classes": [],
            "_model_module": "@jupyter-widgets/controls",
            "_model_module_version": "1.5.0",
            "_model_name": "HTMLModel",
            "_view_count": null,
            "_view_module": "@jupyter-widgets/controls",
            "_view_module_version": "1.5.0",
            "_view_name": "HTMLView",
            "description": "",
            "description_tooltip": null,
            "layout": "IPY_MODEL_b63951459fc44a398919566e4aefd777",
            "placeholder": "​",
            "style": "IPY_MODEL_8a8ad3f8d0ab4d2ab5bf16bb6be114b5",
            "value": "Map: 100%"
          }
        },
        "49ed9fda24d04501abb0c6235aeef401": {
          "model_module": "@jupyter-widgets/controls",
          "model_name": "FloatProgressModel",
          "model_module_version": "1.5.0",
          "state": {
            "_dom_classes": [],
            "_model_module": "@jupyter-widgets/controls",
            "_model_module_version": "1.5.0",
            "_model_name": "FloatProgressModel",
            "_view_count": null,
            "_view_module": "@jupyter-widgets/controls",
            "_view_module_version": "1.5.0",
            "_view_name": "ProgressView",
            "bar_style": "success",
            "description": "",
            "description_tooltip": null,
            "layout": "IPY_MODEL_0689cdcdc40e426ea1fed6d968f782d2",
            "max": 8000,
            "min": 0,
            "orientation": "horizontal",
            "style": "IPY_MODEL_08b71e76c4924e7fb45d303894d60dd8",
            "value": 8000
          }
        },
        "d16e30c3ab7f433d84099454f75212b4": {
          "model_module": "@jupyter-widgets/controls",
          "model_name": "HTMLModel",
          "model_module_version": "1.5.0",
          "state": {
            "_dom_classes": [],
            "_model_module": "@jupyter-widgets/controls",
            "_model_module_version": "1.5.0",
            "_model_name": "HTMLModel",
            "_view_count": null,
            "_view_module": "@jupyter-widgets/controls",
            "_view_module_version": "1.5.0",
            "_view_name": "HTMLView",
            "description": "",
            "description_tooltip": null,
            "layout": "IPY_MODEL_8ffb0fed95db484db060b24e857f9549",
            "placeholder": "​",
            "style": "IPY_MODEL_5d7a38c5d36c4d989c2dcbccc9545af5",
            "value": " 8000/8000 [00:06&lt;00:00, 1177.68 examples/s]"
          }
        },
        "3d9e59afffc743b6a866c5b353958b40": {
          "model_module": "@jupyter-widgets/base",
          "model_name": "LayoutModel",
          "model_module_version": "1.2.0",
          "state": {
            "_model_module": "@jupyter-widgets/base",
            "_model_module_version": "1.2.0",
            "_model_name": "LayoutModel",
            "_view_count": null,
            "_view_module": "@jupyter-widgets/base",
            "_view_module_version": "1.2.0",
            "_view_name": "LayoutView",
            "align_content": null,
            "align_items": null,
            "align_self": null,
            "border": null,
            "bottom": null,
            "display": null,
            "flex": null,
            "flex_flow": null,
            "grid_area": null,
            "grid_auto_columns": null,
            "grid_auto_flow": null,
            "grid_auto_rows": null,
            "grid_column": null,
            "grid_gap": null,
            "grid_row": null,
            "grid_template_areas": null,
            "grid_template_columns": null,
            "grid_template_rows": null,
            "height": null,
            "justify_content": null,
            "justify_items": null,
            "left": null,
            "margin": null,
            "max_height": null,
            "max_width": null,
            "min_height": null,
            "min_width": null,
            "object_fit": null,
            "object_position": null,
            "order": null,
            "overflow": null,
            "overflow_x": null,
            "overflow_y": null,
            "padding": null,
            "right": null,
            "top": null,
            "visibility": null,
            "width": null
          }
        },
        "b63951459fc44a398919566e4aefd777": {
          "model_module": "@jupyter-widgets/base",
          "model_name": "LayoutModel",
          "model_module_version": "1.2.0",
          "state": {
            "_model_module": "@jupyter-widgets/base",
            "_model_module_version": "1.2.0",
            "_model_name": "LayoutModel",
            "_view_count": null,
            "_view_module": "@jupyter-widgets/base",
            "_view_module_version": "1.2.0",
            "_view_name": "LayoutView",
            "align_content": null,
            "align_items": null,
            "align_self": null,
            "border": null,
            "bottom": null,
            "display": null,
            "flex": null,
            "flex_flow": null,
            "grid_area": null,
            "grid_auto_columns": null,
            "grid_auto_flow": null,
            "grid_auto_rows": null,
            "grid_column": null,
            "grid_gap": null,
            "grid_row": null,
            "grid_template_areas": null,
            "grid_template_columns": null,
            "grid_template_rows": null,
            "height": null,
            "justify_content": null,
            "justify_items": null,
            "left": null,
            "margin": null,
            "max_height": null,
            "max_width": null,
            "min_height": null,
            "min_width": null,
            "object_fit": null,
            "object_position": null,
            "order": null,
            "overflow": null,
            "overflow_x": null,
            "overflow_y": null,
            "padding": null,
            "right": null,
            "top": null,
            "visibility": null,
            "width": null
          }
        },
        "8a8ad3f8d0ab4d2ab5bf16bb6be114b5": {
          "model_module": "@jupyter-widgets/controls",
          "model_name": "DescriptionStyleModel",
          "model_module_version": "1.5.0",
          "state": {
            "_model_module": "@jupyter-widgets/controls",
            "_model_module_version": "1.5.0",
            "_model_name": "DescriptionStyleModel",
            "_view_count": null,
            "_view_module": "@jupyter-widgets/base",
            "_view_module_version": "1.2.0",
            "_view_name": "StyleView",
            "description_width": ""
          }
        },
        "0689cdcdc40e426ea1fed6d968f782d2": {
          "model_module": "@jupyter-widgets/base",
          "model_name": "LayoutModel",
          "model_module_version": "1.2.0",
          "state": {
            "_model_module": "@jupyter-widgets/base",
            "_model_module_version": "1.2.0",
            "_model_name": "LayoutModel",
            "_view_count": null,
            "_view_module": "@jupyter-widgets/base",
            "_view_module_version": "1.2.0",
            "_view_name": "LayoutView",
            "align_content": null,
            "align_items": null,
            "align_self": null,
            "border": null,
            "bottom": null,
            "display": null,
            "flex": null,
            "flex_flow": null,
            "grid_area": null,
            "grid_auto_columns": null,
            "grid_auto_flow": null,
            "grid_auto_rows": null,
            "grid_column": null,
            "grid_gap": null,
            "grid_row": null,
            "grid_template_areas": null,
            "grid_template_columns": null,
            "grid_template_rows": null,
            "height": null,
            "justify_content": null,
            "justify_items": null,
            "left": null,
            "margin": null,
            "max_height": null,
            "max_width": null,
            "min_height": null,
            "min_width": null,
            "object_fit": null,
            "object_position": null,
            "order": null,
            "overflow": null,
            "overflow_x": null,
            "overflow_y": null,
            "padding": null,
            "right": null,
            "top": null,
            "visibility": null,
            "width": null
          }
        },
        "08b71e76c4924e7fb45d303894d60dd8": {
          "model_module": "@jupyter-widgets/controls",
          "model_name": "ProgressStyleModel",
          "model_module_version": "1.5.0",
          "state": {
            "_model_module": "@jupyter-widgets/controls",
            "_model_module_version": "1.5.0",
            "_model_name": "ProgressStyleModel",
            "_view_count": null,
            "_view_module": "@jupyter-widgets/base",
            "_view_module_version": "1.2.0",
            "_view_name": "StyleView",
            "bar_color": null,
            "description_width": ""
          }
        },
        "8ffb0fed95db484db060b24e857f9549": {
          "model_module": "@jupyter-widgets/base",
          "model_name": "LayoutModel",
          "model_module_version": "1.2.0",
          "state": {
            "_model_module": "@jupyter-widgets/base",
            "_model_module_version": "1.2.0",
            "_model_name": "LayoutModel",
            "_view_count": null,
            "_view_module": "@jupyter-widgets/base",
            "_view_module_version": "1.2.0",
            "_view_name": "LayoutView",
            "align_content": null,
            "align_items": null,
            "align_self": null,
            "border": null,
            "bottom": null,
            "display": null,
            "flex": null,
            "flex_flow": null,
            "grid_area": null,
            "grid_auto_columns": null,
            "grid_auto_flow": null,
            "grid_auto_rows": null,
            "grid_column": null,
            "grid_gap": null,
            "grid_row": null,
            "grid_template_areas": null,
            "grid_template_columns": null,
            "grid_template_rows": null,
            "height": null,
            "justify_content": null,
            "justify_items": null,
            "left": null,
            "margin": null,
            "max_height": null,
            "max_width": null,
            "min_height": null,
            "min_width": null,
            "object_fit": null,
            "object_position": null,
            "order": null,
            "overflow": null,
            "overflow_x": null,
            "overflow_y": null,
            "padding": null,
            "right": null,
            "top": null,
            "visibility": null,
            "width": null
          }
        },
        "5d7a38c5d36c4d989c2dcbccc9545af5": {
          "model_module": "@jupyter-widgets/controls",
          "model_name": "DescriptionStyleModel",
          "model_module_version": "1.5.0",
          "state": {
            "_model_module": "@jupyter-widgets/controls",
            "_model_module_version": "1.5.0",
            "_model_name": "DescriptionStyleModel",
            "_view_count": null,
            "_view_module": "@jupyter-widgets/base",
            "_view_module_version": "1.2.0",
            "_view_name": "StyleView",
            "description_width": ""
          }
        }
      }
    }
  },
  "nbformat": 4,
  "nbformat_minor": 5
}