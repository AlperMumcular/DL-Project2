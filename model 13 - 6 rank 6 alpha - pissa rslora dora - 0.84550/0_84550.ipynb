{
  "cells": [
    {
      "cell_type": "markdown",
      "source": [
        "This code got 0.84550 accuracy in Kaggle."
      ],
      "metadata": {
        "id": "dbgdinxELTJy"
      },
      "id": "dbgdinxELTJy"
    },
    {
      "cell_type": "markdown",
      "id": "a02285e6",
      "metadata": {
        "id": "a02285e6"
      },
      "source": [
        "# Starter Notebook"
      ]
    },
    {
      "cell_type": "markdown",
      "id": "bdcc5329",
      "metadata": {
        "id": "bdcc5329"
      },
      "source": [
        "Install and import required libraries"
      ]
    },
    {
      "cell_type": "code",
      "execution_count": null,
      "id": "348ceed6-b684-46c3-8a32-9bb640c9a9d7",
      "metadata": {
        "id": "348ceed6-b684-46c3-8a32-9bb640c9a9d7",
        "colab": {
          "base_uri": "https://localhost:8080/"
        },
        "outputId": "c0fa08e2-8458-4eda-c84a-abc702f638a3"
      },
      "outputs": [
        {
          "output_type": "stream",
          "name": "stdout",
          "text": [
            "Requirement already satisfied: transformers in /usr/local/lib/python3.11/dist-packages (4.51.1)\n",
            "Requirement already satisfied: datasets in /usr/local/lib/python3.11/dist-packages (3.5.0)\n",
            "Requirement already satisfied: evaluate in /usr/local/lib/python3.11/dist-packages (0.4.3)\n",
            "Requirement already satisfied: accelerate in /usr/local/lib/python3.11/dist-packages (1.5.2)\n",
            "Requirement already satisfied: peft in /usr/local/lib/python3.11/dist-packages (0.14.0)\n",
            "Requirement already satisfied: trl in /usr/local/lib/python3.11/dist-packages (0.16.1)\n",
            "Requirement already satisfied: bitsandbytes in /usr/local/lib/python3.11/dist-packages (0.45.5)\n",
            "Requirement already satisfied: filelock in /usr/local/lib/python3.11/dist-packages (from transformers) (3.18.0)\n",
            "Requirement already satisfied: huggingface-hub<1.0,>=0.30.0 in /usr/local/lib/python3.11/dist-packages (from transformers) (0.30.2)\n",
            "Requirement already satisfied: numpy>=1.17 in /usr/local/lib/python3.11/dist-packages (from transformers) (2.0.2)\n",
            "Requirement already satisfied: packaging>=20.0 in /usr/local/lib/python3.11/dist-packages (from transformers) (24.2)\n",
            "Requirement already satisfied: pyyaml>=5.1 in /usr/local/lib/python3.11/dist-packages (from transformers) (6.0.2)\n",
            "Requirement already satisfied: regex!=2019.12.17 in /usr/local/lib/python3.11/dist-packages (from transformers) (2024.11.6)\n",
            "Requirement already satisfied: requests in /usr/local/lib/python3.11/dist-packages (from transformers) (2.32.3)\n",
            "Requirement already satisfied: tokenizers<0.22,>=0.21 in /usr/local/lib/python3.11/dist-packages (from transformers) (0.21.1)\n",
            "Requirement already satisfied: safetensors>=0.4.3 in /usr/local/lib/python3.11/dist-packages (from transformers) (0.5.3)\n",
            "Requirement already satisfied: tqdm>=4.27 in /usr/local/lib/python3.11/dist-packages (from transformers) (4.67.1)\n",
            "Requirement already satisfied: pyarrow>=15.0.0 in /usr/local/lib/python3.11/dist-packages (from datasets) (18.1.0)\n",
            "Requirement already satisfied: dill<0.3.9,>=0.3.0 in /usr/local/lib/python3.11/dist-packages (from datasets) (0.3.8)\n",
            "Requirement already satisfied: pandas in /usr/local/lib/python3.11/dist-packages (from datasets) (2.2.2)\n",
            "Requirement already satisfied: xxhash in /usr/local/lib/python3.11/dist-packages (from datasets) (3.5.0)\n",
            "Requirement already satisfied: multiprocess<0.70.17 in /usr/local/lib/python3.11/dist-packages (from datasets) (0.70.16)\n",
            "Requirement already satisfied: fsspec<=2024.12.0,>=2023.1.0 in /usr/local/lib/python3.11/dist-packages (from fsspec[http]<=2024.12.0,>=2023.1.0->datasets) (2024.12.0)\n",
            "Requirement already satisfied: aiohttp in /usr/local/lib/python3.11/dist-packages (from datasets) (3.11.15)\n",
            "Requirement already satisfied: psutil in /usr/local/lib/python3.11/dist-packages (from accelerate) (5.9.5)\n",
            "Requirement already satisfied: torch>=2.0.0 in /usr/local/lib/python3.11/dist-packages (from accelerate) (2.6.0+cu124)\n",
            "Requirement already satisfied: rich in /usr/local/lib/python3.11/dist-packages (from trl) (13.9.4)\n",
            "Requirement already satisfied: aiohappyeyeballs>=2.3.0 in /usr/local/lib/python3.11/dist-packages (from aiohttp->datasets) (2.6.1)\n",
            "Requirement already satisfied: aiosignal>=1.1.2 in /usr/local/lib/python3.11/dist-packages (from aiohttp->datasets) (1.3.2)\n",
            "Requirement already satisfied: attrs>=17.3.0 in /usr/local/lib/python3.11/dist-packages (from aiohttp->datasets) (25.3.0)\n",
            "Requirement already satisfied: frozenlist>=1.1.1 in /usr/local/lib/python3.11/dist-packages (from aiohttp->datasets) (1.5.0)\n",
            "Requirement already satisfied: multidict<7.0,>=4.5 in /usr/local/lib/python3.11/dist-packages (from aiohttp->datasets) (6.4.2)\n",
            "Requirement already satisfied: propcache>=0.2.0 in /usr/local/lib/python3.11/dist-packages (from aiohttp->datasets) (0.3.1)\n",
            "Requirement already satisfied: yarl<2.0,>=1.17.0 in /usr/local/lib/python3.11/dist-packages (from aiohttp->datasets) (1.19.0)\n",
            "Requirement already satisfied: typing-extensions>=3.7.4.3 in /usr/local/lib/python3.11/dist-packages (from huggingface-hub<1.0,>=0.30.0->transformers) (4.13.1)\n",
            "Requirement already satisfied: charset-normalizer<4,>=2 in /usr/local/lib/python3.11/dist-packages (from requests->transformers) (3.4.1)\n",
            "Requirement already satisfied: idna<4,>=2.5 in /usr/local/lib/python3.11/dist-packages (from requests->transformers) (3.10)\n",
            "Requirement already satisfied: urllib3<3,>=1.21.1 in /usr/local/lib/python3.11/dist-packages (from requests->transformers) (2.3.0)\n",
            "Requirement already satisfied: certifi>=2017.4.17 in /usr/local/lib/python3.11/dist-packages (from requests->transformers) (2025.1.31)\n",
            "Requirement already satisfied: networkx in /usr/local/lib/python3.11/dist-packages (from torch>=2.0.0->accelerate) (3.4.2)\n",
            "Requirement already satisfied: jinja2 in /usr/local/lib/python3.11/dist-packages (from torch>=2.0.0->accelerate) (3.1.6)\n",
            "Requirement already satisfied: nvidia-cuda-nvrtc-cu12==12.4.127 in /usr/local/lib/python3.11/dist-packages (from torch>=2.0.0->accelerate) (12.4.127)\n",
            "Requirement already satisfied: nvidia-cuda-runtime-cu12==12.4.127 in /usr/local/lib/python3.11/dist-packages (from torch>=2.0.0->accelerate) (12.4.127)\n",
            "Requirement already satisfied: nvidia-cuda-cupti-cu12==12.4.127 in /usr/local/lib/python3.11/dist-packages (from torch>=2.0.0->accelerate) (12.4.127)\n",
            "Requirement already satisfied: nvidia-cudnn-cu12==9.1.0.70 in /usr/local/lib/python3.11/dist-packages (from torch>=2.0.0->accelerate) (9.1.0.70)\n",
            "Requirement already satisfied: nvidia-cublas-cu12==12.4.5.8 in /usr/local/lib/python3.11/dist-packages (from torch>=2.0.0->accelerate) (12.4.5.8)\n",
            "Requirement already satisfied: nvidia-cufft-cu12==11.2.1.3 in /usr/local/lib/python3.11/dist-packages (from torch>=2.0.0->accelerate) (11.2.1.3)\n",
            "Requirement already satisfied: nvidia-curand-cu12==10.3.5.147 in /usr/local/lib/python3.11/dist-packages (from torch>=2.0.0->accelerate) (10.3.5.147)\n",
            "Requirement already satisfied: nvidia-cusolver-cu12==11.6.1.9 in /usr/local/lib/python3.11/dist-packages (from torch>=2.0.0->accelerate) (11.6.1.9)\n",
            "Requirement already satisfied: nvidia-cusparse-cu12==12.3.1.170 in /usr/local/lib/python3.11/dist-packages (from torch>=2.0.0->accelerate) (12.3.1.170)\n",
            "Requirement already satisfied: nvidia-cusparselt-cu12==0.6.2 in /usr/local/lib/python3.11/dist-packages (from torch>=2.0.0->accelerate) (0.6.2)\n",
            "Requirement already satisfied: nvidia-nccl-cu12==2.21.5 in /usr/local/lib/python3.11/dist-packages (from torch>=2.0.0->accelerate) (2.21.5)\n",
            "Requirement already satisfied: nvidia-nvtx-cu12==12.4.127 in /usr/local/lib/python3.11/dist-packages (from torch>=2.0.0->accelerate) (12.4.127)\n",
            "Requirement already satisfied: nvidia-nvjitlink-cu12==12.4.127 in /usr/local/lib/python3.11/dist-packages (from torch>=2.0.0->accelerate) (12.4.127)\n",
            "Requirement already satisfied: triton==3.2.0 in /usr/local/lib/python3.11/dist-packages (from torch>=2.0.0->accelerate) (3.2.0)\n",
            "Requirement already satisfied: sympy==1.13.1 in /usr/local/lib/python3.11/dist-packages (from torch>=2.0.0->accelerate) (1.13.1)\n",
            "Requirement already satisfied: mpmath<1.4,>=1.1.0 in /usr/local/lib/python3.11/dist-packages (from sympy==1.13.1->torch>=2.0.0->accelerate) (1.3.0)\n",
            "Requirement already satisfied: python-dateutil>=2.8.2 in /usr/local/lib/python3.11/dist-packages (from pandas->datasets) (2.8.2)\n",
            "Requirement already satisfied: pytz>=2020.1 in /usr/local/lib/python3.11/dist-packages (from pandas->datasets) (2025.2)\n",
            "Requirement already satisfied: tzdata>=2022.7 in /usr/local/lib/python3.11/dist-packages (from pandas->datasets) (2025.2)\n",
            "Requirement already satisfied: markdown-it-py>=2.2.0 in /usr/local/lib/python3.11/dist-packages (from rich->trl) (3.0.0)\n",
            "Requirement already satisfied: pygments<3.0.0,>=2.13.0 in /usr/local/lib/python3.11/dist-packages (from rich->trl) (2.18.0)\n",
            "Requirement already satisfied: mdurl~=0.1 in /usr/local/lib/python3.11/dist-packages (from markdown-it-py>=2.2.0->rich->trl) (0.1.2)\n",
            "Requirement already satisfied: six>=1.5 in /usr/local/lib/python3.11/dist-packages (from python-dateutil>=2.8.2->pandas->datasets) (1.17.0)\n",
            "Requirement already satisfied: MarkupSafe>=2.0 in /usr/local/lib/python3.11/dist-packages (from jinja2->torch>=2.0.0->accelerate) (3.0.2)\n",
            "Requirement already satisfied: nvidia-ml-py3 in /usr/local/lib/python3.11/dist-packages (7.352.0)\n",
            "Requirement already satisfied: scikit-learn in /usr/local/lib/python3.11/dist-packages (1.6.1)\n",
            "Requirement already satisfied: numpy>=1.19.5 in /usr/local/lib/python3.11/dist-packages (from scikit-learn) (2.0.2)\n",
            "Requirement already satisfied: scipy>=1.6.0 in /usr/local/lib/python3.11/dist-packages (from scikit-learn) (1.14.1)\n",
            "Requirement already satisfied: joblib>=1.2.0 in /usr/local/lib/python3.11/dist-packages (from scikit-learn) (1.4.2)\n",
            "Requirement already satisfied: threadpoolctl>=3.1.0 in /usr/local/lib/python3.11/dist-packages (from scikit-learn) (3.6.0)\n"
          ]
        }
      ],
      "source": [
        "!pip install transformers datasets evaluate accelerate peft trl bitsandbytes\n",
        "!pip install nvidia-ml-py3\n",
        "!pip install scikit-learn"
      ]
    },
    {
      "cell_type": "code",
      "execution_count": null,
      "id": "cca64f38-d8d2-4313-8295-fbbd43c2a263",
      "metadata": {
        "id": "cca64f38-d8d2-4313-8295-fbbd43c2a263"
      },
      "outputs": [],
      "source": [
        "import os\n",
        "import pandas as pd\n",
        "import torch\n",
        "from transformers import RobertaModel, RobertaTokenizer, TrainingArguments, Trainer, DataCollatorWithPadding, RobertaForSequenceClassification\n",
        "from peft import LoraConfig, get_peft_model, PeftModel\n",
        "from datasets import load_dataset, Dataset, ClassLabel\n",
        "import pickle"
      ]
    },
    {
      "cell_type": "markdown",
      "id": "59d6e377",
      "metadata": {
        "id": "59d6e377"
      },
      "source": [
        "## Load Tokenizer and Preprocess Data"
      ]
    },
    {
      "cell_type": "code",
      "execution_count": null,
      "id": "21f42747-f551-40a5-a95f-7affb1eba4a3",
      "metadata": {
        "id": "21f42747-f551-40a5-a95f-7affb1eba4a3",
        "colab": {
          "base_uri": "https://localhost:8080/"
        },
        "outputId": "47685227-ae9b-47b0-e717-ace3825a53a1"
      },
      "outputs": [
        {
          "output_type": "stream",
          "name": "stderr",
          "text": [
            "/usr/local/lib/python3.11/dist-packages/huggingface_hub/utils/_auth.py:94: UserWarning: \n",
            "The secret `HF_TOKEN` does not exist in your Colab secrets.\n",
            "To authenticate with the Hugging Face Hub, create a token in your settings tab (https://huggingface.co/settings/tokens), set it as secret in your Google Colab and restart your session.\n",
            "You will be able to reuse this secret in all of your notebooks.\n",
            "Please note that authentication is recommended but still optional to access public models or datasets.\n",
            "  warnings.warn(\n"
          ]
        }
      ],
      "source": [
        "base_model = 'roberta-base'\n",
        "\n",
        "dataset = load_dataset('ag_news', split='train')\n",
        "tokenizer = RobertaTokenizer.from_pretrained(base_model)\n",
        "\n",
        "def preprocess(examples):\n",
        "    tokenized = tokenizer(examples['text'], truncation=True, padding=True)\n",
        "    return tokenized\n",
        "\n",
        "tokenized_dataset = dataset.map(preprocess, batched=True,  remove_columns=[\"text\"])\n",
        "tokenized_dataset = tokenized_dataset.rename_column(\"label\", \"labels\")"
      ]
    },
    {
      "cell_type": "code",
      "execution_count": null,
      "id": "9e07f641-bec0-43a6-8c26-510d7642916a",
      "metadata": {
        "id": "9e07f641-bec0-43a6-8c26-510d7642916a",
        "colab": {
          "base_uri": "https://localhost:8080/"
        },
        "outputId": "6a41d961-1c01-43f1-d973-ace02e10ab2a"
      },
      "outputs": [
        {
          "output_type": "stream",
          "name": "stdout",
          "text": [
            "number of labels: 4\n",
            "the labels: ['World', 'Sports', 'Business', 'Sci/Tech']\n"
          ]
        }
      ],
      "source": [
        "# Extract the number of classess and their names\n",
        "num_labels = dataset.features['label'].num_classes\n",
        "class_names = dataset.features[\"label\"].names\n",
        "print(f\"number of labels: {num_labels}\")\n",
        "print(f\"the labels: {class_names}\")\n",
        "\n",
        "# Create an id2label mapping\n",
        "# We will need this for our classifier.\n",
        "id2label = {i: label for i, label in enumerate(class_names)}\n",
        "\n",
        "data_collator = DataCollatorWithPadding(tokenizer=tokenizer, return_tensors=\"pt\")\n"
      ]
    },
    {
      "cell_type": "markdown",
      "id": "c9e24afd",
      "metadata": {
        "id": "c9e24afd"
      },
      "source": [
        "## Load Pre-trained Model\n",
        "Set up config for pretrained model and download it from hugging face"
      ]
    },
    {
      "cell_type": "code",
      "execution_count": null,
      "id": "262a8416-a59c-4ea1-95d9-0b1f81d6094c",
      "metadata": {
        "id": "262a8416-a59c-4ea1-95d9-0b1f81d6094c",
        "colab": {
          "base_uri": "https://localhost:8080/"
        },
        "outputId": "6b47b83a-a2e3-4e6c-9b9e-e787d8b9c179"
      },
      "outputs": [
        {
          "output_type": "stream",
          "name": "stderr",
          "text": [
            "Some weights of RobertaForSequenceClassification were not initialized from the model checkpoint at roberta-base and are newly initialized: ['classifier.dense.bias', 'classifier.dense.weight', 'classifier.out_proj.bias', 'classifier.out_proj.weight']\n",
            "You should probably TRAIN this model on a down-stream task to be able to use it for predictions and inference.\n"
          ]
        },
        {
          "output_type": "execute_result",
          "data": {
            "text/plain": [
              "RobertaForSequenceClassification(\n",
              "  (roberta): RobertaModel(\n",
              "    (embeddings): RobertaEmbeddings(\n",
              "      (word_embeddings): Embedding(50265, 768, padding_idx=1)\n",
              "      (position_embeddings): Embedding(514, 768, padding_idx=1)\n",
              "      (token_type_embeddings): Embedding(1, 768)\n",
              "      (LayerNorm): LayerNorm((768,), eps=1e-05, elementwise_affine=True)\n",
              "      (dropout): Dropout(p=0.1, inplace=False)\n",
              "    )\n",
              "    (encoder): RobertaEncoder(\n",
              "      (layer): ModuleList(\n",
              "        (0-11): 12 x RobertaLayer(\n",
              "          (attention): RobertaAttention(\n",
              "            (self): RobertaSdpaSelfAttention(\n",
              "              (query): Linear(in_features=768, out_features=768, bias=True)\n",
              "              (key): Linear(in_features=768, out_features=768, bias=True)\n",
              "              (value): Linear(in_features=768, out_features=768, bias=True)\n",
              "              (dropout): Dropout(p=0.1, inplace=False)\n",
              "            )\n",
              "            (output): RobertaSelfOutput(\n",
              "              (dense): Linear(in_features=768, out_features=768, bias=True)\n",
              "              (LayerNorm): LayerNorm((768,), eps=1e-05, elementwise_affine=True)\n",
              "              (dropout): Dropout(p=0.1, inplace=False)\n",
              "            )\n",
              "          )\n",
              "          (intermediate): RobertaIntermediate(\n",
              "            (dense): Linear(in_features=768, out_features=3072, bias=True)\n",
              "            (intermediate_act_fn): GELUActivation()\n",
              "          )\n",
              "          (output): RobertaOutput(\n",
              "            (dense): Linear(in_features=3072, out_features=768, bias=True)\n",
              "            (LayerNorm): LayerNorm((768,), eps=1e-05, elementwise_affine=True)\n",
              "            (dropout): Dropout(p=0.1, inplace=False)\n",
              "          )\n",
              "        )\n",
              "      )\n",
              "    )\n",
              "  )\n",
              "  (classifier): RobertaClassificationHead(\n",
              "    (dense): Linear(in_features=768, out_features=768, bias=True)\n",
              "    (dropout): Dropout(p=0.1, inplace=False)\n",
              "    (out_proj): Linear(in_features=768, out_features=4, bias=True)\n",
              "  )\n",
              ")"
            ]
          },
          "metadata": {},
          "execution_count": 5
        }
      ],
      "source": [
        "model = RobertaForSequenceClassification.from_pretrained(\n",
        "    base_model,\n",
        "    id2label=id2label)\n",
        "model"
      ]
    },
    {
      "cell_type": "markdown",
      "id": "f265839d-a088-4693-8474-862641de11ed",
      "metadata": {
        "id": "f265839d-a088-4693-8474-862641de11ed"
      },
      "source": [
        "## Anything from here on can be modified"
      ]
    },
    {
      "cell_type": "code",
      "execution_count": null,
      "id": "e7413430-be57-482b-856e-36bd4ba799df",
      "metadata": {
        "id": "e7413430-be57-482b-856e-36bd4ba799df",
        "colab": {
          "base_uri": "https://localhost:8080/"
        },
        "outputId": "3dce0d95-e780-4c44-e72b-7c96a679e4c0"
      },
      "outputs": [
        {
          "output_type": "stream",
          "name": "stdout",
          "text": [
            "Number of train samples: 118720\n",
            "Number of eval samples: 1280\n"
          ]
        }
      ],
      "source": [
        "# Split the original training set\n",
        "split_datasets = tokenized_dataset.train_test_split(test_size=1280, seed=42)\n",
        "train_dataset = split_datasets['train']\n",
        "eval_dataset = split_datasets['test']\n",
        "\n",
        "print(\"Number of train samples:\", len(train_dataset))\n",
        "print(\"Number of eval samples:\", len(eval_dataset))"
      ]
    },
    {
      "cell_type": "markdown",
      "id": "652452e3",
      "metadata": {
        "id": "652452e3"
      },
      "source": [
        "## Setup LoRA Config\n",
        "Setup PEFT config and get peft model for finetuning"
      ]
    },
    {
      "cell_type": "code",
      "execution_count": null,
      "id": "bd0ca0ea-86b8-47f7-8cbf-83da25685876",
      "metadata": {
        "id": "bd0ca0ea-86b8-47f7-8cbf-83da25685876"
      },
      "outputs": [],
      "source": [
        "# # PEFT Config\n",
        "# peft_config = LoraConfig(\n",
        "#     r=2,\n",
        "#     lora_alpha=4,\n",
        "#     lora_dropout=0.05,\n",
        "#     bias = 'none',\n",
        "#     target_modules = ['query'],\n",
        "#     task_type=\"SEQ_CLS\",\n",
        "# )\n",
        "\n",
        "#peft_config = LoraConfig(\n",
        "#            r=rank,  # LoRA rank\n",
        "#            lora_alpha=alpha,  # Alpha parameter for scaling\n",
        "#            lora_dropout=0.2, # Dropout probability for LoRA layers\n",
        "#            target_modules=[\"query\", \"key\", \"value\"], # Apply LoRA to these layers\n",
        "#            bias=\"none\",  # Don't train bias parameters\n",
        "#            task_type=\"SEQ_CLS\", # Specify the task type\n",
        "#        )\n",
        "\n",
        "# Configure LoRA\n",
        "peft_config = LoraConfig(\n",
        "    r=6,  # LoRA rank\n",
        "    lora_alpha=6,  # Alpha parameter for scaling\n",
        "    lora_dropout=0.1, # Dropout probability for LoRA layers\n",
        "    target_modules=[\"query\", \"key\", \"value\"], # Apply LoRA to these layers\n",
        "    bias=\"none\",  # Don't train bias parameters\n",
        "    init_lora_weights=\"pissa\",\n",
        "    use_rslora=True,                    # Stabilize training\n",
        "    use_dora=True,                     # Start without DoRA for simplicity\n",
        "    task_type=\"SEQ_CLS\", # Specify the task type\n",
        ")"
      ]
    },
    {
      "cell_type": "code",
      "execution_count": null,
      "id": "6ec2739d-76b6-4fde-91c2-0fc49e1884b0",
      "metadata": {
        "id": "6ec2739d-76b6-4fde-91c2-0fc49e1884b0",
        "colab": {
          "base_uri": "https://localhost:8080/"
        },
        "outputId": "e26cfe70-7eb5-4e13-cab3-b36279432c40"
      },
      "outputs": [
        {
          "output_type": "execute_result",
          "data": {
            "text/plain": [
              "PeftModelForSequenceClassification(\n",
              "  (base_model): LoraModel(\n",
              "    (model): RobertaForSequenceClassification(\n",
              "      (roberta): RobertaModel(\n",
              "        (embeddings): RobertaEmbeddings(\n",
              "          (word_embeddings): Embedding(50265, 768, padding_idx=1)\n",
              "          (position_embeddings): Embedding(514, 768, padding_idx=1)\n",
              "          (token_type_embeddings): Embedding(1, 768)\n",
              "          (LayerNorm): LayerNorm((768,), eps=1e-05, elementwise_affine=True)\n",
              "          (dropout): Dropout(p=0.1, inplace=False)\n",
              "        )\n",
              "        (encoder): RobertaEncoder(\n",
              "          (layer): ModuleList(\n",
              "            (0-11): 12 x RobertaLayer(\n",
              "              (attention): RobertaAttention(\n",
              "                (self): RobertaSdpaSelfAttention(\n",
              "                  (query): lora.Linear(\n",
              "                    (base_layer): Linear(in_features=768, out_features=768, bias=True)\n",
              "                    (lora_dropout): ModuleDict(\n",
              "                      (default): Dropout(p=0.1, inplace=False)\n",
              "                    )\n",
              "                    (lora_A): ModuleDict(\n",
              "                      (default): Linear(in_features=768, out_features=6, bias=False)\n",
              "                    )\n",
              "                    (lora_B): ModuleDict(\n",
              "                      (default): Linear(in_features=6, out_features=768, bias=False)\n",
              "                    )\n",
              "                    (lora_embedding_A): ParameterDict()\n",
              "                    (lora_embedding_B): ParameterDict()\n",
              "                    (lora_magnitude_vector): ModuleDict(\n",
              "                      (default): lora.dora.DoraLinearLayer()\n",
              "                    )\n",
              "                  )\n",
              "                  (key): lora.Linear(\n",
              "                    (base_layer): Linear(in_features=768, out_features=768, bias=True)\n",
              "                    (lora_dropout): ModuleDict(\n",
              "                      (default): Dropout(p=0.1, inplace=False)\n",
              "                    )\n",
              "                    (lora_A): ModuleDict(\n",
              "                      (default): Linear(in_features=768, out_features=6, bias=False)\n",
              "                    )\n",
              "                    (lora_B): ModuleDict(\n",
              "                      (default): Linear(in_features=6, out_features=768, bias=False)\n",
              "                    )\n",
              "                    (lora_embedding_A): ParameterDict()\n",
              "                    (lora_embedding_B): ParameterDict()\n",
              "                    (lora_magnitude_vector): ModuleDict(\n",
              "                      (default): lora.dora.DoraLinearLayer()\n",
              "                    )\n",
              "                  )\n",
              "                  (value): lora.Linear(\n",
              "                    (base_layer): Linear(in_features=768, out_features=768, bias=True)\n",
              "                    (lora_dropout): ModuleDict(\n",
              "                      (default): Dropout(p=0.1, inplace=False)\n",
              "                    )\n",
              "                    (lora_A): ModuleDict(\n",
              "                      (default): Linear(in_features=768, out_features=6, bias=False)\n",
              "                    )\n",
              "                    (lora_B): ModuleDict(\n",
              "                      (default): Linear(in_features=6, out_features=768, bias=False)\n",
              "                    )\n",
              "                    (lora_embedding_A): ParameterDict()\n",
              "                    (lora_embedding_B): ParameterDict()\n",
              "                    (lora_magnitude_vector): ModuleDict(\n",
              "                      (default): lora.dora.DoraLinearLayer()\n",
              "                    )\n",
              "                  )\n",
              "                  (dropout): Dropout(p=0.1, inplace=False)\n",
              "                )\n",
              "                (output): RobertaSelfOutput(\n",
              "                  (dense): Linear(in_features=768, out_features=768, bias=True)\n",
              "                  (LayerNorm): LayerNorm((768,), eps=1e-05, elementwise_affine=True)\n",
              "                  (dropout): Dropout(p=0.1, inplace=False)\n",
              "                )\n",
              "              )\n",
              "              (intermediate): RobertaIntermediate(\n",
              "                (dense): Linear(in_features=768, out_features=3072, bias=True)\n",
              "                (intermediate_act_fn): GELUActivation()\n",
              "              )\n",
              "              (output): RobertaOutput(\n",
              "                (dense): Linear(in_features=3072, out_features=768, bias=True)\n",
              "                (LayerNorm): LayerNorm((768,), eps=1e-05, elementwise_affine=True)\n",
              "                (dropout): Dropout(p=0.1, inplace=False)\n",
              "              )\n",
              "            )\n",
              "          )\n",
              "        )\n",
              "      )\n",
              "      (classifier): ModulesToSaveWrapper(\n",
              "        (original_module): RobertaClassificationHead(\n",
              "          (dense): Linear(in_features=768, out_features=768, bias=True)\n",
              "          (dropout): Dropout(p=0.1, inplace=False)\n",
              "          (out_proj): Linear(in_features=768, out_features=4, bias=True)\n",
              "        )\n",
              "        (modules_to_save): ModuleDict(\n",
              "          (default): RobertaClassificationHead(\n",
              "            (dense): Linear(in_features=768, out_features=768, bias=True)\n",
              "            (dropout): Dropout(p=0.1, inplace=False)\n",
              "            (out_proj): Linear(in_features=768, out_features=4, bias=True)\n",
              "          )\n",
              "        )\n",
              "      )\n",
              "    )\n",
              "  )\n",
              ")"
            ]
          },
          "metadata": {},
          "execution_count": 8
        }
      ],
      "source": [
        "peft_model = get_peft_model(model, peft_config)\n",
        "peft_model"
      ]
    },
    {
      "cell_type": "code",
      "execution_count": null,
      "id": "a769f54e-05ad-4e3c-aae8-d00d1d9dfb2f",
      "metadata": {
        "id": "a769f54e-05ad-4e3c-aae8-d00d1d9dfb2f"
      },
      "outputs": [],
      "source": [
        "# print(\"Trainable parameters:\")\n",
        "# for name, param in peft_model.named_parameters():\n",
        "#     if param.requires_grad:\n",
        "#         print(name)"
      ]
    },
    {
      "cell_type": "markdown",
      "source": [
        "Printing the number of trainable parameters: 953,092"
      ],
      "metadata": {
        "id": "3YBe8NSuLe3o"
      },
      "id": "3YBe8NSuLe3o"
    },
    {
      "cell_type": "code",
      "execution_count": null,
      "id": "da45f85c-b016-4c49-8808-6eafa7cb5d1b",
      "metadata": {
        "id": "da45f85c-b016-4c49-8808-6eafa7cb5d1b",
        "colab": {
          "base_uri": "https://localhost:8080/"
        },
        "outputId": "d4778f64-0160-4e1d-a491-909485d9dd67"
      },
      "outputs": [
        {
          "output_type": "stream",
          "name": "stdout",
          "text": [
            "PEFT Model\n",
            "trainable params: 953,092 || all params: 125,601,800 || trainable%: 0.7588\n"
          ]
        }
      ],
      "source": [
        "print('PEFT Model')\n",
        "peft_model.print_trainable_parameters()"
      ]
    },
    {
      "cell_type": "markdown",
      "id": "12284b58",
      "metadata": {
        "id": "12284b58"
      },
      "source": [
        "## Training Setup"
      ]
    },
    {
      "cell_type": "code",
      "execution_count": null,
      "id": "0ee64c43-fe38-479a-b3c5-7d939a3db4c1",
      "metadata": {
        "id": "0ee64c43-fe38-479a-b3c5-7d939a3db4c1"
      },
      "outputs": [],
      "source": [
        "# To track evaluation accuracy during training\n",
        "from sklearn.metrics import accuracy_score, precision_score, recall_score, f1_score\n",
        "\n",
        "def compute_metrics(pred):\n",
        "    labels = pred.label_ids\n",
        "    preds = pred.predictions.argmax(-1)\n",
        "    # Calculate metrics\n",
        "    accuracy = accuracy_score(labels, preds)\n",
        "    return {\n",
        "        'accuracy': accuracy\n",
        "    }"
      ]
    },
    {
      "cell_type": "code",
      "execution_count": null,
      "id": "768b4917-65de-4e55-ae7f-698e287535d4",
      "metadata": {
        "id": "768b4917-65de-4e55-ae7f-698e287535d4"
      },
      "outputs": [],
      "source": [
        "# Setup Training args\n",
        "output_dir = \"results\"\n",
        "\n",
        "training_args = TrainingArguments(\n",
        "    output_dir=output_dir,  # Directory where the model checkpoints and logs will be saved.\n",
        "    report_to=None,  # Disables reporting to external systems like W&B or TensorBoard.\n",
        "    eval_strategy=\"steps\",  # Run evaluation at regular intervals (based on number of steps).\n",
        "    logging_steps=100,  # Log training progress every 100 steps.\n",
        "    learning_rate=1e-5,  # Learning rate for the optimizer.\n",
        "    max_steps=1600,  # Total number of training steps. Overrides `num_train_epochs` if both are set.\n",
        "    num_train_epochs=1,  # Total number of training epochs (used if `max_steps` is not set).\n",
        "    use_cpu=False,  # Whether to use CPU for training. Set to True if GPU is not available.\n",
        "    dataloader_num_workers=4,  # Number of subprocesses for data loading.\n",
        "    per_device_train_batch_size=16,  # Batch size for training per device (GPU or CPU).\n",
        "    per_device_eval_batch_size=64,  # Batch size for evaluation per device.\n",
        "    optim=\"adamw_torch\",  # Optimizer to use. Here it's AdamW implemented in PyTorch.\n",
        "    gradient_checkpointing=False,  # Whether to use gradient checkpointing to save memory.\n",
        "    gradient_checkpointing_kwargs={'use_reentrant': True},  # Additional options for gradient checkpointing.\n",
        "    load_best_model_at_end=True,  # Load the best model (based on evaluation metric) after training.\n",
        "    metric_for_best_model=\"eval_loss\",  # Metric used to evaluate and select the best model.\n",
        "    greater_is_better=False  # Indicates that lower eval_loss is better.\n",
        ")\n",
        "\n",
        "def get_trainer(model):\n",
        "    return Trainer(\n",
        "        model=model,\n",
        "        args=training_args,\n",
        "        compute_metrics=compute_metrics,\n",
        "        train_dataset=train_dataset,\n",
        "        eval_dataset=eval_dataset,\n",
        "        data_collator=data_collator,\n",
        "    )"
      ]
    },
    {
      "cell_type": "markdown",
      "id": "9b848278",
      "metadata": {
        "id": "9b848278"
      },
      "source": [
        "### Start Training"
      ]
    },
    {
      "cell_type": "code",
      "execution_count": null,
      "id": "98d9d57d-b57f-4acc-80fb-fc5443e75515",
      "metadata": {
        "id": "98d9d57d-b57f-4acc-80fb-fc5443e75515",
        "colab": {
          "base_uri": "https://localhost:8080/",
          "height": 1000
        },
        "outputId": "146f3801-c927-4f9b-d9d5-325b4ce0584c"
      },
      "outputs": [
        {
          "output_type": "stream",
          "name": "stderr",
          "text": [
            "No label_names provided for model class `PeftModelForSequenceClassification`. Since `PeftModel` hides base models input arguments, if label_names is not given, label_names can't be set automatically within `Trainer`. Note that empty label_names list will be used instead.\n",
            "/usr/local/lib/python3.11/dist-packages/torch/utils/data/dataloader.py:624: UserWarning: This DataLoader will create 4 worker processes in total. Our suggested max number of worker in current system is 2, which is smaller than what this DataLoader is going to create. Please be aware that excessive worker creation might get DataLoader running slow or even freeze, lower the worker number to avoid potential slowness/freeze if necessary.\n",
            "  warnings.warn(\n",
            "\u001b[34m\u001b[1mwandb\u001b[0m: \u001b[33mWARNING\u001b[0m The `run_name` is currently set to the same value as `TrainingArguments.output_dir`. If this was not intended, please specify a different run name by setting the `TrainingArguments.run_name` parameter.\n",
            "\u001b[34m\u001b[1mwandb\u001b[0m: Using wandb-core as the SDK backend.  Please refer to https://wandb.me/wandb-core for more information.\n",
            "\u001b[34m\u001b[1mwandb\u001b[0m: Currently logged in as: \u001b[33mam14533\u001b[0m (\u001b[33mam14533-new-york-university\u001b[0m) to \u001b[32mhttps://api.wandb.ai\u001b[0m. Use \u001b[1m`wandb login --relogin`\u001b[0m to force relogin\n"
          ]
        },
        {
          "output_type": "display_data",
          "data": {
            "text/plain": [
              "<IPython.core.display.HTML object>"
            ],
            "text/html": [
              "Tracking run with wandb version 0.19.9"
            ]
          },
          "metadata": {}
        },
        {
          "output_type": "display_data",
          "data": {
            "text/plain": [
              "<IPython.core.display.HTML object>"
            ],
            "text/html": [
              "Run data is saved locally in <code>/content/wandb/run-20250415_045448-z47ctnfy</code>"
            ]
          },
          "metadata": {}
        },
        {
          "output_type": "display_data",
          "data": {
            "text/plain": [
              "<IPython.core.display.HTML object>"
            ],
            "text/html": [
              "Syncing run <strong><a href='https://wandb.ai/am14533-new-york-university/huggingface/runs/z47ctnfy' target=\"_blank\">results</a></strong> to <a href='https://wandb.ai/am14533-new-york-university/huggingface' target=\"_blank\">Weights & Biases</a> (<a href='https://wandb.me/developer-guide' target=\"_blank\">docs</a>)<br>"
            ]
          },
          "metadata": {}
        },
        {
          "output_type": "display_data",
          "data": {
            "text/plain": [
              "<IPython.core.display.HTML object>"
            ],
            "text/html": [
              " View project at <a href='https://wandb.ai/am14533-new-york-university/huggingface' target=\"_blank\">https://wandb.ai/am14533-new-york-university/huggingface</a>"
            ]
          },
          "metadata": {}
        },
        {
          "output_type": "display_data",
          "data": {
            "text/plain": [
              "<IPython.core.display.HTML object>"
            ],
            "text/html": [
              " View run at <a href='https://wandb.ai/am14533-new-york-university/huggingface/runs/z47ctnfy' target=\"_blank\">https://wandb.ai/am14533-new-york-university/huggingface/runs/z47ctnfy</a>"
            ]
          },
          "metadata": {}
        },
        {
          "output_type": "stream",
          "name": "stderr",
          "text": [
            "/usr/local/lib/python3.11/dist-packages/torch/utils/data/dataloader.py:624: UserWarning: This DataLoader will create 4 worker processes in total. Our suggested max number of worker in current system is 2, which is smaller than what this DataLoader is going to create. Please be aware that excessive worker creation might get DataLoader running slow or even freeze, lower the worker number to avoid potential slowness/freeze if necessary.\n",
            "  warnings.warn(\n"
          ]
        },
        {
          "output_type": "display_data",
          "data": {
            "text/plain": [
              "<IPython.core.display.HTML object>"
            ],
            "text/html": [
              "\n",
              "    <div>\n",
              "      \n",
              "      <progress value='1600' max='1600' style='width:300px; height:20px; vertical-align: middle;'></progress>\n",
              "      [1600/1600 29:18, Epoch 0/1]\n",
              "    </div>\n",
              "    <table border=\"1\" class=\"dataframe\">\n",
              "  <thead>\n",
              " <tr style=\"text-align: left;\">\n",
              "      <th>Step</th>\n",
              "      <th>Training Loss</th>\n",
              "      <th>Validation Loss</th>\n",
              "      <th>Accuracy</th>\n",
              "    </tr>\n",
              "  </thead>\n",
              "  <tbody>\n",
              "    <tr>\n",
              "      <td>100</td>\n",
              "      <td>1.388800</td>\n",
              "      <td>1.383774</td>\n",
              "      <td>0.231250</td>\n",
              "    </tr>\n",
              "    <tr>\n",
              "      <td>200</td>\n",
              "      <td>1.374700</td>\n",
              "      <td>1.366552</td>\n",
              "      <td>0.427344</td>\n",
              "    </tr>\n",
              "    <tr>\n",
              "      <td>300</td>\n",
              "      <td>1.356100</td>\n",
              "      <td>1.345972</td>\n",
              "      <td>0.651563</td>\n",
              "    </tr>\n",
              "    <tr>\n",
              "      <td>400</td>\n",
              "      <td>1.332400</td>\n",
              "      <td>1.314406</td>\n",
              "      <td>0.843750</td>\n",
              "    </tr>\n",
              "    <tr>\n",
              "      <td>500</td>\n",
              "      <td>1.288600</td>\n",
              "      <td>1.258848</td>\n",
              "      <td>0.820312</td>\n",
              "    </tr>\n",
              "    <tr>\n",
              "      <td>600</td>\n",
              "      <td>1.216400</td>\n",
              "      <td>1.163376</td>\n",
              "      <td>0.865625</td>\n",
              "    </tr>\n",
              "    <tr>\n",
              "      <td>700</td>\n",
              "      <td>1.107500</td>\n",
              "      <td>1.020942</td>\n",
              "      <td>0.863281</td>\n",
              "    </tr>\n",
              "    <tr>\n",
              "      <td>800</td>\n",
              "      <td>0.968900</td>\n",
              "      <td>0.848309</td>\n",
              "      <td>0.871094</td>\n",
              "    </tr>\n",
              "    <tr>\n",
              "      <td>900</td>\n",
              "      <td>0.809800</td>\n",
              "      <td>0.675339</td>\n",
              "      <td>0.876563</td>\n",
              "    </tr>\n",
              "    <tr>\n",
              "      <td>1000</td>\n",
              "      <td>0.654400</td>\n",
              "      <td>0.549420</td>\n",
              "      <td>0.877344</td>\n",
              "    </tr>\n",
              "    <tr>\n",
              "      <td>1100</td>\n",
              "      <td>0.561400</td>\n",
              "      <td>0.484421</td>\n",
              "      <td>0.876563</td>\n",
              "    </tr>\n",
              "    <tr>\n",
              "      <td>1200</td>\n",
              "      <td>0.509000</td>\n",
              "      <td>0.447470</td>\n",
              "      <td>0.878906</td>\n",
              "    </tr>\n",
              "    <tr>\n",
              "      <td>1300</td>\n",
              "      <td>0.488900</td>\n",
              "      <td>0.427694</td>\n",
              "      <td>0.878125</td>\n",
              "    </tr>\n",
              "    <tr>\n",
              "      <td>1400</td>\n",
              "      <td>0.435800</td>\n",
              "      <td>0.414914</td>\n",
              "      <td>0.878125</td>\n",
              "    </tr>\n",
              "    <tr>\n",
              "      <td>1500</td>\n",
              "      <td>0.462500</td>\n",
              "      <td>0.409542</td>\n",
              "      <td>0.878906</td>\n",
              "    </tr>\n",
              "    <tr>\n",
              "      <td>1600</td>\n",
              "      <td>0.443500</td>\n",
              "      <td>0.407749</td>\n",
              "      <td>0.880469</td>\n",
              "    </tr>\n",
              "  </tbody>\n",
              "</table><p>"
            ]
          },
          "metadata": {}
        },
        {
          "output_type": "stream",
          "name": "stderr",
          "text": [
            "/usr/local/lib/python3.11/dist-packages/torch/utils/data/dataloader.py:624: UserWarning: This DataLoader will create 4 worker processes in total. Our suggested max number of worker in current system is 2, which is smaller than what this DataLoader is going to create. Please be aware that excessive worker creation might get DataLoader running slow or even freeze, lower the worker number to avoid potential slowness/freeze if necessary.\n",
            "  warnings.warn(\n",
            "/usr/local/lib/python3.11/dist-packages/torch/utils/data/dataloader.py:624: UserWarning: This DataLoader will create 4 worker processes in total. Our suggested max number of worker in current system is 2, which is smaller than what this DataLoader is going to create. Please be aware that excessive worker creation might get DataLoader running slow or even freeze, lower the worker number to avoid potential slowness/freeze if necessary.\n",
            "  warnings.warn(\n",
            "/usr/local/lib/python3.11/dist-packages/torch/utils/data/dataloader.py:624: UserWarning: This DataLoader will create 4 worker processes in total. Our suggested max number of worker in current system is 2, which is smaller than what this DataLoader is going to create. Please be aware that excessive worker creation might get DataLoader running slow or even freeze, lower the worker number to avoid potential slowness/freeze if necessary.\n",
            "  warnings.warn(\n",
            "/usr/local/lib/python3.11/dist-packages/torch/utils/data/dataloader.py:624: UserWarning: This DataLoader will create 4 worker processes in total. Our suggested max number of worker in current system is 2, which is smaller than what this DataLoader is going to create. Please be aware that excessive worker creation might get DataLoader running slow or even freeze, lower the worker number to avoid potential slowness/freeze if necessary.\n",
            "  warnings.warn(\n",
            "/usr/local/lib/python3.11/dist-packages/torch/utils/data/dataloader.py:624: UserWarning: This DataLoader will create 4 worker processes in total. Our suggested max number of worker in current system is 2, which is smaller than what this DataLoader is going to create. Please be aware that excessive worker creation might get DataLoader running slow or even freeze, lower the worker number to avoid potential slowness/freeze if necessary.\n",
            "  warnings.warn(\n",
            "/usr/local/lib/python3.11/dist-packages/torch/utils/data/dataloader.py:624: UserWarning: This DataLoader will create 4 worker processes in total. Our suggested max number of worker in current system is 2, which is smaller than what this DataLoader is going to create. Please be aware that excessive worker creation might get DataLoader running slow or even freeze, lower the worker number to avoid potential slowness/freeze if necessary.\n",
            "  warnings.warn(\n",
            "/usr/local/lib/python3.11/dist-packages/torch/utils/data/dataloader.py:624: UserWarning: This DataLoader will create 4 worker processes in total. Our suggested max number of worker in current system is 2, which is smaller than what this DataLoader is going to create. Please be aware that excessive worker creation might get DataLoader running slow or even freeze, lower the worker number to avoid potential slowness/freeze if necessary.\n",
            "  warnings.warn(\n",
            "/usr/local/lib/python3.11/dist-packages/torch/utils/data/dataloader.py:624: UserWarning: This DataLoader will create 4 worker processes in total. Our suggested max number of worker in current system is 2, which is smaller than what this DataLoader is going to create. Please be aware that excessive worker creation might get DataLoader running slow or even freeze, lower the worker number to avoid potential slowness/freeze if necessary.\n",
            "  warnings.warn(\n",
            "/usr/local/lib/python3.11/dist-packages/torch/utils/data/dataloader.py:624: UserWarning: This DataLoader will create 4 worker processes in total. Our suggested max number of worker in current system is 2, which is smaller than what this DataLoader is going to create. Please be aware that excessive worker creation might get DataLoader running slow or even freeze, lower the worker number to avoid potential slowness/freeze if necessary.\n",
            "  warnings.warn(\n",
            "/usr/local/lib/python3.11/dist-packages/torch/utils/data/dataloader.py:624: UserWarning: This DataLoader will create 4 worker processes in total. Our suggested max number of worker in current system is 2, which is smaller than what this DataLoader is going to create. Please be aware that excessive worker creation might get DataLoader running slow or even freeze, lower the worker number to avoid potential slowness/freeze if necessary.\n",
            "  warnings.warn(\n",
            "/usr/local/lib/python3.11/dist-packages/torch/utils/data/dataloader.py:624: UserWarning: This DataLoader will create 4 worker processes in total. Our suggested max number of worker in current system is 2, which is smaller than what this DataLoader is going to create. Please be aware that excessive worker creation might get DataLoader running slow or even freeze, lower the worker number to avoid potential slowness/freeze if necessary.\n",
            "  warnings.warn(\n",
            "/usr/local/lib/python3.11/dist-packages/torch/utils/data/dataloader.py:624: UserWarning: This DataLoader will create 4 worker processes in total. Our suggested max number of worker in current system is 2, which is smaller than what this DataLoader is going to create. Please be aware that excessive worker creation might get DataLoader running slow or even freeze, lower the worker number to avoid potential slowness/freeze if necessary.\n",
            "  warnings.warn(\n",
            "/usr/local/lib/python3.11/dist-packages/torch/utils/data/dataloader.py:624: UserWarning: This DataLoader will create 4 worker processes in total. Our suggested max number of worker in current system is 2, which is smaller than what this DataLoader is going to create. Please be aware that excessive worker creation might get DataLoader running slow or even freeze, lower the worker number to avoid potential slowness/freeze if necessary.\n",
            "  warnings.warn(\n",
            "/usr/local/lib/python3.11/dist-packages/torch/utils/data/dataloader.py:624: UserWarning: This DataLoader will create 4 worker processes in total. Our suggested max number of worker in current system is 2, which is smaller than what this DataLoader is going to create. Please be aware that excessive worker creation might get DataLoader running slow or even freeze, lower the worker number to avoid potential slowness/freeze if necessary.\n",
            "  warnings.warn(\n",
            "/usr/local/lib/python3.11/dist-packages/torch/utils/data/dataloader.py:624: UserWarning: This DataLoader will create 4 worker processes in total. Our suggested max number of worker in current system is 2, which is smaller than what this DataLoader is going to create. Please be aware that excessive worker creation might get DataLoader running slow or even freeze, lower the worker number to avoid potential slowness/freeze if necessary.\n",
            "  warnings.warn(\n"
          ]
        }
      ],
      "source": [
        "peft_lora_finetuning_trainer = get_trainer(peft_model)\n",
        "\n",
        "result = peft_lora_finetuning_trainer.train()"
      ]
    },
    {
      "cell_type": "markdown",
      "source": [
        "![resim_2025-04-23_014646371.png](data:image/png;base64,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)"
      ],
      "metadata": {
        "id": "e2YdK-MkLugj"
      },
      "id": "e2YdK-MkLugj"
    },
    {
      "cell_type": "markdown",
      "id": "68a3e276-bf8c-4403-8a48-5ef19f2beccf",
      "metadata": {
        "id": "68a3e276-bf8c-4403-8a48-5ef19f2beccf"
      },
      "source": [
        "### Run Inference on eval_dataset"
      ]
    },
    {
      "cell_type": "code",
      "execution_count": null,
      "id": "ebbc20a2-a1c0-4cb7-b842-f52e4de61ed5",
      "metadata": {
        "id": "ebbc20a2-a1c0-4cb7-b842-f52e4de61ed5"
      },
      "outputs": [],
      "source": [
        "from torch.utils.data import DataLoader\n",
        "import evaluate\n",
        "from tqdm import tqdm\n",
        "\n",
        "def evaluate_model(inference_model, dataset, labelled=True, batch_size=8, data_collator=None):\n",
        "    \"\"\"\n",
        "    Evaluate a PEFT model on a dataset.\n",
        "\n",
        "    Args:\n",
        "        inference_model: The model to evaluate.\n",
        "        dataset: The dataset (Hugging Face Dataset) to run inference on.\n",
        "        labelled (bool): If True, the dataset includes labels and metrics will be computed.\n",
        "                         If False, only predictions will be returned.\n",
        "        batch_size (int): Batch size for inference.\n",
        "        data_collator: Function to collate batches. If None, the default collate_fn is used.\n",
        "\n",
        "    Returns:\n",
        "        If labelled is True, returns a tuple (metrics, predictions)\n",
        "        If labelled is False, returns the predictions.\n",
        "    \"\"\"\n",
        "    # Create the DataLoader\n",
        "    eval_dataloader = DataLoader(dataset, batch_size=batch_size, collate_fn=data_collator)\n",
        "    device = torch.device(\"cuda\" if torch.cuda.is_available() else \"cpu\")\n",
        "\n",
        "    inference_model.to(device)\n",
        "    inference_model.eval()\n",
        "\n",
        "    all_predictions = []\n",
        "    if labelled:\n",
        "        metric = evaluate.load('accuracy')\n",
        "\n",
        "    # Loop over the DataLoader\n",
        "    for batch in tqdm(eval_dataloader):\n",
        "        # Move each tensor in the batch to the device\n",
        "        batch = {k: v.to(device) for k, v in batch.items()}\n",
        "        with torch.no_grad():\n",
        "            outputs = inference_model(**batch)\n",
        "        predictions = outputs.logits.argmax(dim=-1)\n",
        "        all_predictions.append(predictions.cpu())\n",
        "\n",
        "        if labelled:\n",
        "            # Expecting that labels are provided under the \"labels\" key.\n",
        "            references = batch[\"labels\"]\n",
        "            metric.add_batch(\n",
        "                predictions=predictions.cpu().numpy(),\n",
        "                references=references.cpu().numpy()\n",
        "            )\n",
        "\n",
        "    # Concatenate predictions from all batches\n",
        "    all_predictions = torch.cat(all_predictions, dim=0)\n",
        "\n",
        "    if labelled:\n",
        "        eval_metric = metric.compute()\n",
        "        print(\"Evaluation Metric:\", eval_metric)\n",
        "        return eval_metric, all_predictions\n",
        "    else:\n",
        "        return all_predictions"
      ]
    },
    {
      "cell_type": "code",
      "execution_count": null,
      "id": "809635a6-a2c7-4d09-8d60-ababd1815003",
      "metadata": {
        "id": "809635a6-a2c7-4d09-8d60-ababd1815003",
        "colab": {
          "base_uri": "https://localhost:8080/"
        },
        "outputId": "1bacd41f-e101-4550-f7e9-fd1f6255d9ed"
      },
      "outputs": [
        {
          "output_type": "stream",
          "name": "stderr",
          "text": [
            "100%|██████████| 20/20 [00:13<00:00,  1.46it/s]"
          ]
        },
        {
          "output_type": "stream",
          "name": "stdout",
          "text": [
            "Evaluation Metric: {'accuracy': 0.86484375}\n"
          ]
        },
        {
          "output_type": "stream",
          "name": "stderr",
          "text": [
            "\n"
          ]
        }
      ],
      "source": [
        "import torch.utils.data as data_utils\n",
        "\n",
        "# Check evaluation accuracy\n",
        "testset = load_dataset('ag_news', split='test')\n",
        "\n",
        "tokenized_testset = testset.map(preprocess, batched=True,  remove_columns=[\"text\"])\n",
        "tokenized_testset = tokenized_testset.rename_column(\"label\", \"labels\")\n",
        "indices = torch.arange(1280)\n",
        "tokenized_testset_sub = data_utils.Subset(tokenized_testset, indices)\n",
        "\n",
        "_, _ = evaluate_model(peft_model, tokenized_testset_sub, True, 64, data_collator)"
      ]
    },
    {
      "cell_type": "markdown",
      "id": "75f39087-f2bb-49d3-9fe1-0d812fb30203",
      "metadata": {
        "id": "75f39087-f2bb-49d3-9fe1-0d812fb30203"
      },
      "source": [
        "### Run Inference on unlabelled dataset"
      ]
    },
    {
      "cell_type": "code",
      "execution_count": null,
      "id": "2af62541-2c33-4f16-bb1c-cc969c715cd7",
      "metadata": {
        "id": "2af62541-2c33-4f16-bb1c-cc969c715cd7",
        "colab": {
          "base_uri": "https://localhost:8080/",
          "height": 118,
          "referenced_widgets": [
            "30e024c01c504d0dab63f115b50b7eb0",
            "0d1778a6a73d44c181a5fe962d942530",
            "e694257f36fe426cbfddc05e5bcea94b",
            "154b845b03ee450abe750900d3a3f5d2",
            "545232248bcf48cd9f0ee25cbf429f50",
            "8f1152eabc3c4c34b2cd2397fe1c76a4",
            "ca7423bedb364368857d59c1f39fa986",
            "46fea5f25b10422f9eb890c40675a07b",
            "67434da21edc47f5a8068b2cb41ebd38",
            "512eccd7f411423ab6c8a3f27f68b0f5",
            "f0c5725b38fa479bb84aa25663e4cea4"
          ]
        },
        "outputId": "ca24902f-2f03-42ce-f951-b4ff48fdb785"
      },
      "outputs": [
        {
          "output_type": "display_data",
          "data": {
            "text/plain": [
              "Map:   0%|          | 0/8000 [00:00<?, ? examples/s]"
            ],
            "application/vnd.jupyter.widget-view+json": {
              "version_major": 2,
              "version_minor": 0,
              "model_id": "30e024c01c504d0dab63f115b50b7eb0"
            }
          },
          "metadata": {}
        },
        {
          "output_type": "execute_result",
          "data": {
            "text/plain": [
              "Dataset({\n",
              "    features: ['text'],\n",
              "    num_rows: 8000\n",
              "})"
            ]
          },
          "metadata": {},
          "execution_count": 16
        }
      ],
      "source": [
        "#Load your unlabelled data\n",
        "unlabelled_dataset = pd.read_pickle(\"test_unlabelled.pkl\")\n",
        "test_dataset = unlabelled_dataset.map(preprocess, batched=True, remove_columns=[\"text\"])\n",
        "unlabelled_dataset"
      ]
    },
    {
      "cell_type": "code",
      "execution_count": null,
      "id": "e60991d3-38b1-4657-8854-408ce66f6b84",
      "metadata": {
        "id": "e60991d3-38b1-4657-8854-408ce66f6b84",
        "colab": {
          "base_uri": "https://localhost:8080/"
        },
        "outputId": "1f7c5596-671d-49b7-bf0b-6f20b1b787b9"
      },
      "outputs": [
        {
          "output_type": "stream",
          "name": "stderr",
          "text": [
            "100%|██████████| 1000/1000 [02:00<00:00,  8.32it/s]"
          ]
        },
        {
          "output_type": "stream",
          "name": "stdout",
          "text": [
            "Inference complete. Predictions saved to inference_output.csv\n"
          ]
        },
        {
          "output_type": "stream",
          "name": "stderr",
          "text": [
            "\n"
          ]
        }
      ],
      "source": [
        "# Run inference and save predictions\n",
        "preds = evaluate_model(peft_model, test_dataset, False, 8, data_collator)\n",
        "df_output = pd.DataFrame({\n",
        "    'ID': range(len(preds)),\n",
        "    'Label': preds.numpy()  # or preds.tolist()\n",
        "})\n",
        "df_output.to_csv(os.path.join(output_dir,\"inference_output.csv\"), index=False)\n",
        "print(\"Inference complete. Predictions saved to inference_output.csv\")"
      ]
    }
  ],
  "metadata": {
    "accelerator": "GPU",
    "colab": {
      "gpuType": "T4",
      "provenance": []
    },
    "kernelspec": {
      "display_name": "env",
      "language": "python",
      "name": "python3"
    },
    "language_info": {
      "codemirror_mode": {
        "name": "ipython",
        "version": 3
      },
      "file_extension": ".py",
      "mimetype": "text/x-python",
      "name": "python",
      "nbconvert_exporter": "python",
      "pygments_lexer": "ipython3",
      "version": "3.11.5"
    },
    "widgets": {
      "application/vnd.jupyter.widget-state+json": {
        "30e024c01c504d0dab63f115b50b7eb0": {
          "model_module": "@jupyter-widgets/controls",
          "model_name": "HBoxModel",
          "model_module_version": "1.5.0",
          "state": {
            "_dom_classes": [],
            "_model_module": "@jupyter-widgets/controls",
            "_model_module_version": "1.5.0",
            "_model_name": "HBoxModel",
            "_view_count": null,
            "_view_module": "@jupyter-widgets/controls",
            "_view_module_version": "1.5.0",
            "_view_name": "HBoxView",
            "box_style": "",
            "children": [
              "IPY_MODEL_0d1778a6a73d44c181a5fe962d942530",
              "IPY_MODEL_e694257f36fe426cbfddc05e5bcea94b",
              "IPY_MODEL_154b845b03ee450abe750900d3a3f5d2"
            ],
            "layout": "IPY_MODEL_545232248bcf48cd9f0ee25cbf429f50"
          }
        },
        "0d1778a6a73d44c181a5fe962d942530": {
          "model_module": "@jupyter-widgets/controls",
          "model_name": "HTMLModel",
          "model_module_version": "1.5.0",
          "state": {
            "_dom_classes": [],
            "_model_module": "@jupyter-widgets/controls",
            "_model_module_version": "1.5.0",
            "_model_name": "HTMLModel",
            "_view_count": null,
            "_view_module": "@jupyter-widgets/controls",
            "_view_module_version": "1.5.0",
            "_view_name": "HTMLView",
            "description": "",
            "description_tooltip": null,
            "layout": "IPY_MODEL_8f1152eabc3c4c34b2cd2397fe1c76a4",
            "placeholder": "​",
            "style": "IPY_MODEL_ca7423bedb364368857d59c1f39fa986",
            "value": "Map: 100%"
          }
        },
        "e694257f36fe426cbfddc05e5bcea94b": {
          "model_module": "@jupyter-widgets/controls",
          "model_name": "FloatProgressModel",
          "model_module_version": "1.5.0",
          "state": {
            "_dom_classes": [],
            "_model_module": "@jupyter-widgets/controls",
            "_model_module_version": "1.5.0",
            "_model_name": "FloatProgressModel",
            "_view_count": null,
            "_view_module": "@jupyter-widgets/controls",
            "_view_module_version": "1.5.0",
            "_view_name": "ProgressView",
            "bar_style": "success",
            "description": "",
            "description_tooltip": null,
            "layout": "IPY_MODEL_46fea5f25b10422f9eb890c40675a07b",
            "max": 8000,
            "min": 0,
            "orientation": "horizontal",
            "style": "IPY_MODEL_67434da21edc47f5a8068b2cb41ebd38",
            "value": 8000
          }
        },
        "154b845b03ee450abe750900d3a3f5d2": {
          "model_module": "@jupyter-widgets/controls",
          "model_name": "HTMLModel",
          "model_module_version": "1.5.0",
          "state": {
            "_dom_classes": [],
            "_model_module": "@jupyter-widgets/controls",
            "_model_module_version": "1.5.0",
            "_model_name": "HTMLModel",
            "_view_count": null,
            "_view_module": "@jupyter-widgets/controls",
            "_view_module_version": "1.5.0",
            "_view_name": "HTMLView",
            "description": "",
            "description_tooltip": null,
            "layout": "IPY_MODEL_512eccd7f411423ab6c8a3f27f68b0f5",
            "placeholder": "​",
            "style": "IPY_MODEL_f0c5725b38fa479bb84aa25663e4cea4",
            "value": " 8000/8000 [00:16&lt;00:00, 517.23 examples/s]"
          }
        },
        "545232248bcf48cd9f0ee25cbf429f50": {
          "model_module": "@jupyter-widgets/base",
          "model_name": "LayoutModel",
          "model_module_version": "1.2.0",
          "state": {
            "_model_module": "@jupyter-widgets/base",
            "_model_module_version": "1.2.0",
            "_model_name": "LayoutModel",
            "_view_count": null,
            "_view_module": "@jupyter-widgets/base",
            "_view_module_version": "1.2.0",
            "_view_name": "LayoutView",
            "align_content": null,
            "align_items": null,
            "align_self": null,
            "border": null,
            "bottom": null,
            "display": null,
            "flex": null,
            "flex_flow": null,
            "grid_area": null,
            "grid_auto_columns": null,
            "grid_auto_flow": null,
            "grid_auto_rows": null,
            "grid_column": null,
            "grid_gap": null,
            "grid_row": null,
            "grid_template_areas": null,
            "grid_template_columns": null,
            "grid_template_rows": null,
            "height": null,
            "justify_content": null,
            "justify_items": null,
            "left": null,
            "margin": null,
            "max_height": null,
            "max_width": null,
            "min_height": null,
            "min_width": null,
            "object_fit": null,
            "object_position": null,
            "order": null,
            "overflow": null,
            "overflow_x": null,
            "overflow_y": null,
            "padding": null,
            "right": null,
            "top": null,
            "visibility": null,
            "width": null
          }
        },
        "8f1152eabc3c4c34b2cd2397fe1c76a4": {
          "model_module": "@jupyter-widgets/base",
          "model_name": "LayoutModel",
          "model_module_version": "1.2.0",
          "state": {
            "_model_module": "@jupyter-widgets/base",
            "_model_module_version": "1.2.0",
            "_model_name": "LayoutModel",
            "_view_count": null,
            "_view_module": "@jupyter-widgets/base",
            "_view_module_version": "1.2.0",
            "_view_name": "LayoutView",
            "align_content": null,
            "align_items": null,
            "align_self": null,
            "border": null,
            "bottom": null,
            "display": null,
            "flex": null,
            "flex_flow": null,
            "grid_area": null,
            "grid_auto_columns": null,
            "grid_auto_flow": null,
            "grid_auto_rows": null,
            "grid_column": null,
            "grid_gap": null,
            "grid_row": null,
            "grid_template_areas": null,
            "grid_template_columns": null,
            "grid_template_rows": null,
            "height": null,
            "justify_content": null,
            "justify_items": null,
            "left": null,
            "margin": null,
            "max_height": null,
            "max_width": null,
            "min_height": null,
            "min_width": null,
            "object_fit": null,
            "object_position": null,
            "order": null,
            "overflow": null,
            "overflow_x": null,
            "overflow_y": null,
            "padding": null,
            "right": null,
            "top": null,
            "visibility": null,
            "width": null
          }
        },
        "ca7423bedb364368857d59c1f39fa986": {
          "model_module": "@jupyter-widgets/controls",
          "model_name": "DescriptionStyleModel",
          "model_module_version": "1.5.0",
          "state": {
            "_model_module": "@jupyter-widgets/controls",
            "_model_module_version": "1.5.0",
            "_model_name": "DescriptionStyleModel",
            "_view_count": null,
            "_view_module": "@jupyter-widgets/base",
            "_view_module_version": "1.2.0",
            "_view_name": "StyleView",
            "description_width": ""
          }
        },
        "46fea5f25b10422f9eb890c40675a07b": {
          "model_module": "@jupyter-widgets/base",
          "model_name": "LayoutModel",
          "model_module_version": "1.2.0",
          "state": {
            "_model_module": "@jupyter-widgets/base",
            "_model_module_version": "1.2.0",
            "_model_name": "LayoutModel",
            "_view_count": null,
            "_view_module": "@jupyter-widgets/base",
            "_view_module_version": "1.2.0",
            "_view_name": "LayoutView",
            "align_content": null,
            "align_items": null,
            "align_self": null,
            "border": null,
            "bottom": null,
            "display": null,
            "flex": null,
            "flex_flow": null,
            "grid_area": null,
            "grid_auto_columns": null,
            "grid_auto_flow": null,
            "grid_auto_rows": null,
            "grid_column": null,
            "grid_gap": null,
            "grid_row": null,
            "grid_template_areas": null,
            "grid_template_columns": null,
            "grid_template_rows": null,
            "height": null,
            "justify_content": null,
            "justify_items": null,
            "left": null,
            "margin": null,
            "max_height": null,
            "max_width": null,
            "min_height": null,
            "min_width": null,
            "object_fit": null,
            "object_position": null,
            "order": null,
            "overflow": null,
            "overflow_x": null,
            "overflow_y": null,
            "padding": null,
            "right": null,
            "top": null,
            "visibility": null,
            "width": null
          }
        },
        "67434da21edc47f5a8068b2cb41ebd38": {
          "model_module": "@jupyter-widgets/controls",
          "model_name": "ProgressStyleModel",
          "model_module_version": "1.5.0",
          "state": {
            "_model_module": "@jupyter-widgets/controls",
            "_model_module_version": "1.5.0",
            "_model_name": "ProgressStyleModel",
            "_view_count": null,
            "_view_module": "@jupyter-widgets/base",
            "_view_module_version": "1.2.0",
            "_view_name": "StyleView",
            "bar_color": null,
            "description_width": ""
          }
        },
        "512eccd7f411423ab6c8a3f27f68b0f5": {
          "model_module": "@jupyter-widgets/base",
          "model_name": "LayoutModel",
          "model_module_version": "1.2.0",
          "state": {
            "_model_module": "@jupyter-widgets/base",
            "_model_module_version": "1.2.0",
            "_model_name": "LayoutModel",
            "_view_count": null,
            "_view_module": "@jupyter-widgets/base",
            "_view_module_version": "1.2.0",
            "_view_name": "LayoutView",
            "align_content": null,
            "align_items": null,
            "align_self": null,
            "border": null,
            "bottom": null,
            "display": null,
            "flex": null,
            "flex_flow": null,
            "grid_area": null,
            "grid_auto_columns": null,
            "grid_auto_flow": null,
            "grid_auto_rows": null,
            "grid_column": null,
            "grid_gap": null,
            "grid_row": null,
            "grid_template_areas": null,
            "grid_template_columns": null,
            "grid_template_rows": null,
            "height": null,
            "justify_content": null,
            "justify_items": null,
            "left": null,
            "margin": null,
            "max_height": null,
            "max_width": null,
            "min_height": null,
            "min_width": null,
            "object_fit": null,
            "object_position": null,
            "order": null,
            "overflow": null,
            "overflow_x": null,
            "overflow_y": null,
            "padding": null,
            "right": null,
            "top": null,
            "visibility": null,
            "width": null
          }
        },
        "f0c5725b38fa479bb84aa25663e4cea4": {
          "model_module": "@jupyter-widgets/controls",
          "model_name": "DescriptionStyleModel",
          "model_module_version": "1.5.0",
          "state": {
            "_model_module": "@jupyter-widgets/controls",
            "_model_module_version": "1.5.0",
            "_model_name": "DescriptionStyleModel",
            "_view_count": null,
            "_view_module": "@jupyter-widgets/base",
            "_view_module_version": "1.2.0",
            "_view_name": "StyleView",
            "description_width": ""
          }
        }
      }
    }
  },
  "nbformat": 4,
  "nbformat_minor": 5
}